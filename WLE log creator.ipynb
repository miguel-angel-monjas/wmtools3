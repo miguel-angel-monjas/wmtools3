{
 "cells": [
  {
   "cell_type": "code",
   "execution_count": 1,
   "metadata": {},
   "outputs": [],
   "source": [
    "#!/usr/bin/python\n",
    "# -*- coding: utf-8 -*-\n",
    "\"\"\"This notebook builds the CSV-like Wikimedia Commons page \n",
    "which records the contributions to WLE in Spain in YEAR\"\"\"\n",
    "\n",
    "import os, sys, inspect\n",
    "\n",
    "try :\n",
    "    import pywikibot as pb\n",
    "    from pywikibot import pagegenerators, textlib\n",
    "    import mwparserfromhell as mwh\n",
    "\n",
    "except :\n",
    "    current_folder = os.path.realpath(os.path.abspath(os.path.split(inspect.getfile(inspect.currentframe()))[0]))\n",
    "    folder_parts = current_folder.split(os.sep)\n",
    "    pywikibot_folder = os.sep.join(folder_parts[0:-1])\n",
    "\n",
    "    if current_folder not in sys.path:\n",
    "        sys.path.insert(0, current_folder)\n",
    "    if pywikibot_folder not in sys.path:\n",
    "        sys.path.insert(0, pywikibot_folder)\n",
    "\n",
    "    import pywikibot as pb\n",
    "    from pywikibot import pagegenerators, textlib\n",
    "    import mwparserfromhell as mwh\n",
    "\n",
    "import pandas as pd\n",
    "from io import StringIO\n",
    "import re\n",
    "from datetime import datetime, timedelta"
   ]
  },
  {
   "cell_type": "code",
   "execution_count": 2,
   "metadata": {},
   "outputs": [],
   "source": [
    "YEAR              = 2017\n",
    "TAG               = 'WLE'\n",
    "TAG_EXT           = 'Wiki Loves Earth'\n",
    "CODE_TEMPLATE     = 'lic'\n",
    "\n",
    "BASE_NAME         = \"Commons:Wiki Loves in Spain/{1}/{0}\".format(YEAR, TAG_EXT)\n",
    "LOG_PAGE          = BASE_NAME + '/Log'\n",
    "BASE_SITE_DB_NAME = \"Commons:Wiki Loves Earth 2016 in Spain\"\n",
    "SITE_DB_PAGE      = BASE_SITE_DB_NAME + \"/SCI DB\"\n",
    "\n",
    "WLE_CAT           = \"Images from {1} {0} in Spain\".format(YEAR, TAG_EXT)\n",
    "WLE_FINALIST_CAT  = \"Evaluation of images from {1} {0} in Spain - Final\".format(YEAR, TAG_EXT)\n",
    "\n",
    "START_TIME        = datetime(YEAR, 5, 1, 0, 0, 0)\n",
    "END_TIME          = datetime(YEAR, 6, 1, 0, 0, 0) + timedelta(hours=1)\n",
    "\n",
    "commons_site = pb.Site(\"commons\", \"commons\")"
   ]
  },
  {
   "cell_type": "markdown",
   "metadata": {},
   "source": [
    "### Image selection"
   ]
  },
  {
   "cell_type": "code",
   "execution_count": 3,
   "metadata": {},
   "outputs": [
    {
     "data": {
      "text/plain": [
       "2492"
      ]
     },
     "execution_count": 3,
     "metadata": {},
     "output_type": "execute_result"
    }
   ],
   "source": [
    "cat_wle = pb.Category(commons_site, WLE_CAT)\n",
    "gen_wle = pagegenerators.CategorizedPageGenerator(cat_wle)\n",
    "\n",
    "images_wle = [page.title(withNamespace=False) for page in gen_wle if page.is_filepage()]\n",
    "len(images_wle)"
   ]
  },
  {
   "cell_type": "markdown",
   "metadata": {},
   "source": [
    "### Retrieval of the sites of community importance"
   ]
  },
  {
   "cell_type": "code",
   "execution_count": null,
   "metadata": {},
   "outputs": [
    {
     "name": "stderr",
     "output_type": "stream",
     "text": [
      "Retrieving --> WLE SCI list\n",
      "Retrieved --> WLE SCI list\n"
     ]
    }
   ],
   "source": [
    "# retrieval of the WLE SCI (site of community importance) log\n",
    "pb.output('Retrieving --> WLE SCI list')\n",
    "site_list_page = pb.Page(commons_site, SITE_DB_PAGE)\n",
    "site_list_text = StringIO(site_list_page.text[site_list_page.text.find('\\n') + \n",
    "                                                      1:site_list_page.text.rfind('\\n')])\n",
    "site_df = pd.read_csv(site_list_text, sep=\";\",\n",
    "                      index_col=False,\n",
    "                      names=[\"name\", \"code\", \"magrama_url\", \"community\",\n",
    "                            \"bio_region\", \"continent\", \"min_altitude\",\n",
    "                            \"max_altitude\", \"avg_altitude\", \"longitude\",\n",
    "                            \"latitude\", \"area\", \"marine_percentage\",\n",
    "                            \"marine_area\", \"image\", \"commons_cat\", \"wikidata_id\"])\n",
    "\n",
    "pb.output('Retrieved --> WLE SCI list')\n",
    "\n",
    "sites_list = site_df['code'].tolist()"
   ]
  },
  {
   "cell_type": "markdown",
   "metadata": {},
   "source": [
    "### Image review and recording"
   ]
  },
  {
   "cell_type": "code",
   "execution_count": null,
   "metadata": {},
   "outputs": [
    {
     "name": "stdout",
     "output_type": "stream",
     "text": [
      "Image with no or wrong code (A pescar!! patiamarilla zambullendose en el Urumea.jpg)\n",
      "Image with no or wrong code (A rio revuelto.jpg)\n"
     ]
    },
    {
     "name": "stderr",
     "output_type": "stream",
     "text": [
      "Retrieving --> 50 image descriptions downloaded\n"
     ]
    },
    {
     "name": "stdout",
     "output_type": "stream",
     "text": [
      "Image with no or wrong code (Alcarama Ayuntamiento Yanguas.jpg)\n",
      "Image with no or wrong code (Alcarama Castillo Yanguas.jpg)\n",
      "Image with no or wrong code (Alcarama Santa Maria Yanguas.jpg)\n",
      "Image with no or wrong code (Alduides cementerio.jpg)\n"
     ]
    },
    {
     "name": "stderr",
     "output_type": "stream",
     "text": [
      "Retrieving --> 100 image descriptions downloaded\n"
     ]
    },
    {
     "name": "stdout",
     "output_type": "stream",
     "text": [
      "Image with no or wrong code (Ametlla de Segarra, vinyes de Tardor.jpg)\n"
     ]
    },
    {
     "name": "stderr",
     "output_type": "stream",
     "text": [
      "Retrieving --> 150 image descriptions downloaded\n"
     ]
    },
    {
     "name": "stdout",
     "output_type": "stream",
     "text": [
      "Image with no or wrong code (Barcos amarrados en Getaria.jpg)\n"
     ]
    },
    {
     "name": "stderr",
     "output_type": "stream",
     "text": [
      "Retrieving --> 200 image descriptions downloaded\n"
     ]
    },
    {
     "name": "stdout",
     "output_type": "stream",
     "text": [
      "Image with no or wrong code (Bassa d'Oles.jpg)\n",
      "Image with no or wrong code (Bassa d'Oles2.jpg)\n",
      "Image with no or wrong code (Begoña22.jpg)\n",
      "Image with no or wrong code (Benijo I.jpg)\n",
      "Image with no or wrong code (Benijo II.jpg)\n",
      "Image with no or wrong code (Benijo III.jpg)\n",
      "Image with no or wrong code (Benijo IV.jpg)\n",
      "Image with no or wrong code (Bojurec.jpg)\n",
      "Image with no or wrong code (Bojurec22.08.2009 006(1).jpg)\n",
      "Image with no or wrong code (Bolas de paja.jpg)\n"
     ]
    },
    {
     "name": "stderr",
     "output_type": "stream",
     "text": [
      "Retrieving --> 250 image descriptions downloaded\n",
      "Retrieving --> 300 image descriptions downloaded\n"
     ]
    },
    {
     "name": "stdout",
     "output_type": "stream",
     "text": [
      "Image with no or wrong code (Cameros Ribafrecha.jpg)\n"
     ]
    },
    {
     "name": "stderr",
     "output_type": "stream",
     "text": [
      "Retrieving --> 350 image descriptions downloaded\n"
     ]
    },
    {
     "name": "stdout",
     "output_type": "stream",
     "text": [
      "Image with no or wrong code (Camino del mar.jpg)\n",
      "Image with no or wrong code (Campanillas.jpg)\n",
      "Image with no or wrong code (Campanillas2.jpg)\n"
     ]
    },
    {
     "name": "stderr",
     "output_type": "stream",
     "text": [
      "Retrieving --> 400 image descriptions downloaded\n"
     ]
    },
    {
     "name": "stdout",
     "output_type": "stream",
     "text": [
      "Image with no or wrong code (Cardo Granada.jpg)\n",
      "Image with no date (Caserios al amanecer en las faldas de Peñas de Aia.jpg)\n"
     ]
    },
    {
     "name": "stderr",
     "output_type": "stream",
     "text": [
      "Retrieving --> 450 image descriptions downloaded\n"
     ]
    },
    {
     "name": "stdout",
     "output_type": "stream",
     "text": [
      "Image with no or wrong code (Cazador, cazado.jpg)\n"
     ]
    },
    {
     "name": "stderr",
     "output_type": "stream",
     "text": [
      "Retrieving --> 500 image descriptions downloaded\n",
      "Retrieving --> 550 image descriptions downloaded\n",
      "Retrieving --> 600 image descriptions downloaded\n"
     ]
    },
    {
     "name": "stdout",
     "output_type": "stream",
     "text": [
      "Image with no or wrong code (Cuevas Herce.jpg)\n"
     ]
    },
    {
     "name": "stderr",
     "output_type": "stream",
     "text": [
      "Retrieving --> 650 image descriptions downloaded\n"
     ]
    },
    {
     "name": "stdout",
     "output_type": "stream",
     "text": [
      "Image with no or wrong code (Del Drago Milenario.jpg)\n"
     ]
    },
    {
     "name": "stderr",
     "output_type": "stream",
     "text": [
      "Retrieving --> 700 image descriptions downloaded\n"
     ]
    },
    {
     "name": "stdout",
     "output_type": "stream",
     "text": [
      "Image with no or wrong code (Donde duermen las gaviotas.jpg)\n",
      "Image with no or wrong code (Ebro Riberia.jpg)\n",
      "Image with no or wrong code (El mar estalla contra las rocas.jpg)\n"
     ]
    },
    {
     "name": "stderr",
     "output_type": "stream",
     "text": [
      "Retrieving --> 750 image descriptions downloaded\n"
     ]
    },
    {
     "name": "stdout",
     "output_type": "stream",
     "text": [
      "Image with no or wrong code (El verano se va.jpg)\n",
      "Image with no or wrong code (Ermita de Sant Ermengol, Tiurana, la Noguera.jpg)\n"
     ]
    },
    {
     "name": "stderr",
     "output_type": "stream",
     "text": [
      "Retrieving --> 800 image descriptions downloaded\n",
      "Retrieving --> 850 image descriptions downloaded\n",
      "Retrieving --> 900 image descriptions downloaded\n"
     ]
    },
    {
     "name": "stdout",
     "output_type": "stream",
     "text": [
      "Image with no or wrong code (Estación de Valdesquí (19 de marzo de 2017, Rascafría).jpg)\n",
      "Image with no or wrong code (Estalla la primavera en Cristina Enea.jpg)\n",
      "Image with no or wrong code (Fallas reducido1.jpg)\n",
      "Image with no or wrong code (Fallas reducido10.jpg)\n",
      "Image with no or wrong code (Fallas reducido11.jpg)\n",
      "Image with no or wrong code (Fallas reducido12.jpg)\n",
      "Image with no or wrong code (Fallas reducido2.jpg)\n",
      "Image with no or wrong code (Fallas reducido3.jpg)\n",
      "Image with no or wrong code (Fallas reducido4.jpg)\n",
      "Image with no or wrong code (Fallas reducido6.jpg)\n",
      "Image with no or wrong code (Fallas reducido7.jpg)\n",
      "Image with no or wrong code (Fallas reducido8.jpg)\n",
      "Image with no or wrong code (Fallas reducido9.jpg)\n"
     ]
    },
    {
     "name": "stderr",
     "output_type": "stream",
     "text": [
      "Retrieving --> 950 image descriptions downloaded\n",
      "Retrieving --> 1000 image descriptions downloaded\n",
      "Retrieving --> 1050 image descriptions downloaded\n"
     ]
    },
    {
     "name": "stdout",
     "output_type": "stream",
     "text": [
      "Image with no or wrong code (Henry Moore llega a La Zurriola.jpg)\n",
      "Image with no or wrong code (Herce villa.jpg)\n"
     ]
    },
    {
     "name": "stderr",
     "output_type": "stream",
     "text": [
      "Retrieving --> 1100 image descriptions downloaded\n"
     ]
    },
    {
     "name": "stdout",
     "output_type": "stream",
     "text": [
      "Image with no or wrong code (Kubos de Moneo, edificio Kursal.jpg)\n"
     ]
    },
    {
     "name": "stderr",
     "output_type": "stream",
     "text": [
      "Retrieving --> 1150 image descriptions downloaded\n"
     ]
    },
    {
     "name": "stdout",
     "output_type": "stream",
     "text": [
      "Image with no or wrong code (Lago pequeño de Anzola.jpg)\n",
      "Image with no or wrong code (Lago serreta.jpg)\n"
     ]
    },
    {
     "name": "stderr",
     "output_type": "stream",
     "text": [
      "Retrieving --> 1200 image descriptions downloaded\n"
     ]
    },
    {
     "name": "stdout",
     "output_type": "stream",
     "text": [
      "Image with no or wrong code (Llega la tormenta al puerto donostiarra.jpg)\n"
     ]
    },
    {
     "name": "stderr",
     "output_type": "stream",
     "text": [
      "Retrieving --> 1250 image descriptions downloaded\n"
     ]
    },
    {
     "name": "stdout",
     "output_type": "stream",
     "text": [
      "Image with no or wrong code (Mar negro.jpg)\n"
     ]
    },
    {
     "name": "stderr",
     "output_type": "stream",
     "text": [
      "Retrieving --> 1300 image descriptions downloaded\n"
     ]
    },
    {
     "name": "stdout",
     "output_type": "stream",
     "text": [
      "Image with no or wrong code (Mascletà La Canyada1.jpg)\n",
      "Image with no or wrong code (Mascletà La Canyada10.jpg)\n",
      "Image with no or wrong code (Mascletà La Canyada11.jpg)\n",
      "Image with no or wrong code (Mascletà La Canyada12.jpg)\n",
      "Image with no or wrong code (Mascletà La Canyada13.jpg)\n",
      "Image with no or wrong code (Mascletà La Canyada14.jpg)\n",
      "Image with no or wrong code (Mascletà La Canyada15.jpg)\n",
      "Image with no or wrong code (Mascletà La Canyada16.jpg)\n",
      "Image with no or wrong code (Mascletà La Canyada17.jpg)\n",
      "Image with no or wrong code (Mascletà La Canyada18.jpg)\n",
      "Image with no or wrong code (Mascletà La Canyada19.jpg)\n",
      "Image with no or wrong code (Mascletà La Canyada2.jpg)\n",
      "Image with no or wrong code (Mascletà La Canyada20.jpg)\n",
      "Image with no or wrong code (Mascletà La Canyada21.jpg)\n",
      "Image with no or wrong code (Mascletà La Canyada22.jpg)\n",
      "Image with no or wrong code (Mascletà La Canyada23.jpg)\n",
      "Image with no or wrong code (Mascletà La Canyada3.jpg)\n",
      "Image with no or wrong code (Mascletà La Canyada5.jpg)\n",
      "Image with no or wrong code (Mascletà La Canyada6.jpg)\n",
      "Image with no or wrong code (Mascletà La Canyada7.jpg)\n",
      "Image with no or wrong code (Me estoy poniendo guapa. Patiamerilla en el rio Urumea, Donostia.jpg)\n"
     ]
    },
    {
     "name": "stderr",
     "output_type": "stream",
     "text": [
      "Retrieving --> 1350 image descriptions downloaded\n",
      "Retrieving --> 1400 image descriptions downloaded\n",
      "Retrieving --> 1450 image descriptions downloaded\n"
     ]
    },
    {
     "name": "stdout",
     "output_type": "stream",
     "text": [
      "Image with no or wrong code (Médano.jpg)\n"
     ]
    },
    {
     "name": "stderr",
     "output_type": "stream",
     "text": [
      "Retrieving --> 1500 image descriptions downloaded\n"
     ]
    },
    {
     "name": "stdout",
     "output_type": "stream",
     "text": [
      "Image with no or wrong code (Niebla en el puerto de Getaria.jpg)\n",
      "Image with no or wrong code (Observando la mar brava en el espigon de La Zurriola.jpg)\n"
     ]
    },
    {
     "name": "stderr",
     "output_type": "stream",
     "text": [
      "Retrieving --> 1550 image descriptions downloaded\n",
      "Retrieving --> 1600 image descriptions downloaded\n"
     ]
    },
    {
     "name": "stdout",
     "output_type": "stream",
     "text": [
      "Image with no or wrong code (Paraje de chopos en el margen del río Palancia a su paso por la localidad de Viver, Alto Palancia, Castellón.jpg)\n"
     ]
    },
    {
     "name": "stderr",
     "output_type": "stream",
     "text": [
      "Retrieving --> 1650 image descriptions downloaded\n"
     ]
    },
    {
     "name": "stdout",
     "output_type": "stream",
     "text": [
      "Image with no or wrong code (Paseo nuevo donostiarra atardecer.jpg)\n",
      "Image with no or wrong code (Pedret.jpg)\n",
      "Image with no date (Pedret.jpg)\n"
     ]
    },
    {
     "name": "stderr",
     "output_type": "stream",
     "text": [
      "Retrieving --> 1700 image descriptions downloaded\n",
      "Retrieving --> 1750 image descriptions downloaded\n",
      "Retrieving --> 1800 image descriptions downloaded\n"
     ]
    },
    {
     "name": "stdout",
     "output_type": "stream",
     "text": [
      "Image with no or wrong code (Presa de Contreras (28 de enero de 2017, Minglanilla-Villargordo del Cabriel) 02.jpg)\n",
      "Image with no or wrong code (Presa de Contreras (28 de enero de 2017, Minglanilla-Villargordo del Cabriel).jpg)\n",
      "Image with no or wrong code (Puente santa catalina en otoño.jpg)\n"
     ]
    },
    {
     "name": "stderr",
     "output_type": "stream",
     "text": [
      "Retrieving --> 1850 image descriptions downloaded\n"
     ]
    },
    {
     "name": "stdout",
     "output_type": "stream",
     "text": [
      "Image with no or wrong code (Rasos en color.jpg)\n",
      "Image with no or wrong code (Rasos nevados.jpg)\n"
     ]
    },
    {
     "name": "stderr",
     "output_type": "stream",
     "text": [
      "Retrieving --> 1900 image descriptions downloaded\n"
     ]
    },
    {
     "name": "stdout",
     "output_type": "stream",
     "text": [
      "Image with no or wrong code (Rio Tormes en Salamanca bajo el puente romano.jpg)\n",
      "Image with no or wrong code (Rio Tormes en Salamanca con pesquera y puente de hierro.jpg)\n"
     ]
    },
    {
     "name": "stderr",
     "output_type": "stream",
     "text": [
      "Retrieving --> 1950 image descriptions downloaded\n"
     ]
    },
    {
     "name": "stdout",
     "output_type": "stream",
     "text": [
      "Image with no or wrong code (Roncesvalles 02.jpg)\n",
      "Image with no or wrong code (Ruta molinos de odiel 1.jpg)\n"
     ]
    },
    {
     "name": "stderr",
     "output_type": "stream",
     "text": [
      "Retrieving --> 2000 image descriptions downloaded\n"
     ]
    },
    {
     "name": "stdout",
     "output_type": "stream",
     "text": [
      "Image with no or wrong code (Río de Anzola.jpg)\n"
     ]
    },
    {
     "name": "stderr",
     "output_type": "stream",
     "text": [
      "Retrieving --> 2050 image descriptions downloaded\n"
     ]
    },
    {
     "name": "stdout",
     "output_type": "stream",
     "text": [
      "Image with no or wrong code (Santa Engracia Gurp Conca Tremp.jpg)\n"
     ]
    },
    {
     "name": "stderr",
     "output_type": "stream",
     "text": [
      "Retrieving --> 2100 image descriptions downloaded\n",
      "Retrieving --> 2150 image descriptions downloaded\n",
      "Retrieving --> 2200 image descriptions downloaded\n",
      "Retrieving --> 2250 image descriptions downloaded\n"
     ]
    },
    {
     "name": "stdout",
     "output_type": "stream",
     "text": [
      "Image with no or wrong code (SS2016. Ciudad Europea de la Cultura. Inauguración. Luz y sonido.jpg)\n",
      "Image with no or wrong code (Sunset in Puerto Colon.jpg)\n",
      "Image Tejeda9.jpg with wrong date (02/03/2017-1-1)\n",
      "Image with no or wrong code (Telaraña entre viñas.jpg)\n",
      "Image with no or wrong code (Tenerife amazing.jpg)\n",
      "Image with no or wrong code (Tenerife clouds.jpg)\n",
      "Image with no or wrong code (Tenerife moon.jpg)\n",
      "Image with no or wrong code (Tenerife neighbor island.jpg)\n"
     ]
    },
    {
     "name": "stderr",
     "output_type": "stream",
     "text": [
      "Retrieving --> 2300 image descriptions downloaded\n"
     ]
    },
    {
     "name": "stdout",
     "output_type": "stream",
     "text": [
      "Image with no or wrong code (Tenerife neighbor islands.jpg)\n",
      "Image with no or wrong code (Tenerife ocean.jpg)\n",
      "Image with no or wrong code (Tenerife peacocks.jpg)\n",
      "Image with no or wrong code (Tenerife red sunset.jpg)\n",
      "Image with no or wrong code (Tenerife ship.jpg)\n",
      "Image with no or wrong code (Tenerife sunrise.jpg)\n",
      "Image with no or wrong code (Tenerife sunset.jpg)\n",
      "Image with no or wrong code (Tres colores.jpg)\n",
      "Image with no or wrong code (Un paraíso prepirenaico.jpg)\n"
     ]
    },
    {
     "name": "stderr",
     "output_type": "stream",
     "text": [
      "Retrieving --> 2350 image descriptions downloaded\n"
     ]
    },
    {
     "name": "stdout",
     "output_type": "stream",
     "text": [
      "Image with no or wrong code (Valdorba Sto cristo Catalain.jpg)\n"
     ]
    },
    {
     "name": "stderr",
     "output_type": "stream",
     "text": [
      "Retrieving --> 2400 image descriptions downloaded\n"
     ]
    }
   ],
   "source": [
    "images_df = pd.DataFrame(\n",
    "    columns=['image_title', 'lic_id', 'uploader', 'uploader_registration', \n",
    "             'timestamp', 'date', 'size', 'height', 'width', 'qi', 'finalist'])\n",
    "\n",
    "uploaders = {}\n",
    "\n",
    "for image_counter, image in enumerate(images_wle):\n",
    "    if (image_counter != 0) and (image_counter % 50 == 0) :\n",
    "        pb.output ('Retrieving --> %d image descriptions downloaded' %(image_counter))\n",
    "\n",
    "    image_row = {'image_title': None, \n",
    "                 'lic_id': '', \n",
    "                 'uploader': None,\n",
    "                 'uploader_registration': None,\n",
    "                 'timestamp': None,\n",
    "                 'date': None,\n",
    "                 'size': 0,\n",
    "                 'height': 0,\n",
    "                 'width': 0,\n",
    "                 'qi': None,\n",
    "                 'finalist': None}\n",
    "\n",
    "    page = pb.FilePage(commons_site, image)\n",
    "    text = page.text\n",
    "    wikicode = mwh.parse(text)\n",
    "\n",
    "    image_row[\"image_title\"] = page.title(withNamespace=False)\n",
    "    \n",
    "    # upload time management\n",
    "    creation = page.oldest_revision\n",
    "    creation_time = creation.timestamp + timedelta(hours=2)\n",
    "    uploader = creation[\"user\"]\n",
    "    #print (page.oldest_revision.timestamp)\n",
    "    if ((creation_time > END_TIME) or (creation_time < START_TIME)) and uploader != 'WikiLovesESBot' :\n",
    "        print (\"Image ({}) out of time\".format(image_row[\"image_title\"]))\n",
    "        continue\n",
    "    image_row[\"timestamp\"] = creation_time.strftime(\"%Y-%m-%d %H:%M:%S\")\n",
    "    \n",
    "    fileinfo = page.latest_file_info\n",
    "    image_row[\"size\"] = fileinfo['size']\n",
    "    image_row[\"height\"] = fileinfo['height']\n",
    "    image_row[\"width\"] = fileinfo['width']\n",
    "    \n",
    "    # code management\n",
    "    wle_templates = [template for template in wikicode.filter_templates() \n",
    "                    if template.name.lower().strip() == CODE_TEMPLATE]\n",
    "    if len(wle_templates) > 0 and wle_templates[0].get(1).value.strip() in sites_list:\n",
    "        image_row[\"lic_id\"] = wle_templates[0].get(1).value.strip()\n",
    "    else :\n",
    "        print (\"Image with no or wrong code ({0})\".format(image_row[\"image_title\"]))\n",
    "        \n",
    "    # date management\n",
    "    info_templates = [template for template in wikicode.filter_templates() \n",
    "                      if template.name.lower().strip() == \"information\"]\n",
    "    if len(info_templates) != 0 :\n",
    "        if not (info_templates[0].has(\"date\") or info_templates[0].has(\"Date\")) :\n",
    "            print (\"Image with no date ({0})\".format(image_row[\"image_title\"]))\n",
    "        else :\n",
    "            if info_templates[0].has(\"date\"):\n",
    "                date_info = info_templates[0].get(\"date\").value.strip()\n",
    "            elif info_templates[0].has(\"Date\"):\n",
    "                date_info = info_templates[0].get(\"Date\").value.strip()\n",
    "                \n",
    "            wikidate = mwh.parse(date_info)\n",
    "            try :\n",
    "                # we try to determine whether the date is inside a template\n",
    "                date_info = wikidate.filter_templates()[0].get(1)\n",
    "            except :\n",
    "                # no template\n",
    "                pass\n",
    "            date_info = date_info.split(' ')[0]\n",
    "\n",
    "            num_date_tokens = len(date_info.split('-'))\n",
    "            if num_date_tokens == 2 :\n",
    "                date_info = '{}-1'.format(date_info)\n",
    "            elif num_date_tokens == 1 :\n",
    "                date_info = '{}-1-1'.format(date_info)\n",
    "\n",
    "            try :\n",
    "                datetime_object = datetime.strptime(date_info, '%Y-%m-%d')\n",
    "                image_row[\"date\"] = date_info\n",
    "            except :\n",
    "                print (\"Image {0} with wrong date ({1})\".format(image_row[\"image_title\"], date_info))\n",
    "    else :\n",
    "        print (\"Image with no info template ({0})\".format(image_row[\"image_title\"]))\n",
    "\n",
    "    # uploader and uploader registration management\n",
    "    if uploader != 'WikiLovesESBot' :\n",
    "        image_row[\"uploader\"] = uploader\n",
    "\n",
    "        if image_row[\"uploader\"] not in uploaders :\n",
    "            try:\n",
    "                # Too old users do not have a user registration time\n",
    "                user_registration = pb.User(commons_site, title=uploader).registration()\n",
    "                image_row[\"uploader_registration\"] = user_registration.strftime(\"%Y-%m-%d\")\n",
    "            except :\n",
    "                image_row[\"uploader_registration\"] = '2006-01-01'\n",
    "            uploaders[image_row[\"uploader\"]] = image_row[\"uploader_registration\"]\n",
    "        else :\n",
    "            image_row[\"uploader_registration\"] = uploaders[image_row[\"uploader\"]]\n",
    "    else :\n",
    "        image_row[\"uploader\"] = re.findall(r\"\\[(.*)\\]\", info_templates[0].get(\"Author\").value.strip())[0]\n",
    "        image_row[\"uploader_registration\"] = '2000-01-01'\n",
    "        #print(image_row[\"uploader\"])\n",
    "\n",
    "    # quality status management\n",
    "    qi_templates = [template for template in wikicode.filter_templates() \n",
    "                   if template.name.lower().strip() == \"qualityimage\"]    \n",
    "    if len(qi_templates) > 0:\n",
    "        image_row[\"qi\"] = 'qi'\n",
    "        \n",
    "    # finalist status management\n",
    "    cats = [cat.title(withNamespace=False) for cat in textlib.getCategoryLinks(text)]\n",
    "    if WLE_FINALIST_CAT in cats:\n",
    "        image_row[\"finalist\"] = 'finalist'\n",
    "\n",
    "    images_df = images_df.append(image_row, ignore_index=True)"
   ]
  },
  {
   "cell_type": "code",
   "execution_count": null,
   "metadata": {},
   "outputs": [],
   "source": [
    "images_df.describe(include=\"all\")"
   ]
  },
  {
   "cell_type": "markdown",
   "metadata": {},
   "source": [
    "### Log creation"
   ]
  },
  {
   "cell_type": "code",
   "execution_count": null,
   "metadata": {},
   "outputs": [],
   "source": [
    "buf = StringIO()\n",
    "images_df.to_csv(buf, index=None, sep=';', encoding='utf-8', header=False)\n",
    "\n",
    "db_page = pb.Page(commons_site, LOG_PAGE)\n",
    "db_page.text = u'<pre>\\n' + buf.getvalue() + u'</pre>'\n",
    "db_page.save(\"{1} {0} in Spain: Contribution log update\".format(YEAR, TAG))"
   ]
  },
  {
   "cell_type": "code",
   "execution_count": null,
   "metadata": {},
   "outputs": [],
   "source": []
  }
 ],
 "metadata": {
  "kernelspec": {
   "display_name": "Python 3",
   "language": "python",
   "name": "python3"
  },
  "language_info": {
   "codemirror_mode": {
    "name": "ipython",
    "version": 3
   },
   "file_extension": ".py",
   "mimetype": "text/x-python",
   "name": "python",
   "nbconvert_exporter": "python",
   "pygments_lexer": "ipython3",
   "version": "3.6.3"
  }
 },
 "nbformat": 4,
 "nbformat_minor": 2
}
