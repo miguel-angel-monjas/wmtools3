{
 "cells": [
  {
   "cell_type": "code",
   "execution_count": null,
   "metadata": {},
   "outputs": [],
   "source": [
    "#!/usr/bin/python\n",
    "# -*- coding: latin-1 -*-\n",
    "import os\n",
    "\n",
    "try :\n",
    "    import pywikibot as pb\n",
    "\n",
    "except :\n",
    "    import sys, inspect\n",
    "    current_folder = os.path.realpath(os.path.abspath(os.path.split(inspect.getfile(inspect.currentframe()))[0]))\n",
    "    folder_parts = current_folder.split(os.sep)\n",
    "    pywikibot_folder = os.sep.join(folder_parts[0:-1])\n",
    "\n",
    "    if current_folder not in sys.path:\n",
    "        sys.path.insert(0, current_folder)\n",
    "    if pywikibot_folder not in sys.path:\n",
    "        sys.path.insert(0, pywikibot_folder)\n",
    "\n",
    "    import pywikibot as pb\n",
    "    \n",
    "import pandas as pd\n",
    "from mako.template import Template\n",
    "\n",
    "from io import StringIO"
   ]
  },
  {
   "cell_type": "code",
   "execution_count": null,
   "metadata": {},
   "outputs": [],
   "source": [
    "YEAR                = 2017\n",
    "TAG                 = 'WLF'\n",
    "TAG_EXT             = 'Wiki Loves Folk'\n",
    "\n",
    "BASE_WLF_NAME       = 'Commons:{1}/{0}'.format(YEAR, TAG_EXT)\n",
    "LOG_PAGE            = BASE_WLF_NAME + '/Log'\n",
    "GALLERY_PAGE        = BASE_WLF_NAME + '/User Gallery'\n",
    "\n",
    "commons_site = pb.Site('commons', 'commons')"
   ]
  },
  {
   "cell_type": "code",
   "execution_count": null,
   "metadata": {},
   "outputs": [],
   "source": [
    "gallery_template = \"\"\"== Photographs by ${author} in ${tag} ${year} ==\n",
    "\n",
    "<gallery mode=\"packed\" heights=\"150px\">\n",
    "% for item in image_list :\n",
    "${item}\n",
    "% endfor\n",
    "</gallery>\"\"\""
   ]
  },
  {
   "cell_type": "code",
   "execution_count": null,
   "metadata": {},
   "outputs": [],
   "source": [
    "reduced_gallery_template = \"\"\"== Photographs by ${author} in ${tag} ${year} ==\n",
    "\n",
    "<gallery mode=\"packed\" heights=\"150px\">\n",
    "% for item in image_list[:10] :\n",
    "${item}\n",
    "% endfor\n",
    "</gallery>\n",
    "% if len(image_list) > 10:\n",
    "\n",
    "; See '''gallery''' with all contributions by [[User:${author}|${author}]] '''[[Commons:${tag}/${year}/Images from ${tag} ${year} in Spain by ${author}|here]]'''.\n",
    "% endif\"\"\""
   ]
  },
  {
   "cell_type": "code",
   "execution_count": null,
   "metadata": {},
   "outputs": [],
   "source": [
    "def sort_gallery(images):\n",
    "    images = sorted(images)\n",
    "    return images"
   ]
  },
  {
   "cell_type": "code",
   "execution_count": null,
   "metadata": {},
   "outputs": [],
   "source": [
    "pb.output('Retrieving --> {1} {0} in Spain images list from cache'.format(YEAR, TAG))\n",
    "list_page = pb.Page(commons_site, LOG_PAGE)\n",
    "list_page_text = StringIO(list_page.text[list_page.text.find('\\n') + 1:list_page.text.rfind('\\n')])\n",
    "images_df = pd.read_csv(list_page_text,\n",
    "                            sep=\";\",\n",
    "                            index_col=False,\n",
    "                            names=['image_title', 'wikidata_id', 'uploader', 'time_to_upload', 'timestamp', 'qi']\n",
    "                       ).fillna('')\n",
    "pb.output('Retrieved --> {1} {0} in Spain images list from cache'.format(YEAR, TAG))\n",
    "\n",
    "images_df['timestamp'] = pd.to_datetime(images_df['timestamp'], format=\"%Y-%m-%d %H:%M:%S\")\n",
    "\n",
    "images_df.set_index([\"timestamp\"], inplace=True)\n",
    "del images_df.index.name"
   ]
  },
  {
   "cell_type": "code",
   "execution_count": null,
   "metadata": {},
   "outputs": [],
   "source": [
    "grouped_images = images_df.groupby(['uploader'])['image_title'].apply(list).apply(lambda x: sort_gallery(x))\n",
    "for index, item in grouped_images.iteritems() :\n",
    "    vars = {\n",
    "        \"author\": index,\n",
    "        \"image_list\": item,\n",
    "        \"tag\": TAG_EXT,\n",
    "        \"year\": YEAR\n",
    "    }\n",
    "    t = Template(gallery_template)\n",
    "    gallery_text = t.render(**vars)\n",
    "    \n",
    "    gallery_page = pb.Page(commons_site, 'Commons:{0}/{1}/Images from {0} {1} in Spain by {2}'.format(TAG_EXT, YEAR, index))\n",
    "    if gallery_page.text != gallery_text :\n",
    "        gallery_page.text = gallery_text\n",
    "    \n",
    "        pb.output('Publishing --> {1} {0} in Spain User Gallery'.format(YEAR, TAG))\n",
    "        gallery_page.save(\"{1} {0} in Spain User Gallery\".format(YEAR, TAG))"
   ]
  },
  {
   "cell_type": "code",
   "execution_count": null,
   "metadata": {},
   "outputs": [],
   "source": [
    "grouped_images = images_df.groupby(['uploader'])['image_title'].apply(list).apply(lambda x: sort_gallery(x))\n",
    "for index, item in grouped_images.iteritems() :\n",
    "    vars = {\n",
    "        \"author\": index,\n",
    "        \"image_list\": item,\n",
    "        \"tag\": TAG_EXT,\n",
    "        \"year\": YEAR\n",
    "    }\n",
    "    t = Template(reduced_gallery_template)\n",
    "    gallery_text = t.render(**vars)\n",
    "    \n",
    "    gallery_page = pb.Page(commons_site, 'Commons:{0}/{1}/Images from {0} {1} in Spain by {2} (reduced)'.format(TAG_EXT, YEAR, index))\n",
    "    if gallery_page.text != gallery_text :\n",
    "        gallery_page.text = gallery_text\n",
    "    \n",
    "        pb.output('Publishing --> {1} {0} in Spain reduced User Gallery'.format(YEAR, TAG))\n",
    "        gallery_page.save(\"{1} {0} in Spain reduced User Gallery\".format(YEAR, TAG))"
   ]
  },
  {
   "cell_type": "code",
   "execution_count": null,
   "metadata": {},
   "outputs": [],
   "source": [
    "gallery_index_template = \"\"\"'''Contributions to [[Commons:${tag}|${tag} ${year}]] in Spain'''\n",
    "\n",
    "${galleries}\n",
    "\n",
    "[[Category:${tag} ${year} in Spain]]\"\"\"\n",
    "\n",
    "vars = {\n",
    "    \"galleries\": '\\n'.join(['{{{{Commons:{0}/{1}/Images from {0} {1} in Spain by {2} (reduced)}}}}'.format(TAG_EXT, YEAR, i) for i in images_df['uploader'].unique()]),\n",
    "    \"tag\": TAG_EXT,\n",
    "    \"year\": YEAR\n",
    "}\n",
    "t = Template(gallery_index_template)\n",
    "gallery_index_text = t.render(**vars)"
   ]
  },
  {
   "cell_type": "code",
   "execution_count": null,
   "metadata": {},
   "outputs": [],
   "source": [
    "gallery_index_page = pb.Page(commons_site, GALLERY_PAGE)\n",
    "gallery_index_page.text = gallery_index_text\n",
    "    \n",
    "pb.output('Publishing --> {1} {0} in Spain User Gallery'.format(YEAR, TAG))\n",
    "gallery_index_page.save(\"{1} {0} in Spain User Gallery\".format(YEAR, TAG))"
   ]
  }
 ],
 "metadata": {
  "kernelspec": {
   "display_name": "Python 3",
   "language": "python",
   "name": "python3"
  },
  "language_info": {
   "codemirror_mode": {
    "name": "ipython",
    "version": 3
   },
   "file_extension": ".py",
   "mimetype": "text/x-python",
   "name": "python",
   "nbconvert_exporter": "python",
   "pygments_lexer": "ipython3",
   "version": "3.6.3"
  }
 },
 "nbformat": 4,
 "nbformat_minor": 2
}
