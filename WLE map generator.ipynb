{
 "cells": [
  {
   "cell_type": "code",
   "execution_count": null,
   "metadata": {},
   "outputs": [],
   "source": [
    "#!/usr/bin/python\n",
    "# -*- coding: utf-8 -*-\n",
    "\"\"\"This notebook creates the map of TAG in COUNTRY \n",
    "for all its editions, provided images have been \n",
    "properlycategorized\"\"\"\n",
    "\n",
    "import inspect, os, sys\n",
    "\n",
    "try :\n",
    "    import pywikibot as pb\n",
    "    from pywikibot import pagegenerators\n",
    "\n",
    "except :\n",
    "    current_folder = os.path.realpath(os.path.abspath(os.path.split(inspect.getfile(inspect.currentframe()))[0]))\n",
    "    folder_parts = current_folder.split(os.sep)\n",
    "    pywikibot_folder = os.sep.join(folder_parts[:-1])\n",
    "\n",
    "    if current_folder not in sys.path:\n",
    "        sys.path.insert(0, current_folder)\n",
    "    if pywikibot_folder not in sys.path:\n",
    "        sys.path.insert(0, pywikibot_folder)\n",
    "\n",
    "    import pywikibot as pb\n",
    "    from pywikibot import pagegenerators"
   ]
  },
  {
   "cell_type": "code",
   "execution_count": null,
   "metadata": {},
   "outputs": [],
   "source": [
    "import pandas as pd\n",
    "import numpy as np\n",
    "from mako.template import Template\n",
    "from io import StringIO\n",
    "import random\n",
    "import seaborn as sns"
   ]
  },
  {
   "cell_type": "code",
   "execution_count": null,
   "metadata": {},
   "outputs": [],
   "source": [
    "from geojson import Feature, Point, FeatureCollection\n",
    "import geojson"
   ]
  },
  {
   "cell_type": "code",
   "execution_count": null,
   "metadata": {},
   "outputs": [],
   "source": [
    "from modules.wmtools import coordinate_shaker"
   ]
  },
  {
   "cell_type": "code",
   "execution_count": null,
   "metadata": {},
   "outputs": [],
   "source": [
    "YEARS               = [2015, 2016, 2017]\n",
    "\n",
    "TAG                 = 'WLE'\n",
    "TAG_EXT             = 'Wiki Loves Earth'\n",
    "COUNTRY             = \"Spain\"\n",
    "\n",
    "BASE_NAME           = \"Commons:Wiki Loves in {2}/{1}/{0}\"\n",
    "LOG_PAGES           = [\"{0}/Log\".format(BASE_NAME.format(YEAR, TAG_EXT, COUNTRY)) for YEAR in YEARS]\n",
    "\n",
    "BASE_SITE_DB_NAME   = \"Commons:Wiki Loves in {1}/{0}\".format(TAG_EXT, COUNTRY)\n",
    "SITE_DB_PAGE        = BASE_SITE_DB_NAME + \"/Sites DB\"\n",
    "MAP_WLE_PAGE        = BASE_SITE_DB_NAME + '/Map'\n",
    "\n",
    "commons_site = pb.Site('commons', 'commons')"
   ]
  },
  {
   "cell_type": "code",
   "execution_count": null,
   "metadata": {},
   "outputs": [],
   "source": [
    "annexes = {\n",
    "   'ES-AN': [u'Anexo:Lugares de importancia comunitaria de Andalucía', 'Andalusia'],\n",
    "   'ES-AR': [u'Anexo:Lugares de importancia comunitaria de Aragón', 'Aragon'],\n",
    "   'ES-AS': [u'Anexo:Lugares de importancia comunitaria de Asturias', 'Asturias'],\n",
    "   'ES-CB': [u'Anexo:Lugares de importancia comunitaria de Cantabria', 'Cantabria'],\n",
    "   'ES-CM': [u'Anexo:Lugares de importancia comunitaria de Castilla-La Mancha', 'Castile-La Mancha'],\n",
    "   'ES-CL': [u'Anexo:Lugares de importancia comunitaria de Castilla y León', u'Castile and León'],\n",
    "   'ES-CT': [u'Anexo:Lugares de importancia comunitaria de Cataluña', 'Catalonia'],\n",
    "   'ES-MD': [u'Anexo:Lugares de importancia comunitaria de la Comunidad de Madrid', 'Community of Madrid'],\n",
    "   'ES-VC': [u'Anexo:Lugares de importancia comunitaria de la Comunidad Valenciana', 'Valencian Community'],\n",
    "   'ES-EX': [u'Anexo:Lugares de importancia comunitaria de Extremadura', 'Extremadura'],\n",
    "   'ES-IB': [u'Anexo:Lugares de importancia comunitaria de las Islas Baleares', 'Balearic Islands'],\n",
    "   'ES-CN': [u'Anexo:Lugares de importancia comunitaria de las Islas Canarias', 'Canary Islands'],\n",
    "   'ES-GA': [u'Anexo:Lugares de importancia comunitaria de Galicia', 'Galicia'],\n",
    "   'ES-RI': [u'Anexo:Lugares de importancia comunitaria de La Rioja', 'La Rioja'],\n",
    "   'ES-NC': [u'Anexo:Lugares de importancia comunitaria de Navarra', 'Navarre'],\n",
    "   'ES-MC': [u'Anexo:Lugares de importancia comunitaria de la Región de Murcia', 'Region of Murcia'],\n",
    "   'ES-PV': [u'Anexo:Lugares de importancia comunitaria del País Vasco', 'Basque Country'],\n",
    "   'ES-CE': [u'Anexo:Lugares de importancia comunitaria de Ceuta y Melilla', 'Ceuta'],\n",
    "   'ES-ML': [u'Anexo:Lugares de importancia comunitaria de Ceuta y Melilla', 'Melilla'],\n",
    "   'ES-MAGRAMA': [u'Anexo:Lugares de importancia comunitaria del MAGRAMA', 'MAGRAMA']\n",
    "}"
   ]
  },
  {
   "cell_type": "code",
   "execution_count": null,
   "metadata": {},
   "outputs": [],
   "source": [
    "autcom_palette = [i[1:] for i in sns.color_palette('hls', len(annexes)).as_hex()]\n",
    "autcoms = [annexes[i][1] for i in annexes]\n",
    "autcom_colors = {autcom: autcom_palette[i] for i, autcom in enumerate(autcoms)}\n",
    "autcom_colors"
   ]
  },
  {
   "cell_type": "code",
   "execution_count": null,
   "metadata": {},
   "outputs": [],
   "source": [
    "def to_geojson (row) :\n",
    "    \"\"\"For each site of community importance, identified by row['code'], this function\n",
    "    creates a proper GeoJSON Feature\"\"\"\n",
    "    images_subset_df = images_df[(images_df['code'] == row['code']) & (images_df['width'] > images_df['height'])]\n",
    "    if len (images_subset_df.index) == 0:\n",
    "        images_subset_df = images_df[images_df['code'] == row['code']]\n",
    "\n",
    "    if len(images_subset_df[images_subset_df['qi'] == 'qi']) > 0 :\n",
    "        popup_image = images_subset_df[images_subset_df['qi'] == 'qi'].sample(1, random_state=0)['image_title'].values[0]\n",
    "    elif len(images_subset_df[images_subset_df['finalist'] == 'finalist']) > 0 :\n",
    "        popup_image = images_subset_df[images_subset_df['finalist'] == 'finalist'].sample(1, random_state=0)['image_title'].values[0]\n",
    "    else :\n",
    "        popup_image = images_subset_df.sample(1, random_state=0)['image_title'].values[0]\n",
    "\n",
    "    properties = {\"description\": \"[[File:{0}|150px]]\".format(popup_image),\n",
    "                  \"title\": \"[[:Category:Images of a site of community importance with code {0} from {1} in {3}|{2}]]\".format(row['code'], TAG_EXT, row['name'], COUNTRY),\n",
    "                  \"marker-size\": \"small\",\n",
    "                  \"marker-symbol\": \"circle\",\n",
    "                  \"marker-color\": autcom_colors[row['aut_com']]}\n",
    "\n",
    "    feature = Feature(geometry=Point((float(row['longitude']), float(row['latitude']))), \n",
    "                      properties=properties\n",
    "                     )\n",
    "    return feature"
   ]
  },
  {
   "cell_type": "code",
   "execution_count": null,
   "metadata": {},
   "outputs": [],
   "source": [
    "# retrieval of the WLE SCI (site of community importance) log\n",
    "pb.output('Retrieving --> WLE site of community importance list')\n",
    "site_list_page = pb.Page(commons_site, SITE_DB_PAGE)\n",
    "site_list_text = StringIO(site_list_page.text[site_list_page.text.find('\\n') + \n",
    "                                                      1:site_list_page.text.rfind('\\n')])\n",
    "site_df = pd.read_csv(site_list_text, sep=\";\",\n",
    "                      index_col=False,\n",
    "                      names=[\"name\", \"code\", \"magrama_url\", \"community\",\n",
    "                            \"bio_region\", \"continent\", \"min_altitude\",\n",
    "                            \"max_altitude\", \"avg_altitude\", \"longitude\",\n",
    "                            \"latitude\", \"area\", \"marine_percentage\",\n",
    "                            \"marine_area\", \"image\", \"commons_cat\", \"wikidata_id\"])\n",
    "\n",
    "pb.output('Retrieved --> WLE site of community importance list')"
   ]
  },
  {
   "cell_type": "code",
   "execution_count": null,
   "metadata": {},
   "outputs": [],
   "source": [
    "site_df[\"aut_com\"] = site_df[\"community\"].apply(lambda x: annexes[x][1])"
   ]
  },
  {
   "cell_type": "code",
   "execution_count": null,
   "metadata": {},
   "outputs": [],
   "source": [
    "valid_sites = site_df['code'].values\n",
    "valid_sites"
   ]
  },
  {
   "cell_type": "code",
   "execution_count": null,
   "metadata": {},
   "outputs": [],
   "source": [
    "image_columns = ['image_title', 'code', 'uploader', 'uploader_registration',\n",
    "                 'timestamp', 'date', 'size', 'height', 'width', 'qi', 'finalist']\n",
    "images_df = pd.DataFrame(columns=image_columns)"
   ]
  },
  {
   "cell_type": "code",
   "execution_count": null,
   "metadata": {},
   "outputs": [],
   "source": [
    "pb.output('Retrieving --> {0} in {1} images list from cache'.format(TAG, COUNTRY))\n",
    "for log_page in LOG_PAGES:\n",
    "    list_page = pb.Page(commons_site, log_page)\n",
    "    list_page_text = StringIO(list_page.text[list_page.text.find('\\n') + 1:list_page.text.rfind('\\n')])\n",
    "    yearly_df = pd.read_csv(list_page_text,\n",
    "                            sep=\";\",\n",
    "                            index_col=False,\n",
    "                            names=image_columns\n",
    "                           ).fillna('')\n",
    "    images_df = pd.concat([images_df, yearly_df])\n",
    "pb.output('Retrieved --> {0} in {1} images list from cache'.format(TAG, COUNTRY))\n",
    "\n",
    "images_df['timestamp'] = pd.to_datetime(images_df['timestamp'], format=\"%Y-%m-%d %H:%M:%S\")\n",
    "\n",
    "images_df.set_index([\"timestamp\"], inplace=True)\n",
    "del images_df.index.name\n",
    "\n",
    "total_images_length = len(images_df)\n",
    "total_images_length"
   ]
  },
  {
   "cell_type": "code",
   "execution_count": null,
   "metadata": {},
   "outputs": [],
   "source": [
    "images_extended_df = pd.merge(images_df, site_df, on='code', how='left')\n",
    "len(images_extended_df.index)"
   ]
  },
  {
   "cell_type": "code",
   "execution_count": null,
   "metadata": {},
   "outputs": [],
   "source": [
    "images_per_site = images_extended_df[images_extended_df['code'].isin(valid_sites)]['code'].value_counts()\n",
    "images_per_site"
   ]
  },
  {
   "cell_type": "code",
   "execution_count": null,
   "metadata": {},
   "outputs": [],
   "source": [
    "images_per_site_df = pd.DataFrame(data=images_per_site).reset_index()\n",
    "images_per_site_df.rename(columns={'index': 'code', 'code': 'count'}, inplace=True)"
   ]
  },
  {
   "cell_type": "code",
   "execution_count": null,
   "metadata": {},
   "outputs": [],
   "source": [
    "images_per_site_df = pd.merge(images_per_site_df, site_df, on='code')[['count', 'code', 'name', 'aut_com', 'latitude', 'longitude', 'commons_cat']].fillna('')\n",
    "images_per_site_df = images_per_site_df.iloc[np.lexsort([images_per_site_df['name'], -images_per_site_df['count']])]\n",
    "images_per_site_df['name'] = images_per_site_df['name'].map(lambda x: x.replace('_', ' '))\n",
    "images_per_site_df.head()"
   ]
  },
  {
   "cell_type": "code",
   "execution_count": null,
   "metadata": {},
   "outputs": [],
   "source": [
    "images_per_site_df['geojson'] = images_per_site_df.apply(lambda row: to_geojson(row), axis=1)"
   ]
  },
  {
   "cell_type": "code",
   "execution_count": null,
   "metadata": {},
   "outputs": [],
   "source": [
    "features = images_per_site_df['geojson'].tolist()\n",
    "feature_collection = FeatureCollection(features)\n",
    "dump = geojson.dumps(feature_collection, ensure_ascii=False, indent=2)\n",
    "#print(dump)"
   ]
  },
  {
   "cell_type": "code",
   "execution_count": null,
   "metadata": {},
   "outputs": [],
   "source": [
    "template = \"\"\"=== WLE contributions map ===\n",
    "The map below includes all the contributions, by site of community importance, for all the editions of the contest \n",
    "(${years[0]}-${years[-1]}).\n",
    "<mapframe text=\"Festivals\" latitude=\"39\" longitude=\"-4\" zoom=\"5\" width=\"800\" height=\"600\" align=\"center\"> \n",
    "${map}\n",
    "</mapframe>\n",
    "\"\"\"\n",
    "vars = {\n",
    "    \"map\": dump,\n",
    "    \"years\": YEARS\n",
    "}\n",
    "t = Template(template)\n",
    "map_text = t.render(**vars)"
   ]
  },
  {
   "cell_type": "code",
   "execution_count": null,
   "metadata": {},
   "outputs": [],
   "source": [
    "maps_page = pb.Page(commons_site, MAP_WLE_PAGE)\n",
    "maps_page.text = map_text\n",
    "pb.output('Publishing --> {0} in Spain Statistics'.format(TAG))\n",
    "maps_page.save(\"{0} in Spain statistics\".format(TAG))"
   ]
  },
  {
   "cell_type": "code",
   "execution_count": null,
   "metadata": {},
   "outputs": [],
   "source": []
  }
 ],
 "metadata": {
  "kernelspec": {
   "display_name": "Python 3",
   "language": "python",
   "name": "python3"
  },
  "language_info": {
   "codemirror_mode": {
    "name": "ipython",
    "version": 3
   },
   "file_extension": ".py",
   "mimetype": "text/x-python",
   "name": "python",
   "nbconvert_exporter": "python",
   "pygments_lexer": "ipython3",
   "version": "3.6.3"
  }
 },
 "nbformat": 4,
 "nbformat_minor": 2
}
