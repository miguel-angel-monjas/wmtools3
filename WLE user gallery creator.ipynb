{
 "cells": [
  {
   "cell_type": "code",
   "execution_count": 1,
   "metadata": {},
   "outputs": [],
   "source": [
    "#!/usr/bin/python\n",
    "# -*- coding: latin-1 -*-\n",
    "\"\"\"This notebook creates user galleries for all the contestants of\n",
    "TAG in Spain in YEAR.\n",
    "\n",
    "As WLE 2015 allowed also contributions from Flickr, some special\n",
    "handling must be done to have it into account.\n",
    "\"\"\"\n",
    "import os\n",
    "\n",
    "try :\n",
    "    import pywikibot as pb\n",
    "\n",
    "except :\n",
    "    import sys, inspect\n",
    "    current_folder = os.path.realpath(os.path.abspath(os.path.split(inspect.getfile(inspect.currentframe()))[0]))\n",
    "    folder_parts = current_folder.split(os.sep)\n",
    "    pywikibot_folder = os.sep.join(folder_parts[0:-1])\n",
    "\n",
    "    if current_folder not in sys.path:\n",
    "        sys.path.insert(0, current_folder)\n",
    "    if pywikibot_folder not in sys.path:\n",
    "        sys.path.insert(0, pywikibot_folder)\n",
    "\n",
    "    import pywikibot as pb\n",
    "    \n",
    "import pandas as pd\n",
    "from mako.template import Template\n",
    "\n",
    "from io import StringIO"
   ]
  },
  {
   "cell_type": "code",
   "execution_count": 2,
   "metadata": {},
   "outputs": [],
   "source": [
    "YEAR                 = 2015\n",
    "TAG                  = 'WLE'\n",
    "TAG_EXT              = 'Wiki Loves Earth'\n",
    "\n",
    "BASE_NAME            = \"Commons:Wiki Loves in Spain/{1}/{0}\".format(YEAR, TAG_EXT)\n",
    "LOG_PAGE             = BASE_NAME + '/Log'\n",
    "GALLERY_PAGE         = BASE_NAME + '/User Gallery'\n",
    "\n",
    "USER_GALLERY_PAGE    = 'Commons:{0}/{1}/Images from {0} {1} in Spain by {2}'\n",
    "REDUCED_GALLERY_PAGE = 'Commons:{0}/{1}/Images from {0} {1} in Spain by {2} (reduced)'\n",
    "\n",
    "commons_site = pb.Site('commons', 'commons')"
   ]
  },
  {
   "cell_type": "markdown",
   "metadata": {},
   "source": [
    "## Templates"
   ]
  },
  {
   "cell_type": "code",
   "execution_count": 3,
   "metadata": {},
   "outputs": [],
   "source": [
    "# Template for the complete user's gallery\n",
    "gallery_template = \"\"\"== Photographs by ${author} in ${tag} ${year} ==\n",
    "\n",
    "<gallery mode=\"packed\" heights=\"150px\">\n",
    "% for item in image_list :\n",
    "${item}\n",
    "% endfor\n",
    "</gallery>\"\"\""
   ]
  },
  {
   "cell_type": "code",
   "execution_count": 4,
   "metadata": {},
   "outputs": [],
   "source": [
    "# Template for a 10 photo user's gallery\n",
    "reduced_gallery_template = \"\"\"== Photographs by ${author} in ${tag} ${year} ==\n",
    "\n",
    "<gallery mode=\"packed\" heights=\"150px\">\n",
    "% for item in image_list[:10] :\n",
    "${item}\n",
    "% endfor\n",
    "</gallery>\n",
    "<%\n",
    "if len(image_list) > 10 and 'flickr' not in context.get('author'):\n",
    "    person=context.get('author')\n",
    "    person_link = '[[User:{0}|{0}]]'.format(person)\n",
    "elif len(image_list) > 10:\n",
    "    person = context.get('author').replace(' (flickr)', '')\n",
    "    person_link = '[{0} {1}] (from Flickr)'.format(context.get('flickr_author')[context.get('author')], person)\n",
    "%>\n",
    "% if len(image_list) > 10 and 'flickr' not in author:\n",
    "; See '''gallery''' with all contributions by ${person_link} '''[[Commons:${tag}/${year}/Images from ${tag} ${year} in Spain by ${author}|here]]'''.\n",
    "% elif len(image_list) > 10:\n",
    "; See '''gallery''' with all contributions by ${person_link} '''[[Commons:${tag}/${year}/Images from ${tag} ${year} in Spain by ${author}|here]]'''.\n",
    "% endif\"\"\""
   ]
  },
  {
   "cell_type": "markdown",
   "metadata": {},
   "source": [
    "### Image log retrieval"
   ]
  },
  {
   "cell_type": "code",
   "execution_count": 5,
   "metadata": {},
   "outputs": [
    {
     "name": "stderr",
     "output_type": "stream",
     "text": [
      "Retrieving --> WLE 2015 in Spain images list from cache\n",
      "Retrieved --> WLE 2015 in Spain images list from cache\n"
     ]
    }
   ],
   "source": [
    "pb.output('Retrieving --> {1} {0} in Spain images list from cache'.format(YEAR, TAG))\n",
    "list_page = pb.Page(commons_site, LOG_PAGE)\n",
    "list_page_text = StringIO(list_page.text[list_page.text.find('\\n') + 1:list_page.text.rfind('\\n')])\n",
    "images_df = pd.read_csv(list_page_text,\n",
    "                            sep=\";\",\n",
    "                            index_col=False,\n",
    "                            names=['image_title', 'lic_id', \n",
    "                                   'uploader', 'uploader_registration', \n",
    "                                   'timestamp', 'date', 'size', \n",
    "                                   'height', 'width', 'qi', \n",
    "                                   'finalist']\n",
    "                       ).fillna('')\n",
    "pb.output('Retrieved --> {1} {0} in Spain images list from cache'.format(YEAR, TAG))\n",
    "\n",
    "images_df['timestamp'] = pd.to_datetime(images_df['timestamp'], format=\"%Y-%m-%d %H:%M:%S\")\n",
    "\n",
    "images_df.set_index([\"timestamp\"], inplace=True)\n",
    "del images_df.index.name"
   ]
  },
  {
   "cell_type": "code",
   "execution_count": 6,
   "metadata": {},
   "outputs": [
    {
     "data": {
      "text/html": [
       "<div>\n",
       "<style scoped>\n",
       "    .dataframe tbody tr th:only-of-type {\n",
       "        vertical-align: middle;\n",
       "    }\n",
       "\n",
       "    .dataframe tbody tr th {\n",
       "        vertical-align: top;\n",
       "    }\n",
       "\n",
       "    .dataframe thead th {\n",
       "        text-align: right;\n",
       "    }\n",
       "</style>\n",
       "<table border=\"1\" class=\"dataframe\">\n",
       "  <thead>\n",
       "    <tr style=\"text-align: right;\">\n",
       "      <th></th>\n",
       "      <th>image_title</th>\n",
       "      <th>lic_id</th>\n",
       "      <th>uploader</th>\n",
       "      <th>uploader_registration</th>\n",
       "      <th>date</th>\n",
       "      <th>size</th>\n",
       "      <th>height</th>\n",
       "      <th>width</th>\n",
       "      <th>qi</th>\n",
       "      <th>finalist</th>\n",
       "    </tr>\n",
       "  </thead>\n",
       "  <tbody>\n",
       "    <tr>\n",
       "      <th>2015-05-03 12:36:37</th>\n",
       "      <td>\"Encina andante\". Parque Natural de la Subbéti...</td>\n",
       "      <td>ES6130002</td>\n",
       "      <td>Teckömo</td>\n",
       "      <td>2015-05-03</td>\n",
       "      <td>2011-05-09</td>\n",
       "      <td>3801106</td>\n",
       "      <td>2592</td>\n",
       "      <td>3456</td>\n",
       "      <td></td>\n",
       "      <td></td>\n",
       "    </tr>\n",
       "    <tr>\n",
       "      <th>2015-05-09 12:54:58</th>\n",
       "      <td>'Grasilla' (Pinguicula grandiflora) en la Send...</td>\n",
       "      <td>ES1200001</td>\n",
       "      <td>ROSUROB</td>\n",
       "      <td>2015-05-09</td>\n",
       "      <td>2007-05-16</td>\n",
       "      <td>1593022</td>\n",
       "      <td>1932</td>\n",
       "      <td>2576</td>\n",
       "      <td></td>\n",
       "      <td></td>\n",
       "    </tr>\n",
       "    <tr>\n",
       "      <th>2015-05-13 18:00:59</th>\n",
       "      <td>(1) ABEJA LIBANDO FLOR DEL NARANJO EN EL CORRA...</td>\n",
       "      <td>ES4320037</td>\n",
       "      <td>JESUS SANCHEZ RODRIGUEZ</td>\n",
       "      <td>2015-05-13</td>\n",
       "      <td>2009-05-03</td>\n",
       "      <td>984666</td>\n",
       "      <td>3072</td>\n",
       "      <td>2304</td>\n",
       "      <td></td>\n",
       "      <td></td>\n",
       "    </tr>\n",
       "    <tr>\n",
       "      <th>2015-05-13 18:01:00</th>\n",
       "      <td>(2) ABEJA LIBANDO FLOR DEL NARANJO EN EL CORRA...</td>\n",
       "      <td>ES4320037</td>\n",
       "      <td>JESUS SANCHEZ RODRIGUEZ</td>\n",
       "      <td>2015-05-13</td>\n",
       "      <td>2009-05-03</td>\n",
       "      <td>1147630</td>\n",
       "      <td>2304</td>\n",
       "      <td>3072</td>\n",
       "      <td></td>\n",
       "      <td></td>\n",
       "    </tr>\n",
       "    <tr>\n",
       "      <th>2015-05-06 19:25:36</th>\n",
       "      <td>0004395970-original.jpg</td>\n",
       "      <td>ES7010033</td>\n",
       "      <td>Tamara k</td>\n",
       "      <td>2009-12-13</td>\n",
       "      <td>2013-03-02</td>\n",
       "      <td>3672007</td>\n",
       "      <td>2092</td>\n",
       "      <td>3000</td>\n",
       "      <td></td>\n",
       "      <td></td>\n",
       "    </tr>\n",
       "  </tbody>\n",
       "</table>\n",
       "</div>"
      ],
      "text/plain": [
       "                                                           image_title  \\\n",
       "2015-05-03 12:36:37  \"Encina andante\". Parque Natural de la Subbéti...   \n",
       "2015-05-09 12:54:58  'Grasilla' (Pinguicula grandiflora) en la Send...   \n",
       "2015-05-13 18:00:59  (1) ABEJA LIBANDO FLOR DEL NARANJO EN EL CORRA...   \n",
       "2015-05-13 18:01:00  (2) ABEJA LIBANDO FLOR DEL NARANJO EN EL CORRA...   \n",
       "2015-05-06 19:25:36                            0004395970-original.jpg   \n",
       "\n",
       "                        lic_id                 uploader uploader_registration  \\\n",
       "2015-05-03 12:36:37  ES6130002                  Teckömo            2015-05-03   \n",
       "2015-05-09 12:54:58  ES1200001                  ROSUROB            2015-05-09   \n",
       "2015-05-13 18:00:59  ES4320037  JESUS SANCHEZ RODRIGUEZ            2015-05-13   \n",
       "2015-05-13 18:01:00  ES4320037  JESUS SANCHEZ RODRIGUEZ            2015-05-13   \n",
       "2015-05-06 19:25:36  ES7010033                 Tamara k            2009-12-13   \n",
       "\n",
       "                           date     size  height  width qi finalist  \n",
       "2015-05-03 12:36:37  2011-05-09  3801106    2592   3456              \n",
       "2015-05-09 12:54:58  2007-05-16  1593022    1932   2576              \n",
       "2015-05-13 18:00:59  2009-05-03   984666    3072   2304              \n",
       "2015-05-13 18:01:00  2009-05-03  1147630    2304   3072              \n",
       "2015-05-06 19:25:36  2013-03-02  3672007    2092   3000              "
      ]
     },
     "execution_count": 6,
     "metadata": {},
     "output_type": "execute_result"
    }
   ],
   "source": [
    "images_df.head()"
   ]
  },
  {
   "cell_type": "markdown",
   "metadata": {},
   "source": [
    "### Galleries creation"
   ]
  },
  {
   "cell_type": "code",
   "execution_count": 7,
   "metadata": {},
   "outputs": [],
   "source": [
    "# Creation of complete users galleries\n",
    "uploaders = []\n",
    "flickr_ids = {}\n",
    "\n",
    "grouped_images = images_df.groupby(['uploader'])['image_title'].apply(list).apply(lambda x: sorted(x))\n",
    "for index, item in grouped_images.iteritems() :\n",
    "    if 'flickr' in index:\n",
    "        fid = index.split(' ')[0]\n",
    "        index = '{} (flickr)'.format(' '.join(index.split(' ')[1:]))\n",
    "        flickr_ids[index] = fid\n",
    "    uploaders.append(index)\n",
    "    vars = {\n",
    "        \"author\": index,\n",
    "        \"image_list\": item,\n",
    "        \"tag\": TAG_EXT,\n",
    "        \"year\": YEAR\n",
    "    }\n",
    "    t = Template(gallery_template)\n",
    "    gallery_text = t.render(**vars).strip()\n",
    "    \n",
    "    gallery_page = pb.Page(commons_site, USER_GALLERY_PAGE.format(TAG_EXT, YEAR, index))\n",
    "    if gallery_page.text != gallery_text :\n",
    "        gallery_page.text = gallery_text\n",
    "        pb.output('Publishing --> {1} {0} in Spain user gallery'.format(YEAR, TAG))\n",
    "        gallery_page.save(\"{1} {0} in Spain user gallery\".format(YEAR, TAG))"
   ]
  },
  {
   "cell_type": "code",
   "execution_count": 8,
   "metadata": {},
   "outputs": [],
   "source": [
    "# Creation of reduced users galleries\n",
    "grouped_images = images_df.groupby(['uploader'])['image_title'].apply(list).apply(lambda x: sorted(x))\n",
    "for index, item in grouped_images.iteritems() :\n",
    "    if 'flickr' in index:\n",
    "        index = '{} (flickr)'.format(' '.join(index.split(' ')[1:]))\n",
    "    vars = {\n",
    "        \"author\": index,\n",
    "        \"flickr_author\": flickr_ids,\n",
    "        \"image_list\": item,\n",
    "        \"tag\": TAG_EXT,\n",
    "        \"year\": YEAR\n",
    "    }\n",
    "    t = Template(reduced_gallery_template)\n",
    "    gallery_text = t.render(**vars).strip()\n",
    "    \n",
    "    gallery_page = pb.Page(commons_site, REDUCED_GALLERY_PAGE.format(TAG_EXT, YEAR, index))\n",
    "\n",
    "    if gallery_page.text != gallery_text :\n",
    "        gallery_page.text = gallery_text\n",
    "        pb.output('Publishing --> {1} {0} in Spain user gallery'.format(YEAR, TAG))\n",
    "        gallery_page.save(\"{1} {0} in Spain user gallery\".format(YEAR, TAG))"
   ]
  },
  {
   "cell_type": "markdown",
   "metadata": {},
   "source": [
    "### List of reduced galleries creation and publication"
   ]
  },
  {
   "cell_type": "code",
   "execution_count": 9,
   "metadata": {},
   "outputs": [],
   "source": [
    "gallery_index_template = \"\"\"'''Contributions to [[Commons:${tag}|${tag} ${year}]] in Spain'''\n",
    "\n",
    "${galleries}\n",
    "\n",
    "[[Category:${tag} ${year} in Spain]]\"\"\"\n",
    "\n",
    "galleries = '\\n'.join(['{{' + REDUCED_GALLERY_PAGE.format(TAG_EXT, YEAR, i) + '}}' for i in uploaders])\n",
    "vars = {\n",
    "    \"galleries\": galleries,\n",
    "    \"tag\": TAG_EXT,\n",
    "    \"year\": YEAR\n",
    "}\n",
    "t = Template(gallery_index_template)\n",
    "gallery_index_text = t.render(**vars)"
   ]
  },
  {
   "cell_type": "code",
   "execution_count": 10,
   "metadata": {},
   "outputs": [
    {
     "name": "stderr",
     "output_type": "stream",
     "text": [
      "Publishing --> WLE 2015 in Spain User Gallery\n",
      "Page [[commons:Commons:Wiki Loves in Spain/Wiki Loves Earth/2015/User Gallery]] saved\n"
     ]
    }
   ],
   "source": [
    "gallery_index_page = pb.Page(commons_site, GALLERY_PAGE)\n",
    "\n",
    "if gallery_index_page.text != gallery_index_text :\n",
    "    gallery_index_page.text = gallery_index_text\n",
    "    pb.output('Publishing --> {1} {0} in Spain User Gallery'.format(YEAR, TAG))\n",
    "    gallery_index_page.save(\"{1} {0} in Spain User Gallery\".format(YEAR, TAG))"
   ]
  },
  {
   "cell_type": "code",
   "execution_count": null,
   "metadata": {},
   "outputs": [],
   "source": []
  }
 ],
 "metadata": {
  "kernelspec": {
   "display_name": "Python 3",
   "language": "python",
   "name": "python3"
  },
  "language_info": {
   "codemirror_mode": {
    "name": "ipython",
    "version": 3
   },
   "file_extension": ".py",
   "mimetype": "text/x-python",
   "name": "python",
   "nbconvert_exporter": "python",
   "pygments_lexer": "ipython3",
   "version": "3.6.3"
  }
 },
 "nbformat": 4,
 "nbformat_minor": 2
}
