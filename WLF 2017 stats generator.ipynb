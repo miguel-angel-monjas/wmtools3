{
 "cells": [
  {
   "cell_type": "code",
   "execution_count": 33,
   "metadata": {},
   "outputs": [],
   "source": [
    "#!/usr/bin/python\n",
    "# -*- coding: latin-1 -*-\n",
    "\"\"\"This notebook creates the statistics of TAG in Spain in YEAR\"\"\"\n",
    "\n",
    "import inspect, os, sys\n",
    "\n",
    "try :\n",
    "    import pywikibot as pb\n",
    "    from pywikibot import pagegenerators, textlib\n",
    "    from pywikibot.specialbots import UploadRobot\n",
    "\n",
    "except :\n",
    "    current_folder = os.path.realpath(os.path.abspath(os.path.split(inspect.getfile(inspect.currentframe()))[0]))\n",
    "    folder_parts = current_folder.split(os.sep)\n",
    "    pywikibot_folder = os.sep.join(folder_parts[:-1])\n",
    "\n",
    "    if current_folder not in sys.path:\n",
    "        sys.path.insert(0, current_folder)\n",
    "    if pywikibot_folder not in sys.path:\n",
    "        sys.path.insert(0, pywikibot_folder)\n",
    "\n",
    "    import pywikibot as pb\n",
    "    from pywikibot import pagegenerators, textlib\n",
    "    from pywikibot.specialbots import UploadRobot\n",
    "\n",
    "import mwparserfromhell as mwh\n",
    "\n",
    "from modules.wmtools import upload_to_commons, get_registration_time, heat_color, get_project_name, wrap_label"
   ]
  },
  {
   "cell_type": "code",
   "execution_count": 34,
   "metadata": {},
   "outputs": [],
   "source": [
    "import pandas as pd\n",
    "import numpy as np\n",
    "from mako.template import Template\n",
    "from io import StringIO, BytesIO\n",
    "from datetime import datetime, timedelta\n",
    "from urllib.parse import urlencode\n",
    "import requests\n",
    "import json\n",
    "from itertools import groupby\n",
    "from operator import itemgetter\n",
    "from functools import reduce\n",
    "import math\n",
    "import random"
   ]
  },
  {
   "cell_type": "code",
   "execution_count": 35,
   "metadata": {},
   "outputs": [],
   "source": [
    "from geojson import Feature, Point, FeatureCollection\n",
    "import geojson"
   ]
  },
  {
   "cell_type": "code",
   "execution_count": 36,
   "metadata": {},
   "outputs": [],
   "source": [
    "import matplotlib as mpl\n",
    "import matplotlib.pyplot as plt\n",
    "import matplotlib.dates as mdates\n",
    "from matplotlib.ticker import MaxNLocator\n",
    "import seaborn as sns\n",
    "\n",
    "sns.set_style(\"darkgrid\")\n",
    "%matplotlib inline"
   ]
  },
  {
   "cell_type": "code",
   "execution_count": 37,
   "metadata": {},
   "outputs": [],
   "source": [
    "mpl.rcParams['font.sans-serif'] = ['DejaVu Sans',\n",
    "                                  'Bitstream Vera Sans',\n",
    "                                  'Computer Modern Sans Serif',\n",
    "                                  'Lucida Grande',\n",
    "                                  'Verdana',\n",
    "                                  'Geneva',\n",
    "                                  'Lucid',\n",
    "                                  'Arial',\n",
    "                                  'Helvetica',\n",
    "                                  'Avant Garde',\n",
    "                                  'sans-serif']"
   ]
  },
  {
   "cell_type": "code",
   "execution_count": 66,
   "metadata": {},
   "outputs": [
    {
     "data": {
      "text/plain": [
       "'/srv/paws/lib/python3.6/site-packages/matplotlib/mpl-data/fonts/ttf/DejaVuSans.ttf'"
      ]
     },
     "execution_count": 66,
     "metadata": {},
     "output_type": "execute_result"
    }
   ],
   "source": [
    "import matplotlib.font_manager\n",
    "matplotlib.font_manager.findfont(matplotlib.font_manager.FontProperties())"
   ]
  },
  {
   "cell_type": "code",
   "execution_count": 38,
   "metadata": {},
   "outputs": [],
   "source": [
    "YEAR                = 2017\n",
    "TAG                 = 'WLF'\n",
    "TAG_EXT             = 'Wiki Loves Folk'\n",
    "\n",
    "BASE_WLF_NAME       = 'Commons:{1}/{0}'.format(YEAR, TAG_EXT)\n",
    "BASE_WLF2016_NAME   = 'Commons:{1}/{0}'.format(2016, TAG_EXT)\n",
    "LOG_PAGE            = BASE_WLF_NAME + '/Log'\n",
    "STATISTICS_PAGE     = BASE_WLF_NAME + '/Stats'\n",
    "FESTIVAL_DB_PAGE    = BASE_WLF2016_NAME + '/Festival DB'\n",
    "GALLERY_QI          = BASE_WLF_NAME + '/QI'\n",
    "\n",
    "VALID_NAMESPACES    = ['0', '4', '100', '104']\n",
    "DAYS_BEFORE_REGISTRATION = 15\n",
    "\n",
    "WLF_FINALIST_CATEGORY = \"Category:Images from {1} {0} in Spain (finalists)\".format(YEAR, TAG_EXT)\n",
    "\n",
    "commons_site = pb.Site('commons', 'commons')"
   ]
  },
  {
   "cell_type": "code",
   "execution_count": 39,
   "metadata": {},
   "outputs": [],
   "source": [
    "MW_API_BASE_URL     = 'https://commons.wikimedia.org/w/api.php'\n",
    "MW_API_QUERY_STRING = {\"action\": \"query\",\n",
    "                       \"format\": \"json\",\n",
    "                       \"gulimit\": \"500\",\n",
    "                       \"prop\": \"globalusage\",\n",
    "                       \"guprop\": \"url|namespace\",\n",
    "                       \"titles\": None\n",
    "                      }"
   ]
  },
  {
   "cell_type": "code",
   "execution_count": 40,
   "metadata": {},
   "outputs": [],
   "source": [
    "figsize=[15., 10.]\n",
    "figsize_half=[8., 10.]\n",
    "figsize_high=[15., 30.]\n",
    "figsize_low=[15., 6.]"
   ]
  },
  {
   "cell_type": "code",
   "execution_count": 41,
   "metadata": {},
   "outputs": [],
   "source": [
    "shake_step=0.01"
   ]
  },
  {
   "cell_type": "code",
   "execution_count": 42,
   "metadata": {},
   "outputs": [],
   "source": [
    "cwd = os.getcwd()\n",
    "\n",
    "images_directory = os.path.join(cwd, 'images')\n",
    "if not os.path.exists(images_directory):\n",
    "    os.makedirs(images_directory)\n",
    "    \n",
    "templates_directory = os.path.join(cwd, 'templates')"
   ]
  },
  {
   "cell_type": "code",
   "execution_count": 43,
   "metadata": {},
   "outputs": [],
   "source": [
    "now = (datetime.now().strftime(\"%Y-%m-%d\"))"
   ]
  },
  {
   "cell_type": "code",
   "execution_count": 44,
   "metadata": {},
   "outputs": [],
   "source": [
    "def get_campaign (row):\n",
    "    \"\"\"Function that classifies images according to uploade date.\n",
    "    THIS IS A YEAR-DEPENDENT FUNCTION\"\"\"\n",
    "    start_datetime_fallas = datetime(YEAR, 3, 1)\n",
    "    end_datetime_fallas   = datetime(YEAR, 5, 1) + timedelta(hours=2)\n",
    "    start_datetime_summer = datetime(YEAR, 6, 21)\n",
    "    end_datetime_summer   = datetime(YEAR, 9, 21) + timedelta(hours=2)\n",
    "    start_datetime_autumm = datetime(YEAR, 11, 1)\n",
    "    end_datetime_autumm   = datetime(YEAR, 12, 1) + timedelta(hours=2)\n",
    "    \n",
    "    if (row['timestamp'] > start_datetime_fallas) and (row['timestamp'] < end_datetime_fallas):\n",
    "        return \"fallas\"\n",
    "    elif (row['timestamp'] > start_datetime_summer) and (row['timestamp'] < end_datetime_summer):\n",
    "        return \"summer\"\n",
    "    elif (row['timestamp'] > start_datetime_autumm) and (row['timestamp'] < end_datetime_autumm):\n",
    "        return \"autumn\"\n",
    "    else :\n",
    "        return \"\""
   ]
  },
  {
   "cell_type": "code",
   "execution_count": 45,
   "metadata": {},
   "outputs": [],
   "source": [
    "def expand_itemid (_list):\n",
    "    new_list = [{\"itemid\": i, \"category\": festivals_df[festivals_df['wikidata_id'] == i]['category'].values[0]} for i in _list]\n",
    "    if len(new_list) > 0:\n",
    "        new_list = sorted(new_list, key=lambda k: k['category']) \n",
    "    return new_list\n",
    "\n",
    "def decode_list (_list) :\n",
    "    try:\n",
    "        new_list = _list[:]\n",
    "    except :\n",
    "        new_list = []\n",
    "    return new_list"
   ]
  },
  {
   "cell_type": "code",
   "execution_count": 46,
   "metadata": {},
   "outputs": [],
   "source": [
    "def shaker (row) :\n",
    "    coordinates = (row['latitude'], row['longitude'])\n",
    "    if row['dup'] == True:\n",
    "        random.seed(len(row['category']))\n",
    "        term_selector = random.randint(0,1)\n",
    "        sign_selector = -1\n",
    "        if random.random() < 0.5 :\n",
    "            sign_selector = 1\n",
    "        shake = [0.0] * 2\n",
    "        shake[term_selector] = sign_selector*shake_step\n",
    "        shake = set(shake)\n",
    "        coordinates = tuple(x + y for x, y in zip(shake, coordinates))\n",
    "\n",
    "    return coordinates"
   ]
  },
  {
   "cell_type": "code",
   "execution_count": 47,
   "metadata": {},
   "outputs": [],
   "source": [
    "def to_geojson (row) :\n",
    "    reduced_images_df = images_df[images_df['wikidata_id'] == row['wikidata_id']]\n",
    "    if len(reduced_images_df[reduced_images_df['qi'] == 'qi']) > 0 :\n",
    "        image = reduced_images_df[reduced_images_df['qi'] == 'qi'].sample(1, random_state=0)['image_title'].values[0]\n",
    "    elif len(reduced_images_df[reduced_images_df['finalist'] == 'finalist']) > 0 :\n",
    "        image = reduced_images_df[reduced_images_df['finalist'] == 'finalist'].sample(1, random_state=0)['image_title'].values[0]\n",
    "    else :\n",
    "        image = reduced_images_df.sample(1, random_state=0)['image_title'].values[0]\n",
    "\n",
    "    feature = Feature(geometry=Point((row['longitude'], row['latitude'])), \n",
    "                      properties={\"description\": \"[[File:{0}|150px]]\".format(image),\n",
    "                                  \"title\": \"[[:Category:Images of festival with code {0} from {2} {1} in Spain|{3}]]\".format(row['wikidata_id'], YEAR, TAG_EXT, row['category']),\n",
    "                                  \"marker-size\": \"small\",\n",
    "                                  \"marker-symbol\": \"circle\",\n",
    "                                  \"marker-color\": autcom_colors[row['aut_com']]}\n",
    "                     )\n",
    "    return feature"
   ]
  },
  {
   "cell_type": "code",
   "execution_count": 48,
   "metadata": {},
   "outputs": [],
   "source": [
    "# Image description\n",
    "plot_description = \"\"\"== {{{{int:filedesc}}}} ==\n",
    "{{{{Information\n",
    "|description={{{{en|{2}}}}}\n",
    "|source={{{{own}}}}\n",
    "|author=[[User:Discasto|Discasto]]\n",
    "|date={3}\n",
    "}}}}\n",
    "\n",
    "{{{{Created with Matplotlib}}}}\n",
    "\n",
    "== {{{{int:license-header}}}} ==\n",
    "{{{{self|cc-by-sa-4.0}}}}\n",
    "\n",
    "[[Category:Photos by User:Discasto]]\n",
    "[[Category:{0} {1} in Spain]]\"\"\""
   ]
  },
  {
   "cell_type": "code",
   "execution_count": 49,
   "metadata": {},
   "outputs": [
    {
     "data": {
      "text/plain": [
       "aut_com\n",
       "Andalusia                Anexo:Fiestas de interés turístico de Andalucía\n",
       "Aragon                      Anexo:Fiestas de interés turístico de Aragón\n",
       "Asturias                  Anexo:Fiestas de interés turístico de Asturias\n",
       "Cantabria                Anexo:Fiestas de interés turístico de Cantabria\n",
       "Castile-La Mancha      Anexo:Fiestas de interés turístico de Castilla...\n",
       "Castile and León       Anexo:Fiestas de interés turístico de Castilla...\n",
       "Catalonia                 Anexo:Fiestas de interés turístico de Cataluña\n",
       "Community of Madrid    Anexo:Fiestas de interés turístico de la Comun...\n",
       "Valencian Community    Anexo:Fiestas de interés turístico de la Comun...\n",
       "Extremadura            Anexo:Fiestas de interés turístico de Extremadura\n",
       "Balearic Islands       Anexo:Fiestas de interés turístico de las Isla...\n",
       "Canary Islands         Anexo:Fiestas de interés turístico de las Isla...\n",
       "Galicia                    Anexo:Fiestas de interés turístico de Galicia\n",
       "La Rioja                  Anexo:Fiestas de interés turístico de La Rioja\n",
       "Navarre                    Anexo:Fiestas de interés turístico de Navarra\n",
       "Region of Murcia       Anexo:Fiestas de interés turístico de la Regió...\n",
       "Basque Country                Anexo:Fiestas y tradiciones del País Vasco\n",
       "Name: annex, dtype: object"
      ]
     },
     "execution_count": 49,
     "metadata": {},
     "output_type": "execute_result"
    }
   ],
   "source": [
    "festival_annexes = [\n",
    "    ['Anexo:Fiestas de interés turístico de Andalucía', 'Andalusia'],\n",
    "    ['Anexo:Fiestas de interés turístico de Aragón', 'Aragon'],\n",
    "    ['Anexo:Fiestas de interés turístico de Asturias', 'Asturias'],\n",
    "    ['Anexo:Fiestas de interés turístico de Cantabria', 'Cantabria'],\n",
    "    ['Anexo:Fiestas de interés turístico de Castilla-La Mancha', 'Castile-La Mancha'],\n",
    "    ['Anexo:Fiestas de interés turístico de Castilla y León', 'Castile and León'],\n",
    "    ['Anexo:Fiestas de interés turístico de Cataluña', 'Catalonia'],\n",
    "    ['Anexo:Fiestas de interés turístico de la Comunidad de Madrid', 'Community of Madrid'],\n",
    "    ['Anexo:Fiestas de interés turístico de la Comunidad Valenciana', 'Valencian Community'],\n",
    "    ['Anexo:Fiestas de interés turístico de Extremadura', 'Extremadura'],\n",
    "    ['Anexo:Fiestas de interés turístico de las Islas Baleares', 'Balearic Islands'],\n",
    "    ['Anexo:Fiestas de interés turístico de las Islas Canarias', 'Canary Islands'],\n",
    "    ['Anexo:Fiestas de interés turístico de Galicia', 'Galicia'],\n",
    "    ['Anexo:Fiestas de interés turístico de La Rioja', 'La Rioja'],\n",
    "    ['Anexo:Fiestas de interés turístico de Navarra', 'Navarre'],\n",
    "    ['Anexo:Fiestas de interés turístico de la Región de Murcia', 'Region of Murcia'],\n",
    "    ['Anexo:Fiestas y tradiciones del País Vasco', 'Basque Country']\n",
    "]\n",
    "annexes = pd.DataFrame(data=festival_annexes, columns=['annex', 'aut_com']).set_index(['aut_com'])['annex']\n",
    "\n",
    "annexes"
   ]
  },
  {
   "cell_type": "code",
   "execution_count": 50,
   "metadata": {},
   "outputs": [
    {
     "data": {
      "text/plain": [
       "{'Andalusia': 'db5f57',\n",
       " 'Aragon': 'db8d57',\n",
       " 'Asturias': 'dbbc57',\n",
       " 'Balearic Islands': '578ddb',\n",
       " 'Basque Country': 'db577e',\n",
       " 'Canary Islands': '575edb',\n",
       " 'Cantabria': 'ccdb57',\n",
       " 'Castile and León': '6edb57',\n",
       " 'Castile-La Mancha': '9ddb57',\n",
       " 'Catalonia': '57db6e',\n",
       " 'Community of Madrid': '57db9d',\n",
       " 'Extremadura': '57bcdb',\n",
       " 'Galicia': '7e57db',\n",
       " 'La Rioja': 'ad57db',\n",
       " 'Navarre': 'db57db',\n",
       " 'Region of Murcia': 'db57ac',\n",
       " 'Valencian Community': '57dbcc'}"
      ]
     },
     "execution_count": 50,
     "metadata": {},
     "output_type": "execute_result"
    }
   ],
   "source": [
    "autcom_palette = [i[1:] for i in sns.color_palette('hls', 17).as_hex()]\n",
    "autcoms = [i[1] for i in festival_annexes]\n",
    "autcom_colors = {autcom: autcom_palette[i] for i, autcom in enumerate(autcoms)}\n",
    "autcom_colors"
   ]
  },
  {
   "cell_type": "code",
   "execution_count": 51,
   "metadata": {},
   "outputs": [
    {
     "name": "stderr",
     "output_type": "stream",
     "text": [
      "Retrieving --> WLF in Spain Festivals list from cache\n",
      "Retrieved --> WLF in Spain Festivals list from cache\n"
     ]
    }
   ],
   "source": [
    "pb.output('Retrieving --> {0} in Spain Festivals list from cache'.format(TAG))\n",
    "festival_list_page = pb.Page(commons_site, FESTIVAL_DB_PAGE)\n",
    "festival_list_text = StringIO(festival_list_page.text[festival_list_page.text.find('\\n') + 1:festival_list_page.text.rfind('\\n')])\n",
    "festivals_df = pd.read_csv(festival_list_text, \n",
    "                           sep=\";\", \n",
    "                           index_col=False, \n",
    "                           names=['name', 'aut_com', \n",
    "                                  'wikidata_id', 'wikidata_timestamp', \n",
    "                                  'category', 'cat_timestamp', 'image',\n",
    "                                  'latitude', 'longitude']\n",
    "                          )\n",
    "pb.output('Retrieved --> {0} in Spain Festivals list from cache'.format(TAG))"
   ]
  },
  {
   "cell_type": "code",
   "execution_count": 52,
   "metadata": {},
   "outputs": [
    {
     "data": {
      "text/html": [
       "<div>\n",
       "<style scoped>\n",
       "    .dataframe tbody tr th:only-of-type {\n",
       "        vertical-align: middle;\n",
       "    }\n",
       "\n",
       "    .dataframe tbody tr th {\n",
       "        vertical-align: top;\n",
       "    }\n",
       "\n",
       "    .dataframe thead th {\n",
       "        text-align: right;\n",
       "    }\n",
       "</style>\n",
       "<table border=\"1\" class=\"dataframe\">\n",
       "  <thead>\n",
       "    <tr style=\"text-align: right;\">\n",
       "      <th></th>\n",
       "      <th>name</th>\n",
       "      <th>aut_com</th>\n",
       "      <th>wikidata_id</th>\n",
       "      <th>wikidata_timestamp</th>\n",
       "      <th>category</th>\n",
       "      <th>cat_timestamp</th>\n",
       "      <th>image</th>\n",
       "      <th>latitude</th>\n",
       "      <th>longitude</th>\n",
       "    </tr>\n",
       "  </thead>\n",
       "  <tbody>\n",
       "    <tr>\n",
       "      <th>0</th>\n",
       "      <td>Carnaval de Cádiz</td>\n",
       "      <td>Andalusia</td>\n",
       "      <td>Q2939698</td>\n",
       "      <td>1.358030e+12</td>\n",
       "      <td>Carnival of Cádiz</td>\n",
       "      <td>1.172166e+12</td>\n",
       "      <td>Carnavaldecadiz.jpg</td>\n",
       "      <td>36.516667</td>\n",
       "      <td>-6.283333</td>\n",
       "    </tr>\n",
       "    <tr>\n",
       "      <th>1</th>\n",
       "      <td>Semana Santa en Málaga</td>\n",
       "      <td>Andalusia</td>\n",
       "      <td>Q9075883</td>\n",
       "      <td>1.364769e+12</td>\n",
       "      <td>Holy Week in Málaga</td>\n",
       "      <td>1.262418e+12</td>\n",
       "      <td>Cristo de La Humillacion y Perdón, Lateral izq...</td>\n",
       "      <td>36.716667</td>\n",
       "      <td>-4.416667</td>\n",
       "    </tr>\n",
       "    <tr>\n",
       "      <th>2</th>\n",
       "      <td>Semana Santa de Sevilla</td>\n",
       "      <td>Andalusia</td>\n",
       "      <td>Q1469338</td>\n",
       "      <td>1.356186e+12</td>\n",
       "      <td>Holy Week in Seville</td>\n",
       "      <td>1.270393e+12</td>\n",
       "      <td>Macarena Sevilla-detail.jpg</td>\n",
       "      <td>37.383333</td>\n",
       "      <td>-5.983333</td>\n",
       "    </tr>\n",
       "    <tr>\n",
       "      <th>3</th>\n",
       "      <td>Semana Santa en Granada</td>\n",
       "      <td>Andalusia</td>\n",
       "      <td>Q9075873</td>\n",
       "      <td>1.364769e+12</td>\n",
       "      <td>Holy Week in Granada</td>\n",
       "      <td>1.239229e+12</td>\n",
       "      <td>Venerable Hermandad del Santísimo Cristo de la...</td>\n",
       "      <td>37.178056</td>\n",
       "      <td>-3.600833</td>\n",
       "    </tr>\n",
       "    <tr>\n",
       "      <th>4</th>\n",
       "      <td>Feria de Abril</td>\n",
       "      <td>Andalusia</td>\n",
       "      <td>Q2918983</td>\n",
       "      <td>1.357986e+12</td>\n",
       "      <td>Feria de Abril</td>\n",
       "      <td>1.148114e+12</td>\n",
       "      <td>Séville-Féria de Abril-1028-1992 05 06.jpg</td>\n",
       "      <td>37.383333</td>\n",
       "      <td>-5.983333</td>\n",
       "    </tr>\n",
       "  </tbody>\n",
       "</table>\n",
       "</div>"
      ],
      "text/plain": [
       "                      name    aut_com wikidata_id  wikidata_timestamp  \\\n",
       "0        Carnaval de Cádiz  Andalusia    Q2939698        1.358030e+12   \n",
       "1   Semana Santa en Málaga  Andalusia    Q9075883        1.364769e+12   \n",
       "2  Semana Santa de Sevilla  Andalusia    Q1469338        1.356186e+12   \n",
       "3  Semana Santa en Granada  Andalusia    Q9075873        1.364769e+12   \n",
       "4           Feria de Abril  Andalusia    Q2918983        1.357986e+12   \n",
       "\n",
       "               category  cat_timestamp  \\\n",
       "0     Carnival of Cádiz   1.172166e+12   \n",
       "1   Holy Week in Málaga   1.262418e+12   \n",
       "2  Holy Week in Seville   1.270393e+12   \n",
       "3  Holy Week in Granada   1.239229e+12   \n",
       "4        Feria de Abril   1.148114e+12   \n",
       "\n",
       "                                               image   latitude  longitude  \n",
       "0                                Carnavaldecadiz.jpg  36.516667  -6.283333  \n",
       "1  Cristo de La Humillacion y Perdón, Lateral izq...  36.716667  -4.416667  \n",
       "2                        Macarena Sevilla-detail.jpg  37.383333  -5.983333  \n",
       "3  Venerable Hermandad del Santísimo Cristo de la...  37.178056  -3.600833  \n",
       "4         Séville-Féria de Abril-1028-1992 05 06.jpg  37.383333  -5.983333  "
      ]
     },
     "execution_count": 52,
     "metadata": {},
     "output_type": "execute_result"
    }
   ],
   "source": [
    "festivals_df.head()"
   ]
  },
  {
   "cell_type": "code",
   "execution_count": 53,
   "metadata": {},
   "outputs": [
    {
     "data": {
      "text/plain": [
       "1238"
      ]
     },
     "execution_count": 53,
     "metadata": {},
     "output_type": "execute_result"
    }
   ],
   "source": [
    "festival_length = len(festivals_df.index)\n",
    "festival_length"
   ]
  },
  {
   "cell_type": "code",
   "execution_count": 54,
   "metadata": {},
   "outputs": [
    {
     "data": {
      "text/plain": [
       "array(['Q2939698', 'Q9075883', 'Q1469338', ..., 'Q23655957', 'Q23655971',\n",
       "       'Q23655987'], dtype=object)"
      ]
     },
     "execution_count": 54,
     "metadata": {},
     "output_type": "execute_result"
    }
   ],
   "source": [
    "valid_festivals = festivals_df['wikidata_id'].values\n",
    "valid_festivals"
   ]
  },
  {
   "cell_type": "code",
   "execution_count": 55,
   "metadata": {},
   "outputs": [
    {
     "name": "stderr",
     "output_type": "stream",
     "text": [
      "Retrieving --> WLF 2017 in Spain images list from cache\n",
      "Retrieved --> WLF 2017 in Spain images list from cache\n"
     ]
    },
    {
     "data": {
      "text/plain": [
       "2541"
      ]
     },
     "execution_count": 55,
     "metadata": {},
     "output_type": "execute_result"
    }
   ],
   "source": [
    "pb.output('Retrieving --> {1} {0} in Spain images list from cache'.format(YEAR, TAG))\n",
    "list_page = pb.Page(commons_site, LOG_PAGE)\n",
    "list_page_text = StringIO(list_page.text[list_page.text.find('\\n') + 1:list_page.text.rfind('\\n')])\n",
    "images_df = pd.read_csv(list_page_text,\n",
    "                            sep=\";\",\n",
    "                            index_col=False,\n",
    "                            names=['image_title', 'wikidata_id', 'uploader', 'time_to_upload', 'timestamp', 'qi', 'finalist']\n",
    "                       ).fillna('')\n",
    "pb.output('Retrieved --> {1} {0} in Spain images list from cache'.format(YEAR, TAG))\n",
    "\n",
    "images_df['timestamp'] = pd.to_datetime(images_df['timestamp'], format=\"%Y-%m-%d %H:%M:%S\")\n",
    "images_df['campaign'] = images_df.apply (lambda row: get_campaign(row), axis=1)\n",
    "\n",
    "images_df.set_index([\"timestamp\"], inplace=True)\n",
    "del images_df.index.name\n",
    "\n",
    "total_images_length = len(images_df)\n",
    "total_images_length"
   ]
  },
  {
   "cell_type": "code",
   "execution_count": 56,
   "metadata": {},
   "outputs": [
    {
     "data": {
      "text/plain": [
       "2017-09-10 09:49:28              Algemesí MDS - Recaudando Donativos.jpg\n",
       "2017-04-01 01:15:37                       Fallas2015 04 Entrada Mora.jpg\n",
       "2017-04-01 00:49:19    Fallas2017 05 Convento Jerusalen Matematico Ma...\n",
       "2017-04-01 19:56:24                      Fallas2017 18 Museo Fallero.jpg\n",
       "2017-04-01 10:18:52              Fallas2017 20 Sueca Literato Azorin.jpg\n",
       "2017-04-01 23:41:27                           Fallas2017 Mascletà 03.jpg\n",
       "2017-04-01 23:41:34                           Fallas2017 Mascletà 06.jpg\n",
       "2017-04-01 20:16:07                             Fallas2017 Ofrena 15.jpg\n",
       "2017-07-04 16:28:57              Gran Fira Valencia 2016 Correfoc 04.jpg\n",
       "Name: image_title, dtype: object"
      ]
     },
     "execution_count": 56,
     "metadata": {},
     "output_type": "execute_result"
    }
   ],
   "source": [
    "qi_list = images_df[images_df['qi'] == 'qi']['image_title']\n",
    "qi_list"
   ]
  },
  {
   "cell_type": "code",
   "execution_count": 57,
   "metadata": {},
   "outputs": [
    {
     "data": {
      "text/plain": [
       "9"
      ]
     },
     "execution_count": 57,
     "metadata": {},
     "output_type": "execute_result"
    }
   ],
   "source": [
    "qi_length = len(qi_list)\n",
    "qi_length"
   ]
  },
  {
   "cell_type": "code",
   "execution_count": 58,
   "metadata": {
    "scrolled": true
   },
   "outputs": [
    {
     "data": {
      "text/plain": [
       "fallas     657\n",
       "summer      75\n",
       "autumn    1809\n",
       "Name: campaign, dtype: int64"
      ]
     },
     "execution_count": 58,
     "metadata": {},
     "output_type": "execute_result"
    }
   ],
   "source": [
    "# THIS IS YEAR-DEPENDENT\n",
    "campaign_count = images_df['campaign'].value_counts()\n",
    "campaign_count = campaign_count.reindex(['fallas', 'summer', 'autumn'])\n",
    "campaign_count"
   ]
  },
  {
   "cell_type": "code",
   "execution_count": 59,
   "metadata": {},
   "outputs": [
    {
     "name": "stdout",
     "output_type": "stream",
     "text": [
      "[[commons:File:WLF 2017 in Spain - Contributions by campaign.png]]\n"
     ]
    },
    {
     "data": {
      "image/png": "[encoded data removed]",
      "text/plain": [
       "<matplotlib.figure.Figure at 0x7ff71d6776a0>"
      ]
     },
     "metadata": {},
     "output_type": "display_data"
    }
   ],
   "source": [
    "fig, ax = plt.subplots(figsize=figsize)\n",
    "\n",
    "p = sns.barplot(ax=ax, x=campaign_count.index, y=campaign_count.values)\n",
    "p.set_xlabel(\"Campaigns\", fontsize=18)\n",
    "p.set_ylabel(\"# Photographs\", fontsize=18)\n",
    "\n",
    "p.set_title(label='{1} {0} in Spain: Contributions by campaign'.format(YEAR, TAG), fontsize=20)\n",
    "p.tick_params(labelsize=14)\n",
    "\n",
    "p.set_xticklabels(['Falles', 'Summer', 'November'])\n",
    "\n",
    "for patch in p.patches:\n",
    "    height = patch.get_height()\n",
    "    p.text(patch.get_x() + patch.get_width()/2.,\n",
    "            height + 20,\n",
    "            '{:1.0f}'.format(height),\n",
    "            ha=\"center\",\n",
    "            fontsize=14)\n",
    "    \n",
    "upload_to_commons(p,\n",
    "                  \"{1} {0} in Spain - Contributions by campaign.png\".format(YEAR, TAG),\n",
    "                  '{1} {0} in Spain: Contributions by campaign'.format(YEAR, TAG_EXT),\n",
    "                  plot_description,\n",
    "                  YEAR,\n",
    "                  TAG_EXT\n",
    "                 )"
   ]
  },
  {
   "cell_type": "code",
   "execution_count": 32,
   "metadata": {},
   "outputs": [
    {
     "data": {
      "text/plain": [
       "uploader\n",
       "19Tarrestnom65                             1160\n",
       "ASOCIACIÓN DE VECINOS \"VIRGEN CORONADA\"       0\n",
       "Andrelopesnunes2                              0\n",
       "Annadctu                                      0\n",
       "Antonia Marcelo Garcia                        0\n",
       "Balablanca                                    0\n",
       "Bgasco                                      444\n",
       "Calvesklein                                   0\n",
       "Coentor                                    3298\n",
       "Daviibecerril                                 0\n",
       "Dbascones                                   930\n",
       "Distritofallas                                0\n",
       "Dorieo                                     3168\n",
       "EdurNeapoli                                   0\n",
       "Egilqui                                       0\n",
       "El Pantera                                 3872\n",
       "Encar.sp                                      0\n",
       "Enric                                       710\n",
       "EnricRodri                                    0\n",
       "Ernest Alagarda                               0\n",
       "FallaTioPep                                   0\n",
       "Felix Nieto Gómez                             0\n",
       "Gonzalowski                                  59\n",
       "Hameryko                                   4078\n",
       "Iván Gnell                                    0\n",
       "J. Fernando Perez Blas                        0\n",
       "Javi.vmc                                      0\n",
       "Javixu                                        0\n",
       "Jfalerog                                      0\n",
       "Joan Estelrich                                0\n",
       "                                           ... \n",
       "Magina Basallote                              0\n",
       "Maria19731008                                 0\n",
       "Millars                                    3871\n",
       "Mipaez                                        0\n",
       "Mishifú                                       0\n",
       "Na Jordana                                    0\n",
       "Nachegu                                       0\n",
       "NelEwaret                                     0\n",
       "Nelav                                         0\n",
       "OPINA62                                       0\n",
       "Pablondelpms                                  0\n",
       "Pacopac                                    3027\n",
       "Pedro J Pacheco                            2328\n",
       "Pili Soler Garcia                             0\n",
       "Ponscor                                     428\n",
       "Rafesmar                                   1287\n",
       "Rcasans                                       0\n",
       "Requete6                                      0\n",
       "Rodelar                                    3261\n",
       "Romagir                                       0\n",
       "Saldeplata                                 2270\n",
       "Sandraluzon92                                 0\n",
       "Sebring74                                     0\n",
       "Semanasantacallosadesegura                   31\n",
       "Susigilabert                                  0\n",
       "TaronjaSatsuma                              915\n",
       "Tonovizcainoestevan                           0\n",
       "Turol Jones                                1175\n",
       "Vanbasten 23                               3816\n",
       "Yumarso                                       0\n",
       "Name: time_to_upload, Length: 65, dtype: int64"
      ]
     },
     "execution_count": 32,
     "metadata": {},
     "output_type": "execute_result"
    }
   ],
   "source": [
    "uploaders = images_df.groupby(['uploader']).min()['time_to_upload']\n",
    "uploaders"
   ]
  },
  {
   "cell_type": "code",
   "execution_count": null,
   "metadata": {},
   "outputs": [],
   "source": [
    "time_to_upload = uploaders.value_counts().sort_index(ascending=False)\n",
    "time_to_upload"
   ]
  },
  {
   "cell_type": "code",
   "execution_count": null,
   "metadata": {},
   "outputs": [],
   "source": [
    "age = pd.cut(uploaders, bins=[0, 15, 365, 730, 3650, 5000], include_lowest=True).value_counts()"
   ]
  },
  {
   "cell_type": "code",
   "execution_count": null,
   "metadata": {},
   "outputs": [],
   "source": [
    "fig, ax = plt.subplots(figsize=figsize)\n",
    "\n",
    "p = sns.barplot(ax=ax, y=age.index, x=age.values)\n",
    "p.set_xlabel(\"# Contestants\", fontsize=18)\n",
    "p.set_ylabel(\"Age (time from registration)\", fontsize=18)\n",
    "\n",
    "p.set_title(label='{1} {0} in Spain: Contestant age'.format(YEAR, TAG), fontsize=20)\n",
    "p.tick_params(labelsize=14)\n",
    "\n",
    "p.set_yticklabels(['Less than 15 days\\nnew )', \n",
    "                   'Between 15 days\\nand one year', \n",
    "                   'Between one\\nand two years', \n",
    "                   'Between two\\nand ten years', \n",
    "                   'More than ten years'])\n",
    "\n",
    "for patch in ax.patches:\n",
    "    ax.text(patch.get_width() + 1,\n",
    "            patch.get_y() + patch.get_height()/2.,\n",
    "            '{:1.0f}'.format(patch.get_width()),\n",
    "            ha=\"center\",\n",
    "            fontsize=14)\n",
    "\n",
    "upload_to_commons(p,\n",
    "                  \"{1} {0} in Spain - Contestant age.png\".format(YEAR, TAG),\n",
    "                  '{1} {0} in Spain: Contestant age. Time from registration to first contribution to contest.'.format(YEAR, TAG_EXT),\n",
    "                  plot_description,\n",
    "                  YEAR,\n",
    "                  TAG_EXT\n",
    "                 )"
   ]
  },
  {
   "cell_type": "code",
   "execution_count": null,
   "metadata": {},
   "outputs": [],
   "source": [
    "authors_length = len(uploaders.index)\n",
    "authors_length"
   ]
  },
  {
   "cell_type": "code",
   "execution_count": null,
   "metadata": {},
   "outputs": [],
   "source": [
    "images_per_uploader = images_df['uploader'].value_counts()\n",
    "images_per_uploader = images_per_uploader.rename('images')\n",
    "images_per_uploader"
   ]
  },
  {
   "cell_type": "code",
   "execution_count": null,
   "metadata": {},
   "outputs": [],
   "source": [
    "# New uploaders\n",
    "days_before_registration = DAYS_BEFORE_REGISTRATION\n",
    "new_uploaders = uploaders[uploaders<days_before_registration].index\n",
    "new_uploaders"
   ]
  },
  {
   "cell_type": "code",
   "execution_count": null,
   "metadata": {},
   "outputs": [],
   "source": [
    "new_uploaders_length = len(new_uploaders)\n",
    "new_uploaders_length"
   ]
  },
  {
   "cell_type": "code",
   "execution_count": null,
   "metadata": {},
   "outputs": [],
   "source": [
    "new_uploaders = images_per_uploader[new_uploaders]\n",
    "new_uploaders"
   ]
  },
  {
   "cell_type": "code",
   "execution_count": null,
   "metadata": {},
   "outputs": [],
   "source": [
    "images_per_uploader = images_df['uploader'].value_counts()\n",
    "images_per_uploader = images_per_uploader.rename('images')\n",
    "images_per_uploader = images_per_uploader.iloc[np.lexsort([images_per_uploader.index, -images_per_uploader.values])]\n",
    "images_per_uploader"
   ]
  },
  {
   "cell_type": "code",
   "execution_count": null,
   "metadata": {},
   "outputs": [],
   "source": [
    "# THIS PARAMETER IS YEAR-DEPENDENT AND COMES FROM MANUAL INSPECTION\n",
    "TOP_UPLOADERS = 13"
   ]
  },
  {
   "cell_type": "code",
   "execution_count": null,
   "metadata": {},
   "outputs": [],
   "source": [
    "images_per_uploader.size"
   ]
  },
  {
   "cell_type": "code",
   "execution_count": null,
   "metadata": {},
   "outputs": [],
   "source": [
    "remaining_images_per_uploader_count = images_per_uploader[TOP_UPLOADERS:].count()\n",
    "remaining_images_per_uploader_count"
   ]
  },
  {
   "cell_type": "code",
   "execution_count": null,
   "metadata": {},
   "outputs": [],
   "source": [
    "remaining_images_per_uploader_sum = images_per_uploader[TOP_UPLOADERS:].sum()\n",
    "remaining_images_per_uploader_sum"
   ]
  },
  {
   "cell_type": "code",
   "execution_count": null,
   "metadata": {},
   "outputs": [],
   "source": [
    "remaining_images_per_uploader = images_per_uploader[:TOP_UPLOADERS]\n",
    "remaining_images_per_uploader = remaining_images_per_uploader.iloc[np.lexsort([remaining_images_per_uploader.index, -remaining_images_per_uploader.values])]\n",
    "remaining_images_per_uploader = remaining_images_per_uploader.append(pd.Series(data={\"Rest ({0})\".format(remaining_images_per_uploader_count): remaining_images_per_uploader_sum}))\n",
    "remaining_images_per_uploader"
   ]
  },
  {
   "cell_type": "code",
   "execution_count": null,
   "metadata": {},
   "outputs": [],
   "source": [
    "fig, ax = plt.subplots(figsize=figsize)\n",
    "\n",
    "p = sns.barplot(ax=ax, x=remaining_images_per_uploader.index, y=remaining_images_per_uploader.values)\n",
    "p.set_xlabel(\"Contributors\", fontsize=18)\n",
    "p.set_ylabel(\"# Photographs\", fontsize=18)\n",
    "\n",
    "p.set_title(label='{1} {0} in Spain: Top uploaders'.format(YEAR, TAG), fontsize=20)\n",
    "p.tick_params(labelsize=14)\n",
    "\n",
    "p.set_xticklabels(p.get_xticklabels(), rotation=90)\n",
    "\n",
    "for patch in p.patches:\n",
    "    height = patch.get_height()\n",
    "    p.text(patch.get_x() + patch.get_width()/2.,\n",
    "            height + 10,\n",
    "            '{:1.0f}'.format(height),\n",
    "            ha=\"center\",\n",
    "            fontsize=13)\n",
    "\n",
    "upload_to_commons(p,\n",
    "                  \"{1} {0} in Spain - Top authors.png\".format(YEAR, TAG),\n",
    "                  'Top {2} contributors to {1} {0} in Spain'.format(YEAR, TAG_EXT, TOP_UPLOADERS),\n",
    "                  plot_description,\n",
    "                  YEAR,\n",
    "                  TAG_EXT\n",
    "                 )"
   ]
  },
  {
   "cell_type": "code",
   "execution_count": null,
   "metadata": {},
   "outputs": [],
   "source": [
    "images_df['uploader'].unique()"
   ]
  },
  {
   "cell_type": "code",
   "execution_count": null,
   "metadata": {},
   "outputs": [],
   "source": [
    "images_df['uploader'].unique().size"
   ]
  },
  {
   "cell_type": "code",
   "execution_count": null,
   "metadata": {},
   "outputs": [],
   "source": [
    "valid_images_length = len(images_df[images_df['wikidata_id'].isin(valid_festivals)].index)\n",
    "valid_images_length"
   ]
  },
  {
   "cell_type": "code",
   "execution_count": null,
   "metadata": {},
   "outputs": [],
   "source": [
    "images_df[images_df['wikidata_id'].isin(valid_festivals)]['wikidata_id'].unique()"
   ]
  },
  {
   "cell_type": "code",
   "execution_count": null,
   "metadata": {},
   "outputs": [],
   "source": [
    "festivals_per_uploader_df = images_df[images_df['wikidata_id'].isin(valid_festivals)].\\\n",
    "                                    groupby(['uploader']).\\\n",
    "                                    agg({\"wikidata_id\": pd.Series.nunique}).\\\n",
    "                                    sort_values('wikidata_id', ascending=False)\n",
    "festivals_per_uploader = festivals_per_uploader_df[\"wikidata_id\"]\n",
    "festivals_per_uploader = festivals_per_uploader.rename('festivals')\n",
    "festivals_per_uploader = festivals_per_uploader.iloc[np.lexsort([festivals_per_uploader.index, -festivals_per_uploader.values])]\n",
    "festivals_per_uploader"
   ]
  },
  {
   "cell_type": "code",
   "execution_count": null,
   "metadata": {},
   "outputs": [],
   "source": [
    "# THIS PARAMETER IS YEAR-DEPENDENT AND COMES FROM MANUAL INSPECTION\n",
    "TOP_UPLOADERS_BY_FESTIVAL = 14"
   ]
  },
  {
   "cell_type": "code",
   "execution_count": null,
   "metadata": {},
   "outputs": [],
   "source": [
    "images_df[images_df['wikidata_id'].isin(valid_festivals)]['wikidata_id'].unique()"
   ]
  },
  {
   "cell_type": "code",
   "execution_count": null,
   "metadata": {},
   "outputs": [],
   "source": [
    "wlf_festivals_length = images_df[images_df['wikidata_id'].isin(valid_festivals)]['wikidata_id'].unique().size\n",
    "wlf_festivals_length"
   ]
  },
  {
   "cell_type": "code",
   "execution_count": null,
   "metadata": {},
   "outputs": [],
   "source": [
    "fig, ax = plt.subplots(figsize=figsize)\n",
    "\n",
    "p = sns.barplot(ax=ax, \n",
    "                x=festivals_per_uploader[:TOP_UPLOADERS_BY_FESTIVAL].index, \n",
    "                y=festivals_per_uploader[:TOP_UPLOADERS_BY_FESTIVAL].values\n",
    "               )\n",
    "p.set_xlabel(\"Contributors\", fontsize=18)\n",
    "p.set_ylabel(\"# Festivals\", fontsize=18)\n",
    "\n",
    "p.set_title(label='{1} {0} in Spain: Top uploaders by festival'.format(YEAR, TAG), fontsize=20)\n",
    "p.tick_params(labelsize=14)\n",
    "\n",
    "p.set_xticklabels(p.get_xticklabels(), rotation=90)\n",
    "p.yaxis.set_major_locator(MaxNLocator(integer=True))\n",
    "\n",
    "for patch in p.patches:\n",
    "    height = patch.get_height()\n",
    "    p.text(patch.get_x() + patch.get_width()/2.,\n",
    "            height + 0.1,\n",
    "            '{:1.0f}'.format(height),\n",
    "            ha=\"center\",\n",
    "            fontsize=13)\n",
    "\n",
    "upload_to_commons(p,\n",
    "                  \"{1} {0} in Spain - Top authors by festival.png\".format(YEAR, TAG),\n",
    "                  'Top {2} contributors to {1} {0} in Spain'.format(YEAR, TAG_EXT, TOP_UPLOADERS_BY_FESTIVAL),\n",
    "                  plot_description,\n",
    "                  YEAR,\n",
    "                  TAG_EXT\n",
    "                 )"
   ]
  },
  {
   "cell_type": "code",
   "execution_count": null,
   "metadata": {},
   "outputs": [],
   "source": [
    "uploaders_df = pd.concat([festivals_per_uploader, images_per_uploader], axis=1).fillna(0)\n",
    "uploaders_df.columns=['Festivals', 'Photographs']\n",
    "uploaders_df['Festivals'] = uploaders_df['Festivals'].astype(int)\n",
    "uploaders_df = uploaders_df.iloc[np.lexsort([uploaders_df.index, -uploaders_df['Photographs']])]\n",
    "uploaders_df"
   ]
  },
  {
   "cell_type": "code",
   "execution_count": null,
   "metadata": {},
   "outputs": [],
   "source": [
    "fig, ax = plt.subplots(figsize=figsize)\n",
    "\n",
    "p = sns.barplot(ax=ax, \n",
    "                x=uploaders_df[:TOP_UPLOADERS].index, \n",
    "                y=uploaders_df[:TOP_UPLOADERS]['Photographs'], \n",
    "                hue=uploaders_df[:TOP_UPLOADERS]['Festivals'],\n",
    "                dodge=False)\n",
    "p.set_xlabel(\"Contributors\", fontsize=18)\n",
    "p.set_ylabel(\"# Photographs\", fontsize=18)\n",
    "\n",
    "p.set_title(label='{1} {0} in Spain: Top uploaders\\nby number of photographs and festivals'.format(YEAR, TAG), fontsize=20)\n",
    "\n",
    "p.tick_params(labelsize=14)\n",
    "p.set_xticklabels(p.get_xticklabels(), rotation=90)\n",
    "\n",
    "handles, labels = p.get_legend_handles_labels()\n",
    "handles.reverse()\n",
    "labels.reverse()\n",
    "\n",
    "legend = plt.legend(loc='center right', \n",
    "                    title='Number of\\nfestivals', \n",
    "                    fontsize=14,\n",
    "                    labels=labels,\n",
    "                    handles=handles)\n",
    "plt.setp(legend.get_title(), fontsize=16)\n",
    "\n",
    "for patch in p.patches:\n",
    "    height = patch.get_height()\n",
    "    if not math.isnan(height):\n",
    "        p.text(patch.get_x() + patch.get_width()/2.,\n",
    "                height + 15,\n",
    "                '{:1.0f}'.format(height),\n",
    "                ha=\"center\",\n",
    "                fontsize=13)\n",
    "\n",
    "upload_to_commons(p,\n",
    "                  \"{1} {0} in Spain - Top authors (2).png\".format(YEAR, TAG),\n",
    "                  'Top {2} contributors to {1} {0} in Spain with contribution to festivals'.format(YEAR, TAG_EXT, TOP_UPLOADERS),\n",
    "                  plot_description,\n",
    "                  YEAR,\n",
    "                  TAG_EXT\n",
    "                 )"
   ]
  },
  {
   "cell_type": "code",
   "execution_count": null,
   "metadata": {},
   "outputs": [],
   "source": [
    "images_df['wikidata_id'].value_counts()"
   ]
  },
  {
   "cell_type": "code",
   "execution_count": null,
   "metadata": {},
   "outputs": [],
   "source": [
    "# THIS IS YEAR-DEPENDENT\n",
    "images_df[images_df[\"campaign\"] == \"autumn\"]['wikidata_id'].value_counts()"
   ]
  },
  {
   "cell_type": "code",
   "execution_count": null,
   "metadata": {},
   "outputs": [],
   "source": [
    "# THIS IS YEAR-DEPENDENT\n",
    "images_df[images_df[\"campaign\"] == \"summer\"]['wikidata_id'].value_counts()"
   ]
  },
  {
   "cell_type": "code",
   "execution_count": null,
   "metadata": {},
   "outputs": [],
   "source": [
    "# THIS IS YEAR-DEPENDENT\n",
    "images_df[images_df[\"campaign\"] == \"fallas\"]['wikidata_id'].value_counts()"
   ]
  },
  {
   "cell_type": "code",
   "execution_count": null,
   "metadata": {},
   "outputs": [],
   "source": [
    "# THIS IS YEAR-DEPENDENT\n",
    "upload_ts = images_df[images_df['campaign'] == 'autumn']['image_title'].resample('d').count()\n",
    "upload_ts[datetime(YEAR, 11, 30)] = upload_ts[datetime(YEAR, 11, 30)] + upload_ts[datetime(YEAR, 12, 1)]\n",
    "upload_ts.drop(datetime(YEAR, 12, 1), inplace=True)\n",
    "upload_ts = pd.Series([0]*30, index=pd.date_range(datetime(YEAR, 11, 1), periods=30, freq='D')) + upload_ts\n",
    "upload_ts = upload_ts.fillna(0).astype(int)\n",
    "upload_ts"
   ]
  },
  {
   "cell_type": "code",
   "execution_count": null,
   "metadata": {},
   "outputs": [],
   "source": [
    "# THIS IS YEAR-DEPENDENT\n",
    "fig, ax = plt.subplots(figsize=figsize)\n",
    "\n",
    "p = ax.bar(upload_ts.index.to_pydatetime(), \n",
    "       upload_ts.values,\n",
    "       color=sns.color_palette(\"Blues_d\", 30))\n",
    "ax.xaxis.set_major_locator(mdates.AutoDateLocator())\n",
    "ax.xaxis.set_major_formatter(mdates.DateFormatter('%Y-%m-%d'))\n",
    "ax.set_xlabel('Date', fontsize=18)\n",
    "ax.set_ylabel(\"# Photographs\", fontsize=18)\n",
    "ax.set_title(label='Photographs uploaded to {1} {0} in Spain\\n(November campaign)'.format(YEAR, TAG), fontsize=20)\n",
    "\n",
    "ax.tick_params(labelsize=14)\n",
    "plt.xticks(rotation=90)\n",
    "\n",
    "for patch in ax.patches:\n",
    "    height = patch.get_height()\n",
    "    if height > 0 :\n",
    "        ax.text(patch.get_x() + patch.get_width()/2.,\n",
    "                height + 5,\n",
    "                '{:1.0f}'.format(height),\n",
    "                ha=\"center\",\n",
    "                fontsize=13)\n",
    "\n",
    "upload_to_commons(plt,\n",
    "                  \"{1} {0} in Spain - Uploads by day (November campaign).png\".format(YEAR, TAG),\n",
    "                  'Images uploaded to {1} {0} in Spain (November campaign) by day'.format(YEAR, TAG),\n",
    "                  plot_description,\n",
    "                  YEAR,\n",
    "                  TAG_EXT\n",
    "                 )"
   ]
  },
  {
   "cell_type": "code",
   "execution_count": null,
   "metadata": {},
   "outputs": [],
   "source": [
    "# THIS IS YEAR-DEPENDENT\n",
    "upload_ts = images_df[images_df['campaign'] == 'fallas']['image_title'].resample('d').count()\n",
    "upload_ts = pd.Series([0]*46, index=pd.date_range(datetime(YEAR, 3, 15), periods=46, freq='D')) + upload_ts\n",
    "upload_ts = upload_ts.fillna(0).astype(int)\n",
    "upload_ts"
   ]
  },
  {
   "cell_type": "code",
   "execution_count": null,
   "metadata": {},
   "outputs": [],
   "source": [
    "# THIS IS YEAR-DEPENDENT\n",
    "fig, ax = plt.subplots(figsize=figsize)\n",
    "\n",
    "p = ax.bar(upload_ts.index.to_pydatetime(), \n",
    "       upload_ts.values,\n",
    "       color=sns.color_palette(\"Blues_d\", 51))\n",
    "ax.xaxis.set_major_locator(mdates.AutoDateLocator())\n",
    "ax.xaxis.set_major_formatter(mdates.DateFormatter('%Y-%m-%d'))\n",
    "ax.set_xlabel('Date', fontsize=18)\n",
    "ax.set_ylabel(\"# Photographs\", fontsize=18)\n",
    "ax.set_title(label='Photographs uploaded to {1} {0} in Spain\\n(Falles campaign)'.format(YEAR, TAG), fontsize=20)\n",
    "ax.set_ylim([0, 250])\n",
    "\n",
    "ax.tick_params(labelsize=14)\n",
    "plt.xticks(rotation=90)\n",
    "\n",
    "for patch in ax.patches:\n",
    "    height = patch.get_height()\n",
    "    if height > 0 :\n",
    "        ax.text(patch.get_x() + patch.get_width()/2.,\n",
    "                height + 3,\n",
    "                '{:1.0f}'.format(height),\n",
    "                ha=\"center\",\n",
    "                fontsize=13)\n",
    "\n",
    "upload_to_commons(plt,\n",
    "                  \"{1} {0} in Spain - Uploads by day (Falles campaign).png\".format(YEAR, TAG),\n",
    "                  'Images uploaded to {1} {0} in Spain (Falles campaign) by day'.format(YEAR, TAG),\n",
    "                  plot_description,\n",
    "                  YEAR,\n",
    "                  TAG_EXT\n",
    "                 )"
   ]
  },
  {
   "cell_type": "code",
   "execution_count": null,
   "metadata": {},
   "outputs": [],
   "source": [
    "images_extended_df = pd.merge(images_df, festivals_df, on='wikidata_id', how='left')\n",
    "len(images_extended_df.index)"
   ]
  },
  {
   "cell_type": "code",
   "execution_count": null,
   "metadata": {},
   "outputs": [],
   "source": [
    "valid_images_per_uploader = images_df[images_df['wikidata_id'].isin(valid_festivals)]['uploader'].value_counts()\n",
    "valid_images_per_uploader = valid_images_per_uploader.rename('valid_images')\n",
    "valid_images_per_uploader = valid_images_per_uploader.iloc[np.lexsort([valid_images_per_uploader.index, -valid_images_per_uploader.values])]\n",
    "valid_images_per_uploader"
   ]
  },
  {
   "cell_type": "code",
   "execution_count": null,
   "metadata": {},
   "outputs": [],
   "source": [
    "festival_list_per_uploader = images_extended_df[images_extended_df['wikidata_id'].isin(valid_festivals)]\\\n",
    "                                               .groupby('uploader')['wikidata_id']\\\n",
    "                                               .apply(set)\\\n",
    "                                               .apply(lambda x: filter(None, x))\\\n",
    "                                               .apply(lambda x: expand_itemid(x))\\\n",
    "                                               .rename('festival_list', inplace=True)\n",
    "festival_list_per_uploader"
   ]
  },
  {
   "cell_type": "code",
   "execution_count": null,
   "metadata": {},
   "outputs": [],
   "source": [
    "authors_df = pd.concat([images_per_uploader, valid_images_per_uploader, festivals_per_uploader, festival_list_per_uploader], axis=1)\\\n",
    "               .sort_values(by='images', ascending=False)\\\n",
    "               .reset_index()\\\n",
    "               .rename(columns = {'index': 'contestant'})\n",
    "\n",
    "authors_df[['images', 'valid_images', 'festivals']] = authors_df[['images', 'valid_images', 'festivals']]\\\n",
    "                                                                        .fillna(0)\\\n",
    "                                                                        .astype('int')\n",
    "\n",
    "authors_df = authors_df.iloc[np.lexsort([authors_df['contestant'], -authors_df['images']])]\n",
    "authors_df['registration_string'] = authors_df['contestant'].map(lambda x: get_registration_time(x))\n",
    "authors_df['festival_list'] = authors_df['festival_list'].map(lambda x: decode_list(x))\n",
    "authors_df"
   ]
  },
  {
   "cell_type": "code",
   "execution_count": null,
   "metadata": {},
   "outputs": [],
   "source": [
    "images_per_festival = images_extended_df[images_extended_df['wikidata_id'].isin(valid_festivals)]['wikidata_id'].value_counts()\n",
    "images_per_festival"
   ]
  },
  {
   "cell_type": "code",
   "execution_count": null,
   "metadata": {},
   "outputs": [],
   "source": [
    "# THIS PARAMETER IS YEAR-DEPENDENT AND COMES FROM MANUAL INSPECTION\n",
    "# May be set to the number of festivals with more than 15 pictures\n",
    "TOP_FESTIVALS = 11"
   ]
  },
  {
   "cell_type": "code",
   "execution_count": null,
   "metadata": {},
   "outputs": [],
   "source": [
    "images_per_festival_df = pd.DataFrame(data=images_per_festival).reset_index()\n",
    "images_per_festival_df.rename(columns={'index': 'wikidata_id', 'wikidata_id': 'count'}, inplace=True)"
   ]
  },
  {
   "cell_type": "code",
   "execution_count": null,
   "metadata": {},
   "outputs": [],
   "source": [
    "images_per_festival_df = pd.merge(images_per_festival_df, festivals_df, on='wikidata_id')[['count', 'wikidata_id', 'category', 'aut_com', 'latitude', 'longitude']].fillna('')\n",
    "images_per_festival_df = images_per_festival_df.iloc[np.lexsort([images_per_festival_df['category'], -images_per_festival_df['count']])]\n",
    "images_per_festival_df['category'] = images_per_festival_df['category'].map(lambda x: x.replace('_', ' '))\n",
    "images_per_festival_df.head()"
   ]
  },
  {
   "cell_type": "code",
   "execution_count": null,
   "metadata": {},
   "outputs": [],
   "source": [
    "images_per_festival_df['dup_index'] = images_per_festival_df.groupby(['latitude', 'longitude'])['latitude'].transform('idxmin')    \n",
    "images_per_festival_df['dup'] = images_per_festival_df.duplicated(subset=['dup_index'])\n",
    "images_per_festival_df.head()"
   ]
  },
  {
   "cell_type": "code",
   "execution_count": null,
   "metadata": {},
   "outputs": [],
   "source": [
    "images_per_festival_df['coordinates'] = images_per_festival_df.apply(shaker, axis=1)\n",
    "images_per_festival_df[['latitude', 'longitude']] = images_per_festival_df['coordinates'].apply(pd.Series)\n",
    "images_per_festival_df.head()"
   ]
  },
  {
   "cell_type": "code",
   "execution_count": null,
   "metadata": {},
   "outputs": [],
   "source": [
    "images_per_festival_df['geojson'] = images_per_festival_df.apply(lambda row: to_geojson(row), axis=1)"
   ]
  },
  {
   "cell_type": "code",
   "execution_count": null,
   "metadata": {},
   "outputs": [],
   "source": [
    "features = images_per_festival_df['geojson'].tolist()\n",
    "feature_collection = FeatureCollection(features)\n",
    "dump = geojson.dumps(feature_collection, ensure_ascii=False, indent=2)\n",
    "#print(dump)"
   ]
  },
  {
   "cell_type": "code",
   "execution_count": null,
   "metadata": {},
   "outputs": [],
   "source": [
    "festivals_per_autcom = images_per_festival_df.groupby(['aut_com']).\\\n",
    "                                              count().\\\n",
    "                                              sort_values(by='count', ascending=False).\\\n",
    "                                              reset_index()[['aut_com', 'count']]\n",
    "festivals_per_autcom['aut_com'] = festivals_per_autcom['aut_com'].map(lambda x: wrap_label(x, 14))\n",
    "festivals_per_autcom"
   ]
  },
  {
   "cell_type": "code",
   "execution_count": null,
   "metadata": {},
   "outputs": [],
   "source": [
    "aut_coms = len(festivals_per_autcom.index)\n",
    "aut_coms"
   ]
  },
  {
   "cell_type": "code",
   "execution_count": null,
   "metadata": {},
   "outputs": [],
   "source": [
    "# THIS IS YEAR-DEPENDEND AND RELIES ON MANUAL INSPECTION\n",
    "remaining_autcoms = pd.DataFrame(data=[{'aut_com': 'Castile-La Mancha', 'count':0}],\n",
    "                                 index=[16])\n",
    "remaining_autcoms"
   ]
  },
  {
   "cell_type": "code",
   "execution_count": null,
   "metadata": {},
   "outputs": [],
   "source": [
    "festivals_per_autcom = festivals_per_autcom.append(remaining_autcoms)\n",
    "festivals_per_autcom"
   ]
  },
  {
   "cell_type": "code",
   "execution_count": null,
   "metadata": {},
   "outputs": [],
   "source": [
    "fig, ax = plt.subplots(figsize=figsize)\n",
    "\n",
    "p = sns.barplot(ax=ax, data=festivals_per_autcom, x='aut_com', y='count')\n",
    "p.set_xlabel(\"Autonomous community\", fontsize=18)\n",
    "p.set_ylabel(\"# Festivals\", fontsize=18)\n",
    "\n",
    "p.set_title(label='{1} {0} in Spain: Festivals per autonomous community'.format(YEAR, TAG), fontsize=20)\n",
    "p.tick_params(labelsize=14)\n",
    "\n",
    "p.set_xticklabels(p.get_xticklabels(), rotation=90)\n",
    "\n",
    "for patch in p.patches:\n",
    "    height = patch.get_height()\n",
    "    p.text(patch.get_x() + patch.get_width()/2.,\n",
    "            height + 0.1,\n",
    "            '{:1.0f}'.format(height),\n",
    "            ha=\"center\",\n",
    "            fontsize=13)\n",
    "\n",
    "upload_to_commons(p,\n",
    "                  \"{1} {0} in Spain - Festivals per autonomous community.png\".format(YEAR, TAG),\n",
    "                  'Catalogued festivals per autonomous community in {1} {0} in Spain'.format(YEAR, TAG_EXT),\n",
    "                  plot_description,\n",
    "                  YEAR,\n",
    "                  TAG_EXT\n",
    "                 )"
   ]
  },
  {
   "cell_type": "code",
   "execution_count": null,
   "metadata": {},
   "outputs": [],
   "source": [
    "compact_images_per_festival = images_per_festival_df[:TOP_FESTIVALS][['count', 'category']]\n",
    "compact_images_per_festival = compact_images_per_festival.iloc[np.lexsort([compact_images_per_festival['category'], -compact_images_per_festival['count']])]\n",
    "compact_images_per_festival"
   ]
  },
  {
   "cell_type": "code",
   "execution_count": null,
   "metadata": {},
   "outputs": [],
   "source": [
    "images_per_festival_df[TOP_FESTIVALS:].sum()['count']"
   ]
  },
  {
   "cell_type": "code",
   "execution_count": null,
   "metadata": {},
   "outputs": [],
   "source": [
    "len(images_per_festival_df[TOP_FESTIVALS:].index)"
   ]
  },
  {
   "cell_type": "code",
   "execution_count": null,
   "metadata": {},
   "outputs": [],
   "source": [
    "others_row = pd.DataFrame(data={'category': 'Other festivals ({0})'.format(len(images_per_festival_df[TOP_FESTIVALS:].index)),\n",
    "                                'count': images_per_festival_df[TOP_FESTIVALS:].sum()['count']}, \n",
    "                          index=[TOP_FESTIVALS+1])"
   ]
  },
  {
   "cell_type": "code",
   "execution_count": null,
   "metadata": {},
   "outputs": [],
   "source": [
    "# THIS IS YEAR-DEPENDENT\n",
    "no_catalogued_row = pd.DataFrame(\n",
    "    data={'category': 'No catalogued festival',\n",
    "          'count': len(images_extended_df[(images_extended_df['wikidata_id'] != '') & ~(images_extended_df['wikidata_id'].isin(valid_festivals))].index)},\n",
    "    index=[TOP_FESTIVALS+2]\n",
    ")"
   ]
  },
  {
   "cell_type": "code",
   "execution_count": null,
   "metadata": {},
   "outputs": [],
   "source": [
    "no_id_row = pd.DataFrame(data={'category': 'Unknown/invalid',\n",
    "                               'count': len(images_extended_df[images_extended_df['wikidata_id'] == ''].index)}, \n",
    "                         index=[TOP_FESTIVALS+3])"
   ]
  },
  {
   "cell_type": "code",
   "execution_count": null,
   "metadata": {},
   "outputs": [],
   "source": [
    "compact_images_per_festival = compact_images_per_festival.append(others_row)\n",
    "compact_images_per_festival = compact_images_per_festival.append(no_catalogued_row)\n",
    "compact_images_per_festival = compact_images_per_festival.append(no_id_row)\n",
    "compact_images_per_festival['category'] = compact_images_per_festival['category'].map(lambda x: wrap_label(x))\n",
    "compact_images_per_festival"
   ]
  },
  {
   "cell_type": "code",
   "execution_count": null,
   "metadata": {},
   "outputs": [],
   "source": [
    "fig, ax = plt.subplots(figsize=figsize)\n",
    "\n",
    "p = sns.barplot(ax=ax, data=compact_images_per_festival, x='category', y='count')\n",
    "p.set_xlabel(\"Festivals\", fontsize=18)\n",
    "p.set_ylabel(\"# Photographs\", fontsize=18)\n",
    "\n",
    "p.set_title(label='{1} {0} in Spain: Top {2} festivals'.format(YEAR, TAG, TOP_FESTIVALS), fontsize=20)\n",
    "p.tick_params(labelsize=14)\n",
    "\n",
    "p.set_xticklabels(p.get_xticklabels(), rotation=90)\n",
    "\n",
    "for patch in p.patches:\n",
    "    height = patch.get_height()\n",
    "    p.text(patch.get_x() + patch.get_width()/2.,\n",
    "            height + 10,\n",
    "            '{:1.0f}'.format(height),\n",
    "            ha=\"center\",\n",
    "            fontsize=13)\n",
    "\n",
    "upload_to_commons(p,\n",
    "                  \"{1} {0} in Spain - Top festivals.png\".format(YEAR, TAG),\n",
    "                  'Top {2} festivals in {1} {0} in Spain'.format(YEAR, TAG_EXT, TOP_FESTIVALS),\n",
    "                  plot_description,\n",
    "                  YEAR,\n",
    "                  TAG_EXT\n",
    "                 )"
   ]
  },
  {
   "cell_type": "code",
   "execution_count": null,
   "metadata": {},
   "outputs": [],
   "source": [
    "images_per_autcom = images_per_festival_df.groupby(['aut_com']).\\\n",
    "                     sum().\\\n",
    "                     sort_values(by='count', ascending=False).\\\n",
    "                     reset_index()\n",
    "images_per_autcom = images_per_autcom.append(remaining_autcoms)\n",
    "images_per_autcom"
   ]
  },
  {
   "cell_type": "code",
   "execution_count": null,
   "metadata": {},
   "outputs": [],
   "source": [
    "fig, ax = plt.subplots(figsize=figsize)\n",
    "\n",
    "p = sns.barplot(ax=ax, data=images_per_autcom, x='aut_com', y='count')\n",
    "p.set_xlabel(\"Autonomous Community\", fontsize=18)\n",
    "p.set_ylabel(\"# Photographs\", fontsize=18)\n",
    "\n",
    "p.set_title(label='{1} {0} in Spain: Photographs per autonomous community'.format(YEAR, TAG), fontsize=20)\n",
    "p.tick_params(labelsize=14)\n",
    "\n",
    "p.set_xticklabels(p.get_xticklabels(), rotation=90)\n",
    "\n",
    "for patch in p.patches:\n",
    "    height = patch.get_height()\n",
    "    p.text(patch.get_x() + patch.get_width()/2.,\n",
    "            height + 10,\n",
    "            '{:1.0f}'.format(height),\n",
    "            ha=\"center\",\n",
    "            fontsize=13)\n",
    "\n",
    "upload_to_commons(p,\n",
    "                  \"{1} {0} in Spain - Photographs per autonomous community.png\".format(YEAR, TAG),\n",
    "                  'Photographs per autonomous community in {1} {0} in Spain'.format(YEAR, TAG_EXT),\n",
    "                  plot_description,\n",
    "                  YEAR,\n",
    "                  TAG_EXT\n",
    "                 )"
   ]
  },
  {
   "cell_type": "code",
   "execution_count": null,
   "metadata": {},
   "outputs": [],
   "source": [
    "# usage management\n",
    "n=5\n",
    "list_df = [images_df[i:i+n] for i in range(0, images_df.shape[0], n)]\n",
    "usage_dict = {}\n",
    "\n",
    "counter = 0\n",
    "for df in list_df :\n",
    "    query_string_items = list()\n",
    "    for _, row in df.iterrows():\n",
    "        title = 'File:{0}'.format(row[\"image_title\"])\n",
    "        query_string_items.append(title)\n",
    "    raw_api_query_string = '|'.join(query_string_items)\n",
    "    MW_API_QUERY_STRING[\"titles\"] = raw_api_query_string\n",
    "    \n",
    "    r = requests.post(MW_API_BASE_URL, data=urlencode(MW_API_QUERY_STRING))\n",
    "    response = r.text\n",
    "\n",
    "    try:\n",
    "        response_dict = json.loads(response)\n",
    "        for _, value in response_dict[\"query\"][\"pages\"].items():\n",
    "            uses_dict = value['globalusage']\n",
    "            tuples = [(item['wiki'], 1) for item in uses_dict if (item['ns'] in VALID_NAMESPACES)]\n",
    "            summary = [reduce(lambda x, y: (x[0], x[1]+y[1]), group) for _, group in groupby(sorted(tuples), key=itemgetter(0))]\n",
    "            if len(summary) > 0 :\n",
    "                counter +=1\n",
    "                title = value['title'].replace('File:', '')\n",
    "                summary_dict = {tuple[0]: tuple[1] for tuple in summary}\n",
    "                usage_dict.update({title: summary_dict})\n",
    "    except :\n",
    "        print ('Error found')\n",
    "        pass"
   ]
  },
  {
   "cell_type": "code",
   "execution_count": null,
   "metadata": {},
   "outputs": [],
   "source": [
    "# unique images used\n",
    "usage_df = pd.DataFrame(usage_dict).transpose()\n",
    "total_unique=usage_df.count(axis=1).count()\n",
    "total_unique"
   ]
  },
  {
   "cell_type": "code",
   "execution_count": null,
   "metadata": {},
   "outputs": [],
   "source": [
    "# unique images used with campaign indicator\n",
    "usage_campaign_df = pd.merge(usage_df.reset_index().rename(columns={'index': 'image_title'}),\n",
    "                             images_df[['image_title', 'campaign']], \n",
    "                             how='inner', \n",
    "                             on='image_title')"
   ]
  },
  {
   "cell_type": "code",
   "execution_count": null,
   "metadata": {},
   "outputs": [],
   "source": [
    "# summary table\n",
    "usages_df = pd.concat([usage_df.sum(), usage_df.count()], axis=1)\n",
    "usages_df.columns = ['usages', 'unique']\n",
    "usages_df['usages'] = usages_df['usages'].astype(int)\n",
    "usages_df.sort_values(by=['unique'], axis=0, ascending=False, inplace=True)\n",
    "usages_df['name'] = usages_df.index\n",
    "usages_df['name'] = usages_df['name'].map(get_project_name)\n",
    "usages_df.set_index(['name'], inplace=True)\n",
    "usages_df = usages_df.iloc[np.lexsort([usages_df.index, -usages_df['unique']])]\n",
    "usages_df"
   ]
  },
  {
   "cell_type": "code",
   "execution_count": null,
   "metadata": {},
   "outputs": [],
   "source": [
    "# THIS PARAMETER IS YEAR-DEPENDENT AND COMES FROM MANUAL INSPECTION\n",
    "# May be set to the number of projects with more than 1 picture\n",
    "TOP_PROJECTS = 14"
   ]
  },
  {
   "cell_type": "code",
   "execution_count": null,
   "metadata": {},
   "outputs": [],
   "source": [
    "remaining_df = pd.DataFrame(usages_df.iloc[TOP_PROJECTS:].sum()).transpose()\n",
    "other_projects_num = len(usages_df.index)-TOP_PROJECTS\n",
    "remaining_df.index=['Other projects ({})'.format(other_projects_num)]\n",
    "top_df = usages_df.iloc[:TOP_PROJECTS]\n",
    "reduced_usages_df = top_df.append(remaining_df)\n",
    "reduced_usages_df"
   ]
  },
  {
   "cell_type": "code",
   "execution_count": null,
   "metadata": {},
   "outputs": [],
   "source": [
    "fig, ax = plt.subplots(figsize=figsize)\n",
    "\n",
    "p = sns.barplot(ax=ax, x='index', y='unique', data=reduced_usages_df.reset_index())\n",
    "p.set_xlabel(\"Project\", fontsize=18)\n",
    "p.set_ylabel(\"# Photographs\", fontsize=18)\n",
    "\n",
    "p.set_title(label='Unique photographs from {2} {0} in Spain used in Wikimedia projects\\n({1})'.format(YEAR, now, TAG), fontsize=20)\n",
    "p.tick_params(labelsize=14)\n",
    "\n",
    "p.set_xticklabels(p.get_xticklabels(), rotation=90)\n",
    "\n",
    "for patch in p.patches:\n",
    "    height = patch.get_height()\n",
    "    p.text(patch.get_x() + patch.get_width()/2.,\n",
    "            height + 1,\n",
    "            '{:1.0f}'.format(height),\n",
    "            ha=\"center\",\n",
    "            fontsize=13)\n",
    "    \n",
    "upload_to_commons(p,\n",
    "                  \"{1} {0} in Spain - Unique photographs used in WMF projects.png\".format(YEAR, TAG),\n",
    "                  'Unique photographs from {1} {0} in Spain used in WMF projects: top 12 projects'.format(YEAR, TAG_EXT),\n",
    "                  plot_description,\n",
    "                  YEAR,\n",
    "                  TAG_EXT\n",
    "                 )"
   ]
  },
  {
   "cell_type": "code",
   "execution_count": null,
   "metadata": {},
   "outputs": [],
   "source": [
    "fig, ax = plt.subplots(figsize=figsize)\n",
    "\n",
    "p = sns.barplot(ax=ax, x='index', y='usages', data=reduced_usages_df.reset_index())\n",
    "p.set_xlabel(\"Project\", fontsize=18)\n",
    "p.set_ylabel(\"# Photographs\", fontsize=18)\n",
    "\n",
    "p.set_title(label='Uses of photographs from {2} {0} in Spain in Wikimedia projects\\n({1})'.format(YEAR, now, TAG), fontsize=20)\n",
    "p.tick_params(labelsize=14)\n",
    "\n",
    "p.set_xticklabels(p.get_xticklabels(), rotation=90)\n",
    "\n",
    "for patch in p.patches:\n",
    "    height = patch.get_height()\n",
    "    p.text(patch.get_x() + patch.get_width()/2.,\n",
    "            height + 1,\n",
    "            '{:1.0f}'.format(height),\n",
    "            ha=\"center\",\n",
    "            fontsize=13)\n",
    "    \n",
    "upload_to_commons(p,\n",
    "                  \"{1} {0} in Spain - Uses of photographs in WMF projects.png\".format(YEAR, TAG),\n",
    "                  'Uses of photographs from {1} {0} in Spain in WMF projects: top 12 projects'.format(YEAR, TAG_EXT),\n",
    "                  plot_description,\n",
    "                  YEAR,\n",
    "                  TAG_EXT\n",
    "                 )"
   ]
  },
  {
   "cell_type": "code",
   "execution_count": null,
   "metadata": {},
   "outputs": [],
   "source": [
    "# Quality images gallery\n",
    "template = \"\"\"This page lists the ${len(QI_list)} '''[[Commons:Quality Images|quality images]]''' uploaded as part of the \n",
    "[[Commons:${tag}|${tag}]] contest in ${year} in Spain.\n",
    "\n",
    "<gallery>\n",
    "% for image in QI_list:\n",
    "${image}\n",
    "% endfor\n",
    "</gallery>\n",
    "\n",
    "'''Statistics generation date''': {{subst:CURRENTMONTHNAME}} {{subst:CURRENTDAY}}, {{subst:CURRENTYEAR}}\n",
    "\n",
    "[[Category:${tag} in Spain| Quality]]\n",
    "\n",
    "\"\"\"\n",
    "vars = {\n",
    "    \"QI_list\": qi_list.values,\n",
    "    \"tag\": TAG_EXT,\n",
    "    \"year\": YEAR\n",
    "}\n",
    "t = Template(template)\n",
    "qi_gallery_text = t.render(**vars)"
   ]
  },
  {
   "cell_type": "code",
   "execution_count": null,
   "metadata": {},
   "outputs": [],
   "source": [
    "qi_page = pb.Page(commons_site, GALLERY_QI)\n",
    "if qi_page.text != qi_gallery_text:\n",
    "    qi_page.text = qi_gallery_text\n",
    "    pb.output('Publishing --> {1} {0} in Spain featured articles gallery'.format(YEAR, TAG))\n",
    "    qi_page.save(\"{1} {0} in Spain featured articles gallery\".format(YEAR, TAG))"
   ]
  },
  {
   "cell_type": "markdown",
   "metadata": {},
   "source": [
    "#### Finalists"
   ]
  },
  {
   "cell_type": "code",
   "execution_count": null,
   "metadata": {},
   "outputs": [],
   "source": [
    "cat_wlf = pb.Category(commons_site, WLF_FINALIST_CATEGORY)\n",
    "gen_wlf = pagegenerators.CategorizedPageGenerator(cat_wlf)\n",
    "\n",
    "finalist_images_wlf = [page.title(withNamespace=False) for page in gen_wlf if page.is_filepage()]\n",
    "finalist_images_count = len(finalist_images_wlf)\n",
    "finalist_images_count"
   ]
  },
  {
   "cell_type": "code",
   "execution_count": null,
   "metadata": {},
   "outputs": [],
   "source": [
    "finalist_images_df = images_extended_df[images_extended_df['image_title'].isin(finalist_images_wlf)]\n",
    "finalist_authors = finalist_images_df['uploader'].value_counts()\n",
    "finalist_authors = finalist_authors.iloc[np.lexsort([finalist_authors.index, -finalist_authors.values])]\n",
    "finalist_authors"
   ]
  },
  {
   "cell_type": "code",
   "execution_count": null,
   "metadata": {},
   "outputs": [],
   "source": [
    "finalist_authors_count = len(finalist_authors)\n",
    "finalist_authors_count"
   ]
  },
  {
   "cell_type": "code",
   "execution_count": null,
   "metadata": {},
   "outputs": [],
   "source": [
    "fig, ax = plt.subplots(figsize=figsize_high)\n",
    "\n",
    "p = sns.barplot(ax=ax, y=finalist_authors.index.map(lambda x: wrap_label(x, 20)), x=finalist_authors.values)\n",
    "p.set_xlabel(\"# Photographs\", fontsize=18)\n",
    "p.set_ylabel(\"Contestants\", fontsize=18)\n",
    "\n",
    "p.set_title(label='{1} {0} in Spain: Finalists'.format(YEAR, TAG), fontsize=20)\n",
    "p.tick_params(labelsize=14)\n",
    "\n",
    "for patch in ax.patches:\n",
    "    ax.text(patch.get_width() + 1,\n",
    "            patch.get_y() + patch.get_height()/2.,\n",
    "            '{:1.0f}'.format(patch.get_width()),\n",
    "            ha=\"center\",\n",
    "            fontsize=14)\n",
    "\n",
    "upload_to_commons(p,\n",
    "                  \"{1} {0} in Spain - Finalists.png\".format(YEAR, TAG),\n",
    "                  'Top contributors reaching the final round of {1} {0} in Spain.'.format(YEAR, TAG_EXT),\n",
    "                  plot_description,\n",
    "                  YEAR,\n",
    "                  TAG_EXT\n",
    "                 )"
   ]
  },
  {
   "cell_type": "code",
   "execution_count": null,
   "metadata": {},
   "outputs": [],
   "source": [
    "finalist_festivals = finalist_images_df['category'].value_counts()\n",
    "finalist_festivals = finalist_festivals.iloc[np.lexsort([finalist_festivals.index, -finalist_festivals.values])]\n",
    "finalist_festivals"
   ]
  },
  {
   "cell_type": "code",
   "execution_count": null,
   "metadata": {},
   "outputs": [],
   "source": [
    "fig, ax = plt.subplots(figsize=figsize_high)\n",
    "\n",
    "p = sns.barplot(ax=ax, y=finalist_festivals.index.map(lambda x: wrap_label(x, 20)), x=finalist_festivals.values)\n",
    "p.set_xlabel(\"# Photographs\", fontsize=18)\n",
    "p.set_ylabel(\"Festivals\", fontsize=18)\n",
    "\n",
    "p.set_title(label='{1} {0} in Spain: Festivals in the final round'.format(YEAR, TAG), fontsize=20)\n",
    "p.tick_params(labelsize=14)\n",
    "\n",
    "for patch in ax.patches:\n",
    "    ax.text(patch.get_width() + 1,\n",
    "            patch.get_y() + patch.get_height()/2.,\n",
    "            '{:1.0f}'.format(patch.get_width()),\n",
    "            ha=\"center\",\n",
    "            fontsize=14)\n",
    "\n",
    "upload_to_commons(p,\n",
    "                  \"{1} {0} in Spain - Finalist festivals.png\".format(YEAR, TAG),\n",
    "                  'Top festivals in the final round of {1} {0} in Spain.'.format(YEAR, TAG_EXT),\n",
    "                  plot_description,\n",
    "                  YEAR,\n",
    "                  TAG_EXT\n",
    "                 )"
   ]
  },
  {
   "cell_type": "code",
   "execution_count": null,
   "metadata": {},
   "outputs": [],
   "source": [
    "finalist_campaigns = finalist_images_df['campaign'].value_counts()\n",
    "finalist_campaigns"
   ]
  },
  {
   "cell_type": "code",
   "execution_count": null,
   "metadata": {},
   "outputs": [],
   "source": [
    "fig, ax = plt.subplots(figsize=figsize_low)\n",
    "\n",
    "p = sns.barplot(ax=ax, y=finalist_campaigns.index, x=finalist_campaigns.values)\n",
    "p.set_xlabel(\"# Photographs\", fontsize=18)\n",
    "p.set_ylabel(\"Festivals\", fontsize=18)\n",
    "\n",
    "p.set_title(label='{1} {0} in Spain: Campaigns in the final round'.format(YEAR, TAG), fontsize=20)\n",
    "p.tick_params(labelsize=14)\n",
    "\n",
    "for patch in ax.patches:\n",
    "    ax.text(patch.get_width() + 1,\n",
    "            patch.get_y() + patch.get_height()/2.,\n",
    "            '{:1.0f}'.format(patch.get_width()),\n",
    "            ha=\"center\",\n",
    "            fontsize=14)\n",
    "\n",
    "p.set_yticklabels(['November', 'Falles', 'Summer'])\n",
    "\n",
    "upload_to_commons(p,\n",
    "                  \"{1} {0} in Spain - Finalist campaigns.png\".format(YEAR, TAG),\n",
    "                  'Campaigns in the final round of {1} {0} in Spain.'.format(YEAR, TAG_EXT),\n",
    "                  plot_description,\n",
    "                  YEAR,\n",
    "                  TAG_EXT\n",
    "                 )"
   ]
  },
  {
   "cell_type": "code",
   "execution_count": null,
   "metadata": {},
   "outputs": [],
   "source": [
    "finalist_autcoms = finalist_images_df['aut_com'].value_counts()\n",
    "finalist_autcoms = finalist_autcoms.iloc[np.lexsort([finalist_autcoms.index, -finalist_autcoms.values])]\n",
    "finalist_autcoms"
   ]
  },
  {
   "cell_type": "code",
   "execution_count": null,
   "metadata": {},
   "outputs": [],
   "source": [
    "fig, ax = plt.subplots(figsize=figsize)\n",
    "\n",
    "p = sns.barplot(ax=ax, y=finalist_autcoms.index.map(lambda x: wrap_label(x, 14)), x=finalist_autcoms.values)\n",
    "p.set_xlabel(\"# Photographs\", fontsize=18)\n",
    "p.set_ylabel(\"Festivals\", fontsize=18)\n",
    "\n",
    "p.set_title(label='{1} {0} in Spain: Autonomous communities in the final round'.format(YEAR, TAG), fontsize=20)\n",
    "p.tick_params(labelsize=14)\n",
    "\n",
    "for patch in ax.patches:\n",
    "    ax.text(patch.get_width() + 1,\n",
    "            patch.get_y() + patch.get_height()/2.,\n",
    "            '{:1.0f}'.format(patch.get_width()),\n",
    "            ha=\"center\",\n",
    "            fontsize=14)\n",
    "\n",
    "upload_to_commons(p,\n",
    "                  \"{1} {0} in Spain - Finalist autonomous communities.png\".format(YEAR, TAG),\n",
    "                  'Spanish autonomous communities in the final round of {1} {0} in Spain.'.format(YEAR, TAG_EXT),\n",
    "                  plot_description,\n",
    "                  YEAR,\n",
    "                  TAG_EXT\n",
    "                 )"
   ]
  },
  {
   "cell_type": "markdown",
   "metadata": {},
   "source": [
    "#### Specific content"
   ]
  },
  {
   "cell_type": "code",
   "execution_count": null,
   "metadata": {},
   "outputs": [],
   "source": [
    "coverage_totals = festivals_df[['aut_com', 'category', 'image']].groupby(['aut_com'])['aut_com'].count()\n",
    "coverage_category = festivals_df[['aut_com', 'category', 'image']].groupby(['aut_com'])['category'].count()\n",
    "coverage_images = festivals_df[['aut_com', 'category', 'image']].groupby(['aut_com'])['image'].count()\n",
    "\n",
    "coverage_df = pd.concat([festivals_df[['aut_com', 'category', 'image']].groupby(['aut_com'])['aut_com'].count(),\n",
    "                        festivals_df[['aut_com', 'category', 'image']].groupby(['aut_com'])['category'].count(),\n",
    "                        festivals_df[['aut_com', 'category', 'image']].groupby(['aut_com'])['image'].count(), annexes], axis=1)\n",
    "\n",
    "total_coverage = coverage_df.sum(numeric_only=True).rename('Total')\n",
    "coverage_df = coverage_df.append(total_coverage)\n",
    "\n",
    "coverage_df['aut_com'] = coverage_df['aut_com'].fillna(0).astype('int')\n",
    "coverage_df['category_percentage'] = (100.*coverage_df['category']/coverage_df['aut_com']).round(2)\n",
    "coverage_df['image_percentage'] = (100.*coverage_df['image']/coverage_df['aut_com']).round(2)\n",
    "coverage_df['category'] = coverage_df['category'].fillna(0).astype('int')\n",
    "coverage_df['image'] = coverage_df['image'].fillna(0).astype('int')\n",
    "coverage_df['image_color'] = coverage_df['image_percentage'].apply(heat_color)\n",
    "coverage_df['cat_color'] = coverage_df['category_percentage'].apply(heat_color)"
   ]
  },
  {
   "cell_type": "code",
   "execution_count": null,
   "metadata": {},
   "outputs": [],
   "source": [
    "coverage_df"
   ]
  },
  {
   "cell_type": "code",
   "execution_count": null,
   "metadata": {},
   "outputs": [],
   "source": [
    "images_c01_df = images_df[images_df['campaign'] == 'fallas']\n",
    "images_c01_per_uploader = images_c01_df['uploader'].value_counts()\n",
    "images_c01_per_uploader = images_c01_per_uploader.rename('images')\n",
    "images_c01_per_uploader = images_c01_per_uploader.iloc[np.lexsort([images_c01_per_uploader.index, -images_c01_per_uploader.values])]\n",
    "\n",
    "remaining_images_c01_per_uploader_count = images_c01_per_uploader[15:].count()\n",
    "\n",
    "remaining_images_c01_per_uploader_sum = images_c01_per_uploader[15:].sum()\n",
    "\n",
    "remaining_images_c01_per_uploader = images_c01_per_uploader[:15]\n",
    "remaining_images_c01_per_uploader = remaining_images_c01_per_uploader.iloc[np.lexsort([remaining_images_c01_per_uploader.index, -remaining_images_c01_per_uploader.values])]\n",
    "remaining_images_c01_per_uploader = remaining_images_c01_per_uploader.append(pd.Series(data={\"Rest ({0})\".format(remaining_images_c01_per_uploader_count): remaining_images_c01_per_uploader_sum}))"
   ]
  },
  {
   "cell_type": "code",
   "execution_count": null,
   "metadata": {},
   "outputs": [],
   "source": [
    "'''fig, ax = plt.subplots(figsize=figsize)\n",
    "\n",
    "p = sns.barplot(ax=ax, x=remaining_images_c01_per_uploader.index, y=remaining_images_c01_per_uploader.values)\n",
    "p.set_xlabel(\"Contributors\", fontsize=18)\n",
    "p.set_ylabel(\"# Photographs\", fontsize=18)\n",
    "\n",
    "p.set_title(label=\"{1} {0} in Spain ('Falles' campaign): Top uploaders\".format(YEAR, TAG), fontsize=20)\n",
    "p.tick_params(labelsize=14)\n",
    "\n",
    "p.set_xticklabels(p.get_xticklabels(), rotation=90)\n",
    "\n",
    "for patch in p.patches:\n",
    "    height = patch.get_height()\n",
    "    p.text(patch.get_x() + patch.get_width()/2.,\n",
    "            height + 1,\n",
    "            '{:1.0f}'.format(height),\n",
    "            ha=\"center\",\n",
    "            fontsize=13)\n",
    "\n",
    "upload_to_commons(p,\n",
    "                  \"{1} {0} in Spain - Top authors ('Falles' campaign).png\".format(YEAR, TAG),\n",
    "                  \"Top 15 contributors to {1} {0} (''Falles'' campaign) in Spain\".format(YEAR, TAG_EXT),\n",
    "                  plot_description,\n",
    "                  YEAR,\n",
    "                  TAG_EXT\n",
    "                 )'''"
   ]
  },
  {
   "cell_type": "code",
   "execution_count": null,
   "metadata": {},
   "outputs": [],
   "source": [
    "images_c02_df = images_df[images_df['campaign'] == 'summer']\n",
    "images_c02_per_uploader = images_c02_df['uploader'].value_counts()\n",
    "images_c02_per_uploader = images_c02_per_uploader.rename('images')\n",
    "images_c02_per_uploader = images_c02_per_uploader.iloc[np.lexsort([images_c02_per_uploader.index, -images_c02_per_uploader.values])]"
   ]
  },
  {
   "cell_type": "code",
   "execution_count": null,
   "metadata": {},
   "outputs": [],
   "source": [
    "'''fig, ax = plt.subplots(figsize=figsize_half)\n",
    "\n",
    "p = sns.barplot(ax=ax, x=images_c02_per_uploader.index, y=images_c02_per_uploader.values)\n",
    "p.set_xlabel(\"Contributors\", fontsize=18)\n",
    "p.set_ylabel(\"# Photographs\", fontsize=18)\n",
    "\n",
    "p.set_title(label=\"{1} {0} in Spain (Summer campaign):\\nTop uploaders\".format(YEAR, TAG), fontsize=20)\n",
    "p.tick_params(labelsize=14)\n",
    "\n",
    "p.set_xticklabels(p.get_xticklabels(), rotation=90)\n",
    "\n",
    "for patch in p.patches:\n",
    "    height = patch.get_height()\n",
    "    p.text(patch.get_x() + patch.get_width()/2.,\n",
    "            height + 1,\n",
    "            '{:1.0f}'.format(height),\n",
    "            ha=\"center\",\n",
    "            fontsize=13)\n",
    "\n",
    "upload_to_commons(p,\n",
    "                  \"{1} {0} in Spain - Top authors (Summer campaign).png\".format(YEAR, TAG),\n",
    "                  \"Top contributors to {1} {0} (Summer campaign) in Spain\".format(YEAR, TAG_EXT),\n",
    "                  plot_description,\n",
    "                  YEAR,\n",
    "                  TAG_EXT\n",
    "                 )'''"
   ]
  },
  {
   "cell_type": "code",
   "execution_count": null,
   "metadata": {},
   "outputs": [],
   "source": [
    "images_c03_df = images_df[images_df['campaign'] == 'autumn']\n",
    "images_c03_per_uploader = images_c03_df['uploader'].value_counts()\n",
    "images_c03_per_uploader = images_c03_per_uploader.rename('images')\n",
    "images_c03_per_uploader = images_c03_per_uploader.iloc[np.lexsort([images_c03_per_uploader.index, -images_c03_per_uploader.values])]\n",
    "\n",
    "remaining_images_c03_per_uploader_count = images_c03_per_uploader[12:].count()\n",
    "remaining_images_c03_per_uploader_sum = images_c03_per_uploader[12:].sum()\n",
    "\n",
    "remaining_images_c03_per_uploader = images_c03_per_uploader[:12]\n",
    "remaining_images_c03_per_uploader = remaining_images_c03_per_uploader.iloc[np.lexsort([remaining_images_c03_per_uploader.index, -remaining_images_c03_per_uploader.values])]\n",
    "remaining_images_c03_per_uploader = remaining_images_c03_per_uploader.append(pd.Series(data={\"Rest ({0})\".format(remaining_images_c03_per_uploader_count): remaining_images_c03_per_uploader_sum}))"
   ]
  },
  {
   "cell_type": "code",
   "execution_count": null,
   "metadata": {},
   "outputs": [],
   "source": [
    "'''fig, ax = plt.subplots(figsize=figsize)\n",
    "\n",
    "p = sns.barplot(ax=ax, x=remaining_images_c03_per_uploader.index, y=remaining_images_c03_per_uploader.values)\n",
    "p.set_xlabel(\"Contributors\", fontsize=18)\n",
    "p.set_ylabel(\"# Photographs\", fontsize=18)\n",
    "\n",
    "p.set_title(label=\"{1} {0} in Spain (November campaign): Top uploaders\".format(YEAR, TAG), fontsize=20)\n",
    "p.tick_params(labelsize=14)\n",
    "\n",
    "p.set_xticklabels(p.get_xticklabels(), rotation=90)\n",
    "\n",
    "for patch in p.patches:\n",
    "    height = patch.get_height()\n",
    "    p.text(patch.get_x() + patch.get_width()/2.,\n",
    "            height + 10,\n",
    "            '{:1.0f}'.format(height),\n",
    "            ha=\"center\",\n",
    "            fontsize=13)\n",
    "\n",
    "upload_to_commons(p,\n",
    "                  \"{1} {0} in Spain - Top authors (Regular campaign).png\".format(YEAR, TAG),\n",
    "                  \"Top 12 contributors to {1} {0} (November campaign) in Spain\".format(YEAR, TAG_EXT),\n",
    "                  plot_description,\n",
    "                  YEAR,\n",
    "                  TAG_EXT\n",
    "                 )'''"
   ]
  },
  {
   "cell_type": "code",
   "execution_count": null,
   "metadata": {},
   "outputs": [],
   "source": [
    "template_file = os.path.join(templates_directory, 'wlf{0}.wiki'.format(YEAR))\n",
    "fh = open(template_file, 'r', encoding = \"utf-8\")\n",
    "template = fh.read()\n",
    "fh.close()"
   ]
  },
  {
   "cell_type": "code",
   "execution_count": null,
   "metadata": {},
   "outputs": [],
   "source": [
    "vars = {\n",
    "    \"images_length\": total_images_length,\n",
    "    \"valid_images_length\": valid_images_length,\n",
    "    \"festival_images_length\": 0,\n",
    "    \"qi_length\": qi_length,\n",
    "    \"gallery_quality_images\": GALLERY_QI,\n",
    "    \"wlf_festivals_length\": wlf_festivals_length,\n",
    "    \"authors_length\": authors_length,\n",
    "    \"new_uploaders_length\": new_uploaders_length,\n",
    "    \"festival_length\": festival_length,\n",
    "    \"aut_coms\": aut_coms,\n",
    "    \"authors_df\": authors_df,\n",
    "    \"images_per_festival_df\": images_per_festival_df,\n",
    "    \"usages_df\": usages_df,\n",
    "    \"coverage_df\": coverage_df,\n",
    "    \"total_unique\": total_unique,\n",
    "    \"new_uploaders\": new_uploaders,\n",
    "    \"new_uploaders_sum\": new_uploaders.sum(),\n",
    "    \"campaign_count\": campaign_count,\n",
    "    \"finalist_images_count\": finalist_images_count,\n",
    "    \"finalist_authors_count\": finalist_authors_count,\n",
    "    \"annexes\": {i[1]: i[0] for i in festival_annexes},\n",
    "    \"map\": dump,\n",
    "    \"year\": YEAR,\n",
    "    \"tag\": TAG,\n",
    "    \"full_tag\": TAG_EXT,\n",
    "    \"base\": BASE_WLF_NAME,\n",
    "    \"stats_2016\": BASE_WLF2016_NAME + \"/Stats\"\n",
    "}\n",
    "t = Template(template)\n",
    "statisticts_text = t.render(**vars)"
   ]
  },
  {
   "cell_type": "code",
   "execution_count": null,
   "metadata": {},
   "outputs": [],
   "source": [
    "stats_page = pb.Page(commons_site, STATISTICS_PAGE)\n",
    "stats_page.text = statisticts_text\n",
    "pb.output('Publishing --> {1} {0} in Spain Statistics'.format(YEAR, TAG))\n",
    "stats_page.save(\"{1} {0} in Spain statistics\".format(YEAR, TAG))"
   ]
  },
  {
   "cell_type": "code",
   "execution_count": null,
   "metadata": {},
   "outputs": [],
   "source": []
  }
 ],
 "metadata": {
  "kernelspec": {
   "display_name": "Python 3",
   "language": "python",
   "name": "python3"
  },
  "language_info": {
   "codemirror_mode": {
    "name": "ipython",
    "version": 3
   },
   "file_extension": ".py",
   "mimetype": "text/x-python",
   "name": "python",
   "nbconvert_exporter": "python",
   "pygments_lexer": "ipython3",
   "version": "3.6.3"
  }
 },
 "nbformat": 4,
 "nbformat_minor": 2
}
