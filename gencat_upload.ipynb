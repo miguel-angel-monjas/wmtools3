{
 "cells": [
  {
   "cell_type": "code",
   "execution_count": 1,
   "metadata": {},
   "outputs": [],
   "source": [
    "#!/usr/bin/python\n",
    "# -*- coding: latin-1 -*-\n",
    "\n",
    "import inspect, os, sys\n",
    "\n",
    "try :\n",
    "    import pywikibot as pb\n",
    "    from pywikibot.specialbots import UploadRobot\n",
    "\n",
    "except :\n",
    "    current_folder = os.path.realpath(os.path.abspath(os.path.split(inspect.getfile(inspect.currentframe()))[0]))\n",
    "    folder_parts = current_folder.split(os.sep)\n",
    "    pywikibot_folder = os.sep.join(folder_parts[:-1])\n",
    "\n",
    "    if current_folder not in sys.path:\n",
    "        sys.path.insert(0, current_folder)\n",
    "    if pywikibot_folder not in sys.path:\n",
    "        sys.path.insert(0, pywikibot_folder)\n",
    "\n",
    "    import pywikibot as pb\n",
    "    from pywikibot.specialbots import UploadRobot\n",
    "\n",
    "from bs4 import BeautifulSoup\n",
    "from mako.template import Template\n",
    "import requests\n",
    "from requests.compat import quote\n",
    "\n",
    "from PIL import Image\n",
    "from io import BytesIO\n",
    "import re\n",
    "\n",
    "commons_site = pb.Site(\"commons\", \"commons\")"
   ]
  },
  {
   "cell_type": "code",
   "execution_count": 3,
   "metadata": {},
   "outputs": [],
   "source": [
    "from modules.wmtools import is_commons_file, get_hash, upload_to_commons"
   ]
  },
  {
   "cell_type": "code",
   "execution_count": 4,
   "metadata": {},
   "outputs": [],
   "source": [
    "cwd = os.getcwd()\n",
    "\n",
    "images_directory = os.path.join(cwd, 'images')\n",
    "if not os.path.exists(images_directory):\n",
    "    os.makedirs(images_directory)"
   ]
  },
  {
   "cell_type": "code",
   "execution_count": 12,
   "metadata": {},
   "outputs": [],
   "source": [
    "url = 'http://premsa.gencat.cat/pres_fsvp/AppJava/governacio-relacions-institucionals/notapremsavw/301618/ca/la-consellera-de-governacio-el-sindic-daran-signen-lacord-financament-2017-del-conselh-generau.do'\n",
    "user_agent = 'Mozilla/5.0 (Windows NT 6.1; WOW64; rv:40.0) Gecko/20100101 Firefox/40.1'\n",
    "headers = {'User-Agent' : user_agent}\n",
    "excluded = []\n",
    "categories = ['June 2017 in Catalonia',\n",
    "             'Meritxell Borràs',\n",
    "             'Carles Barrera Sánchez']\n",
    "cat_string = '\\n'.join(['[[Category:'+i+']]' for i in categories])\n",
    "\n",
    "r = requests.get(url, headers=headers)\n",
    "soup = BeautifulSoup(r.text, 'html.parser')"
   ]
  },
  {
   "cell_type": "code",
   "execution_count": 13,
   "metadata": {},
   "outputs": [
    {
     "data": {
      "text/plain": [
       "'2017-06-17'"
      ]
     },
     "execution_count": 13,
     "metadata": {},
     "output_type": "execute_result"
    }
   ],
   "source": [
    "pub_date=soup.find_all(\"span\", attrs={\"itemprop\": \"datePublished\"})[0].get_text().strip().split(' ')[0].split('-')\n",
    "pub_date.reverse()\n",
    "pub_date='-'.join(pub_date)\n",
    "pub_date"
   ]
  },
  {
   "cell_type": "code",
   "execution_count": 14,
   "metadata": {},
   "outputs": [
    {
     "data": {
      "text/plain": [
       "\"La consellera de Governació i el Síndic d'Aran signen l'acord de finançament de 2017 del Conselh Generau d'Aran\""
      ]
     },
     "execution_count": 14,
     "metadata": {},
     "output_type": "execute_result"
    }
   ],
   "source": [
    "title = soup.find_all(\"h1\", class_=\"FW_headline\")[0].get_text().strip().replace('  ', ' ')\n",
    "#title = u\"\"\n",
    "title"
   ]
  },
  {
   "cell_type": "code",
   "execution_count": 15,
   "metadata": {},
   "outputs": [
    {
     "data": {
      "text/plain": [
       "'La consellera de Governació, Administracions Públiques i Habitatge,\\xa0Meritxell Borràs, i el Síndic del Conselh Generau d’Aran,\\xa0Carlos Barrera, han signat aquest matí l’acord que recull el finançament corresponent a l’exercici 2017 del Conselh Generau d’Aran. Les transferències de la Generalitat, per un import total de 23.474.428 euros, estan destinades al finançament de la institució d’autogovern aranesa i a l’exercici de les seves competències pròpies, en compliment de la Llei 1/2015, del\\xa05 de febrer, del règim especial d’Aran. Aquesta xifra representa un increment d’1.407.701 euros respecte del 2016.\\r'"
      ]
     },
     "execution_count": 15,
     "metadata": {},
     "output_type": "execute_result"
    }
   ],
   "source": [
    "article_content = soup.find_all(\"div\", class_=\"FW_article-content\")[0].get_text().strip().split('\\n')[0]\n",
    "#article_content = u\"El conseller d’Agricultura, Alimentació i Acció Rural, Joaquim Llena, acompanyat de la directora general d’Agricultura i Ramaderia, Rosa Cubel, i del director dels Serveis Territorials del DAR a Barcelona, Jaume Balagué, ha presidit, avui, l’acte de cloenda de l’Assemblea General Ordinària de la Federació Catalana d'Indústries de la Carn (FECIC), i el dinar posterior.\"\n",
    "article_content"
   ]
  },
  {
   "cell_type": "code",
   "execution_count": 16,
   "metadata": {},
   "outputs": [
    {
     "data": {
      "text/plain": [
       "\"=={{int:filedesc}}==\\n{{Information\\n|description={{ca|1=La consellera de Governació, Administracions Públiques i Habitatge,\\xa0Meritxell Borràs, i el Síndic del Conselh Generau d’Aran,\\xa0Carlos Barrera, han signat aquest matí l’acord que recull el finançament corresponent a l’exercici 2017 del Conselh Generau d’Aran. Les transferències de la Generalitat, per un import total de 23.474.428 euros, estan destinades al finançament de la institució d’autogovern aranesa i a l’exercici de les seves competències pròpies, en compliment de la Llei 1/2015, del\\xa05 de febrer, del règim especial d’Aran. Aquesta xifra representa un increment d’1.407.701 euros respecte del 2016.\\r}}\\n|date=2017-06-17\\n|source=[http://premsa.gencat.cat/pres_fsvp/AppJava/governacio-relacions-institucionals/notapremsavw/301618/ca/la-consellera-de-governacio-el-sindic-daran-signen-lacord-financament-2017-del-conselh-generau.do Nota de Premsa - La consellera de Governació i el Síndic d'Aran signen l'acord de finançament de 2017 del Conselh Generau d'Aran]\\n|author=Generalitat de Catalunya\\n|permission=\\n|other versions=\\n}}\\n\\n=={{int:license-header}}==\\n{{LicenseReview}}\\n{{attribution-gencat}}\\n\\n[[Category:Files uploaded by User:Discasto]]\\n[[Category:June 2017 in Catalonia]]\\n[[Category:Meritxell Borràs]]\\n[[Category:Carles Barrera Sánchez]]\""
      ]
     },
     "execution_count": 16,
     "metadata": {},
     "output_type": "execute_result"
    }
   ],
   "source": [
    "template = u\"\"\"=={{int:filedesc}}==\n",
    "{{Information\n",
    "|description={{ca|1=${description}}}\n",
    "|date=${date}\n",
    "|source=[${url} Nota de Premsa - ${title}]\n",
    "|author=Generalitat de Catalunya\n",
    "|permission=\n",
    "|other versions=\n",
    "}}\n",
    "\n",
    "=={{int:license-header}}==\n",
    "{{LicenseReview}}\n",
    "{{attribution-gencat}}\n",
    "\n",
    "[[Category:Files uploaded by User:Discasto]]\n",
    "${cat_string}\"\"\"\n",
    "\n",
    "vars = {\n",
    "    \"url\": url,\n",
    "    \"description\": article_content,\n",
    "    \"date\": pub_date,\n",
    "    \"title\": title,\n",
    "    \"cat_string\": cat_string\n",
    "}\n",
    "t = Template(template)\n",
    "_text = t.render(**vars)\n",
    "_text"
   ]
  },
  {
   "cell_type": "code",
   "execution_count": 17,
   "metadata": {},
   "outputs": [
    {
     "data": {
      "text/plain": [
       "[{'name': 'Foto 1 (Autor - Gorka Martínez Llurda)',\n",
       "  'url': 'http://www.gencat.cat/big/img/680/BIG_680564812061917_03.jpg'},\n",
       " {'name': 'Foto 2 (Autor - Gorka Martínez Llurda)',\n",
       "  'url': 'http://www.gencat.cat/big/img/755/BIG_755173410061917_03.jpg'},\n",
       " {'name': 'Foto 3 (Autor - Gorka Martínez Llurda)',\n",
       "  'url': 'http://www.gencat.cat/big/img/125/BIG_125572112061917_03.jpg'},\n",
       " {'name': 'Foto 4 (Autor - Departament Governació)',\n",
       "  'url': 'http://www.gencat.cat/big/img/181/BIG_181075818061917_03.jpg'},\n",
       " {'name': 'Foto 5 (Autor - Departament de Governació)',\n",
       "  'url': 'http://www.gencat.cat/big/img/165/BIG_165100102062017_03.jpg'}]"
      ]
     },
     "execution_count": 17,
     "metadata": {},
     "output_type": "execute_result"
    }
   ],
   "source": [
    "images = [{\"url\": image[\"href\"].strip(), \"name\": image[\"title\"].replace(':', ' -').replace('  ', ' ').strip()} for image in soup.find_all(\"a\", class_=\"external\") if '.jpg' in image['href'].lower()]\n",
    "images"
   ]
  },
  {
   "cell_type": "code",
   "execution_count": 18,
   "metadata": {},
   "outputs": [],
   "source": [
    "images = [{\"name\": \"La consellera de Governació i el Síndic d'Aran signen l'acord de finançament de 2017 del Conselh Generau d'Aran 1 (Autor - Gorka Martínez Llurda)\",\n",
    "  \"url\": \"http://www.gencat.cat/big/img/680/BIG_680564812061917_03.jpg\"},\n",
    " {\"name\": \"La consellera de Governació i el Síndic d'Aran signen l'acord de finançament de 2017 del Conselh Generau d'Aran 2 (Autor - Gorka Martínez Llurda)\",\n",
    "  \"url\": \"http://www.gencat.cat/big/img/755/BIG_755173410061917_03.jpg\"},\n",
    " {\"name\": \"La consellera de Governació i el Síndic d'Aran signen l'acord de finançament de 2017 del Conselh Generau d'Aran 3 (Autor - Gorka Martínez Llurda)\",\n",
    "  \"url\": \"http://www.gencat.cat/big/img/125/BIG_125572112061917_03.jpg\"},\n",
    " {\"name\": \"La consellera de Governació i el Síndic d'Aran signen l'acord de finançament de 2017 del Conselh Generau d'Aran 4 (Autor - Departament Governació)\",\n",
    "  \"url\": \"http://www.gencat.cat/big/img/181/BIG_181075818061917_03.jpg\"},\n",
    " {\"name\": \"La consellera de Governació i el Síndic d'Aran signen l'acord de finançament de 2017 del Conselh Generau d'Aran 5 (Autor - Departament de Governació)\",\n",
    "  \"url\": \"http://www.gencat.cat/big/img/165/BIG_165100102062017_03.jpg\"}]"
   ]
  },
  {
   "cell_type": "code",
   "execution_count": 19,
   "metadata": {},
   "outputs": [
    {
     "name": "stderr",
     "output_type": "stream",
     "text": [
      "WARNING: url as string is deprecated. Use an iterable instead.\n",
      "The suggested description is:\n",
      "=={{int:filedesc}}==\n",
      "{{Information\n",
      "}}escription={{ca|1=La consellera de Governació, Administracions Públiques i Habitatge, Meritxell Borràs, i el Síndic del Conselh Generau d’Aran, Carlos Barrera, han signat aquest matí l’acord que recull el finançament corresponent a l’exercici 2017 del Conselh Generau d’Aran. Les transferències de la Generalitat, per un import total de 23.474.428 euros, estan destinades al finançament de la institució d’autogovern aranesa i a l’exercici de les seves competències pròpies, en compliment de la Llei 1/2015, del 5 de febrer, del règim especial d’Aran. Aquesta xifra representa un increment d’1.407.701 euros respecte del 2016.\n",
      "|date=2017-06-17\n",
      "|source=[http://premsa.gencat.cat/pres_fsvp/AppJava/governacio-relacions-institucionals/notapremsavw/301618/ca/la-consellera-de-governacio-el-sindic-daran-signen-lacord-financament-2017-del-conselh-generau.do Nota de Premsa - La consellera de Governació i el Síndic d'Aran signen l'acord de finançament de 2017 del Conselh Generau d'Aran]\n",
      "|author=Generalitat de Catalunya\n",
      "|permission=\n",
      "|other versions=\n",
      "}}\n",
      "\n",
      "=={{int:license-header}}==\n",
      "{{LicenseReview}}\n",
      "{{attribution-gencat}}\n",
      "\n",
      "[[Category:Files uploaded by User:Discasto]]\n",
      "[[Category:June 2017 in Catalonia]]\n",
      "[[Category:Meritxell Borràs]]\n",
      "[[Category:Carles Barrera Sánchez]]\n",
      "Uploading file to commons:commons...\n",
      "Sleeping for 8.3 seconds, 2018-01-18 23:53:08\n",
      "Upload successful.\n",
      "Upload of La consellera de Governació i el Síndic d'Aran signen l'acord de finançament de 2017 del Conselh Generau d'Aran 1 (Autor - Gorka Martínez Llurda).jpg successful.\n",
      "\n",
      "1 pages read\n",
      "1 pages written\n",
      "Script terminated successfully.\n",
      "WARNING: url as string is deprecated. Use an iterable instead.\n",
      "The suggested description is:\n",
      "=={{int:filedesc}}==\n",
      "{{Information\n",
      "}}escription={{ca|1=La consellera de Governació, Administracions Públiques i Habitatge, Meritxell Borràs, i el Síndic del Conselh Generau d’Aran, Carlos Barrera, han signat aquest matí l’acord que recull el finançament corresponent a l’exercici 2017 del Conselh Generau d’Aran. Les transferències de la Generalitat, per un import total de 23.474.428 euros, estan destinades al finançament de la institució d’autogovern aranesa i a l’exercici de les seves competències pròpies, en compliment de la Llei 1/2015, del 5 de febrer, del règim especial d’Aran. Aquesta xifra representa un increment d’1.407.701 euros respecte del 2016.\n",
      "|date=2017-06-17\n",
      "|source=[http://premsa.gencat.cat/pres_fsvp/AppJava/governacio-relacions-institucionals/notapremsavw/301618/ca/la-consellera-de-governacio-el-sindic-daran-signen-lacord-financament-2017-del-conselh-generau.do Nota de Premsa - La consellera de Governació i el Síndic d'Aran signen l'acord de finançament de 2017 del Conselh Generau d'Aran]\n",
      "|author=Generalitat de Catalunya\n",
      "|permission=\n",
      "|other versions=\n",
      "}}\n",
      "\n",
      "=={{int:license-header}}==\n",
      "{{LicenseReview}}\n",
      "{{attribution-gencat}}\n",
      "\n",
      "[[Category:Files uploaded by User:Discasto]]\n",
      "[[Category:June 2017 in Catalonia]]\n",
      "[[Category:Meritxell Borràs]]\n",
      "[[Category:Carles Barrera Sánchez]]\n",
      "Uploading file to commons:commons...\n",
      "Sleeping for 5.6 seconds, 2018-01-18 23:53:20\n",
      "Upload successful.\n",
      "Upload of La consellera de Governació i el Síndic d'Aran signen l'acord de finançament de 2017 del Conselh Generau d'Aran 2 (Autor - Gorka Martínez Llurda).jpg successful.\n",
      "\n",
      "1 pages read\n",
      "1 pages written\n",
      "Script terminated successfully.\n",
      "WARNING: url as string is deprecated. Use an iterable instead.\n",
      "The suggested description is:\n",
      "=={{int:filedesc}}==\n",
      "{{Information\n",
      "}}escription={{ca|1=La consellera de Governació, Administracions Públiques i Habitatge, Meritxell Borràs, i el Síndic del Conselh Generau d’Aran, Carlos Barrera, han signat aquest matí l’acord que recull el finançament corresponent a l’exercici 2017 del Conselh Generau d’Aran. Les transferències de la Generalitat, per un import total de 23.474.428 euros, estan destinades al finançament de la institució d’autogovern aranesa i a l’exercici de les seves competències pròpies, en compliment de la Llei 1/2015, del 5 de febrer, del règim especial d’Aran. Aquesta xifra representa un increment d’1.407.701 euros respecte del 2016.\n",
      "|date=2017-06-17\n",
      "|source=[http://premsa.gencat.cat/pres_fsvp/AppJava/governacio-relacions-institucionals/notapremsavw/301618/ca/la-consellera-de-governacio-el-sindic-daran-signen-lacord-financament-2017-del-conselh-generau.do Nota de Premsa - La consellera de Governació i el Síndic d'Aran signen l'acord de finançament de 2017 del Conselh Generau d'Aran]\n",
      "|author=Generalitat de Catalunya\n",
      "|permission=\n",
      "|other versions=\n",
      "}}\n",
      "\n",
      "=={{int:license-header}}==\n",
      "{{LicenseReview}}\n",
      "{{attribution-gencat}}\n",
      "\n",
      "[[Category:Files uploaded by User:Discasto]]\n",
      "[[Category:June 2017 in Catalonia]]\n",
      "[[Category:Meritxell Borràs]]\n",
      "[[Category:Carles Barrera Sánchez]]\n",
      "Uploading file to commons:commons...\n",
      "Sleeping for 6.5 seconds, 2018-01-18 23:53:30\n",
      "Upload successful.\n",
      "Upload of La consellera de Governació i el Síndic d'Aran signen l'acord de finançament de 2017 del Conselh Generau d'Aran 3 (Autor - Gorka Martínez Llurda).jpg successful.\n",
      "\n",
      "1 pages read\n",
      "1 pages written\n",
      "Script terminated successfully.\n",
      "WARNING: url as string is deprecated. Use an iterable instead.\n",
      "The suggested description is:\n",
      "=={{int:filedesc}}==\n",
      "{{Information\n",
      "}}escription={{ca|1=La consellera de Governació, Administracions Públiques i Habitatge, Meritxell Borràs, i el Síndic del Conselh Generau d’Aran, Carlos Barrera, han signat aquest matí l’acord que recull el finançament corresponent a l’exercici 2017 del Conselh Generau d’Aran. Les transferències de la Generalitat, per un import total de 23.474.428 euros, estan destinades al finançament de la institució d’autogovern aranesa i a l’exercici de les seves competències pròpies, en compliment de la Llei 1/2015, del 5 de febrer, del règim especial d’Aran. Aquesta xifra representa un increment d’1.407.701 euros respecte del 2016.\n",
      "|date=2017-06-17\n",
      "|source=[http://premsa.gencat.cat/pres_fsvp/AppJava/governacio-relacions-institucionals/notapremsavw/301618/ca/la-consellera-de-governacio-el-sindic-daran-signen-lacord-financament-2017-del-conselh-generau.do Nota de Premsa - La consellera de Governació i el Síndic d'Aran signen l'acord de finançament de 2017 del Conselh Generau d'Aran]\n",
      "|author=Generalitat de Catalunya\n",
      "|permission=\n",
      "|other versions=\n",
      "}}\n",
      "\n",
      "=={{int:license-header}}==\n",
      "{{LicenseReview}}\n",
      "{{attribution-gencat}}\n",
      "\n",
      "[[Category:Files uploaded by User:Discasto]]\n",
      "[[Category:June 2017 in Catalonia]]\n",
      "[[Category:Meritxell Borràs]]\n",
      "[[Category:Carles Barrera Sánchez]]\n",
      "Uploading file to commons:commons...\n",
      "Sleeping for 5.8 seconds, 2018-01-18 23:53:40\n",
      "Upload successful.\n",
      "Upload of La consellera de Governació i el Síndic d'Aran signen l'acord de finançament de 2017 del Conselh Generau d'Aran 4 (Autor - Departament Governació).jpg successful.\n",
      "\n",
      "1 pages read\n",
      "1 pages written\n",
      "Script terminated successfully.\n",
      "WARNING: url as string is deprecated. Use an iterable instead.\n",
      "The suggested description is:\n",
      "=={{int:filedesc}}==\n",
      "{{Information\n",
      "}}escription={{ca|1=La consellera de Governació, Administracions Públiques i Habitatge, Meritxell Borràs, i el Síndic del Conselh Generau d’Aran, Carlos Barrera, han signat aquest matí l’acord que recull el finançament corresponent a l’exercici 2017 del Conselh Generau d’Aran. Les transferències de la Generalitat, per un import total de 23.474.428 euros, estan destinades al finançament de la institució d’autogovern aranesa i a l’exercici de les seves competències pròpies, en compliment de la Llei 1/2015, del 5 de febrer, del règim especial d’Aran. Aquesta xifra representa un increment d’1.407.701 euros respecte del 2016.\n",
      "|date=2017-06-17\n",
      "|source=[http://premsa.gencat.cat/pres_fsvp/AppJava/governacio-relacions-institucionals/notapremsavw/301618/ca/la-consellera-de-governacio-el-sindic-daran-signen-lacord-financament-2017-del-conselh-generau.do Nota de Premsa - La consellera de Governació i el Síndic d'Aran signen l'acord de finançament de 2017 del Conselh Generau d'Aran]\n",
      "|author=Generalitat de Catalunya\n",
      "|permission=\n",
      "|other versions=\n",
      "}}\n",
      "\n",
      "=={{int:license-header}}==\n",
      "{{LicenseReview}}\n",
      "{{attribution-gencat}}\n",
      "\n",
      "[[Category:Files uploaded by User:Discasto]]\n",
      "[[Category:June 2017 in Catalonia]]\n",
      "[[Category:Meritxell Borràs]]\n",
      "[[Category:Carles Barrera Sánchez]]\n",
      "Uploading file to commons:commons...\n",
      "Sleeping for 4.5 seconds, 2018-01-18 23:53:52\n"
     ]
    },
    {
     "name": "stderr",
     "output_type": "stream",
     "text": [
      "Upload successful.\n",
      "Upload of La consellera de Governació i el Síndic d'Aran signen l'acord de finançament de 2017 del Conselh Generau d'Aran 5 (Autor - Departament de Governació).jpg successful.\n",
      "\n",
      "1 pages read\n",
      "1 pages written\n",
      "Script terminated successfully.\n"
     ]
    }
   ],
   "source": [
    "used_names = []\n",
    "\n",
    "for i, image in enumerate(images):\n",
    "    if i in excluded:\n",
    "        continue\n",
    "        \n",
    "    # image download\n",
    "    image_url = quote(image[\"url\"].encode('utf-8'), ':/')\n",
    "    image_name = image[\"name\"].replace(':', ' -').replace('  ', ' ') + '.jpg'\n",
    "    try: \n",
    "        image_path = os.path.join(images_directory, image_name)\n",
    "        r = requests.get(image_url, headers=headers)\n",
    "        image = Image.open(BytesIO(r.content))\n",
    "        image.save(image_path)\n",
    "    except :\n",
    "        print ('Failed download. Skipping')\n",
    "        continue\n",
    "\n",
    "    # image already in Commons\n",
    "    if is_commons_file(get_hash(image_path)) :\n",
    "        print (\"Already in commons. Skipping\")\n",
    "        os.remove(image_path)\n",
    "        continue\n",
    "\n",
    "    # management of image name at Commons\n",
    "    # the image name is already used in commons\n",
    "    if pb.Page(commons_site, \"File:\"+image_name).exists():\n",
    "        print (\"Image name already used in Commons\")\n",
    "        used_names.append(image_name)\n",
    "\n",
    "    if image_name in used_names :\n",
    "        counter = 1\n",
    "        while True:\n",
    "            regexp = re.compile(r'[0-9]{2}\\.jpg')\n",
    "            if regexp.search(image_name):\n",
    "                image_name = re.sub(r'[0-9]{2}\\.jpg', \n",
    "                                    '%02d.jpg' %counter, \n",
    "                                    image_name)\n",
    "            else:\n",
    "                # second image in the name series\n",
    "                image_name = image_name.replace('.jpg', ' 01.jpg')\n",
    "            counter += 1\n",
    "            if image_name not in used_names and not pb.Page(commons_site, \"File:\"+image_name).exists():\n",
    "                break\n",
    "            else :\n",
    "                used_names.append(image_name)\n",
    "    else :\n",
    "        used_names.append(image_name)\n",
    "\n",
    "    # image upload\n",
    "    bot = UploadRobot(image_path,\n",
    "                      description = _text,\n",
    "                      useFilename = image_name,\n",
    "                      keepFilename = True,\n",
    "                      verifyDescription = False,\n",
    "                      ignoreWarning = True,\n",
    "                      targetSite = commons_site)\n",
    "    bot.run()\n",
    "    \n",
    "    os.remove(image_path)         "
   ]
  },
  {
   "cell_type": "code",
   "execution_count": null,
   "metadata": {},
   "outputs": [],
   "source": []
  }
 ],
 "metadata": {
  "kernelspec": {
   "display_name": "Python 3",
   "language": "python",
   "name": "python3"
  },
  "language_info": {
   "codemirror_mode": {
    "name": "ipython",
    "version": 3
   },
   "file_extension": ".py",
   "mimetype": "text/x-python",
   "name": "python",
   "nbconvert_exporter": "python",
   "pygments_lexer": "ipython3",
   "version": "3.6.4"
  }
 },
 "nbformat": 4,
 "nbformat_minor": 2
}
