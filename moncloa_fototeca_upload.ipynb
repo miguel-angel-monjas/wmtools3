{
 "cells": [
  {
   "cell_type": "code",
   "execution_count": 15,
   "metadata": {},
   "outputs": [],
   "source": [
    "#!/usr/bin/python\n",
    "# -*- coding: latin-1 -*-\n",
    "\n",
    "import os, sys, inspect\n",
    "\n",
    "import pywikibot as pb\n",
    "from pywikibot.specialbots import UploadRobot\n",
    "\n",
    "from bs4 import BeautifulSoup\n",
    "from mako.template import Template\n",
    "from urllib.request import Request, urlopen\n",
    "from urllib.parse import quote\n",
    "\n",
    "import re\n",
    "\n",
    "commons_site = pb.Site(\"commons\", \"commons\")"
   ]
  },
  {
   "cell_type": "code",
   "execution_count": 16,
   "metadata": {},
   "outputs": [
    {
     "name": "stderr",
     "output_type": "stream",
     "text": [
      "2018-01-10 10:56:42,767 root   DEBUG    === Initialized Proxy Parsers ===\n",
      "2018-01-10 10:56:42,768 root   DEBUG    \t FreeProxy Parser of 'http://free-proxy-list.net' with required bandwidth: '150' KBs\n",
      "2018-01-10 10:56:42,769 root   DEBUG    \t ProxyForEU Parser of 'http://proxyfor.eu/geo.php' with required bandwidth: '1.0' KBs\n",
      "2018-01-10 10:56:42,776 root   DEBUG    \t RebroWeebly Parser of 'http://rebro.weebly.com' with required bandwidth: '150' KBs\n",
      "2018-01-10 10:56:42,777 root   DEBUG    \t SemairProxy Parser of 'https://premproxy.com/list/' with required bandwidth: '150' KBs\n",
      "2018-01-10 10:56:42,778 root   DEBUG    =================================\n",
      "2018-01-10 10:56:43,260 http_request_randomizer.requests.parsers.FreeProxyParser DEBUG    Proxy Invalid: <zip object at 0x7f37b21d81c8>\n",
      "2018-01-10 10:56:43,601 http_request_randomizer.requests.parsers.ProxyForEuParser DEBUG    Proxy with low bandwidth: 0.178\n",
      "2018-01-10 10:56:43,602 http_request_randomizer.requests.parsers.ProxyForEuParser DEBUG    Proxy Invalid: <zip object at 0x7f37b2124c08>\n",
      "2018-01-10 10:56:43,604 http_request_randomizer.requests.parsers.ProxyForEuParser DEBUG    Proxy with low bandwidth: 0.435\n",
      "2018-01-10 10:56:43,606 http_request_randomizer.requests.parsers.ProxyForEuParser DEBUG    Proxy Invalid: <zip object at 0x7f37b212b148>\n",
      "2018-01-10 10:56:43,608 http_request_randomizer.requests.parsers.ProxyForEuParser DEBUG    Proxy with low bandwidth: 0.361\n",
      "2018-01-10 10:56:43,609 http_request_randomizer.requests.parsers.ProxyForEuParser DEBUG    Proxy Invalid: <zip object at 0x7f37b212b4c8>\n",
      "2018-01-10 10:56:44,111 http_request_randomizer.requests.parsers.RebroWeeblyParser WARNING  Proxy Provider url failed: http://rebro.weebly.com\n",
      "2018-01-10 10:56:44,560 http_request_randomizer.requests.parsers.SamairProxyParser DEBUG    Pages: {'', '02.htm', '05.htm', '08.htm', '10.htm', '09.htm', '03.htm', '06.htm', '07.htm', '04.htm', '11.htm'}\n"
     ]
    }
   ],
   "source": [
    "from http_request_randomizer.requests.proxy.requestProxy import RequestProxy\n",
    "\n",
    "req_proxy = RequestProxy()"
   ]
  },
  {
   "cell_type": "code",
   "execution_count": 29,
   "metadata": {},
   "outputs": [],
   "source": [
    "url = 'http://www.lamoncloa.gob.es/multimedia/fototeca/Paginas/Imagen.aspx?img=08039dc131'\n",
    "categories = ['María Teresa Fernández de la Vega', \n",
    "              'José Enrique Serrano Martínez',\n",
    "              'April 2007 in Madrid',\n",
    "              'Palacio de la Moncloa']\n",
    "cat_string = '\\n'.join(['[[Category:'+i+']]' for i in categories])"
   ]
  },
  {
   "cell_type": "code",
   "execution_count": 30,
   "metadata": {},
   "outputs": [
    {
     "name": "stderr",
     "output_type": "stream",
     "text": [
      "2018-01-10 13:07:06,024 root   DEBUG    Using headers: {'Connection': 'close', 'User-Agent': 'Mozilla/5.0 (X11; U; Linux x86_64; it; rv:1.9.1.9) Gecko/20100402 Ubuntu/9.10 (karmic) Firefox/3.5.9 (.NET CLR 3.5.30729'}\n",
      "2018-01-10 13:07:06,028 root   DEBUG    Using proxy: 178.206.218.7:8080 | FreeProxy\n",
      "2018-01-10 13:07:36,041 root   DEBUG    Proxy unreachable - Removed Straggling proxy: 178.206.218.7:8080 | FreeProxy PL Size = 1301\n",
      "2018-01-10 13:07:36,046 root   DEBUG    Using headers: {'Connection': 'close', 'User-Agent': 'Opera/9.80 (Windows NT 5.1; U; it) Presto/2.7.62 Version/11.0'}\n",
      "2018-01-10 13:07:36,047 root   DEBUG    Using proxy: 174.97.107.240:8118 | FreeProxy\n"
     ]
    },
    {
     "name": "stdout",
     "output_type": "stream",
     "text": [
      "Trying\n"
     ]
    },
    {
     "name": "stderr",
     "output_type": "stream",
     "text": [
      "2018-01-10 13:08:06,080 root   DEBUG    Proxy unreachable - Removed Straggling proxy: 174.97.107.240:8118 | FreeProxy PL Size = 1300\n",
      "2018-01-10 13:08:06,085 root   DEBUG    Using headers: {'Connection': 'close', 'User-Agent': 'Mozilla/5.0 (X11; U; Linux x86_64; en-US) AppleWebKit/534.16 (KHTML, like Gecko) Ubuntu/10.10 Chromium/10.0.648.0 Chrome/10.0.648.0 Safari/534.1'}\n",
      "2018-01-10 13:08:06,091 root   DEBUG    Using proxy: 5.69.170.246:8080 | FreeProxy\n",
      "2018-01-10 13:08:06,190 root   DEBUG    Proxy unreachable - Removed Straggling proxy: 5.69.170.246:8080 | FreeProxy PL Size = 1299\n",
      "2018-01-10 13:08:06,195 root   DEBUG    Using headers: {'Connection': 'close', 'User-Agent': 'Mozilla/5.0 (Windows; U; Windows NT 6.1; ja-JP) AppleWebKit/533.16 (KHTML, like Gecko) Version/5.0 Safari/533.1'}\n",
      "2018-01-10 13:08:06,196 root   DEBUG    Using proxy: 38.64.129.242:8080 | FreeProxy\n"
     ]
    },
    {
     "name": "stdout",
     "output_type": "stream",
     "text": [
      "Trying\n",
      "Trying\n",
      "RR Status 200\n"
     ]
    }
   ],
   "source": [
    "while True:\n",
    "    request = req_proxy.generate_proxied_request(url)\n",
    "    if request is not None:\n",
    "        #print(\"{0}\".format(u''.join(request.text).encode('utf-8')))\n",
    "        response = request.text\n",
    "        break\n",
    "    else :\n",
    "        print ('Trying')\n",
    "soup = BeautifulSoup(response, 'html.parser')"
   ]
  },
  {
   "cell_type": "code",
   "execution_count": 31,
   "metadata": {},
   "outputs": [
    {
     "data": {
      "text/plain": [
       "'Fernández de la Vega preside la reunión sobre la violencia de genero con los subdelegados de Gobierno'"
      ]
     },
     "execution_count": 31,
     "metadata": {},
     "output_type": "execute_result"
    }
   ],
   "source": [
    "title = soup.find_all(\"h1\", class_=\"contenidoTitulo\")[0].get_text().strip().replace(':', ' - ').replace('  ', ' ')\n",
    "title"
   ]
  },
  {
   "cell_type": "code",
   "execution_count": 32,
   "metadata": {},
   "outputs": [
    {
     "data": {
      "text/plain": [
       "'2007-04-10'"
      ]
     },
     "execution_count": 32,
     "metadata": {},
     "output_type": "execute_result"
    }
   ],
   "source": [
    "import dateparser as dp\n",
    "import datetime\n",
    "\n",
    "try:\n",
    "    pub_date_sp = ' '.join(soup.find_all(\"div\", class_=\"contenidoFecha\")[0].get_text().strip().split(' ')[-4:])\n",
    "    parsed_pub_date = dp.parse(pub_date_sp)\n",
    "    pub_date = parsed_pub_date.strftime('%Y-%m-%d')\n",
    "except :\n",
    "    pub_date = None\n",
    "\n",
    "pub_date"
   ]
  },
  {
   "cell_type": "code",
   "execution_count": 33,
   "metadata": {},
   "outputs": [
    {
     "data": {
      "text/plain": [
       "'Pool Moncloa'"
      ]
     },
     "execution_count": 33,
     "metadata": {},
     "output_type": "execute_result"
    }
   ],
   "source": [
    "contents = soup.find_all(\"div\", class_=\"entradillaContenedor\")[0].get_text().strip().replace('\\t', '').split('\\r\\n')\n",
    "contents = [item.replace('\\n', '') for item in contents if len(item)>0]\n",
    "author = contents[0]\n",
    "author"
   ]
  },
  {
   "cell_type": "code",
   "execution_count": 34,
   "metadata": {},
   "outputs": [
    {
     "data": {
      "text/plain": [
       "'María Teresa Fernández de la Vega, vicepresidenta primera, ministra de la Presidencia y portavoz del Gobierno, preside la reunión sobre la violencia de genero con los subdelegados de Gobierno junto a José Enrique Serrano Martínez, director del Gabinete del Presidente.'"
      ]
     },
     "execution_count": 34,
     "metadata": {},
     "output_type": "execute_result"
    }
   ],
   "source": [
    "description = contents[1]\n",
    "description"
   ]
  },
  {
   "cell_type": "code",
   "execution_count": 35,
   "metadata": {},
   "outputs": [
    {
     "data": {
      "text/plain": [
       "'http://www.lamoncloa.gob.es/multimedia/fototeca/Paginas/ImageF.axd?img=70d716c531'"
      ]
     },
     "execution_count": 35,
     "metadata": {},
     "output_type": "execute_result"
    }
   ],
   "source": [
    "image_url = 'http://www.lamoncloa.gob.es' + soup.find_all(\"a\", id=\"ctl00_PlaceHolderMain_DisplayMode_aDescargar\")[0]['href']\n",
    "image_url"
   ]
  },
  {
   "cell_type": "code",
   "execution_count": 36,
   "metadata": {},
   "outputs": [],
   "source": [
    "template = u\"\"\"=={{int:filedesc}}==\n",
    "{{Information\n",
    "|description={{es|1=${description}}}\n",
    "|date=${date}\n",
    "|source=[${url} Fototeca: ${title}]\n",
    "|author=Ministerio de la Presidencia. Gobierno de España (${author})\n",
    "|permission=\n",
    "|other versions=\n",
    "}}\n",
    "\n",
    "=={{int:license-header}}==\n",
    "{{LicenseReview}}\n",
    "{{attribution-La Moncloa}}\n",
    "\n",
    "[[Category:Files uploaded by User:Discasto]]\n",
    "${cat_string}\"\"\""
   ]
  },
  {
   "cell_type": "code",
   "execution_count": 37,
   "metadata": {},
   "outputs": [
    {
     "name": "stderr",
     "output_type": "stream",
     "text": [
      "2018-01-10 13:09:50,908 root   DEBUG    Using headers: {'Connection': 'close', 'User-Agent': 'Mozilla/5.0 (X11; U; Linux x86_64; en-US) AppleWebKit/534.7 (KHTML, like Gecko) Chrome/7.0.514.0 Safari/534.'}\n",
      "2018-01-10 13:09:50,910 root   DEBUG    Using proxy: 185.71.80.3:8888 | FreeProxy\n"
     ]
    },
    {
     "name": "stdout",
     "output_type": "stream",
     "text": [
      "Image to download: http://www.lamoncloa.gob.es/multimedia/fototeca/Paginas/ImageF.axd?img=70d716c531\n",
      "Image downloaded to: /home/paws/Fernández de la Vega preside la reunión sobre la violencia de genero con los subdelegados de Gobierno.jpg\n",
      "Trying to download\n",
      "RR Status 200\n"
     ]
    },
    {
     "name": "stderr",
     "output_type": "stream",
     "text": [
      "WARNING: url as string is deprecated. Use an iterable instead.\n",
      "2018-01-10 13:10:07,558 pywiki WARNING  url as string is deprecated. Use an iterable instead.\n",
      "2018-01-10 13:10:07,570 pywiki VERBOSE  Found 1 commons:commons processes running, including this one.\n",
      "2018-01-10 13:10:07,572 requests_oauthlib.oauth1_auth DEBUG    Signing request <PreparedRequest [POST]> using client <Client client_key=0a73e346a40b07262b6e36bdba01cba4, client_secret=****, resource_owner_key=5ca4fafa5dd85bb0ecf516d96ad6bf07, resource_owner_secret=****, signature_method=HMAC-SHA1, signature_type=AUTH_HEADER, callback_uri=None, rsa_key=None, verifier=None, realm=None, encoding=utf-8, decoding=utf-8, nonce=None, timestamp=None>\n",
      "2018-01-10 13:10:07,576 requests_oauthlib.oauth1_auth DEBUG    Including body in call to sign: True\n",
      "2018-01-10 13:10:07,577 oauthlib.oauth1.rfc5849 DEBUG    Collected params: [('oauth_nonce', '77764412245103813451515589807'), ('oauth_timestamp', '1515589807'), ('oauth_version', '1.0'), ('oauth_signature_method', 'HMAC-SHA1'), ('oauth_consumer_key', '0a73e346a40b07262b6e36bdba01cba4'), ('oauth_token', '5ca4fafa5dd85bb0ecf516d96ad6bf07'), ('titles', 'File:Fernández de la Vega preside la reunión sobre la violencia de genero con los subdelegados de Gobierno.jpg'), ('inprop', 'protection'), ('prop', 'info'), ('action', 'query'), ('indexpageids', ''), ('continue', ''), ('meta', 'userinfo'), ('uiprop', 'blockinfo|hasmsg'), ('maxlag', '5'), ('format', 'json')]\n",
      "2018-01-10 13:10:07,579 oauthlib.oauth1.rfc5849 DEBUG    Normalized params: action=query&continue=&format=json&indexpageids=&inprop=protection&maxlag=5&meta=userinfo&oauth_consumer_key=0a73e346a40b07262b6e36bdba01cba4&oauth_nonce=77764412245103813451515589807&oauth_signature_method=HMAC-SHA1&oauth_timestamp=1515589807&oauth_token=5ca4fafa5dd85bb0ecf516d96ad6bf07&oauth_version=1.0&prop=info&titles=File%3AFern%C3%A1ndez%20de%20la%20Vega%20preside%20la%20reuni%C3%B3n%20sobre%20la%20violencia%20de%20genero%20con%20los%20subdelegados%20de%20Gobierno.jpg&uiprop=blockinfo%7Chasmsg\n",
      "2018-01-10 13:10:07,579 oauthlib.oauth1.rfc5849 DEBUG    Normalized URI: https://commons.wikimedia.org/w/api.php\n",
      "2018-01-10 13:10:07,580 oauthlib.oauth1.rfc5849 DEBUG    Signing: signature base string: POST&https%3A%2F%2Fcommons.wikimedia.org%2Fw%2Fapi.php&action%3Dquery%26continue%3D%26format%3Djson%26indexpageids%3D%26inprop%3Dprotection%26maxlag%3D5%26meta%3Duserinfo%26oauth_consumer_key%3D0a73e346a40b07262b6e36bdba01cba4%26oauth_nonce%3D77764412245103813451515589807%26oauth_signature_method%3DHMAC-SHA1%26oauth_timestamp%3D1515589807%26oauth_token%3D5ca4fafa5dd85bb0ecf516d96ad6bf07%26oauth_version%3D1.0%26prop%3Dinfo%26titles%3DFile%253AFern%25C3%25A1ndez%2520de%2520la%2520Vega%2520preside%2520la%2520reuni%25C3%25B3n%2520sobre%2520la%2520violencia%2520de%2520genero%2520con%2520los%2520subdelegados%2520de%2520Gobierno.jpg%26uiprop%3Dblockinfo%257Chasmsg\n",
      "2018-01-10 13:10:07,581 oauthlib.oauth1.rfc5849 DEBUG    Signature: C0QrKYqc8SNmFPEE6QrkaEYVUok=\n",
      "2018-01-10 13:10:07,582 oauthlib.oauth1.rfc5849 DEBUG    Encoding URI, headers and body to utf-8.\n",
      "2018-01-10 13:10:07,583 requests_oauthlib.oauth1_auth DEBUG    Updated url: https://commons.wikimedia.org/w/api.php\n",
      "2018-01-10 13:10:07,584 requests_oauthlib.oauth1_auth DEBUG    Updated headers: {b'user-agent': b'ipykernel_launcher (commons:commons; User:Discasto) Pywikibot/3.0-dev (g8918) requests/2.18.4 Python/3.6.3.final.0', b'Accept-Encoding': b'gzip, deflate', b'Accept': b'*/*', b'Connection': b'keep-alive', b'Content-Type': b'application/x-www-form-urlencoded', b'Cookie': b'GeoIP=:::::v4; WMF-Last-Access=10-Jan-2018', b'Content-Length': b'255', b'Authorization': b'OAuth oauth_nonce=\"77764412245103813451515589807\", oauth_timestamp=\"1515589807\", oauth_version=\"1.0\", oauth_signature_method=\"HMAC-SHA1\", oauth_consumer_key=\"0a73e346a40b07262b6e36bdba01cba4\", oauth_token=\"5ca4fafa5dd85bb0ecf516d96ad6bf07\", oauth_signature=\"C0QrKYqc8SNmFPEE6QrkaEYVUok%3D\"'}\n",
      "2018-01-10 13:10:07,584 requests_oauthlib.oauth1_auth DEBUG    Updated body: b'titles=File%3AFern%C3%A1ndez+de+la+Vega+preside+la+reuni%C3%B3n+sobre+la+violencia+de+genero+con+los+subdelegados+de+Gobierno.jpg&inprop=protection&prop=info&action=query&indexpageids=&continue=&meta=userinfo&uiprop=blockinfo%7Chasmsg&maxlag=5&format=json'\n",
      "2018-01-10 13:10:07,708 requests_oauthlib.oauth1_auth DEBUG    Signing request <PreparedRequest [POST]> using client <Client client_key=0a73e346a40b07262b6e36bdba01cba4, client_secret=****, resource_owner_key=5ca4fafa5dd85bb0ecf516d96ad6bf07, resource_owner_secret=****, signature_method=HMAC-SHA1, signature_type=AUTH_HEADER, callback_uri=None, rsa_key=None, verifier=None, realm=None, encoding=utf-8, decoding=utf-8, nonce=None, timestamp=None>\n",
      "2018-01-10 13:10:07,709 requests_oauthlib.oauth1_auth DEBUG    Including body in call to sign: True\n",
      "2018-01-10 13:10:07,711 oauthlib.oauth1.rfc5849 DEBUG    Collected params: [('oauth_nonce', '12965420743565803991515589807'), ('oauth_timestamp', '1515589807'), ('oauth_version', '1.0'), ('oauth_signature_method', 'HMAC-SHA1'), ('oauth_consumer_key', '0a73e346a40b07262b6e36bdba01cba4'), ('oauth_token', '5ca4fafa5dd85bb0ecf516d96ad6bf07'), ('iiprop', 'timestamp|user|comment|url|size|sha1|mime|metadata|archivename'), ('titles', 'File:Fernández de la Vega preside la reunión sobre la violencia de genero con los subdelegados de Gobierno.jpg'), ('prop', 'imageinfo'), ('action', 'query'), ('indexpageids', ''), ('continue', ''), ('iilimit', '500'), ('meta', 'userinfo'), ('uiprop', 'blockinfo|hasmsg'), ('maxlag', '5'), ('format', 'json')]\n",
      "2018-01-10 13:10:07,712 oauthlib.oauth1.rfc5849 DEBUG    Normalized params: action=query&continue=&format=json&iilimit=500&iiprop=timestamp%7Cuser%7Ccomment%7Curl%7Csize%7Csha1%7Cmime%7Cmetadata%7Carchivename&indexpageids=&maxlag=5&meta=userinfo&oauth_consumer_key=0a73e346a40b07262b6e36bdba01cba4&oauth_nonce=12965420743565803991515589807&oauth_signature_method=HMAC-SHA1&oauth_timestamp=1515589807&oauth_token=5ca4fafa5dd85bb0ecf516d96ad6bf07&oauth_version=1.0&prop=imageinfo&titles=File%3AFern%C3%A1ndez%20de%20la%20Vega%20preside%20la%20reuni%C3%B3n%20sobre%20la%20violencia%20de%20genero%20con%20los%20subdelegados%20de%20Gobierno.jpg&uiprop=blockinfo%7Chasmsg\n",
      "2018-01-10 13:10:07,712 oauthlib.oauth1.rfc5849 DEBUG    Normalized URI: https://commons.wikimedia.org/w/api.php\n",
      "2018-01-10 13:10:07,713 oauthlib.oauth1.rfc5849 DEBUG    Signing: signature base string: POST&https%3A%2F%2Fcommons.wikimedia.org%2Fw%2Fapi.php&action%3Dquery%26continue%3D%26format%3Djson%26iilimit%3D500%26iiprop%3Dtimestamp%257Cuser%257Ccomment%257Curl%257Csize%257Csha1%257Cmime%257Cmetadata%257Carchivename%26indexpageids%3D%26maxlag%3D5%26meta%3Duserinfo%26oauth_consumer_key%3D0a73e346a40b07262b6e36bdba01cba4%26oauth_nonce%3D12965420743565803991515589807%26oauth_signature_method%3DHMAC-SHA1%26oauth_timestamp%3D1515589807%26oauth_token%3D5ca4fafa5dd85bb0ecf516d96ad6bf07%26oauth_version%3D1.0%26prop%3Dimageinfo%26titles%3DFile%253AFern%25C3%25A1ndez%2520de%2520la%2520Vega%2520preside%2520la%2520reuni%25C3%25B3n%2520sobre%2520la%2520violencia%2520de%2520genero%2520con%2520los%2520subdelegados%2520de%2520Gobierno.jpg%26uiprop%3Dblockinfo%257Chasmsg\n",
      "2018-01-10 13:10:07,714 oauthlib.oauth1.rfc5849 DEBUG    Signature: vTm3MgDIyeKBKXYOsecNUkdeHmU=\n",
      "2018-01-10 13:10:07,715 oauthlib.oauth1.rfc5849 DEBUG    Encoding URI, headers and body to utf-8.\n",
      "2018-01-10 13:10:07,716 requests_oauthlib.oauth1_auth DEBUG    Updated url: https://commons.wikimedia.org/w/api.php\n",
      "2018-01-10 13:10:07,717 requests_oauthlib.oauth1_auth DEBUG    Updated headers: {b'user-agent': b'ipykernel_launcher (commons:commons; User:Discasto) Pywikibot/3.0-dev (g8918) requests/2.18.4 Python/3.6.3.final.0', b'Accept-Encoding': b'gzip, deflate', b'Accept': b'*/*', b'Connection': b'keep-alive', b'Content-Type': b'application/x-www-form-urlencoded', b'Cookie': b'GeoIP=:::::v4; WMF-Last-Access=10-Jan-2018', b'Content-Length': b'340', b'Authorization': b'OAuth oauth_nonce=\"12965420743565803991515589807\", oauth_timestamp=\"1515589807\", oauth_version=\"1.0\", oauth_signature_method=\"HMAC-SHA1\", oauth_consumer_key=\"0a73e346a40b07262b6e36bdba01cba4\", oauth_token=\"5ca4fafa5dd85bb0ecf516d96ad6bf07\", oauth_signature=\"vTm3MgDIyeKBKXYOsecNUkdeHmU%3D\"'}\n"
     ]
    },
    {
     "name": "stderr",
     "output_type": "stream",
     "text": [
      "2018-01-10 13:10:07,719 requests_oauthlib.oauth1_auth DEBUG    Updated body: b'iiprop=timestamp%7Cuser%7Ccomment%7Curl%7Csize%7Csha1%7Cmime%7Cmetadata%7Carchivename&titles=File%3AFern%C3%A1ndez+de+la+Vega+preside+la+reuni%C3%B3n+sobre+la+violencia+de+genero+con+los+subdelegados+de+Gobierno.jpg&prop=imageinfo&action=query&indexpageids=&continue=&iilimit=500&meta=userinfo&uiprop=blockinfo%7Chasmsg&maxlag=5&format=json'\n"
     ]
    },
    {
     "name": "stdout",
     "output_type": "stream",
     "text": [
      "Image downloaded and accessed\n",
      "=={{int:filedesc}}==\n",
      "{{Information\n",
      "|description={{es|1=María Teresa Fernández de la Vega, vicepresidenta primera, ministra de la Presidencia y portavoz del Gobierno, preside la reunión sobre la violencia de genero con los subdelegados de Gobierno junto a José Enrique Serrano Martínez, director del Gabinete del Presidente.}}\n",
      "|date=2007-04-10\n",
      "|source=[http://www.lamoncloa.gob.es/multimedia/fototeca/Paginas/Imagen.aspx?img=08039dc131 Fototeca: Fernández de la Vega preside la reunión sobre la violencia de genero con los subdelegados de Gobierno]\n",
      "|author=Ministerio de la Presidencia. Gobierno de España (Pool Moncloa)\n",
      "|permission=\n",
      "|other versions=\n",
      "}}\n",
      "\n",
      "=={{int:license-header}}==\n",
      "{{LicenseReview}}\n",
      "{{attribution-La Moncloa}}\n",
      "\n",
      "[[Category:Files uploaded by User:Discasto]]\n",
      "[[Category:María Teresa Fernández de la Vega]]\n",
      "[[Category:José Enrique Serrano Martínez]]\n",
      "[[Category:April 2007 in Madrid]]\n",
      "[[Category:Palacio de la Moncloa]]\n"
     ]
    },
    {
     "name": "stderr",
     "output_type": "stream",
     "text": [
      "The suggested description is:\n",
      "=={{int:filedesc}}==\n",
      "{{Information\n",
      "|description={{es|1=María Teresa Fernández de la Vega, vicepresidenta primera, ministra de la Presidencia y portavoz del Gobierno, preside la reunión sobre la violencia de genero con los subdelegados de Gobierno junto a José Enrique Serrano Martínez, director del Gabinete del Presidente.}}\n",
      "|date=2007-04-10\n",
      "|source=[http://www.lamoncloa.gob.es/multimedia/fototeca/Paginas/Imagen.aspx?img=08039dc131 Fototeca: Fernández de la Vega preside la reunión sobre la violencia de genero con los subdelegados de Gobierno]\n",
      "|author=Ministerio de la Presidencia. Gobierno de España (Pool Moncloa)\n",
      "|permission=\n",
      "|other versions=\n",
      "}}\n",
      "\n",
      "=={{int:license-header}}==\n",
      "{{LicenseReview}}\n",
      "{{attribution-La Moncloa}}\n",
      "\n",
      "[[Category:Files uploaded by User:Discasto]]\n",
      "[[Category:María Teresa Fernández de la Vega]]\n",
      "[[Category:José Enrique Serrano Martínez]]\n",
      "[[Category:April 2007 in Madrid]]\n",
      "[[Category:Palacio de la Moncloa]]\n",
      "2018-01-10 13:10:07,792 pywiki INFO     The suggested description is:\n",
      "=={{int:filedesc}}==\n",
      "{{Information\n",
      "|description={{es|1=María Teresa Fernández de la Vega, vicepresidenta primera, ministra de la Presidencia y portavoz del Gobierno, preside la reunión sobre la violencia de genero con los subdelegados de Gobierno junto a José Enrique Serrano Martínez, director del Gabinete del Presidente.}}\n",
      "|date=2007-04-10\n",
      "|source=[http://www.lamoncloa.gob.es/multimedia/fototeca/Paginas/Imagen.aspx?img=08039dc131 Fototeca: Fernández de la Vega preside la reunión sobre la violencia de genero con los subdelegados de Gobierno]\n",
      "|author=Ministerio de la Presidencia. Gobierno de España (Pool Moncloa)\n",
      "|permission=\n",
      "|other versions=\n",
      "}}\n",
      "\n",
      "=={{int:license-header}}==\n",
      "{{LicenseReview}}\n",
      "{{attribution-La Moncloa}}\n",
      "\n",
      "[[Category:Files uploaded by User:Discasto]]\n",
      "[[Category:María Teresa Fernández de la Vega]]\n",
      "[[Category:José Enrique Serrano Martínez]]\n",
      "[[Category:April 2007 in Madrid]]\n",
      "[[Category:Palacio de la Moncloa]]\n",
      "Uploading file to commons:commons...\n",
      "2018-01-10 13:10:07,795 pywiki INFO     Uploading file to commons:commons...\n",
      "2018-01-10 13:10:07,868 requests_oauthlib.oauth1_auth DEBUG    Signing request <PreparedRequest [POST]> using client <Client client_key=0a73e346a40b07262b6e36bdba01cba4, client_secret=****, resource_owner_key=5ca4fafa5dd85bb0ecf516d96ad6bf07, resource_owner_secret=****, signature_method=HMAC-SHA1, signature_type=AUTH_HEADER, callback_uri=None, rsa_key=None, verifier=None, realm=None, encoding=utf-8, decoding=utf-8, nonce=None, timestamp=None>\n",
      "2018-01-10 13:10:07,869 requests_oauthlib.oauth1_auth DEBUG    Including body in call to sign: False\n",
      "2018-01-10 13:10:07,870 oauthlib.oauth1.rfc5849 DEBUG    Collected params: [('oauth_nonce', '169599638502993168081515589807'), ('oauth_timestamp', '1515589807'), ('oauth_version', '1.0'), ('oauth_signature_method', 'HMAC-SHA1'), ('oauth_consumer_key', '0a73e346a40b07262b6e36bdba01cba4'), ('oauth_token', '5ca4fafa5dd85bb0ecf516d96ad6bf07')]\n",
      "2018-01-10 13:10:07,871 oauthlib.oauth1.rfc5849 DEBUG    Normalized params: oauth_consumer_key=0a73e346a40b07262b6e36bdba01cba4&oauth_nonce=169599638502993168081515589807&oauth_signature_method=HMAC-SHA1&oauth_timestamp=1515589807&oauth_token=5ca4fafa5dd85bb0ecf516d96ad6bf07&oauth_version=1.0\n",
      "2018-01-10 13:10:07,872 oauthlib.oauth1.rfc5849 DEBUG    Normalized URI: https://commons.wikimedia.org/w/api.php\n",
      "2018-01-10 13:10:07,875 oauthlib.oauth1.rfc5849 DEBUG    Signing: signature base string: POST&https%3A%2F%2Fcommons.wikimedia.org%2Fw%2Fapi.php&oauth_consumer_key%3D0a73e346a40b07262b6e36bdba01cba4%26oauth_nonce%3D169599638502993168081515589807%26oauth_signature_method%3DHMAC-SHA1%26oauth_timestamp%3D1515589807%26oauth_token%3D5ca4fafa5dd85bb0ecf516d96ad6bf07%26oauth_version%3D1.0\n",
      "2018-01-10 13:10:07,875 oauthlib.oauth1.rfc5849 DEBUG    Signature: OroO13upx+1RYHxISnRHDR+gvf4=\n",
      "2018-01-10 13:10:07,876 oauthlib.oauth1.rfc5849 DEBUG    Encoding URI, headers and body to utf-8.\n",
      "2018-01-10 13:10:07,878 requests_oauthlib.oauth1_auth DEBUG    Updated url: https://commons.wikimedia.org/w/api.php\n",
      "2018-01-10 13:10:07,879 requests_oauthlib.oauth1_auth DEBUG    Updated headers: {b'user-agent': b'ipykernel_launcher (commons:commons; User:Discasto) Pywikibot/3.0-dev (g8918) requests/2.18.4 Python/3.6.3.final.0', b'Accept-Encoding': b'gzip, deflate', b'Accept': b'*/*', b'Connection': b'keep-alive', b'Content-Type': b'multipart/form-data; boundary=\"===============1417409787576136974==\"', b'MIME-Version': b'1.0', b'Cookie': b'GeoIP=:::::v4; WMF-Last-Access=10-Jan-2018', b'Content-Length': b'1066297', b'Authorization': b'OAuth oauth_nonce=\"169599638502993168081515589807\", oauth_timestamp=\"1515589807\", oauth_version=\"1.0\", oauth_signature_method=\"HMAC-SHA1\", oauth_consumer_key=\"0a73e346a40b07262b6e36bdba01cba4\", oauth_token=\"5ca4fafa5dd85bb0ecf516d96ad6bf07\", oauth_signature=\"OroO13upx%2B1RYHxISnRHDR%2Bgvf4%3D\"'}\n",
      "IOPub data rate exceeded.\n",
      "The notebook server will temporarily stop sending output\n",
      "to the client in order to avoid crashing it.\n",
      "To change this limit, set the config variable\n",
      "`--NotebookApp.iopub_data_rate_limit`.\n",
      "\n",
      "Current values:\n",
      "NotebookApp.iopub_data_rate_limit=1000000.0 (bytes/sec)\n",
      "NotebookApp.rate_limit_window=3.0 (secs)\n",
      "\n",
      "WARNING: API error badtoken: Invalid CSRF token.\n",
      "2018-01-10 13:10:08,190 pywiki WARNING  API error badtoken: Invalid CSRF token.\n",
      "2018-01-10 13:10:08,191 pywiki VERBOSE  Bad token error for Discasto. Tokens for \"csrf\" used in request; invalidated them.\n",
      "2018-01-10 13:10:08,194 requests_oauthlib.oauth1_auth DEBUG    Signing request <PreparedRequest [POST]> using client <Client client_key=0a73e346a40b07262b6e36bdba01cba4, client_secret=****, resource_owner_key=5ca4fafa5dd85bb0ecf516d96ad6bf07, resource_owner_secret=****, signature_method=HMAC-SHA1, signature_type=AUTH_HEADER, callback_uri=None, rsa_key=None, verifier=None, realm=None, encoding=utf-8, decoding=utf-8, nonce=None, timestamp=None>\n",
      "2018-01-10 13:10:08,194 requests_oauthlib.oauth1_auth DEBUG    Including body in call to sign: True\n",
      "2018-01-10 13:10:08,195 oauthlib.oauth1.rfc5849 DEBUG    Collected params: [('oauth_nonce', '181065389035416547931515589808'), ('oauth_timestamp', '1515589808'), ('oauth_version', '1.0'), ('oauth_signature_method', 'HMAC-SHA1'), ('oauth_consumer_key', '0a73e346a40b07262b6e36bdba01cba4'), ('oauth_token', '5ca4fafa5dd85bb0ecf516d96ad6bf07'), ('action', 'query'), ('meta', 'tokens|userinfo'), ('type', 'csrf'), ('uiprop', 'blockinfo|hasmsg'), ('rawcontinue', ''), ('maxlag', '5'), ('format', 'json')]\n",
      "2018-01-10 13:10:08,196 oauthlib.oauth1.rfc5849 DEBUG    Normalized params: action=query&format=json&maxlag=5&meta=tokens%7Cuserinfo&oauth_consumer_key=0a73e346a40b07262b6e36bdba01cba4&oauth_nonce=181065389035416547931515589808&oauth_signature_method=HMAC-SHA1&oauth_timestamp=1515589808&oauth_token=5ca4fafa5dd85bb0ecf516d96ad6bf07&oauth_version=1.0&rawcontinue=&type=csrf&uiprop=blockinfo%7Chasmsg\n",
      "2018-01-10 13:10:08,199 oauthlib.oauth1.rfc5849 DEBUG    Normalized URI: https://commons.wikimedia.org/w/api.php\n",
      "2018-01-10 13:10:08,201 oauthlib.oauth1.rfc5849 DEBUG    Signing: signature base string: POST&https%3A%2F%2Fcommons.wikimedia.org%2Fw%2Fapi.php&action%3Dquery%26format%3Djson%26maxlag%3D5%26meta%3Dtokens%257Cuserinfo%26oauth_consumer_key%3D0a73e346a40b07262b6e36bdba01cba4%26oauth_nonce%3D181065389035416547931515589808%26oauth_signature_method%3DHMAC-SHA1%26oauth_timestamp%3D1515589808%26oauth_token%3D5ca4fafa5dd85bb0ecf516d96ad6bf07%26oauth_version%3D1.0%26rawcontinue%3D%26type%3Dcsrf%26uiprop%3Dblockinfo%257Chasmsg\n",
      "2018-01-10 13:10:08,202 oauthlib.oauth1.rfc5849 DEBUG    Signature: uavE+0vnfP0Xk5KjJxveLNbc/sg=\n",
      "2018-01-10 13:10:08,202 oauthlib.oauth1.rfc5849 DEBUG    Encoding URI, headers and body to utf-8.\n",
      "2018-01-10 13:10:08,203 requests_oauthlib.oauth1_auth DEBUG    Updated url: https://commons.wikimedia.org/w/api.php\n",
      "2018-01-10 13:10:08,204 requests_oauthlib.oauth1_auth DEBUG    Updated headers: {b'user-agent': b'ipykernel_launcher (commons:commons; User:Discasto) Pywikibot/3.0-dev (g8918) requests/2.18.4 Python/3.6.3.final.0', b'Accept-Encoding': b'gzip, deflate', b'Accept': b'*/*', b'Connection': b'keep-alive', b'Content-Type': b'application/x-www-form-urlencoded', b'Cookie': b'GeoIP=:::::v4; WMF-Last-Access=10-Jan-2018', b'Content-Length': b'105', b'Authorization': b'OAuth oauth_nonce=\"181065389035416547931515589808\", oauth_timestamp=\"1515589808\", oauth_version=\"1.0\", oauth_signature_method=\"HMAC-SHA1\", oauth_consumer_key=\"0a73e346a40b07262b6e36bdba01cba4\", oauth_token=\"5ca4fafa5dd85bb0ecf516d96ad6bf07\", oauth_signature=\"uavE%2B0vnfP0Xk5KjJxveLNbc%2Fsg%3D\"'}\n"
     ]
    },
    {
     "name": "stderr",
     "output_type": "stream",
     "text": [
      "2018-01-10 13:10:08,204 requests_oauthlib.oauth1_auth DEBUG    Updated body: b'action=query&meta=tokens%7Cuserinfo&type=csrf&uiprop=blockinfo%7Chasmsg&rawcontinue=&maxlag=5&format=json'\n",
      "Sleeping for 9.5 seconds, 2018-01-10 13:10:08\n",
      "2018-01-10 13:10:08,256 pywiki INFO     Sleeping for 9.5 seconds, 2018-01-10 13:10:08\n",
      "2018-01-10 13:10:17,880 requests_oauthlib.oauth1_auth DEBUG    Signing request <PreparedRequest [POST]> using client <Client client_key=0a73e346a40b07262b6e36bdba01cba4, client_secret=****, resource_owner_key=5ca4fafa5dd85bb0ecf516d96ad6bf07, resource_owner_secret=****, signature_method=HMAC-SHA1, signature_type=AUTH_HEADER, callback_uri=None, rsa_key=None, verifier=None, realm=None, encoding=utf-8, decoding=utf-8, nonce=None, timestamp=None>\n",
      "2018-01-10 13:10:17,881 requests_oauthlib.oauth1_auth DEBUG    Including body in call to sign: False\n",
      "2018-01-10 13:10:17,885 oauthlib.oauth1.rfc5849 DEBUG    Collected params: [('oauth_nonce', '156207289968339573231515589817'), ('oauth_timestamp', '1515589817'), ('oauth_version', '1.0'), ('oauth_signature_method', 'HMAC-SHA1'), ('oauth_consumer_key', '0a73e346a40b07262b6e36bdba01cba4'), ('oauth_token', '5ca4fafa5dd85bb0ecf516d96ad6bf07')]\n",
      "2018-01-10 13:10:17,887 oauthlib.oauth1.rfc5849 DEBUG    Normalized params: oauth_consumer_key=0a73e346a40b07262b6e36bdba01cba4&oauth_nonce=156207289968339573231515589817&oauth_signature_method=HMAC-SHA1&oauth_timestamp=1515589817&oauth_token=5ca4fafa5dd85bb0ecf516d96ad6bf07&oauth_version=1.0\n",
      "2018-01-10 13:10:17,887 oauthlib.oauth1.rfc5849 DEBUG    Normalized URI: https://commons.wikimedia.org/w/api.php\n",
      "2018-01-10 13:10:17,888 oauthlib.oauth1.rfc5849 DEBUG    Signing: signature base string: POST&https%3A%2F%2Fcommons.wikimedia.org%2Fw%2Fapi.php&oauth_consumer_key%3D0a73e346a40b07262b6e36bdba01cba4%26oauth_nonce%3D156207289968339573231515589817%26oauth_signature_method%3DHMAC-SHA1%26oauth_timestamp%3D1515589817%26oauth_token%3D5ca4fafa5dd85bb0ecf516d96ad6bf07%26oauth_version%3D1.0\n",
      "2018-01-10 13:10:17,889 oauthlib.oauth1.rfc5849 DEBUG    Signature: A8NHhdvXqE5c8ZqXVpTpH94P8ns=\n",
      "2018-01-10 13:10:17,889 oauthlib.oauth1.rfc5849 DEBUG    Encoding URI, headers and body to utf-8.\n",
      "2018-01-10 13:10:17,890 requests_oauthlib.oauth1_auth DEBUG    Updated url: https://commons.wikimedia.org/w/api.php\n",
      "2018-01-10 13:10:17,890 requests_oauthlib.oauth1_auth DEBUG    Updated headers: {b'user-agent': b'ipykernel_launcher (commons:commons; User:Discasto) Pywikibot/3.0-dev (g8918) requests/2.18.4 Python/3.6.3.final.0', b'Accept-Encoding': b'gzip, deflate', b'Accept': b'*/*', b'Connection': b'keep-alive', b'Content-Type': b'multipart/form-data; boundary=\"===============6085206716557610620==\"', b'MIME-Version': b'1.0', b'Cookie': b'GeoIP=:::::v4; WMF-Last-Access=10-Jan-2018', b'Content-Length': b'1066297', b'Authorization': b'OAuth oauth_nonce=\"156207289968339573231515589817\", oauth_timestamp=\"1515589817\", oauth_version=\"1.0\", oauth_signature_method=\"HMAC-SHA1\", oauth_consumer_key=\"0a73e346a40b07262b6e36bdba01cba4\", oauth_token=\"5ca4fafa5dd85bb0ecf516d96ad6bf07\", oauth_signature=\"A8NHhdvXqE5c8ZqXVpTpH94P8ns%3D\"'}\n",
      "IOPub data rate exceeded.\n",
      "The notebook server will temporarily stop sending output\n",
      "to the client in order to avoid crashing it.\n",
      "To change this limit, set the config variable\n",
      "`--NotebookApp.iopub_data_rate_limit`.\n",
      "\n",
      "Current values:\n",
      "NotebookApp.iopub_data_rate_limit=1000000.0 (bytes/sec)\n",
      "NotebookApp.rate_limit_window=3.0 (secs)\n",
      "\n",
      "Upload successful.\n",
      "2018-01-10 13:10:21,008 pywiki INFO     Upload successful.\n",
      "Upload of Fernández de la Vega preside la reunión sobre la violencia de genero con los subdelegados de Gobierno.jpg successful.\n",
      "2018-01-10 13:10:21,010 pywiki INFO     Upload of Fernández de la Vega preside la reunión sobre la violencia de genero con los subdelegados de Gobierno.jpg successful.\n",
      "\n",
      "1 pages read\n",
      "1 pages written\n",
      "2018-01-10 13:10:21,011 pywiki INFO     \n",
      "1 pages read\n",
      "1 pages written\n",
      "Script terminated successfully.\n",
      "2018-01-10 13:10:21,012 pywiki INFO     Script terminated successfully.\n"
     ]
    }
   ],
   "source": [
    "from PIL import Image\n",
    "from io import BytesIO\n",
    "import requests\n",
    "\n",
    "print (\"Image to download: {0}\".format(image_url))\n",
    "image_name = \"%s.jpg\" %(title)\n",
    "image_path = os.path.join(os.path.realpath(os.path.abspath(os.path.split(inspect.getfile(inspect.currentframe()))[0])), image_name)\n",
    "print (\"Image downloaded to: {0}\".format(image_path))\n",
    "while True:\n",
    "    print ('Trying to download')\n",
    "    img_request = req_proxy.generate_proxied_request(image_url)\n",
    "    if img_request is not None:\n",
    "        bytes = BytesIO(img_request.content)\n",
    "        image = Image.open(bytes)\n",
    "        image.save(image_path)\n",
    "        print ('Image downloaded and accessed')\n",
    "        break\n",
    "    else :\n",
    "        print ('Trying again...')\n",
    "\n",
    "vars = {\n",
    "    \"url\": url,\n",
    "    \"description\": description,\n",
    "    \"author\": author,\n",
    "    \"date\": pub_date,\n",
    "    \"title\": title,\n",
    "    \"cat_string\": cat_string\n",
    "}\n",
    "t = Template(template)\n",
    "_text = t.render(**vars)\n",
    "print(_text)\n",
    "\n",
    "bot = UploadRobot(image_path,\n",
    "                        description = _text,\n",
    "                        useFilename = image_name,\n",
    "                        keepFilename = True,\n",
    "                        verifyDescription = False,\n",
    "                        ignoreWarning = True,\n",
    "                        targetSite = commons_site)\n",
    "bot.run()\n",
    "\n",
    "os.remove(image_path) "
   ]
  },
  {
   "cell_type": "code",
   "execution_count": null,
   "metadata": {},
   "outputs": [],
   "source": []
  }
 ],
 "metadata": {
  "kernelspec": {
   "display_name": "Python 3",
   "language": "python",
   "name": "python3"
  },
  "language_info": {
   "codemirror_mode": {
    "name": "ipython",
    "version": 3
   },
   "file_extension": ".py",
   "mimetype": "text/x-python",
   "name": "python",
   "nbconvert_exporter": "python",
   "pygments_lexer": "ipython3",
   "version": "3.6.3"
  }
 },
 "nbformat": 4,
 "nbformat_minor": 2
}
