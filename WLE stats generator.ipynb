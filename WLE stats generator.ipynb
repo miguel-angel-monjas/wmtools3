{
 "cells": [
  {
   "cell_type": "code",
   "execution_count": null,
   "metadata": {},
   "outputs": [],
   "source": [
    "#!/usr/bin/python\n",
    "# -*- coding: utf-8 -*-\n",
    "\"\"\"This notebook creates the statistics of TAG in COUNTRY in YEAR\"\"\"\n",
    "\n",
    "import inspect, os, sys\n",
    "\n",
    "try :\n",
    "    import pywikibot as pb\n",
    "    from pywikibot import pagegenerators, textlib\n",
    "    from pywikibot.specialbots import UploadRobot\n",
    "\n",
    "except :\n",
    "    current_folder = os.path.realpath(os.path.abspath(os.path.split(inspect.getfile(inspect.currentframe()))[0]))\n",
    "    folder_parts = current_folder.split(os.sep)\n",
    "    pywikibot_folder = os.sep.join(folder_parts[:-1])\n",
    "\n",
    "    if current_folder not in sys.path:\n",
    "        sys.path.insert(0, current_folder)\n",
    "    if pywikibot_folder not in sys.path:\n",
    "        sys.path.insert(0, pywikibot_folder)\n",
    "\n",
    "    import pywikibot as pb\n",
    "    from pywikibot import pagegenerators, textlib\n",
    "    from pywikibot.specialbots import UploadRobot\n",
    "\n",
    "import mwparserfromhell as mwh"
   ]
  },
  {
   "cell_type": "code",
   "execution_count": null,
   "metadata": {},
   "outputs": [],
   "source": [
    "from modules.wmtools import flickr_ripper, \\\n",
    "                            get_image_wikitext, \\\n",
    "                            get_project_name, \\\n",
    "                            get_registration_time, \\\n",
    "                            heat_color, \\\n",
    "                            upload_to_commons, \\\n",
    "                            upload_to_commons2, \\\n",
    "                            wrap_label"
   ]
  },
  {
   "cell_type": "code",
   "execution_count": null,
   "metadata": {},
   "outputs": [],
   "source": [
    "import pandas as pd\n",
    "import numpy as np\n",
    "from mako.template import Template\n",
    "from io import StringIO\n",
    "from datetime import datetime\n",
    "from urllib.parse import urlencode\n",
    "import requests\n",
    "import json\n",
    "from itertools import groupby\n",
    "from operator import itemgetter\n",
    "from functools import reduce\n",
    "import math\n",
    "import random"
   ]
  },
  {
   "cell_type": "code",
   "execution_count": null,
   "metadata": {},
   "outputs": [],
   "source": [
    "from geojson import Feature, Point, FeatureCollection\n",
    "import geojson"
   ]
  },
  {
   "cell_type": "code",
   "execution_count": null,
   "metadata": {},
   "outputs": [],
   "source": [
    "import matplotlib as mpl\n",
    "import matplotlib.pyplot as plt\n",
    "import matplotlib.dates as mdates\n",
    "from matplotlib.ticker import MaxNLocator\n",
    "import seaborn as sns\n",
    "import pylab\n",
    "\n",
    "sns.set_style(\"darkgrid\")\n",
    "#%matplotlib inline"
   ]
  },
  {
   "cell_type": "code",
   "execution_count": null,
   "metadata": {},
   "outputs": [],
   "source": [
    "# Project parameters\n",
    "YEAR                = 2017\n",
    "TAG                 = 'WLE'\n",
    "TAG_EXT             = \"Wiki Loves Earth\"\n",
    "COUNTRY             = \"Spain\"\n",
    "\n",
    "BASE_NAME           = \"Commons:Wiki Loves in {2}/{1}/{0}\".format(YEAR, TAG_EXT, COUNTRY)\n",
    "LOG_PAGE            = BASE_NAME + '/Log'\n",
    "STATISTICS_PAGE     = BASE_NAME + '/Stats'\n",
    "GALLERY_QI          = BASE_NAME + '/QI'\n",
    "GALLERY_PAGE        = BASE_NAME + '/User Gallery'\n",
    "MAP_WLE_PAGE        = BASE_NAME + '/Map'\n",
    "BASE_SITE_DB_NAME   = \"Commons:Wiki Loves in {1}/{0}\".format(TAG_EXT, COUNTRY)\n",
    "SITE_DB_PAGE        = BASE_SITE_DB_NAME + \"/Sites DB\"\n",
    "\n",
    "VALID_NAMESPACES    = ['0', '4', '100', '102', '104'] # see https://es.wikipedia.org/wiki/Ayuda:Espacio_de_nombres\n",
    "DAYS_BEFORE_REGISTRATION = 15\n",
    "\n",
    "WLE_FINALIST_CATEGORY = {\n",
    "    \"2015\": \"Category:Finalists of {0} in {2} {1}\".format(TAG_EXT, YEAR, COUNTRY),\n",
    "    \"2016\": \"Category:Evaluation of images from {0} {1} in {2} - Final\".format(TAG_EXT, YEAR, COUNTRY),\n",
    "    \"2017\": \"Category:Evaluation of images from {0} {1} in {2} - Final\".format(TAG_EXT, YEAR, COUNTRY)\n",
    "}\n",
    "commons_site = pb.Site('commons', 'commons')"
   ]
  },
  {
   "cell_type": "code",
   "execution_count": null,
   "metadata": {},
   "outputs": [],
   "source": [
    "# Base URL for interacting with MediaWiki API\n",
    "MW_API_BASE_URL     = 'https://commons.wikimedia.org/w/api.php'\n",
    "MW_API_QUERY_STRING = {\"action\": \"query\",\n",
    "                       \"format\": \"json\",\n",
    "                       \"gulimit\": \"500\",\n",
    "                       \"prop\": \"globalusage\",\n",
    "                       \"guprop\": \"url|namespace\",\n",
    "                       \"titles\": None\n",
    "                      }"
   ]
  },
  {
   "cell_type": "code",
   "execution_count": null,
   "metadata": {},
   "outputs": [],
   "source": [
    "# Different sizes for the images created\n",
    "figsize=[15., 10.]\n",
    "figsize_mid=[15., 15.]\n",
    "figsize_half=[8., 10.]\n",
    "figsize_high=[15., 30.]\n",
    "figsize_low=[15., 6.]"
   ]
  },
  {
   "cell_type": "code",
   "execution_count": null,
   "metadata": {},
   "outputs": [],
   "source": [
    "# Folder management (templates, images...)\n",
    "cwd = os.getcwd()\n",
    "\n",
    "images_directory = os.path.join(cwd, 'images')\n",
    "if not os.path.exists(images_directory):\n",
    "    os.makedirs(images_directory)\n",
    "    \n",
    "templates_directory = os.path.join(cwd, 'templates')"
   ]
  },
  {
   "cell_type": "code",
   "execution_count": null,
   "metadata": {},
   "outputs": [],
   "source": [
    "now = (datetime.now().strftime(\"%Y-%m-%d\"))"
   ]
  },
  {
   "cell_type": "code",
   "execution_count": null,
   "metadata": {},
   "outputs": [],
   "source": [
    "# Image description page\n",
    "template_file = os.path.join(templates_directory, 'file.wiki')\n",
    "fh = open(template_file, 'r', encoding = \"utf-8\")\n",
    "image_wikitext = fh.read()\n",
    "fh.close()"
   ]
  },
  {
   "cell_type": "code",
   "execution_count": null,
   "metadata": {},
   "outputs": [],
   "source": [
    "annexes = {\n",
    "   'ES-AN': [u'Anexo:Lugares de importancia comunitaria de Andalucía', 'Andalusia'],\n",
    "   'ES-AR': [u'Anexo:Lugares de importancia comunitaria de Aragón', 'Aragon'],\n",
    "   'ES-AS': [u'Anexo:Lugares de importancia comunitaria de Asturias', 'Asturias'],\n",
    "   'ES-CB': [u'Anexo:Lugares de importancia comunitaria de Cantabria', 'Cantabria'],\n",
    "   'ES-CM': [u'Anexo:Lugares de importancia comunitaria de Castilla-La Mancha', 'Castile-La Mancha'],\n",
    "   'ES-CL': [u'Anexo:Lugares de importancia comunitaria de Castilla y León', u'Castile and León'],\n",
    "   'ES-CT': [u'Anexo:Lugares de importancia comunitaria de Cataluña', 'Catalonia'],\n",
    "   'ES-MD': [u'Anexo:Lugares de importancia comunitaria de la Comunidad de Madrid', 'Community of Madrid'],\n",
    "   'ES-VC': [u'Anexo:Lugares de importancia comunitaria de la Comunidad Valenciana', 'Valencian Community'],\n",
    "   'ES-EX': [u'Anexo:Lugares de importancia comunitaria de Extremadura', 'Extremadura'],\n",
    "   'ES-IB': [u'Anexo:Lugares de importancia comunitaria de las Islas Baleares', 'Balearic Islands'],\n",
    "   'ES-CN': [u'Anexo:Lugares de importancia comunitaria de las Islas Canarias', 'Canary Islands'],\n",
    "   'ES-GA': [u'Anexo:Lugares de importancia comunitaria de Galicia', 'Galicia'],\n",
    "   'ES-RI': [u'Anexo:Lugares de importancia comunitaria de La Rioja', 'La Rioja'],\n",
    "   'ES-NC': [u'Anexo:Lugares de importancia comunitaria de Navarra', 'Navarre'],\n",
    "   'ES-MC': [u'Anexo:Lugares de importancia comunitaria de la Región de Murcia', 'Region of Murcia'],\n",
    "   'ES-PV': [u'Anexo:Lugares de importancia comunitaria del País Vasco', 'Basque Country'],\n",
    "   'ES-CE': [u'Anexo:Lugares de importancia comunitaria de Ceuta y Melilla', 'Ceuta'],\n",
    "   'ES-ML': [u'Anexo:Lugares de importancia comunitaria de Ceuta y Melilla', 'Melilla'],\n",
    "   'ES-MAGRAMA': [u'Anexo:Lugares de importancia comunitaria del MAGRAMA', 'MAGRAMA']\n",
    "}"
   ]
  },
  {
   "cell_type": "code",
   "execution_count": null,
   "metadata": {},
   "outputs": [],
   "source": [
    "# Seaborn palette for autonomous communities\n",
    "autcom_palette = [i[1:] for i in sns.color_palette('hls', 20).as_hex()]\n",
    "autcoms = [annexes[key][1] for key in annexes]\n",
    "autcom_colors = {autcom: autcom_palette[i] for i, autcom in enumerate(autcoms)}\n",
    "autcom_colors"
   ]
  },
  {
   "cell_type": "markdown",
   "metadata": {},
   "source": [
    "## Auxiliary functions"
   ]
  },
  {
   "cell_type": "code",
   "execution_count": null,
   "metadata": {},
   "outputs": [],
   "source": [
    "def expand_itemid (_list):\n",
    "    new_list = [{\"itemid\": i, \n",
    "                 \"name\": site_df[site_df['code'] == i]['name'].values[0], \n",
    "                 \"category\": site_df[site_df['code'] == i]['commons_cat'].values[0]}\n",
    "                if type(site_df[site_df['code'] == i]['commons_cat'].values[0]) is str\n",
    "                else {\"itemid\": i, \n",
    "                 \"name\": site_df[site_df['code'] == i]['name'].values[0], \n",
    "                 \"category\": ''}\n",
    "                for i in _list]\n",
    "    if len(new_list) > 0:\n",
    "        new_list = sorted(new_list, key=lambda k: k['name']) \n",
    "    return new_list\n",
    "\n",
    "def decode_list (_list) :\n",
    "    try:\n",
    "        new_list = _list[:]\n",
    "    except :\n",
    "        new_list = []\n",
    "    return new_list"
   ]
  },
  {
   "cell_type": "code",
   "execution_count": null,
   "metadata": {},
   "outputs": [],
   "source": [
    "def to_geojson (row) :\n",
    "    \"\"\"For each site of community importance, identified by row['code'], this function\n",
    "    creates a proper GeoJSON Feature\"\"\"\n",
    "    images_subset_df = images_df[(images_df['code'] == row['code']) & (images_df['width'] > images_df['height'])]\n",
    "    if len (images_subset_df.index) == 0:\n",
    "        images_subset_df = images_df[images_df['code'] == row['code']]\n",
    "\n",
    "    if len(images_subset_df[images_subset_df['qi'] == 'qi']) > 0 :\n",
    "        popup_image = images_subset_df[images_subset_df['qi'] == 'qi'].sample(1, random_state=0)['image_title'].values[0]\n",
    "    elif len(images_subset_df[images_subset_df['finalist'] == 'finalist']) > 0 :\n",
    "        popup_image = images_subset_df[images_subset_df['finalist'] == 'finalist'].sample(1, random_state=0)['image_title'].values[0]\n",
    "    else :\n",
    "        popup_image = images_subset_df.sample(1, random_state=0)['image_title'].values[0]\n",
    "\n",
    "    properties = {\"description\": \"[[File:{0}|150px]]\".format(popup_image),\n",
    "                  \"title\": \"[[:Category:Images of a site of community importance with code {0} from {2} {1} in {4}|{3}]]\".format(row['code'], YEAR, TAG_EXT, row['name'], COUNTRY),\n",
    "                  \"marker-size\": \"small\",\n",
    "                  \"marker-symbol\": \"circle\",\n",
    "                  \"marker-color\": autcom_colors[row['aut_com']]}\n",
    "\n",
    "    feature = Feature(geometry=Point((float(row['longitude']), float(row['latitude']))), \n",
    "                      properties=properties\n",
    "                     )\n",
    "    return feature"
   ]
  },
  {
   "cell_type": "markdown",
   "metadata": {},
   "source": [
    "## Retrieval of the sites of community importance"
   ]
  },
  {
   "cell_type": "code",
   "execution_count": null,
   "metadata": {},
   "outputs": [],
   "source": [
    "# retrieval of the WLE SCI (site of community importance) log\n",
    "pb.output('Retrieving --> WLE site of community importance list')\n",
    "site_list_page = pb.Page(commons_site, SITE_DB_PAGE)\n",
    "site_list_text = StringIO(site_list_page.text[site_list_page.text.find('\\n') + \n",
    "                                                      1:site_list_page.text.rfind('\\n')])\n",
    "site_df = pd.read_csv(site_list_text, sep=\";\",\n",
    "                      index_col=False,\n",
    "                      names=[\"name\", \"code\", \"magrama_url\", \"community\",\n",
    "                            \"bio_region\", \"continent\", \"min_altitude\",\n",
    "                            \"max_altitude\", \"avg_altitude\", \"longitude\",\n",
    "                            \"latitude\", \"area\", \"marine_percentage\",\n",
    "                            \"marine_area\", \"image\", \"commons_cat\", \"wikidata_id\"])\n",
    "\n",
    "pb.output('Retrieved --> WLE site of community importance list')"
   ]
  },
  {
   "cell_type": "code",
   "execution_count": null,
   "metadata": {},
   "outputs": [],
   "source": [
    "site_df[\"aut_com\"] = site_df[\"community\"].apply(lambda x: annexes[x][1])"
   ]
  },
  {
   "cell_type": "code",
   "execution_count": null,
   "metadata": {},
   "outputs": [],
   "source": [
    "site_df.head()"
   ]
  },
  {
   "cell_type": "code",
   "execution_count": null,
   "metadata": {},
   "outputs": [],
   "source": [
    "site_length = len(site_df.index)\n",
    "site_length"
   ]
  },
  {
   "cell_type": "code",
   "execution_count": null,
   "metadata": {},
   "outputs": [],
   "source": [
    "valid_sites = site_df['code'].values\n",
    "valid_sites"
   ]
  },
  {
   "cell_type": "markdown",
   "metadata": {},
   "source": [
    "## Retrieval of the images log"
   ]
  },
  {
   "cell_type": "code",
   "execution_count": null,
   "metadata": {},
   "outputs": [],
   "source": [
    "pb.output('Retrieving --> {1} {0} in {2} images list from cache'.format(YEAR, TAG, COUNTRY))\n",
    "list_page = pb.Page(commons_site, LOG_PAGE)\n",
    "list_page_text = StringIO(list_page.text[list_page.text.find('\\n') + 1:list_page.text.rfind('\\n')])\n",
    "images_df = pd.read_csv(list_page_text,\n",
    "                            sep=\";\",\n",
    "                            index_col=False,\n",
    "                            names=['image_title', 'code', \n",
    "                               'uploader', 'uploader_registration', \n",
    "                               'timestamp', 'date', 'size', \n",
    "                               'height', 'width', 'qi', \n",
    "                               'finalist']\n",
    "                       ).fillna('')\n",
    "pb.output('Retrieved --> {1} {0} in {2} images list from cache'.format(YEAR, TAG, COUNTRY))\n",
    "\n",
    "images_df['timestamp'] = pd.to_datetime(images_df['timestamp'], format=\"%Y-%m-%d %H:%M:%S\")\n",
    "images_df['days_from_user_reg'] = images_df.apply(lambda row: (row['timestamp'] - pd.to_datetime(row['uploader_registration'], format=\"%Y-%m-%d\")).days, axis=1)\n",
    "images_df['days_from_creation'] = images_df.apply(lambda row: (row['timestamp'] - pd.to_datetime(row['date'], format=\"%Y-%m-%d\")).days, axis=1)\n",
    "\n",
    "images_df.set_index([\"timestamp\"], inplace=True)\n",
    "del images_df.index.name\n",
    "\n",
    "total_images_length = len(images_df)\n",
    "total_images_length"
   ]
  },
  {
   "cell_type": "code",
   "execution_count": null,
   "metadata": {},
   "outputs": [],
   "source": [
    "images_df.head()"
   ]
  },
  {
   "cell_type": "markdown",
   "metadata": {},
   "source": [
    "### Quality images"
   ]
  },
  {
   "cell_type": "code",
   "execution_count": null,
   "metadata": {},
   "outputs": [],
   "source": [
    "qi_list = images_df[images_df['qi'] == 'qi']['image_title']\n",
    "qi_list"
   ]
  },
  {
   "cell_type": "code",
   "execution_count": null,
   "metadata": {},
   "outputs": [],
   "source": [
    "qi_length = len(qi_list)\n",
    "qi_length"
   ]
  },
  {
   "cell_type": "markdown",
   "metadata": {},
   "source": [
    "## Uploaders"
   ]
  },
  {
   "cell_type": "markdown",
   "metadata": {},
   "source": [
    "### Uploaders age"
   ]
  },
  {
   "cell_type": "code",
   "execution_count": null,
   "metadata": {},
   "outputs": [],
   "source": [
    "uploaders = images_df.groupby(['uploader']).min()['days_from_user_reg']\n",
    "uploaders"
   ]
  },
  {
   "cell_type": "code",
   "execution_count": null,
   "metadata": {},
   "outputs": [],
   "source": [
    "authors_length = len(uploaders.index)\n",
    "authors_length"
   ]
  },
  {
   "cell_type": "code",
   "execution_count": null,
   "metadata": {},
   "outputs": [],
   "source": [
    "days_from_user_reg = uploaders[~uploaders.index.str.contains('flickr')].value_counts().sort_index(ascending=False)\n",
    "days_from_user_reg"
   ]
  },
  {
   "cell_type": "code",
   "execution_count": null,
   "metadata": {},
   "outputs": [],
   "source": [
    "age = pd.cut(uploaders, bins=[0, 15, 365, 730, 3650, 5000], include_lowest=True).value_counts()"
   ]
  },
  {
   "cell_type": "code",
   "execution_count": null,
   "metadata": {},
   "outputs": [],
   "source": [
    "padding = {\n",
    "    \"2017\": 3,\n",
    "    \"2016\": 3,\n",
    "    \"2015\": 6\n",
    "}\n",
    "PADDING = padding[str(YEAR)]\n",
    "\n",
    "fig, ax = plt.subplots(figsize=figsize)\n",
    "\n",
    "p = sns.barplot(ax=ax, y=age.index, x=age.values)\n",
    "p.set_xlabel(\"# Contestants\", fontsize=18)\n",
    "p.set_ylabel(\"Age (time from registration)\", fontsize=18)\n",
    "\n",
    "p.set_title(label='{1} {0} in {2}: Contestant age'.format(YEAR, TAG, COUNTRY), fontsize=20)\n",
    "p.tick_params(labelsize=14)\n",
    "\n",
    "p.set_yticklabels(['Less than 15 days\\nnew )', \n",
    "                   'Between 15 days\\nand one year', \n",
    "                   'Between one\\nand two years', \n",
    "                   'Between two\\nand ten years', \n",
    "                   'More than ten years'])\n",
    "\n",
    "for patch in ax.patches:\n",
    "    ax.text(patch.get_width() + PADDING,\n",
    "            patch.get_y() + patch.get_height()/2.,\n",
    "            '{:1.0f}'.format(patch.get_width()),\n",
    "            ha=\"center\",\n",
    "            fontsize=14)\n",
    "\n",
    "desc = get_image_wikitext(image_wikitext,\n",
    "                          '{1} {0} in {2}: Contestant age. Time from registration to first contribution to contest.'.format(YEAR, TAG_EXT, COUNTRY),\n",
    "                          YEAR, TAG_EXT, COUNTRY\n",
    "                         )\n",
    "upload_to_commons2(p, \"{1} {0} in {2} - Contestant age.png\".format(YEAR, TAG, COUNTRY), desc)"
   ]
  },
  {
   "cell_type": "markdown",
   "metadata": {},
   "source": [
    "### New uploaders"
   ]
  },
  {
   "cell_type": "code",
   "execution_count": null,
   "metadata": {},
   "outputs": [],
   "source": [
    "new_uploaders = uploaders[uploaders<DAYS_BEFORE_REGISTRATION].index\n",
    "new_uploaders"
   ]
  },
  {
   "cell_type": "code",
   "execution_count": null,
   "metadata": {},
   "outputs": [],
   "source": [
    "new_uploaders_length = len(new_uploaders)\n",
    "new_uploaders_length"
   ]
  },
  {
   "cell_type": "markdown",
   "metadata": {},
   "source": [
    "### Images by uploader"
   ]
  },
  {
   "cell_type": "code",
   "execution_count": null,
   "metadata": {},
   "outputs": [],
   "source": [
    "images_per_uploader = images_df['uploader'].value_counts()\n",
    "images_per_uploader = images_per_uploader.rename('images')\n",
    "images_per_uploader = images_per_uploader.iloc[np.lexsort([images_per_uploader.index, -images_per_uploader.values])]\n",
    "images_per_uploader"
   ]
  },
  {
   "cell_type": "code",
   "execution_count": null,
   "metadata": {
    "scrolled": true
   },
   "outputs": [],
   "source": [
    "new_uploaders_contributions = images_per_uploader[new_uploaders]\n",
    "new_uploaders_contributions"
   ]
  },
  {
   "cell_type": "code",
   "execution_count": null,
   "metadata": {},
   "outputs": [],
   "source": [
    "# THIS PARAMETER IS YEAR-DEPENDENT AND COMES FROM MANUAL INSPECTION\n",
    "top_uploaders ={\n",
    "    \"2017\": 16,\n",
    "    \"2016\": 18,\n",
    "    \"2015\": 19\n",
    "}\n",
    "TOP_UPLOADERS = top_uploaders[str(YEAR)]"
   ]
  },
  {
   "cell_type": "code",
   "execution_count": null,
   "metadata": {},
   "outputs": [],
   "source": [
    "remaining_images_per_uploader = images_per_uploader[:TOP_UPLOADERS]\n",
    "remaining_images_per_uploader.index = remaining_images_per_uploader.index.map(flickr_ripper).map(lambda x: wrap_label(x, 16))\n",
    "remaining_images_per_uploader"
   ]
  },
  {
   "cell_type": "code",
   "execution_count": null,
   "metadata": {},
   "outputs": [],
   "source": [
    "padding = {\n",
    "    \"2017\": 2,\n",
    "    \"2016\": 3,\n",
    "    \"2015\": 4\n",
    "}\n",
    "PADDING = padding[str(YEAR)]\n",
    "\n",
    "fig, ax = plt.subplots(figsize=figsize)\n",
    "\n",
    "p = sns.barplot(ax=ax, x=remaining_images_per_uploader.index, y=remaining_images_per_uploader.values)\n",
    "p.set_xlabel(\"Contributors\", fontsize=18)\n",
    "p.set_ylabel(\"# Photographs\", fontsize=18)\n",
    "\n",
    "p.set_title(label='{1} {0} in {2}: Top uploaders'.format(YEAR, TAG, COUNTRY), fontsize=20)\n",
    "p.tick_params(labelsize=14)\n",
    "\n",
    "p.set_xticklabels(p.get_xticklabels(), rotation=90)\n",
    "\n",
    "for patch in p.patches:\n",
    "    height = patch.get_height()\n",
    "    p.text(patch.get_x() + patch.get_width()/2.,\n",
    "            height + PADDING,\n",
    "            '{:1.0f}'.format(height),\n",
    "            ha=\"center\",\n",
    "            fontsize=13)\n",
    "\n",
    "desc = get_image_wikitext(image_wikitext,\n",
    "                          'Top {2} contributors to {1} {0} in {3}'.format(YEAR, TAG_EXT, TOP_UPLOADERS, COUNTRY),\n",
    "                          YEAR, TAG_EXT, COUNTRY\n",
    "                         )\n",
    "upload_to_commons2(p, \"{1} {0} in {2} - Top authors.png\".format(YEAR, TAG, COUNTRY), desc)"
   ]
  },
  {
   "cell_type": "code",
   "execution_count": null,
   "metadata": {},
   "outputs": [],
   "source": [
    "images_df['uploader'].unique()"
   ]
  },
  {
   "cell_type": "code",
   "execution_count": null,
   "metadata": {},
   "outputs": [],
   "source": [
    "valid_images_length = len(images_df[images_df['code'].isin(valid_sites)].index)\n",
    "valid_images_length"
   ]
  },
  {
   "cell_type": "code",
   "execution_count": null,
   "metadata": {},
   "outputs": [],
   "source": [
    "images_df[images_df['code'].isin(valid_sites)]['code'].unique()"
   ]
  },
  {
   "cell_type": "markdown",
   "metadata": {},
   "source": [
    "### Sites by uploader"
   ]
  },
  {
   "cell_type": "code",
   "execution_count": null,
   "metadata": {},
   "outputs": [],
   "source": [
    "sites_per_uploader_df = images_df[images_df['code'].isin(valid_sites)].\\\n",
    "                                    groupby(['uploader']).\\\n",
    "                                    agg({\"code\": pd.Series.nunique}).\\\n",
    "                                    sort_values('code', ascending=False)\n",
    "sites_per_uploader = sites_per_uploader_df[\"code\"]\n",
    "sites_per_uploader = sites_per_uploader.rename('sites')\n",
    "sites_per_uploader = sites_per_uploader.iloc[np.lexsort([sites_per_uploader.index, -sites_per_uploader.values])]\n",
    "sites_per_uploader"
   ]
  },
  {
   "cell_type": "code",
   "execution_count": null,
   "metadata": {},
   "outputs": [],
   "source": [
    "# THIS PARAMETER IS YEAR-DEPENDENT AND COMES FROM MANUAL INSPECTION\n",
    "top_uploaders_by_site ={\n",
    "    \"2017\": 16,\n",
    "    \"2016\": 16,\n",
    "    \"2015\": 16\n",
    "}\n",
    "TOP_UPLOADERS_BY_SITE = top_uploaders_by_site[str(YEAR)]"
   ]
  },
  {
   "cell_type": "code",
   "execution_count": null,
   "metadata": {},
   "outputs": [],
   "source": [
    "wle_sites_length = images_df[images_df['code'].isin(valid_sites)]['code'].unique().size\n",
    "wle_sites_length"
   ]
  },
  {
   "cell_type": "code",
   "execution_count": null,
   "metadata": {},
   "outputs": [],
   "source": [
    "padding = {\n",
    "    \"2017\": 0.5,\n",
    "    \"2016\": 0.5,\n",
    "    \"2015\": 0.5\n",
    "}\n",
    "PADDING = padding[str(YEAR)]\n",
    "\n",
    "fig, ax = plt.subplots(figsize=figsize)\n",
    "\n",
    "p = sns.barplot(ax=ax, \n",
    "                x=sites_per_uploader[:TOP_UPLOADERS_BY_SITE].index.map(flickr_ripper).map(lambda x: wrap_label(x, 16)), \n",
    "                y=sites_per_uploader[:TOP_UPLOADERS_BY_SITE].values\n",
    "               )\n",
    "p.set_xlabel(\"Contributors\", fontsize=18)\n",
    "p.set_ylabel(\"# Sites\", fontsize=18)\n",
    "\n",
    "p.set_title(label='{1} {0} in {2}: Top uploaders by site of community importance'.format(YEAR, TAG, COUNTRY), fontsize=20)\n",
    "p.tick_params(labelsize=14)\n",
    "\n",
    "p.set_xticklabels(p.get_xticklabels(), rotation=90)\n",
    "p.yaxis.set_major_locator(MaxNLocator(integer=True))\n",
    "\n",
    "for patch in p.patches:\n",
    "    height = patch.get_height()\n",
    "    p.text(patch.get_x() + patch.get_width()/2.,\n",
    "            height + PADDING,\n",
    "            '{:1.0f}'.format(height),\n",
    "            ha=\"center\",\n",
    "            fontsize=13)\n",
    "\n",
    "desc = get_image_wikitext(image_wikitext,\n",
    "                          'Top {2} contributors to {1} {0} in {3}'.format(YEAR, TAG_EXT, TOP_UPLOADERS_BY_SITE, COUNTRY),\n",
    "                          YEAR, TAG_EXT, COUNTRY\n",
    "                         )\n",
    "upload_to_commons2(p, \"{1} {0} in {2} - Top authors by site of community importance.png\".format(YEAR, TAG, COUNTRY), desc)"
   ]
  },
  {
   "cell_type": "code",
   "execution_count": null,
   "metadata": {},
   "outputs": [],
   "source": [
    "uploaders_df = pd.concat([sites_per_uploader, images_per_uploader], axis=1).fillna(0)\n",
    "uploaders_df.columns=['Sites', 'Photographs']\n",
    "uploaders_df['Sites'] = uploaders_df['Sites'].astype(int)\n",
    "uploaders_df = uploaders_df.iloc[np.lexsort([uploaders_df.index, -uploaders_df['Photographs']])]\n",
    "uploaders_df.index = uploaders_df.index.map(flickr_ripper).map(lambda x: wrap_label(x, 16))\n",
    "uploaders_df"
   ]
  },
  {
   "cell_type": "code",
   "execution_count": null,
   "metadata": {},
   "outputs": [],
   "source": [
    "padding = {\n",
    "    \"2017\": 2,\n",
    "    \"2016\": 3,\n",
    "    \"2015\": 4\n",
    "}\n",
    "PADDING = padding[str(YEAR)]\n",
    "\n",
    "fig, ax = plt.subplots(figsize=figsize)\n",
    "\n",
    "p = sns.barplot(ax=ax, \n",
    "                x=uploaders_df[:TOP_UPLOADERS].index, \n",
    "                y=uploaders_df[:TOP_UPLOADERS]['Photographs'], \n",
    "                hue=uploaders_df[:TOP_UPLOADERS]['Sites'],\n",
    "                dodge=False)\n",
    "p.set_xlabel(\"Contributors\", fontsize=18)\n",
    "p.set_ylabel(\"# Photographs\", fontsize=18)\n",
    "\n",
    "p.set_title(label='{1} {0} in {2}: Top uploaders\\nby number of photographs and sites'.format(YEAR, TAG, COUNTRY), fontsize=20)\n",
    "\n",
    "p.tick_params(labelsize=14)\n",
    "p.set_xticklabels(p.get_xticklabels(), rotation=90)\n",
    "\n",
    "handles, labels = p.get_legend_handles_labels()\n",
    "handles.reverse()\n",
    "labels.reverse()\n",
    "\n",
    "legend = plt.legend(loc='upper right', \n",
    "                    title='Number of\\nsites', \n",
    "                    fontsize=14,\n",
    "                    labels=labels,\n",
    "                    handles=handles)\n",
    "plt.setp(legend.get_title(), fontsize=16)\n",
    "\n",
    "for patch in p.patches:\n",
    "    height = patch.get_height()\n",
    "    if not math.isnan(height):\n",
    "        p.text(patch.get_x() + patch.get_width()/2.,\n",
    "                height + PADDING,\n",
    "                '{:1.0f}'.format(height),\n",
    "                ha=\"center\",\n",
    "                fontsize=13)\n",
    "\n",
    "desc = get_image_wikitext(image_wikitext,\n",
    "                          'Top {2} contributors to {1} {0} in {3} with contribution to sites'.format(YEAR, TAG_EXT, TOP_UPLOADERS, COUNTRY),\n",
    "                          YEAR, TAG_EXT, COUNTRY\n",
    "                         )\n",
    "upload_to_commons2(p, \"{1} {0} in {2} - Top authors (2).png\".format(YEAR, TAG, COUNTRY), desc)"
   ]
  },
  {
   "cell_type": "markdown",
   "metadata": {},
   "source": [
    "## Contributions by day"
   ]
  },
  {
   "cell_type": "code",
   "execution_count": null,
   "metadata": {},
   "outputs": [],
   "source": [
    "upload_ts = images_df['image_title'].resample('d').count()\n",
    "try:\n",
    "    upload_ts[datetime(YEAR, 5, 31)] = upload_ts[datetime(YEAR, 5, 31)] + upload_ts[datetime(YEAR, 6, 1)]\n",
    "    upload_ts.drop(datetime(YEAR, 6, 1), inplace=True)\n",
    "except :\n",
    "    pass\n",
    "upload_ts = pd.Series([0]*31, index = pd.date_range(datetime(YEAR, 5, 1), periods=31, freq='D')) + upload_ts\n",
    "upload_ts = upload_ts.fillna(0).astype(int)\n",
    "upload_ts"
   ]
  },
  {
   "cell_type": "code",
   "execution_count": null,
   "metadata": {},
   "outputs": [],
   "source": [
    "padding = {\n",
    "    \"2017\": 4,\n",
    "    \"2016\": 4,\n",
    "    \"2015\": 5\n",
    "}\n",
    "PADDING = padding[str(YEAR)]\n",
    "\n",
    "# THIS IS YEAR-DEPENDENT\n",
    "fig, ax = plt.subplots(figsize=figsize)\n",
    "\n",
    "p = ax.bar(upload_ts.index.to_pydatetime(), \n",
    "       upload_ts.values,\n",
    "       color=sns.color_palette(\"Blues_d\", 30))\n",
    "ax.xaxis.set_major_locator(mdates.AutoDateLocator())\n",
    "ax.xaxis.set_major_formatter(mdates.DateFormatter('%Y-%m-%d'))\n",
    "ax.set_xlabel('Date', fontsize=18)\n",
    "ax.set_ylabel(\"# Photographs\", fontsize=18)\n",
    "ax.set_title(label='Photographs uploaded to {1} {0} in {2}'.format(YEAR, TAG, COUNTRY), fontsize=20)\n",
    "\n",
    "ax.tick_params(labelsize=14)\n",
    "plt.xticks(rotation=90)\n",
    "\n",
    "for patch in ax.patches:\n",
    "    height = patch.get_height()\n",
    "    if height > 0 :\n",
    "        ax.text(patch.get_x() + patch.get_width()/2.,\n",
    "                height + PADDING,\n",
    "                '{:1.0f}'.format(height),\n",
    "                ha=\"center\",\n",
    "                fontsize=13)\n",
    "\n",
    "desc = get_image_wikitext(image_wikitext,\n",
    "                          'Number of images uploaded to {1} {0} in {2} by day'.format(YEAR, TAG, COUNTRY),\n",
    "                          YEAR, TAG_EXT, COUNTRY\n",
    "                         )\n",
    "upload_to_commons2(plt, \"{1} {0} in {2} - Uploads by day.png\".format(YEAR, TAG, COUNTRY), desc)"
   ]
  },
  {
   "cell_type": "markdown",
   "metadata": {},
   "source": [
    "## MediaWiki tables creation"
   ]
  },
  {
   "cell_type": "code",
   "execution_count": null,
   "metadata": {},
   "outputs": [],
   "source": [
    "# Dataframe merge (images and sites)\n",
    "images_extended_df = pd.merge(images_df, site_df, on='code', how='left')\n",
    "len(images_extended_df.index)"
   ]
  },
  {
   "cell_type": "markdown",
   "metadata": {},
   "source": [
    "### New uploaders"
   ]
  },
  {
   "cell_type": "code",
   "execution_count": null,
   "metadata": {},
   "outputs": [],
   "source": [
    "new_uploaders_contributions = images_per_uploader[new_uploaders]\n",
    "new_uploaders_contributions"
   ]
  },
  {
   "cell_type": "markdown",
   "metadata": {},
   "source": [
    "### Authors dataframe"
   ]
  },
  {
   "cell_type": "code",
   "execution_count": null,
   "metadata": {},
   "outputs": [],
   "source": [
    "valid_images_per_uploader = images_df[images_df['code'].isin(valid_sites)]['uploader'].value_counts()\n",
    "valid_images_per_uploader = valid_images_per_uploader.rename('valid_images')\n",
    "valid_images_per_uploader = valid_images_per_uploader.iloc[np.lexsort([valid_images_per_uploader.index, -valid_images_per_uploader.values])]\n",
    "valid_images_per_uploader"
   ]
  },
  {
   "cell_type": "code",
   "execution_count": null,
   "metadata": {},
   "outputs": [],
   "source": [
    "site_list_per_uploader = images_extended_df[images_extended_df['code'].isin(valid_sites)]\\\n",
    "                                                                      .groupby('uploader')['code']\\\n",
    "                                                                      .apply(set)\\\n",
    "                                                                      .apply(lambda x: filter(None, x))\\\n",
    "                                                                      .apply(lambda x: expand_itemid(x))\\\n",
    "                                                                      .rename('site_list', inplace=True)\n",
    "site_list_per_uploader"
   ]
  },
  {
   "cell_type": "code",
   "execution_count": null,
   "metadata": {},
   "outputs": [],
   "source": [
    "authors_df = pd.concat([images_per_uploader, valid_images_per_uploader, sites_per_uploader, site_list_per_uploader], axis=1)\\\n",
    "               .sort_values(by='images', ascending=False)\\\n",
    "               .reset_index()\\\n",
    "               .rename(columns = {'index': 'contestant'})\n",
    "\n",
    "authors_df[['images', 'valid_images', 'sites']] = authors_df[['images', 'valid_images', 'sites']]\\\n",
    "                                                                        .fillna(0)\\\n",
    "                                                                        .astype('int')\n",
    "\n",
    "authors_df = authors_df.iloc[np.lexsort([authors_df['contestant'], -authors_df['images']])]\n",
    "authors_df['registration_string'] = authors_df['contestant'].map(lambda x: get_registration_time(x))\n",
    "authors_df['site_list'] = authors_df['site_list'].map(lambda x: decode_list(x))\n",
    "authors_df"
   ]
  },
  {
   "cell_type": "markdown",
   "metadata": {},
   "source": [
    "### Images by site dataframe"
   ]
  },
  {
   "cell_type": "code",
   "execution_count": null,
   "metadata": {},
   "outputs": [],
   "source": [
    "images_per_site = images_extended_df[images_extended_df['code'].isin(valid_sites)]['code'].value_counts()\n",
    "images_per_site"
   ]
  },
  {
   "cell_type": "code",
   "execution_count": null,
   "metadata": {},
   "outputs": [],
   "source": [
    "# THIS PARAMETER IS YEAR-DEPENDENT AND COMES FROM MANUAL INSPECTION\n",
    "# May be set to the number of sites with more than X pictures\n",
    "top_sites ={\n",
    "    \"2017\": 20,\n",
    "    \"2016\": 22,\n",
    "    \"2015\": 18\n",
    "}\n",
    "TOP_SITES = top_sites[str(YEAR)]"
   ]
  },
  {
   "cell_type": "code",
   "execution_count": null,
   "metadata": {},
   "outputs": [],
   "source": [
    "images_per_site_df = pd.DataFrame(data=images_per_site).reset_index()\n",
    "images_per_site_df.rename(columns={'index': 'code', 'code': 'count'}, inplace=True)"
   ]
  },
  {
   "cell_type": "code",
   "execution_count": null,
   "metadata": {},
   "outputs": [],
   "source": [
    "images_per_site_df = pd.merge(images_per_site_df, site_df, on='code')[['count', 'code', 'name', 'aut_com', 'latitude', 'longitude', 'commons_cat']].fillna('')\n",
    "images_per_site_df = images_per_site_df.iloc[np.lexsort([images_per_site_df['name'], -images_per_site_df['count']])]\n",
    "images_per_site_df['name'] = images_per_site_df['name'].map(lambda x: x.replace('_', ' '))\n",
    "images_per_site_df.head()"
   ]
  },
  {
   "cell_type": "code",
   "execution_count": null,
   "metadata": {},
   "outputs": [],
   "source": [
    "compact_images_per_site = images_per_site_df[:TOP_SITES][['count', 'name']]\n",
    "compact_images_per_site = compact_images_per_site.iloc[np.lexsort([compact_images_per_site['name'], -compact_images_per_site['count']])]\n",
    "compact_images_per_site['name'] = compact_images_per_site['name'].map(lambda x: wrap_label(x, 25))\n",
    "compact_images_per_site"
   ]
  },
  {
   "cell_type": "code",
   "execution_count": null,
   "metadata": {},
   "outputs": [],
   "source": [
    "padding = {\n",
    "    \"2017\": 0.5,\n",
    "    \"2016\": 2,\n",
    "    \"2015\": 2\n",
    "}\n",
    "PADDING = padding[str(YEAR)]\n",
    "\n",
    "fig, ax = plt.subplots(figsize=figsize)\n",
    "\n",
    "p = sns.barplot(ax=ax, data=compact_images_per_site, x='name', y='count')\n",
    "p.set_xlabel(\"Sites\", fontsize=18)\n",
    "p.set_ylabel(\"# Photographs\", fontsize=18)\n",
    "\n",
    "p.set_title(label='{1} {0} in {3}: Top {2} sites of community importance'.format(YEAR, TAG, TOP_SITES, COUNTRY), fontsize=20)\n",
    "p.tick_params(labelsize=14)\n",
    "\n",
    "p.set_xticklabels(p.get_xticklabels(), rotation=90)\n",
    "\n",
    "for patch in p.patches:\n",
    "    height = patch.get_height()\n",
    "    p.text(patch.get_x() + patch.get_width()/2.,\n",
    "            height + PADDING,\n",
    "            '{:1.0f}'.format(height),\n",
    "            ha=\"center\",\n",
    "            fontsize=13)\n",
    "\n",
    "desc = get_image_wikitext(image_wikitext,\n",
    "                          'Top {2} sites of community importance in {1} {0} in {3}'.format(YEAR, TAG_EXT, TOP_SITES, COUNTRY),\n",
    "                          YEAR, TAG_EXT, COUNTRY\n",
    "                         )\n",
    "upload_to_commons2(p, \"{1} {0} in {2} - Top sites of community importance.png\".format(YEAR, TAG, COUNTRY), desc)"
   ]
  },
  {
   "cell_type": "markdown",
   "metadata": {},
   "source": [
    "## Map creation"
   ]
  },
  {
   "cell_type": "code",
   "execution_count": null,
   "metadata": {},
   "outputs": [],
   "source": [
    "images_per_site_df['geojson'] = images_per_site_df.apply(lambda row: to_geojson(row), axis=1)"
   ]
  },
  {
   "cell_type": "code",
   "execution_count": null,
   "metadata": {},
   "outputs": [],
   "source": [
    "features = images_per_site_df['geojson'].tolist()\n",
    "feature_collection = FeatureCollection(features)\n",
    "dump = geojson.dumps(feature_collection, ensure_ascii=False, indent=2)\n",
    "#print(dump)"
   ]
  },
  {
   "cell_type": "code",
   "execution_count": null,
   "metadata": {},
   "outputs": [],
   "source": [
    "map_template = \"\"\"<mapframe text=\"Sites of community importance\" latitude=\"39\" longitude=\"-4\" zoom=\"5\" width=\"800\" height=\"600\" align=\"center\"> \n",
    "${map}\n",
    "</mapframe>\"\"\"\n",
    "vars = {\n",
    "    \"map\": dump\n",
    "}\n",
    "t = Template(map_template)\n",
    "map_text = t.render(**vars)"
   ]
  },
  {
   "cell_type": "code",
   "execution_count": null,
   "metadata": {},
   "outputs": [],
   "source": [
    "maps_page = pb.Page(commons_site, MAP_WLE_PAGE)\n",
    "if maps_page.text.strip() != map_text.strip() :\n",
    "    maps_page.text = map_text\n",
    "    pb.output('Publishing --> {0} in {1} map'.format(TAG, COUNTRY))\n",
    "    maps_page.save('{0} in {1} map'.format(TAG, COUNTRY))"
   ]
  },
  {
   "cell_type": "markdown",
   "metadata": {},
   "source": [
    "## Autonomous communities"
   ]
  },
  {
   "cell_type": "code",
   "execution_count": null,
   "metadata": {},
   "outputs": [],
   "source": [
    "sites_per_autcom = images_per_site_df.groupby(['aut_com']).\\\n",
    "                                              count().\\\n",
    "                                              sort_values(by='count', ascending=False).\\\n",
    "                                              reset_index()[['aut_com', 'count']]\n",
    "sites_per_autcom['aut_com'] = sites_per_autcom['aut_com'].map(lambda x: wrap_label(x, 14))\n",
    "sites_per_autcom"
   ]
  },
  {
   "cell_type": "code",
   "execution_count": null,
   "metadata": {},
   "outputs": [],
   "source": [
    "aut_coms = len(sites_per_autcom.index)\n",
    "aut_coms"
   ]
  },
  {
   "cell_type": "code",
   "execution_count": null,
   "metadata": {},
   "outputs": [],
   "source": [
    "padding = {\n",
    "    \"2017\": 0.3,\n",
    "    \"2016\": 0.5,\n",
    "    \"2015\": 0.5\n",
    "}\n",
    "PADDING = padding[str(YEAR)]\n",
    "\n",
    "fig, ax = plt.subplots(figsize=figsize)\n",
    "\n",
    "p = sns.barplot(ax=ax, data=sites_per_autcom, x='aut_com', y='count')\n",
    "p.set_xlabel(\"Autonomous community\", fontsize=18)\n",
    "p.set_ylabel(\"# Sites\", fontsize=18)\n",
    "\n",
    "p.set_title(label='{1} {0} in {2}:\\nSites of community importance by autonomous community'.format(YEAR, TAG, COUNTRY), fontsize=20)\n",
    "p.tick_params(labelsize=14)\n",
    "\n",
    "p.set_xticklabels(p.get_xticklabels(), rotation=90)\n",
    "\n",
    "for patch in p.patches:\n",
    "    height = patch.get_height()\n",
    "    p.text(patch.get_x() + patch.get_width()/2.,\n",
    "            height + PADDING,\n",
    "            '{:1.0f}'.format(height),\n",
    "            ha=\"center\",\n",
    "            fontsize=13)\n",
    "\n",
    "desc = get_image_wikitext(image_wikitext,\n",
    "                          'Sites of community importance by autonomous community in {1} {0} in {2}'.format(YEAR, TAG_EXT, COUNTRY),\n",
    "                          YEAR, TAG_EXT, COUNTRY\n",
    "                         )\n",
    "upload_to_commons2(p, \"{1} {0} in {2} - Sites of community importance by autonomous community.png\".format(YEAR, TAG, COUNTRY), desc)"
   ]
  },
  {
   "cell_type": "code",
   "execution_count": null,
   "metadata": {},
   "outputs": [],
   "source": [
    "images_per_autcom = images_per_site_df.groupby(['aut_com']).\\\n",
    "                     sum().\\\n",
    "                     sort_values(by='count', ascending=False).\\\n",
    "                     reset_index()\n",
    "images_per_autcom['aut_com'] = images_per_autcom['aut_com'].map(lambda x: wrap_label(x, 14))\n",
    "images_per_autcom"
   ]
  },
  {
   "cell_type": "code",
   "execution_count": null,
   "metadata": {},
   "outputs": [],
   "source": [
    "padding = {\n",
    "    \"2017\": 4,\n",
    "    \"2016\": 5,\n",
    "    \"2015\": 5\n",
    "}\n",
    "PADDING = padding[str(YEAR)]\n",
    "\n",
    "fig, ax = plt.subplots(figsize=figsize)\n",
    "\n",
    "p = sns.barplot(ax=ax, data=images_per_autcom, x='aut_com', y='count')\n",
    "p.set_xlabel(\"Autonomous community\", fontsize=18)\n",
    "p.set_ylabel(\"# Photographs\", fontsize=18)\n",
    "\n",
    "p.set_title(label='{1} {0} in {2}: Photographs by autonomous community'.format(YEAR, TAG, COUNTRY), fontsize=20)\n",
    "p.tick_params(labelsize=14)\n",
    "\n",
    "p.set_xticklabels(p.get_xticklabels(), rotation=90)\n",
    "\n",
    "for patch in p.patches:\n",
    "    height = patch.get_height()\n",
    "    p.text(patch.get_x() + patch.get_width()/2.,\n",
    "            height + PADDING,\n",
    "            '{:1.0f}'.format(height),\n",
    "            ha=\"center\",\n",
    "            fontsize=13)\n",
    "\n",
    "desc = get_image_wikitext(image_wikitext,\n",
    "                          'Photographs by autonomous community in {1} {0} in {2}'.format(YEAR, TAG_EXT, COUNTRY),\n",
    "                          YEAR, TAG_EXT, COUNTRY\n",
    "                         )\n",
    "upload_to_commons2(p, \"{1} {0} in {2} - Photographs by autonomous community.png\".format(YEAR, TAG, COUNTRY), desc)"
   ]
  },
  {
   "cell_type": "markdown",
   "metadata": {},
   "source": [
    "## Usage management"
   ]
  },
  {
   "cell_type": "code",
   "execution_count": null,
   "metadata": {},
   "outputs": [],
   "source": [
    "n=5\n",
    "list_df = [images_df[i:i+n] for i in range(0, images_df.shape[0], n)]\n",
    "usage_dict = {}\n",
    "\n",
    "counter = 0\n",
    "for df in list_df :\n",
    "    query_string_items = list()\n",
    "    for _, row in df.iterrows():\n",
    "        title = 'File:{0}'.format(row[\"image_title\"])\n",
    "        query_string_items.append(title)\n",
    "    raw_api_query_string = '|'.join(query_string_items)\n",
    "    MW_API_QUERY_STRING[\"titles\"] = raw_api_query_string\n",
    "    \n",
    "    r = requests.post(MW_API_BASE_URL, data=urlencode(MW_API_QUERY_STRING))\n",
    "    response = r.text\n",
    "\n",
    "    try:\n",
    "        response_dict = json.loads(response)\n",
    "        for _, value in response_dict[\"query\"][\"pages\"].items():\n",
    "            uses_dict = value['globalusage']\n",
    "            tuples = [(item['wiki'], 1) for item in uses_dict if (item['ns'] in VALID_NAMESPACES)]\n",
    "            summary = [reduce(lambda x, y: (x[0], x[1]+y[1]), group) for _, group in groupby(sorted(tuples), key=itemgetter(0))]\n",
    "            if len(summary) > 0 :\n",
    "                counter +=1\n",
    "                title = value['title'].replace('File:', '')\n",
    "                summary_dict = {tuple[0]: tuple[1] for tuple in summary}\n",
    "                usage_dict.update({title: summary_dict})\n",
    "    except Exception as e:\n",
    "        print ('Error found ({})'.format(e))\n",
    "        pass"
   ]
  },
  {
   "cell_type": "code",
   "execution_count": null,
   "metadata": {},
   "outputs": [],
   "source": [
    "# unique images used\n",
    "usage_df = pd.DataFrame(usage_dict).transpose()\n",
    "total_unique=usage_df.count(axis=1).count()\n",
    "total_unique"
   ]
  },
  {
   "cell_type": "code",
   "execution_count": null,
   "metadata": {},
   "outputs": [],
   "source": [
    "# summary table\n",
    "usages_df = pd.concat([usage_df.sum(), usage_df.count()], axis=1)\n",
    "usages_df.columns = ['usages', 'unique']\n",
    "usages_df['usages'] = usages_df['usages'].astype(int)\n",
    "usages_df.sort_values(by=['unique'], axis=0, ascending=False, inplace=True)\n",
    "usages_df['name'] = usages_df.index\n",
    "usages_df['name'] = usages_df['name'].map(get_project_name)\n",
    "usages_df.set_index(['name'], inplace=True)\n",
    "usages_df = usages_df.iloc[np.lexsort([usages_df.index, -usages_df['unique']])]\n",
    "usages_df"
   ]
  },
  {
   "cell_type": "code",
   "execution_count": null,
   "metadata": {},
   "outputs": [],
   "source": [
    "# THIS PARAMETER IS YEAR-DEPENDENT AND COMES FROM MANUAL INSPECTION\n",
    "# May be set to the number of projects with more than 1 picture\n",
    "top_projects ={\n",
    "    \"2017\": 15,\n",
    "    \"2016\": 18,\n",
    "    \"2015\": 23\n",
    "}\n",
    "TOP_PROJECTS = top_projects[str(YEAR)]"
   ]
  },
  {
   "cell_type": "code",
   "execution_count": null,
   "metadata": {},
   "outputs": [],
   "source": [
    "remaining_df = pd.DataFrame(usages_df.iloc[TOP_PROJECTS:].sum()).transpose()\n",
    "other_projects_num = len(usages_df.index)-TOP_PROJECTS\n",
    "remaining_df.index=['Other projects ({})'.format(other_projects_num)]\n",
    "top_df = usages_df.iloc[:TOP_PROJECTS]\n",
    "reduced_usages_df = top_df.append(remaining_df)\n",
    "reduced_usages_df"
   ]
  },
  {
   "cell_type": "code",
   "execution_count": null,
   "metadata": {},
   "outputs": [],
   "source": [
    "padding = {\n",
    "    \"2017\": 0.5,\n",
    "    \"2016\": 1,\n",
    "    \"2015\": 3\n",
    "}\n",
    "PADDING = padding[str(YEAR)]\n",
    "\n",
    "fig, ax = plt.subplots(figsize=figsize)\n",
    "\n",
    "p = sns.barplot(ax=ax, x='index', y='unique', data=reduced_usages_df.reset_index())\n",
    "p.set_xlabel(\"Project\", fontsize=18)\n",
    "p.set_ylabel(\"# Photographs\", fontsize=18)\n",
    "\n",
    "p.set_title(label='Unique photographs from {2} {0} in {3} used in Wikimedia projects\\n({1})'.format(YEAR, now, TAG, COUNTRY), \n",
    "            fontsize=20)\n",
    "p.tick_params(labelsize=14)\n",
    "\n",
    "p.set_xticklabels(p.get_xticklabels(), rotation=90)\n",
    "\n",
    "for patch in p.patches:\n",
    "    height = patch.get_height()\n",
    "    p.text(patch.get_x() + patch.get_width()/2.,\n",
    "            height + PADDING,\n",
    "            '{:1.0f}'.format(height),\n",
    "            ha=\"center\",\n",
    "            fontsize=13)\n",
    "    \n",
    "desc = get_image_wikitext(image_wikitext,\n",
    "                          'Unique photographs from {1} {0} in {2} used in WMF projects: top {3} projects'.format(YEAR, TAG_EXT, COUNTRY, TOP_PROJECTS),\n",
    "                          YEAR, TAG_EXT, COUNTRY\n",
    "                         )\n",
    "upload_to_commons2(p, \"{1} {0} in {2} - Unique photographs used in WMF projects.png\".format(YEAR, TAG, COUNTRY), desc)"
   ]
  },
  {
   "cell_type": "code",
   "execution_count": null,
   "metadata": {},
   "outputs": [],
   "source": [
    "padding = {\n",
    "    \"2017\": 0.6,\n",
    "    \"2016\": 2,\n",
    "    \"2015\": 4\n",
    "}\n",
    "PADDING = padding[str(YEAR)]\n",
    "\n",
    "fig, ax = plt.subplots(figsize=figsize)\n",
    "\n",
    "p = sns.barplot(ax=ax, x='index', y='usages', data=reduced_usages_df.reset_index())\n",
    "p.set_xlabel(\"Project\", fontsize=18)\n",
    "p.set_ylabel(\"# Uses\", fontsize=18)\n",
    "\n",
    "p.set_title(label='Uses of photographs from {2} {0} in {3} in Wikimedia projects\\n({1})'.format(YEAR, now, TAG, COUNTRY), \n",
    "            fontsize=20)\n",
    "p.tick_params(labelsize=14)\n",
    "\n",
    "p.set_xticklabels(p.get_xticklabels(), rotation=90)\n",
    "\n",
    "for patch in p.patches:\n",
    "    height = patch.get_height()\n",
    "    p.text(patch.get_x() + patch.get_width()/2.,\n",
    "            height + PADDING,\n",
    "            '{:1.0f}'.format(height),\n",
    "            ha=\"center\",\n",
    "            fontsize=13)\n",
    "    \n",
    "desc = get_image_wikitext(image_wikitext,\n",
    "                          'Uses of photographs from {1} {0} in {2} in WMF projects: top {3} projects'.format(YEAR, TAG_EXT, COUNTRY, TOP_PROJECTS),\n",
    "                          YEAR, TAG_EXT, COUNTRY\n",
    "                         )\n",
    "upload_to_commons2(p, \"{1} {0} in {2} - Uses of photographs in WMF projects.png\".format(YEAR, TAG, COUNTRY), desc)"
   ]
  },
  {
   "cell_type": "code",
   "execution_count": null,
   "metadata": {},
   "outputs": [],
   "source": [
    "vf = np.vectorize(lambda x: wrap_label(x, 10))\n",
    "\n",
    "projects = vf(reduced_usages_df.index.values)[::-1]\n",
    "unique_uses = reduced_usages_df['unique'].values[::-1]\n",
    "article_uses = reduced_usages_df['usages'].values[::-1]"
   ]
  },
  {
   "cell_type": "code",
   "execution_count": null,
   "metadata": {},
   "outputs": [],
   "source": [
    "padding = {\n",
    "    \"2015\": {\"left_offset\": 116, \"left_factor\": 1.24, \"right_offsest\": 4} ,\n",
    "    \"2016\": {\"left_offset\": 39, \"left_factor\": 1.2, \"right_offsest\": 3} ,\n",
    "    \"2017\": {\"left_offset\": 16, \"left_factor\": 1.2, \"right_offsest\": 1} \n",
    "}\n",
    "\n",
    "LEFT_PADDING = padding[str(YEAR)][\"left_offset\"]\n",
    "LEFT_FACTOR = padding[str(YEAR)][\"left_factor\"]\n",
    "RIGHT_PADDING = padding[str(YEAR)][\"right_offsest\"]"
   ]
  },
  {
   "cell_type": "code",
   "execution_count": null,
   "metadata": {},
   "outputs": [],
   "source": [
    "y = np.arange(article_uses.size)\n",
    "fig, axes = plt.subplots(ncols=2, sharey=True, figsize=figsize_mid)\n",
    "pylab.gcf().suptitle('Photographs from {2} {0} in Spain used in Wikimedia projects ({1})'.format(YEAR, now, TAG), \n",
    "                     fontsize=20, \n",
    "                     y=1.04)\n",
    "\n",
    "axes[0].barh(y, unique_uses, align='center', color=sns.color_palette('hls', TOP_PROJECTS+1))\n",
    "axes[0].set_title('# Unique photographs', fontsize=16)\n",
    "axes[1].barh(y, article_uses, align='center', color=sns.color_palette('hls', TOP_PROJECTS+1))\n",
    "axes[1].set_title('# Articles with photographs', fontsize=16)\n",
    "\n",
    "axes[0].invert_xaxis()\n",
    "axes[0].set_yticks(y)\n",
    "axes[0].set_yticklabels(projects, horizontalalignment=\"center\", fontsize=12)\n",
    "axes[0].tick_params(axis='y', which='major', pad=44)\n",
    "axes[0].yaxis.tick_right()\n",
    "\n",
    "for ax in axes.flat:\n",
    "    ax.margins(0.03)\n",
    "    ax.grid(True)\n",
    "    \n",
    "for patch in axes[1].patches:\n",
    "    ax.text(patch.get_width() + RIGHT_PADDING,\n",
    "            patch.get_y()+patch.get_height()/2.,\n",
    "            '{:1.0f}'.format(patch.get_width()),\n",
    "            va=\"center\",\n",
    "            fontsize=14)\n",
    "\n",
    "for patch in axes[0].patches:\n",
    "    ax.text(-(LEFT_PADDING + patch.get_width()*LEFT_FACTOR),\n",
    "            patch.get_y()+patch.get_height()/2.,\n",
    "            '{:1.0f}'.format(patch.get_width()),\n",
    "            va=\"center\",\n",
    "            fontsize=14)\n",
    "\n",
    "fig.tight_layout()\n",
    "fig.subplots_adjust(wspace=0.18)\n",
    "\n",
    "desc = get_image_wikitext(image_wikitext,\n",
    "                          'Photographs from {1} {0} in {3} used in WMF projects: top {2} projects'.format(YEAR, TAG_EXT, TOP_PROJECTS, COUNTRY),\n",
    "                          YEAR, TAG_EXT, COUNTRY\n",
    "                         )\n",
    "upload_to_commons2(fig, \"{1} {0} in {2} - Photographs used in WMF projects.png\".format(YEAR, TAG, COUNTRY), desc)"
   ]
  },
  {
   "cell_type": "markdown",
   "metadata": {},
   "source": [
    "## Quality Images"
   ]
  },
  {
   "cell_type": "code",
   "execution_count": null,
   "metadata": {},
   "outputs": [],
   "source": [
    "# Quality images gallery\n",
    "template = \"\"\"This page lists the ${len(QI_list)} '''[[Commons:Quality Images|quality images]]''' uploaded as part of the \n",
    "[[Commons:${tag}|${tag}]] contest in ${year} in ${country}.\n",
    "\n",
    "<gallery>\n",
    "% for image in QI_list:\n",
    "${image}\n",
    "% endfor\n",
    "</gallery>\n",
    "\n",
    "'''Statistics generation date''': {{subst:CURRENTMONTHNAME}} {{subst:CURRENTDAY}}, {{subst:CURRENTYEAR}}\n",
    "\n",
    "[[Category:Reports from ${tag} in Spain| Quality]]\n",
    "[[Category:Reports from ${tag} ${year} in ${country}]]\"\"\"\n",
    "vars = {\n",
    "    \"QI_list\": qi_list.values,\n",
    "    \"tag\": TAG_EXT,\n",
    "    \"year\": YEAR,\n",
    "    \"country\": COUNTRY\n",
    "}\n",
    "t = Template(template)"
   ]
  },
  {
   "cell_type": "code",
   "execution_count": null,
   "metadata": {},
   "outputs": [],
   "source": [
    "if qi_length > 0 :\n",
    "    qi_gallery_text = t.render(**vars)\n",
    "    qi_page = pb.Page(commons_site, GALLERY_QI)\n",
    "    if qi_page.text != qi_gallery_text:\n",
    "        qi_page.text = qi_gallery_text\n",
    "        pb.output('Publishing --> {1} {0} in {2} featured articles gallery'.format(YEAR, TAG, COUNTRY))\n",
    "        qi_page.save(\"{1} {0} in {2} featured articles gallery\".format(YEAR, TAG, COUNTRY))"
   ]
  },
  {
   "cell_type": "markdown",
   "metadata": {},
   "source": [
    "## Coverage"
   ]
  },
  {
   "cell_type": "code",
   "execution_count": null,
   "metadata": {},
   "outputs": [],
   "source": [
    "es_site = pb.Site('es', 'wikipedia')\n",
    "threshold_date = datetime(YEAR, 9, 1)\n",
    "\n",
    "sites_df = pd.DataFrame(\n",
    "    columns=['aut_com', 'commons_cat', 'image'])\n",
    "\n",
    "for annex in annexes :\n",
    "    page = pb.Page(es_site, annexes[annex][0])\n",
    "    rev_id = None\n",
    "    for i, revision in enumerate(page.revisions()) :\n",
    "        if revision['timestamp'] < threshold_date:\n",
    "            rev_id = i\n",
    "            break\n",
    "    for i, revision in enumerate(page.revisions(content=True)) :\n",
    "        if i == rev_id :\n",
    "            text = revision['text']\n",
    "            break\n",
    "\n",
    "    wikicode = mwh.parse(text)\n",
    "    templates = [template for template in wikicode.filter_templates() if template.name.lower().strip() == \"fila lic\"]\n",
    "    for template in templates :\n",
    "        df_row = {\n",
    "            \"aut_com\": annexes[annex][1],\n",
    "            \"commons_cat\": None,\n",
    "            \"image\": None\n",
    "        }\n",
    "        if annex == 'ES-CE' and '631' in template.get(\"código\").value :\n",
    "            df_row['aut_com'] = 'Ceuta'\n",
    "        elif annex == 'ES-CE' :\n",
    "            df_row['aut_com'] = 'Melilla'\n",
    "        elif annex == 'ES-ML' :\n",
    "            continue\n",
    "        try:\n",
    "            if template.get(\"categoría-Commons\").value:\n",
    "                if len(template.get(\"categoría-Commons\").value.strip()) > 0 :\n",
    "                    df_row[\"commons_cat\"] = template.get(\"categoría-Commons\").value.strip()\n",
    "            if template.get(\"imagen\").value:\n",
    "                if len(template.get(\"imagen\").value.strip()) > 0 :\n",
    "                    df_row[\"image\"] = template.get(\"imagen\").value.strip()\n",
    "        except Exception as e:\n",
    "            print ('Exception ({0}) in {1} ({2})'.format(e, template.get(\"código\").value.strip(), annexes[annex][1]))\n",
    "\n",
    "        sites_df = sites_df.append(df_row, ignore_index=True)"
   ]
  },
  {
   "cell_type": "code",
   "execution_count": null,
   "metadata": {},
   "outputs": [],
   "source": [
    "coverage_category = sites_df[['aut_com', 'commons_cat', 'image']].groupby(['aut_com'])['commons_cat'].count()\n",
    "coverage_images = sites_df[['aut_com', 'commons_cat', 'image']].groupby(['aut_com'])['image'].count()\n",
    "\n",
    "coverage_df = pd.concat([sites_df[['aut_com', 'commons_cat', 'image']].groupby(['aut_com'])['aut_com'].count(),\n",
    "                         sites_df[['aut_com', 'commons_cat', 'image']].groupby(['aut_com'])['commons_cat'].count(),\n",
    "                         sites_df[['aut_com', 'commons_cat', 'image']].groupby(['aut_com'])['image'].count()], axis=1)\n",
    "total_coverage = coverage_df.sum(numeric_only=True).rename('Total')\n",
    "coverage_df = coverage_df.append(total_coverage)\n",
    "\n",
    "coverage_df['aut_com'] = coverage_df['aut_com'].fillna(0).astype('int')\n",
    "coverage_df['category_percentage'] = (100.*coverage_df['commons_cat']/coverage_df['aut_com']).round(2)\n",
    "coverage_df['image_percentage'] = (100.*coverage_df['image']/coverage_df['aut_com']).round(2)\n",
    "coverage_df['commons_cat'] = coverage_df['commons_cat'].fillna(0).astype('int')\n",
    "coverage_df['image'] = coverage_df['image'].fillna(0).astype('int')\n",
    "coverage_df['image_color'] = coverage_df['image_percentage'].apply(heat_color)\n",
    "coverage_df['cat_color'] = coverage_df['category_percentage'].apply(heat_color)"
   ]
  },
  {
   "cell_type": "code",
   "execution_count": null,
   "metadata": {},
   "outputs": [],
   "source": [
    "coverage_df"
   ]
  },
  {
   "cell_type": "markdown",
   "metadata": {},
   "source": [
    "## Finalists"
   ]
  },
  {
   "cell_type": "code",
   "execution_count": null,
   "metadata": {},
   "outputs": [],
   "source": [
    "cat_wle = pb.Category(commons_site, WLE_FINALIST_CATEGORY[str(YEAR)])\n",
    "gen_wle = pagegenerators.CategorizedPageGenerator(cat_wle)\n",
    "\n",
    "finalist_images_wle = [page.title(withNamespace=False) for page in gen_wle if page.is_filepage()]\n",
    "finalist_images_count = len(finalist_images_wle)\n",
    "finalist_images_count"
   ]
  },
  {
   "cell_type": "code",
   "execution_count": null,
   "metadata": {},
   "outputs": [],
   "source": [
    "finalist_images_df = images_extended_df[images_extended_df['image_title'].isin(finalist_images_wle)]\n",
    "finalist_authors = finalist_images_df['uploader'].value_counts()\n",
    "finalist_authors = finalist_authors.iloc[np.lexsort([finalist_authors.index, -finalist_authors.values])]\n",
    "finalist_authors"
   ]
  },
  {
   "cell_type": "code",
   "execution_count": null,
   "metadata": {},
   "outputs": [],
   "source": [
    "finalist_authors_count = len(finalist_authors)\n",
    "finalist_authors_count"
   ]
  },
  {
   "cell_type": "code",
   "execution_count": null,
   "metadata": {},
   "outputs": [],
   "source": [
    "# THIS PARAMETER IS YEAR-DEPENDENT AND COMES FROM MANUAL INSPECTION\n",
    "# May be set to the number of contestants with more than 1 finalist picture\n",
    "top_finalists ={\n",
    "    \"2017\": 25,\n",
    "    \"2016\": 19,\n",
    "    \"2015\": 21\n",
    "}\n",
    "TOP_FINALISTS = top_finalists[str(YEAR)]"
   ]
  },
  {
   "cell_type": "code",
   "execution_count": null,
   "metadata": {},
   "outputs": [],
   "source": [
    "finalist_authors = finalist_authors.iloc[:TOP_FINALISTS]\n",
    "finalist_authors"
   ]
  },
  {
   "cell_type": "code",
   "execution_count": null,
   "metadata": {},
   "outputs": [],
   "source": [
    "padding = {\n",
    "    \"2017\": 0.4,\n",
    "    \"2016\": 0.2,\n",
    "    \"2015\": 0.1\n",
    "}\n",
    "PADDING = padding[str(YEAR)]\n",
    "\n",
    "fig, ax = plt.subplots(figsize=figsize_mid)\n",
    "\n",
    "p = sns.barplot(ax=ax, y=finalist_authors.index.map(flickr_ripper).map(lambda x: wrap_label(x, 18)), x=finalist_authors.values)\n",
    "p.set_xlabel(\"# Photographs\", fontsize=18)\n",
    "p.set_ylabel(\"Contestants\", fontsize=18)\n",
    "\n",
    "p.set_title(label='{1} {0} in {2}: Top finalists'.format(YEAR, TAG, COUNTRY), fontsize=20)\n",
    "p.tick_params(labelsize=14)\n",
    "\n",
    "for patch in ax.patches:\n",
    "    ax.text(patch.get_width() + PADDING,\n",
    "            patch.get_y() + patch.get_height()/2.,\n",
    "            '{:1.0f}'.format(patch.get_width()),\n",
    "            ha=\"center\",\n",
    "            fontsize=14)\n",
    "\n",
    "desc = get_image_wikitext(image_wikitext,\n",
    "                          'Top contributors reaching the final round of {1} {0} in {2}.'.format(YEAR, TAG_EXT, COUNTRY),\n",
    "                          YEAR, TAG_EXT, COUNTRY\n",
    "                         )\n",
    "upload_to_commons2(p, \"{1} {0} in {2} - Finalists.png\".format(YEAR, TAG, COUNTRY), desc)"
   ]
  },
  {
   "cell_type": "code",
   "execution_count": null,
   "metadata": {},
   "outputs": [],
   "source": [
    "finalist_sites = finalist_images_df['commons_cat'].value_counts()\n",
    "finalist_sites = finalist_sites.iloc[np.lexsort([finalist_sites.index, -finalist_sites.values])]\n",
    "finalist_sites"
   ]
  },
  {
   "cell_type": "code",
   "execution_count": null,
   "metadata": {},
   "outputs": [],
   "source": [
    "# THIS PARAMETER IS YEAR-DEPENDENT AND COMES FROM MANUAL INSPECTION\n",
    "# May be set to the number of sites with more than 1 picture\n",
    "top_finalist_sites ={\n",
    "    \"2017\": 24,\n",
    "    \"2016\": 23,\n",
    "    \"2015\": 22\n",
    "}\n",
    "TOP_FINALIST_SITES = top_finalist_sites[str(YEAR)]"
   ]
  },
  {
   "cell_type": "code",
   "execution_count": null,
   "metadata": {},
   "outputs": [],
   "source": [
    "finalist_sites = finalist_sites.iloc[:TOP_FINALIST_SITES]\n",
    "finalist_sites"
   ]
  },
  {
   "cell_type": "code",
   "execution_count": null,
   "metadata": {},
   "outputs": [],
   "source": [
    "padding = {\n",
    "    \"2017\": 0.1,\n",
    "    \"2016\": 0.1,\n",
    "    \"2015\": 0.1\n",
    "}\n",
    "PADDING = padding[str(YEAR)]\n",
    "\n",
    "fig, ax = plt.subplots(figsize=figsize_mid)\n",
    "\n",
    "p = sns.barplot(ax=ax, y=finalist_sites.index.map(lambda x: wrap_label(x.replace(' (site of community importance)', ''), 30)), x=finalist_sites.values)\n",
    "p.set_xlabel(\"# Photographs\", fontsize=18)\n",
    "p.set_ylabel(\"Sites of community importance\", fontsize=18)\n",
    "\n",
    "p.set_title(label='{1} {0} in {2}: Sites of community importance in the final round'.format(YEAR, TAG, COUNTRY), fontsize=20)\n",
    "p.tick_params(labelsize=14)\n",
    "\n",
    "for patch in ax.patches:\n",
    "    ax.text(patch.get_width() + PADDING,\n",
    "            patch.get_y() + patch.get_height()/2.,\n",
    "            '{:1.0f}'.format(patch.get_width()),\n",
    "            ha=\"center\",\n",
    "            fontsize=14)\n",
    "\n",
    "desc = get_image_wikitext(image_wikitext,\n",
    "                          'Top sites of community importance in the final round of {1} {0} in {2}.'.format(YEAR, TAG_EXT, COUNTRY),\n",
    "                          YEAR, TAG_EXT, COUNTRY\n",
    "                         )\n",
    "upload_to_commons2(p, \"{1} {0} in Spain - Finalist sites of community importance.png\".format(YEAR, TAG), desc)"
   ]
  },
  {
   "cell_type": "code",
   "execution_count": null,
   "metadata": {},
   "outputs": [],
   "source": [
    "finalist_autcoms = finalist_images_df['aut_com'].value_counts()\n",
    "finalist_autcoms = finalist_autcoms.iloc[np.lexsort([finalist_autcoms.index, -finalist_autcoms.values])]\n",
    "finalist_autcoms"
   ]
  },
  {
   "cell_type": "code",
   "execution_count": null,
   "metadata": {},
   "outputs": [],
   "source": [
    "padding = {\n",
    "    \"2017\": 0.3,\n",
    "    \"2016\": 0.4,\n",
    "    \"2015\": 0.2\n",
    "}\n",
    "PADDING = padding[str(YEAR)]\n",
    "\n",
    "fig, ax = plt.subplots(figsize=figsize)\n",
    "\n",
    "p = sns.barplot(ax=ax, y=finalist_autcoms.index.map(lambda x: wrap_label(x, 14)), x=finalist_autcoms.values.astype(int))\n",
    "p.set_xlabel(\"# Photographs\", fontsize=18)\n",
    "p.set_ylabel(\"Autonomous communities\", fontsize=18)\n",
    "\n",
    "p.set_title(label='{1} {0} in {2}: Autonomous communities in the final round'.format(YEAR, TAG, COUNTRY), fontsize=20)\n",
    "p.tick_params(labelsize=14)\n",
    "\n",
    "for patch in ax.patches:\n",
    "    ax.text(patch.get_width() + PADDING,\n",
    "            patch.get_y() + patch.get_height()/2.,\n",
    "            '{:1.0f}'.format(patch.get_width()),\n",
    "            ha=\"center\",\n",
    "            fontsize=14)\n",
    "ax.xaxis.set_major_locator(MaxNLocator(integer=True))\n",
    "\n",
    "desc = get_image_wikitext(image_wikitext,\n",
    "                          'Spanish autonomous communities in the final round of {1} {0} in {2}.'.format(YEAR, TAG_EXT, COUNTRY),\n",
    "                          YEAR, TAG_EXT, COUNTRY\n",
    "                         )\n",
    "upload_to_commons2(p, \"{1} {0} in {2} - Finalist autonomous communities.png\".format(YEAR, TAG, COUNTRY), desc)"
   ]
  },
  {
   "cell_type": "markdown",
   "metadata": {},
   "source": [
    "## Page generation"
   ]
  },
  {
   "cell_type": "code",
   "execution_count": null,
   "metadata": {},
   "outputs": [],
   "source": [
    "template_file = os.path.join(templates_directory, 'wle.wiki')\n",
    "fh = open(template_file, 'r', encoding = \"utf-8\")\n",
    "template = fh.read()\n",
    "fh.close()"
   ]
  },
  {
   "cell_type": "code",
   "execution_count": null,
   "metadata": {},
   "outputs": [],
   "source": [
    "vars = {\n",
    "    \"images_length\": total_images_length,\n",
    "    \"valid_images_length\": valid_images_length,\n",
    "    \"site_images_length\": 0,\n",
    "    \"qi_length\": qi_length,\n",
    "    \"gallery_quality_images\": GALLERY_QI,\n",
    "    \"wle_sites_length\": wle_sites_length,\n",
    "    \"authors_length\": authors_length,\n",
    "    \"top_authors\": TOP_UPLOADERS,\n",
    "    \"top_authors_by_site\": TOP_UPLOADERS_BY_SITE,\n",
    "    \"new_uploaders_length\": new_uploaders_length,\n",
    "    \"site_length\": site_length,\n",
    "    \"top_sites\": TOP_SITES,\n",
    "    \"aut_coms\": aut_coms,\n",
    "    \"authors_df\": authors_df,\n",
    "    \"images_per_site_df\": images_per_site_df,\n",
    "    \"usages_df\": usages_df,\n",
    "    \"coverage_df\": coverage_df,\n",
    "    \"total_unique\": total_unique,\n",
    "    \"new_uploaders\": new_uploaders_contributions,\n",
    "    \"new_uploaders_sum\": new_uploaders_contributions.sum(),\n",
    "    \"top_projects\": TOP_PROJECTS,\n",
    "    \"finalist_images_count\": finalist_images_count,\n",
    "    \"finalist_authors_count\": finalist_authors_count,\n",
    "    \"finalist_cat\": WLE_FINALIST_CATEGORY[str(YEAR)],\n",
    "    \"year\": YEAR,\n",
    "    \"tag\": TAG,\n",
    "    \"full_tag\": TAG_EXT,\n",
    "    \"base\": BASE_NAME,\n",
    "    \"country\": COUNTRY,\n",
    "    \"date\": datetime.now().strftime(\"%B %-d, %Y\")\n",
    "}\n",
    "t = Template(template)\n",
    "statisticts_text = t.render(**vars)"
   ]
  },
  {
   "cell_type": "code",
   "execution_count": null,
   "metadata": {},
   "outputs": [],
   "source": [
    "stats_page = pb.Page(commons_site, STATISTICS_PAGE)\n",
    "if stats_page.text.strip() != statisticts_text.strip() :\n",
    "    stats_page.text = statisticts_text\n",
    "    pb.output('Publishing --> {1} {0} in {2} Statistics'.format(YEAR, TAG, COUNTRY))\n",
    "    stats_page.save(\"{1} {0} in {2} statistics\".format(YEAR, TAG, COUNTRY))"
   ]
  },
  {
   "cell_type": "code",
   "execution_count": null,
   "metadata": {},
   "outputs": [],
   "source": []
  }
 ],
 "metadata": {
  "kernelspec": {
   "display_name": "Python 3",
   "language": "python",
   "name": "python3"
  },
  "language_info": {
   "codemirror_mode": {
    "name": "ipython",
    "version": 3
   },
   "file_extension": ".py",
   "mimetype": "text/x-python",
   "name": "python",
   "nbconvert_exporter": "python",
   "pygments_lexer": "ipython3",
   "version": "3.6.3"
  }
 },
 "nbformat": 4,
 "nbformat_minor": 2
}
