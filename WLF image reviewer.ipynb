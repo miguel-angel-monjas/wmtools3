{
 "cells": [
  {
   "cell_type": "code",
   "execution_count": null,
   "metadata": {},
   "outputs": [],
   "source": [
    "#!/usr/bin/python\n",
    "# -*- coding: utf-8 -*-\n",
    "\"\"\"This notebook reviews the contributions to WLF in Spain in YEAR\"\"\"\n",
    "\n",
    "import os, sys, inspect\n",
    "\n",
    "try :\n",
    "    import pywikibot as pb\n",
    "    from pywikibot import pagegenerators, textlib\n",
    "    import mwparserfromhell as mwh\n",
    "\n",
    "except :\n",
    "    current_folder = os.path.realpath(os.path.abspath(os.path.split(inspect.getfile(inspect.currentframe()))[0]))\n",
    "    folder_parts = current_folder.split(os.sep)\n",
    "    pywikibot_folder = os.sep.join(folder_parts[0:-1])\n",
    "\n",
    "    if current_folder not in sys.path:\n",
    "        sys.path.insert(0, current_folder)\n",
    "    if pywikibot_folder not in sys.path:\n",
    "        sys.path.insert(0, pywikibot_folder)\n",
    "\n",
    "    import pywikibot as pb\n",
    "    from pywikibot import pagegenerators, textlib\n",
    "    import mwparserfromhell as mwh"
   ]
  },
  {
   "cell_type": "code",
   "execution_count": null,
   "metadata": {},
   "outputs": [],
   "source": [
    "import pandas as pd\n",
    "from io import StringIO\n",
    "import re"
   ]
  },
  {
   "cell_type": "code",
   "execution_count": null,
   "metadata": {},
   "outputs": [],
   "source": [
    "from modules.wmtools import additional_festivals_df"
   ]
  },
  {
   "cell_type": "code",
   "execution_count": null,
   "metadata": {},
   "outputs": [],
   "source": [
    "YEAR                = 2016\n",
    "TAG                 = 'WLF'\n",
    "TAG_EXT             = 'Wiki Loves Folk'\n",
    "\n",
    "BASE_WLF_NAME       = 'Commons:{1}/{0}'.format(YEAR, TAG_EXT)\n",
    "BASE_WLF2016_NAME   = 'Commons:{1}/{0}'.format(2016, TAG_EXT)\n",
    "LOG_PAGE            = BASE_WLF_NAME + \"/Log\"\n",
    "FESTIVAL_DB_PAGE    = BASE_WLF2016_NAME + \"/Festival DB\"\n",
    "\n",
    "WLF_CATEGORY          = \"Category:Images from {1} {0} in Spain\".format(YEAR, TAG_EXT)\n",
    "NO_ID_CATEGORY        = \"Category:Images from {1} {0} in Spain with no ID\".format(YEAR, TAG)\n",
    "WRONG_ID_CATEGORY     = \"Category:Images from {1} {0} in Spain with no valid ID\".format(YEAR, TAG)\n",
    "\n",
    "commons_site = pb.Site(\"commons\", \"commons\")"
   ]
  },
  {
   "cell_type": "code",
   "execution_count": null,
   "metadata": {},
   "outputs": [],
   "source": [
    "additional_festivals = additional_festivals_df['wikidata_id'].values\n",
    "additional_festivals"
   ]
  },
  {
   "cell_type": "code",
   "execution_count": null,
   "metadata": {},
   "outputs": [],
   "source": [
    "cat_wlf = pb.Category(commons_site, WLF_CATEGORY)\n",
    "gen_wlf = pagegenerators.CategorizedPageGenerator(cat_wlf)\n",
    "\n",
    "images_wlf = [page.title(withNamespace=True) for page in gen_wlf if page.is_filepage()]\n",
    "len(images_wlf)"
   ]
  },
  {
   "cell_type": "code",
   "execution_count": null,
   "metadata": {},
   "outputs": [],
   "source": [
    "pb.output('Retrieving --> {0} in Spain Festivals list from cache'.format(TAG))\n",
    "festival_list_page = pb.Page(commons_site, FESTIVAL_DB_PAGE)\n",
    "festival_list_text = StringIO(festival_list_page.text[festival_list_page.text.find('\\n') + 1:festival_list_page.text.rfind('\\n')])\n",
    "festivals_df = pd.read_csv(festival_list_text, sep=\";\", index_col=False, names=['name', \n",
    "                                                                                'aut_com', \n",
    "                                                                                'wikidata_id', \n",
    "                                                                                'wikidata_timestamp', \n",
    "                                                                                'category', \n",
    "                                                                                'cat_timestamp', \n",
    "                                                                                'image', \n",
    "                                                                                'latitude', \n",
    "                                                                                'longitude'])\n",
    "\n",
    "festivals = festivals_df[\"wikidata_id\"].values"
   ]
  },
  {
   "cell_type": "code",
   "execution_count": null,
   "metadata": {},
   "outputs": [],
   "source": [
    "for image_counter, image in enumerate(images_wlf):\n",
    "    page = pb.Page(commons_site, image)\n",
    "    text = page.text\n",
    "    wikicode = mwh.parse(text)\n",
    "    templates = wikicode.filter_templates()\n",
    "    \n",
    "    if (image_counter != 0) and (image_counter % 50 == 0) :\n",
    "        pb.output ('Reviewing --> %d image pages downloaded' %(image_counter))\n",
    "\n",
    "    cats = [cat.title(withNamespace=True) for cat in textlib.getCategoryLinks(text)]\n",
    "    \n",
    "    WLF_template_found = False\n",
    "    WLF_identifier = ''\n",
    "    wlf_templates = [template for template in wikicode.filter_templates() \n",
    "                    if template.name.lower().strip() == u\"wlf\"]\n",
    "    \n",
    "    new_cats = []\n",
    "\n",
    "    if len(wlf_templates) > 0:\n",
    "        WLF_template_found = True\n",
    "        WLF_identifier = wlf_templates[0].get(1).value.strip()\n",
    "        if (WLF_identifier not in festivals) and (WLF_identifier not in additional_festivals):\n",
    "            print ('Festival identifier not valid')\n",
    "            if WRONG_ID_CATEGORY not in cats :\n",
    "                new_cats.append(WRONG_ID_CATEGORY)\n",
    "            WLF_identifier = ''\n",
    "            \n",
    "    else:\n",
    "        if NO_ID_CATEGORY not in cats :\n",
    "            new_cats.append(NO_ID_CATEGORY)\n",
    "\n",
    "    author_cat = u\"Category:Images from {1} {0} in Spain by {2}\".format(YEAR, TAG_EXT, page.oldest_revision[\"user\"])\n",
    "    author_cat_page = pb.Page(commons_site, author_cat)\n",
    "    if not author_cat_page.exists():\n",
    "        author_cat_page_text = '{{{{hiddencat}}}}\\n[[Category:Images from {1} {0} in Spain by author|{2}]]'.format(YEAR, TAG_EXT, page.oldest_revision[\"user\"])\n",
    "        author_cat_page.text = author_cat_page_text\n",
    "        author_cat_page.save(\"{1} {0} in Spain: Authorshipt classification\".format(YEAR, TAG))\n",
    "\n",
    "    if author_cat not in cats:\n",
    "        new_cats.append(author_cat)\n",
    "\n",
    "    if (WLF_identifier != '') and ((WLF_identifier in festivals) or (WLF_identifier in additional_festivals)) :\n",
    "        fest_cat        = 'Category:Images of festival with code {0} from {2} {1} in Spain'.format(WLF_identifier, \n",
    "                                                                                                   YEAR, \n",
    "                                                                                                   TAG_EXT)\n",
    "        fest_cat_global = 'Category:Images of festival with code {0}'.format(WLF_identifier)\n",
    "        fest_cat_page = pb.Page(commons_site, fest_cat)\n",
    "        fest_cat_page_global = pb.Page(commons_site, fest_cat_global)\n",
    "        if not fest_cat_page.exists():\n",
    "            fest_cat_page_text = '{{{{hiddencat}}}}\\n[[Category:Images from {1} {0} in Spain by festival| {2}]]'.format(YEAR,\n",
    "                                                                                                                        TAG_EXT,\n",
    "                                                                                                                        WLF_identifier)\n",
    "            fest_cat_page.text = fest_cat_page_text\n",
    "            fest_cat_page.save(\"{1} {0} in Spain: Festival classification\".format(YEAR, TAG))\n",
    "\n",
    "        if not fest_cat_page_global.exists():\n",
    "            fest_cat_page_global_text = '{{{{hiddencat}}}}\\n[[Category:Images from {0} in Spain by festival| {1}]]'.format(TAG_EXT,\n",
    "                                                                                                                           WLF_identifier)\n",
    "            fest_cat_page_global.text = fest_cat_page_global_text\n",
    "            fest_cat_page_global.save(\"{} in Spain: Festival classification\".format(TAG))\n",
    "\n",
    "        if fest_cat not in cats:\n",
    "            new_cats.append(fest_cat)\n",
    "        if fest_cat_global not in cats:\n",
    "            new_cats.append(fest_cat_global)\n",
    "            \n",
    "    if len(new_cats) > 0 :\n",
    "        cat_string = '\\n'.join(['[[' + i + ']]' for i in new_cats])\n",
    "        updated_text = text.replace('[[{0}]]\\n'.format(NO_ID_CATEGORY), '') + '\\n' + cat_string\n",
    "        page.text = updated_text\n",
    "        page.save(\"{1} {0} in Spain: Classification\".format(YEAR, TAG))"
   ]
  },
  {
   "cell_type": "code",
   "execution_count": null,
   "metadata": {},
   "outputs": [],
   "source": []
  }
 ],
 "metadata": {
  "kernelspec": {
   "display_name": "Python 3",
   "language": "python",
   "name": "python3"
  },
  "language_info": {
   "codemirror_mode": {
    "name": "ipython",
    "version": 3
   },
   "file_extension": ".py",
   "mimetype": "text/x-python",
   "name": "python",
   "nbconvert_exporter": "python",
   "pygments_lexer": "ipython3",
   "version": "3.6.3"
  }
 },
 "nbformat": 4,
 "nbformat_minor": 2
}
