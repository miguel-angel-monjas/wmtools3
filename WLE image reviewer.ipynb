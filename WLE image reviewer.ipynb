{
 "cells": [
  {
   "cell_type": "code",
   "execution_count": null,
   "metadata": {},
   "outputs": [],
   "source": [
    "#!/usr/bin/python\n",
    "# -*- coding: utf-8 -*-\n",
    "\"\"\"\n",
    "This notebook adds the WLE per contributor, per site and per autonomous \n",
    "community categories to all the files in the WLE log.\n",
    "\"\"\"\n",
    "\n",
    "import os, sys, inspect\n",
    "\n",
    "try :\n",
    "    import pywikibot as pb\n",
    "    from pywikibot import pagegenerators, textlib\n",
    "    import mwparserfromhell as mwh\n",
    "\n",
    "except :\n",
    "    current_folder = os.path.realpath(os.path.abspath(os.path.split(inspect.getfile(inspect.currentframe()))[0]))\n",
    "    folder_parts = current_folder.split(os.sep)\n",
    "    pywikibot_folder = os.sep.join(folder_parts[0:-1])\n",
    "\n",
    "    if current_folder not in sys.path:\n",
    "        sys.path.insert(0, current_folder)\n",
    "    if pywikibot_folder not in sys.path:\n",
    "        sys.path.insert(0, pywikibot_folder)\n",
    "\n",
    "    import pywikibot as pb\n",
    "    from pywikibot import pagegenerators, textlib\n",
    "    import mwparserfromhell as mwh\n",
    "    \n",
    "import numpy as np\n",
    "import pandas as pd\n",
    "from io import StringIO\n",
    "import re\n",
    "from mako.template import Template"
   ]
  },
  {
   "cell_type": "code",
   "execution_count": null,
   "metadata": {},
   "outputs": [],
   "source": [
    "YEAR                = 2015\n",
    "TAG                 = 'WLE'\n",
    "TAG_EXT             = 'Wiki Loves Earth'\n",
    "\n",
    "BASE_NAME           = \"Commons:Wiki Loves in Spain/{1}/{0}\".format(YEAR, TAG_EXT)\n",
    "LOG_PAGE            = BASE_NAME + '/Log'\n",
    "BASE_SITE_DB_NAME   = \"Commons:Wiki Loves Earth 2016 in Spain\"\n",
    "SITE_DB_PAGE        = BASE_SITE_DB_NAME + \"/SCI DB\"\n",
    "\n",
    "commons_site = pb.Site(\"commons\", \"commons\")"
   ]
  },
  {
   "cell_type": "code",
   "execution_count": null,
   "metadata": {},
   "outputs": [],
   "source": [
    "communities = {\n",
    "    'ES-AN': u'Andalusia',\n",
    "    'ES-AR': u'Aragon',\n",
    "    'ES-AS': u'Asturias',\n",
    "    'ES-CB': u'Cantabria',\n",
    "    'ES-CM': u'Castile-La Mancha',\n",
    "    'ES-CL': u'Castile and León',\n",
    "    'ES-CT': u'Catalonia',\n",
    "    'ES-MD': u'Community of Madrid',\n",
    "    'ES-VC': u'Valencian Community',\n",
    "    'ES-EX': u'Extremadura',\n",
    "    'ES-IB': u'Balearic Islands',\n",
    "    'ES-CN': u'Canary Islands',\n",
    "    'ES-GA': u'Galicia',\n",
    "    'ES-RI': u'La Rioja',\n",
    "    'ES-NC': u'Navarre',\n",
    "    'ES-MC': u'Region of Murcia',\n",
    "    'ES-CE': u'Ceuta',\n",
    "    'ES-ML': u'Melilla',\n",
    "    'ES-PV': u'Basque Country',\n",
    "    'ES-MAGRAMA': u'MAGRAMA'\n",
    "}"
   ]
  },
  {
   "cell_type": "code",
   "execution_count": null,
   "metadata": {},
   "outputs": [],
   "source": [
    "def get_community (x) :\n",
    "    try:\n",
    "        return communities[x]\n",
    "    except :\n",
    "        return np.nan"
   ]
  },
  {
   "cell_type": "markdown",
   "metadata": {},
   "source": [
    "### Retrieval of list of sites of community importance"
   ]
  },
  {
   "cell_type": "code",
   "execution_count": null,
   "metadata": {},
   "outputs": [],
   "source": [
    "pb.output('Retrieving --> WLE SCI list')\n",
    "site_list_page = pb.Page(commons_site, SITE_DB_PAGE)\n",
    "site_list_text = StringIO(site_list_page.text[site_list_page.text.find('\\n') + 1:site_list_page.text.rfind('\\n')])\n",
    "site_df = pd.read_csv(site_list_text, sep=\";\",\n",
    "                     index_col=False,\n",
    "                     names=[\"name\", \"lic_id\", \"magrama_url\", \"community\",\n",
    "                            \"bio_region\", \"continent\", \"min_altitude\",\n",
    "                            \"max_altitude\", \"avg_altitude\", \"longitude\",\n",
    "                            \"latitude\", \"area\", \"marine_percentage\",\n",
    "                            \"marine_area\", \"image\", \"commons_cat\", \"wikidata_id\"])\n",
    "pb.output('Retrieved --> WLE SCI list')\n",
    "\n",
    "site_df['community_name'] = site_df['community'].apply(get_community)\n",
    "\n",
    "codes = site_df[\"lic_id\"].tolist()"
   ]
  },
  {
   "cell_type": "code",
   "execution_count": null,
   "metadata": {},
   "outputs": [],
   "source": [
    "site_df.describe(include=\"all\")"
   ]
  },
  {
   "cell_type": "markdown",
   "metadata": {},
   "source": [
    "### Retrieval of the image log"
   ]
  },
  {
   "cell_type": "code",
   "execution_count": null,
   "metadata": {},
   "outputs": [],
   "source": [
    "pb.output('Retrieving --> {0} {1} images list from cache'.format(TAG, YEAR))\n",
    "list_page = pb.Page(commons_site, LOG_PAGE)\n",
    "list_page_text = StringIO(list_page.text[list_page.text.find('\\n') + 1:list_page.text.rfind('\\n')])\n",
    "images_df = pd.read_csv(list_page_text,\n",
    "                        sep=\";\",\n",
    "                        index_col=False,\n",
    "                        names=['image_title', 'lic_id', \n",
    "                               'uploader', 'uploader_registration', \n",
    "                               'timestamp', 'date', 'size', \n",
    "                               'height', 'width', 'qi', \n",
    "                               'finalist'])\n",
    "\n",
    "pb.output('Retrieved --> {0} {1} images list from cache'.format(TAG, YEAR))"
   ]
  },
  {
   "cell_type": "code",
   "execution_count": null,
   "metadata": {},
   "outputs": [],
   "source": [
    "images_df = images_df.merge(site_df, on='lic_id', how=\"left\")"
   ]
  },
  {
   "cell_type": "code",
   "execution_count": null,
   "metadata": {},
   "outputs": [],
   "source": [
    "site_cat_template = \"\"\"'''Site of Community Importance''': ${lic_name} ([http://natura2000.eea.europa.eu/Natura2000/SDF.aspx?site=${lic_code} ${lic_code}])\n",
    "\n",
    "{{hiddencat}}\n",
    "[[Category:Images from ${tag} in Spain by site| ${lic_code}]]\n",
    "\"\"\"\n",
    "site_vars = {\n",
    "    \"lic_name\": None,\n",
    "    \"lic_code\": None,\n",
    "    \"tag\": TAG_EXT\n",
    "}"
   ]
  },
  {
   "cell_type": "code",
   "execution_count": null,
   "metadata": {},
   "outputs": [],
   "source": [
    "yearly_site_cat_template = \"\"\"'''Site of Community Importance''': ${lic_name} ([http://natura2000.eea.europa.eu/Natura2000/SDF.aspx?site=${lic_code} ${lic_code}])\n",
    "\n",
    "{{hiddencat}}\n",
    "[[Category:Images from ${tag} ${year} in Spain by site| ${lic_code}]]\n",
    "\"\"\"\n",
    "yearly_site_vars = {\n",
    "    \"lic_name\": None,\n",
    "    \"lic_code\": None,\n",
    "    \"tag\": TAG_EXT,\n",
    "    \"year\": YEAR\n",
    "}"
   ]
  },
  {
   "cell_type": "code",
   "execution_count": null,
   "metadata": {},
   "outputs": [],
   "source": [
    "autcom_cat_template = \"\"\"{{hiddencat}}\n",
    "[[Category:Images from ${tag} ${year} in Spain by autonomous community| ${aut_com}]]\"\"\"\n",
    "autcom_vars = {\n",
    "    \"aut_com\": None,\n",
    "    \"tag\": TAG_EXT,\n",
    "    \"year\": YEAR}"
   ]
  },
  {
   "cell_type": "code",
   "execution_count": null,
   "metadata": {},
   "outputs": [],
   "source": [
    "author_cat_template = \"\"\"{{hiddencat}}\n",
    "[[Category:Images from ${tag} ${year} in Spain by author| ${author_name}]]\"\"\"\n",
    "author_vars = {\n",
    "    \"author_name\": None,\n",
    "    \"tag\": TAG_EXT,\n",
    "    \"year\": YEAR}"
   ]
  },
  {
   "cell_type": "code",
   "execution_count": null,
   "metadata": {},
   "outputs": [],
   "source": [
    "deletion_request = \"\"\"{{speedydelete|1=Empty category, it's been moved. No longer needed}}\"\"\""
   ]
  },
  {
   "cell_type": "code",
   "execution_count": null,
   "metadata": {},
   "outputs": [],
   "source": [
    "article_needed = [u'Region', u'Basque', u'Balearic', u'Canary', u'Valencian', u'Community']\n",
    "\n",
    "counter = 0\n",
    "for image_counter, row in images_df.iterrows():\n",
    "    #print (\"Image ({}) handled\".format(row['image_title']))\n",
    "    page = pb.Page(commons_site, row[\"image_title\"], ns=6)\n",
    "    text = page.text\n",
    "    cats = [cat.title(withNamespace=False) for cat in page.categories()]\n",
    "    #print (cats)\n",
    "    wikicode = mwh.parse(text)\n",
    "    templates = wikicode.filter_templates()\n",
    "    \n",
    "    if (image_counter != 0) and (image_counter % 50 == 0) :\n",
    "        pb.output ('Reviewing --> %d image pages downloaded' %(image_counter))\n",
    "\n",
    "    new_cats = []\n",
    "    if (type(row['lic_id']) is str and row['lic_id'].startswith('ES')):\n",
    "        yearly_site_category = 'Images of a site of community importance with code {0} from {1} {2} in Spain'.format(row[\"lic_id\"], TAG_EXT, YEAR)\n",
    "        if yearly_site_category not in cats:\n",
    "            new_cats.append(yearly_site_category)\n",
    "            pass\n",
    "        #print (yearly_site_category)\n",
    "        category = pb.Category(commons_site, yearly_site_category)\n",
    "        if not category.exists() :\n",
    "            yearly_site_vars['lic_name'] = row['name']\n",
    "            yearly_site_vars['lic_code'] = row['lic_id']\n",
    "            t = Template(yearly_site_cat_template)\n",
    "            category.text = t.render(**yearly_site_vars)\n",
    "            category.save(\"{0} Spain {1}: site category creation\".format(TAG, YEAR))\n",
    "        else :\n",
    "            #print ('Existing category ({0})'.format(category))\n",
    "            pass\n",
    "\n",
    "        site_category = 'Images of a site of community importance with code {0} from {1} in Spain'.format(row[\"lic_id\"], TAG_EXT)\n",
    "        if site_category not in cats:\n",
    "            new_cats.append(site_category)\n",
    "        #print (site_category)\n",
    "        category = pb.Category(commons_site, site_category)\n",
    "        if not category.exists() :\n",
    "            site_vars['lic_name'] = row['name']\n",
    "            site_vars['lic_code'] = row['lic_id']\n",
    "            t = Template(site_cat_template)\n",
    "            category.text = t.render(**site_vars)\n",
    "            category.save(\"{0} Spain: site category creation\".format(TAG))\n",
    "        else :\n",
    "            #print ('Existing category ({0})'.format(category))\n",
    "            pass\n",
    "\n",
    "        try :\n",
    "            if len ([i for i in article_needed if row['community_name'].startswith(i)]) == 0 :\n",
    "                aut_com_name = row[\"community_name\"]\n",
    "            else :\n",
    "                aut_com_name = 'the ' + row[\"community_name\"]\n",
    "        except :\n",
    "            break\n",
    "\n",
    "        community_category = 'Images of a site of community importance in {0} from {1} {2} in Spain'.format(aut_com_name, TAG_EXT, YEAR)\n",
    "        #print (community_category)\n",
    "        if community_category not in cats:\n",
    "            new_cats.append(community_category)\n",
    "        category = pb.Category(commons_site, community_category)\n",
    "        if not category.exists() :\n",
    "            autcom_vars['aut_com'] = row[\"community_name\"]\n",
    "            t = Template(autcom_cat_template)\n",
    "            category.text = t.render(**autcom_vars)\n",
    "            category.save(\"{0} Spain {1}: autonomous community category creation\".format(TAG, YEAR))\n",
    "        else :\n",
    "            #print ('Existing category ({0})'.format(category))\n",
    "            pass\n",
    "    else :\n",
    "        print (\"-->Image ({}) from an invalid location\".format(row['image_title']))\n",
    "    if 'flickr' in row['uploader'] :\n",
    "        author = '{0} (flickr)'.format(' '.join(row['uploader'].split(' ')[1:]))\n",
    "    else :\n",
    "        author = row['uploader']\n",
    "    author_category = u'Images from {1} {2} in Spain by {0}'.format(author, TAG_EXT, YEAR)\n",
    "    if author_category not in cats:\n",
    "        new_cats.append(author_category)\n",
    "    category = pb.Category(commons_site, author_category)\n",
    "    if not category.exists() :\n",
    "        t = Template(author_cat_template)\n",
    "        category.text = t.render(**author_vars)\n",
    "        category.save(\"{0} Spain {1}: user category creation\".format(TAG, YEAR))\n",
    "    else :\n",
    "        #print ('Existing category ({0})'.format(category))\n",
    "        pass\n",
    "        \n",
    "    if len(new_cats) > 0 :\n",
    "        cat_string = '\\n'.join(['[[Category:' + i + ']]' for i in new_cats])\n",
    "        new_text = text + '\\n' + cat_string\n",
    "        if page.text != new_text :\n",
    "            page.text = new_text\n",
    "            page.save(\"{1} {0} in Spain: Classification\".format(YEAR, TAG))"
   ]
  },
  {
   "cell_type": "code",
   "execution_count": null,
   "metadata": {},
   "outputs": [],
   "source": []
  }
 ],
 "metadata": {
  "kernelspec": {
   "display_name": "Python 3",
   "language": "python",
   "name": "python3"
  },
  "language_info": {
   "codemirror_mode": {
    "name": "ipython",
    "version": 3
   },
   "file_extension": ".py",
   "mimetype": "text/x-python",
   "name": "python",
   "nbconvert_exporter": "python",
   "pygments_lexer": "ipython3",
   "version": "3.6.3"
  }
 },
 "nbformat": 4,
 "nbformat_minor": 2
}
