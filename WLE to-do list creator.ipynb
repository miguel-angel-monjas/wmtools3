{
 "cells": [
  {
   "cell_type": "code",
   "execution_count": null,
   "metadata": {},
   "outputs": [],
   "source": [
    "#!/usr/bin/python\n",
    "# -*- coding: utf-8 -*-\n",
    "\"\"\"This notebook creates the to-do list for TAG YEAR in COUNTRY\"\"\"\n",
    "\n",
    "import inspect, os, sys\n",
    "\n",
    "try :\n",
    "    import pywikibot as pb\n",
    "except :\n",
    "    current_folder = os.path.realpath(os.path.abspath(os.path.split(inspect.getfile(inspect.currentframe()))[0]))\n",
    "    folder_parts = current_folder.split(os.sep)\n",
    "    pywikibot_folder = os.sep.join(folder_parts[:-1])\n",
    "\n",
    "    if current_folder not in sys.path:\n",
    "        sys.path.insert(0, current_folder)\n",
    "    if pywikibot_folder not in sys.path:\n",
    "        sys.path.insert(0, pywikibot_folder)\n",
    "\n",
    "    import pywikibot as pb"
   ]
  },
  {
   "cell_type": "code",
   "execution_count": null,
   "metadata": {},
   "outputs": [],
   "source": [
    "import pandas as pd\n",
    "from io import StringIO\n",
    "from mako.template import Template\n",
    "from datetime import datetime"
   ]
  },
  {
   "cell_type": "code",
   "execution_count": null,
   "metadata": {},
   "outputs": [],
   "source": [
    "YEAR                = 2017\n",
    "\n",
    "TAG                 = 'WLE'\n",
    "TAG_EXT             = 'Wiki Loves Earth'\n",
    "COUNTRY             = \"Spain\"\n",
    "\n",
    "BASE_NAME           = \"Commons:Wiki Loves in {2}/{1}/{0}\".format(YEAR, TAG_EXT, COUNTRY)\n",
    "LOG_PAGE            = BASE_NAME + '/Log'\n",
    "BASE_SITE_DB_NAME   = \"Commons:Wiki Loves in {1}/{0}\".format(TAG_EXT, COUNTRY)\n",
    "SITE_DB_PAGE        = BASE_SITE_DB_NAME + \"/Sites DB\"\n",
    "TODO_WLE_PAGE       = BASE_NAME + '/To-do'\n",
    "\n",
    "commons_site = pb.Site('commons', 'commons')"
   ]
  },
  {
   "cell_type": "code",
   "execution_count": null,
   "metadata": {},
   "outputs": [],
   "source": [
    "annexes = {\n",
    "   'ES-AN': [u'Anexo:Lugares de importancia comunitaria de Andalucía', 'Andalusia'],\n",
    "   'ES-AR': [u'Anexo:Lugares de importancia comunitaria de Aragón', 'Aragon'],\n",
    "   'ES-AS': [u'Anexo:Lugares de importancia comunitaria de Asturias', 'Asturias'],\n",
    "   'ES-CB': [u'Anexo:Lugares de importancia comunitaria de Cantabria', 'Cantabria'],\n",
    "   'ES-CM': [u'Anexo:Lugares de importancia comunitaria de Castilla-La Mancha', 'Castile-La Mancha'],\n",
    "   'ES-CL': [u'Anexo:Lugares de importancia comunitaria de Castilla y León', u'Castile and León'],\n",
    "   'ES-CT': [u'Anexo:Lugares de importancia comunitaria de Cataluña', 'Catalonia'],\n",
    "   'ES-MD': [u'Anexo:Lugares de importancia comunitaria de la Comunidad de Madrid', 'Community of Madrid'],\n",
    "   'ES-VC': [u'Anexo:Lugares de importancia comunitaria de la Comunidad Valenciana', 'Valencian Community'],\n",
    "   'ES-EX': [u'Anexo:Lugares de importancia comunitaria de Extremadura', 'Extremadura'],\n",
    "   'ES-IB': [u'Anexo:Lugares de importancia comunitaria de las Islas Baleares', 'Balearic Islands'],\n",
    "   'ES-CN': [u'Anexo:Lugares de importancia comunitaria de las Islas Canarias', 'Canary Islands'],\n",
    "   'ES-GA': [u'Anexo:Lugares de importancia comunitaria de Galicia', 'Galicia'],\n",
    "   'ES-RI': [u'Anexo:Lugares de importancia comunitaria de La Rioja', 'La Rioja'],\n",
    "   'ES-NC': [u'Anexo:Lugares de importancia comunitaria de Navarra', 'Navarre'],\n",
    "   'ES-MC': [u'Anexo:Lugares de importancia comunitaria de la Región de Murcia', 'Region of Murcia'],\n",
    "   'ES-PV': [u'Anexo:Lugares de importancia comunitaria del País Vasco', 'Basque Country'],\n",
    "   'ES-CE': [u'Anexo:Lugares de importancia comunitaria de Ceuta y Melilla', 'Ceuta'],\n",
    "   'ES-ML': [u'Anexo:Lugares de importancia comunitaria de Ceuta y Melilla', 'Melilla'],\n",
    "   'ES-MAGRAMA': [u'Anexo:Lugares de importancia comunitaria del MAGRAMA', 'MAGRAMA']\n",
    "}"
   ]
  },
  {
   "cell_type": "code",
   "execution_count": null,
   "metadata": {},
   "outputs": [],
   "source": [
    "# Folder management (templates, images...)\n",
    "cwd = os.getcwd()\n",
    "\n",
    "templates_directory = os.path.join(cwd, 'templates')"
   ]
  },
  {
   "cell_type": "code",
   "execution_count": null,
   "metadata": {},
   "outputs": [],
   "source": [
    "# retrieval of the WLE SCI (site of community importance) log\n",
    "pb.output('Retrieving --> WLE site of community importance list')\n",
    "site_list_page = pb.Page(commons_site, SITE_DB_PAGE)\n",
    "site_list_text = StringIO(site_list_page.text[site_list_page.text.find('\\n') + \n",
    "                                                      1:site_list_page.text.rfind('\\n')])\n",
    "site_df = pd.read_csv(site_list_text, sep=\";\",\n",
    "                      index_col=False,\n",
    "                      names=[\"name\", \"code\", \"magrama_url\", \"community\",\n",
    "                            \"bio_region\", \"continent\", \"min_altitude\",\n",
    "                            \"max_altitude\", \"avg_altitude\", \"longitude\",\n",
    "                            \"latitude\", \"area\", \"marine_percentage\",\n",
    "                            \"marine_area\", \"image\", \"commons_cat\", \"wikidata_id\"])\n",
    "\n",
    "pb.output('Retrieved --> WLE site of community importance list')\n",
    "site_df[\"aut_com\"] = site_df[\"community\"].apply(lambda x: annexes[x][1])"
   ]
  },
  {
   "cell_type": "code",
   "execution_count": null,
   "metadata": {},
   "outputs": [],
   "source": [
    "len(site_df[~site_df['commons_cat'].isnull()])"
   ]
  },
  {
   "cell_type": "code",
   "execution_count": null,
   "metadata": {},
   "outputs": [],
   "source": [
    "len(site_df[~site_df['image'].isnull()])"
   ]
  },
  {
   "cell_type": "code",
   "execution_count": null,
   "metadata": {},
   "outputs": [],
   "source": [
    "filtered_site_df = site_df[(site_df['commons_cat'].isnull() | (site_df['image'].isnull()))]"
   ]
  },
  {
   "cell_type": "code",
   "execution_count": null,
   "metadata": {},
   "outputs": [],
   "source": [
    "len(filtered_site_df)"
   ]
  },
  {
   "cell_type": "code",
   "execution_count": null,
   "metadata": {},
   "outputs": [],
   "source": [
    "# Retrieval of images\n",
    "pb.output('Retrieving --> {1} {0} in {2} images list from cache'.format(YEAR, TAG, COUNTRY))\n",
    "list_page = pb.Page(commons_site, LOG_PAGE)\n",
    "list_page_text = StringIO(list_page.text[list_page.text.find('\\n') + 1:list_page.text.rfind('\\n')])\n",
    "images_df = pd.read_csv(list_page_text,\n",
    "                            sep=\";\",\n",
    "                            index_col=False,\n",
    "                            names=['image_title', 'code', \n",
    "                               'uploader', 'uploader_registration', \n",
    "                               'timestamp', 'date', 'size', \n",
    "                               'height', 'width', 'qi', \n",
    "                               'finalist']\n",
    "                       ).fillna('')\n",
    "pb.output('Retrieved --> {1} {0} in {2} images list from cache'.format(YEAR, TAG, COUNTRY))\n",
    "\n",
    "total_images_length = len(images_df)\n",
    "total_images_length"
   ]
  },
  {
   "cell_type": "code",
   "execution_count": null,
   "metadata": {},
   "outputs": [],
   "source": [
    "filtered_images_df = images_df[(~images_df['code'].isnull()) & (images_df['code'].isin(filtered_site_df['code'].values))]"
   ]
  },
  {
   "cell_type": "code",
   "execution_count": null,
   "metadata": {},
   "outputs": [],
   "source": [
    "filtered_images_df['code'].unique()"
   ]
  },
  {
   "cell_type": "code",
   "execution_count": null,
   "metadata": {},
   "outputs": [],
   "source": [
    "missing_sites_df = filtered_site_df[filtered_site_df['code'].isin(filtered_images_df['code'].unique())].fillna('')\n",
    "missing_sites_df['annex'] = missing_sites_df[\"community\"].apply(lambda x: annexes[x][0])"
   ]
  },
  {
   "cell_type": "code",
   "execution_count": null,
   "metadata": {},
   "outputs": [],
   "source": [
    "lost_cats = []\n",
    "for image_counter, row in images_df.iterrows():\n",
    "    #print(row[\"image_title\"])\n",
    "    page = pb.FilePage(commons_site, row[\"image_title\"])\n",
    "    text = page.text\n",
    "    if (image_counter != 0) and (image_counter % 50 == 0) :\n",
    "        pb.output ('Reviewing --> %d image pages downloaded' %(image_counter))\n",
    "\n",
    "    cats = [cat for cat in page.categories()]\n",
    "    lost_cats.extend([cat.title(withNamespace=False) for cat in cats if (not cat.isHiddenCategory() and not cat.exists())])"
   ]
  },
  {
   "cell_type": "code",
   "execution_count": null,
   "metadata": {},
   "outputs": [],
   "source": [
    "template_file = os.path.join(templates_directory, 'todo.wiki')\n",
    "fh = open(template_file, 'r', encoding = \"utf-8\")\n",
    "template = fh.read()\n",
    "fh.close()"
   ]
  },
  {
   "cell_type": "code",
   "execution_count": null,
   "metadata": {},
   "outputs": [],
   "source": [
    "list(set(lost_cats))"
   ]
  },
  {
   "cell_type": "code",
   "execution_count": null,
   "metadata": {},
   "outputs": [],
   "source": [
    "vars = {\n",
    "    \"lost_categories\": list(set(lost_cats)),\n",
    "    \"missing_df\": missing_sites_df, \n",
    "    \"todo_page\": TODO_WLE_PAGE,\n",
    "    \"tag\": TAG,\n",
    "    \"full_tag\": TAG_EXT,\n",
    "    \"year\": YEAR,\n",
    "    \"country\": COUNTRY,\n",
    "    \"date\": datetime.now().strftime(\"%B %-d, %Y\")\n",
    "}\n",
    "t = Template(template)\n",
    "todo_text = t.render(**vars)"
   ]
  },
  {
   "cell_type": "code",
   "execution_count": null,
   "metadata": {},
   "outputs": [],
   "source": [
    "todo_page = pb.Page(commons_site, TODO_WLE_PAGE)\n",
    "if todo_page.text.strip() != todo_text.strip() :\n",
    "    todo_page.text = todo_text\n",
    "    pb.output('Publishing --> {1} {0} in {2} To-do List'.format(YEAR, TAG, COUNTRY))\n",
    "    todo_page.save(\"{1} {0} in {2} to-do list\".format(YEAR, TAG, COUNTRY))"
   ]
  },
  {
   "cell_type": "code",
   "execution_count": null,
   "metadata": {},
   "outputs": [],
   "source": []
  }
 ],
 "metadata": {
  "kernelspec": {
   "display_name": "Python 3",
   "language": "python",
   "name": "python3"
  },
  "language_info": {
   "codemirror_mode": {
    "name": "ipython",
    "version": 3
   },
   "file_extension": ".py",
   "mimetype": "text/x-python",
   "name": "python",
   "nbconvert_exporter": "python",
   "pygments_lexer": "ipython3",
   "version": "3.6.3"
  }
 },
 "nbformat": 4,
 "nbformat_minor": 2
}
