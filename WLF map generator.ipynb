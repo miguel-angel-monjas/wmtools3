{
 "cells": [
  {
   "cell_type": "code",
   "execution_count": null,
   "metadata": {},
   "outputs": [],
   "source": [
    "#!/usr/bin/python\n",
    "# -*- coding: utf-8 -*-\n",
    "\"\"\"This notebook creates the map of TAG for all its \n",
    "editions, provided images have been properly \n",
    "categorized\"\"\"\n",
    "\n",
    "import inspect, os, sys\n",
    "\n",
    "try :\n",
    "    import pywikibot as pb\n",
    "    from pywikibot import pagegenerators\n",
    "\n",
    "except :\n",
    "    current_folder = os.path.realpath(os.path.abspath(os.path.split(inspect.getfile(inspect.currentframe()))[0]))\n",
    "    folder_parts = current_folder.split(os.sep)\n",
    "    pywikibot_folder = os.sep.join(folder_parts[:-1])\n",
    "\n",
    "    if current_folder not in sys.path:\n",
    "        sys.path.insert(0, current_folder)\n",
    "    if pywikibot_folder not in sys.path:\n",
    "        sys.path.insert(0, pywikibot_folder)\n",
    "\n",
    "    import pywikibot as pb\n",
    "    from pywikibot import pagegenerators"
   ]
  },
  {
   "cell_type": "code",
   "execution_count": null,
   "metadata": {},
   "outputs": [],
   "source": [
    "import pandas as pd\n",
    "import numpy as np\n",
    "from mako.template import Template\n",
    "from io import StringIO\n",
    "import random\n",
    "import seaborn as sns"
   ]
  },
  {
   "cell_type": "code",
   "execution_count": null,
   "metadata": {},
   "outputs": [],
   "source": [
    "from geojson import Feature, Point, FeatureCollection\n",
    "import geojson"
   ]
  },
  {
   "cell_type": "code",
   "execution_count": null,
   "metadata": {},
   "outputs": [],
   "source": [
    "from modules.wmtools import coordinate_shaker, additional_festivals_df"
   ]
  },
  {
   "cell_type": "code",
   "execution_count": null,
   "metadata": {},
   "outputs": [],
   "source": [
    "YEARS               = [2016, 2017]\n",
    "\n",
    "TAG                 = 'WLF'\n",
    "TAG_EXT             = 'Wiki Loves Folk'\n",
    "\n",
    "LOG_PAGES           = ['Commons:{1}/{0}/Log'.format(i, TAG_EXT) for i in YEARS]\n",
    "FESTIVAL_DB_PAGE    = 'Commons:{1}/{0}/Festival DB'.format(2016, TAG_EXT)\n",
    "MAP_WLF_PAGE        = 'Commons:{0}/Map'.format(TAG_EXT)\n",
    "\n",
    "commons_site = pb.Site('commons', 'commons')"
   ]
  },
  {
   "cell_type": "code",
   "execution_count": null,
   "metadata": {},
   "outputs": [],
   "source": [
    "festival_annexes = [\n",
    "    ['Anexo:Fiestas de interés turístico de Andalucía', 'Andalusia'],\n",
    "    ['Anexo:Fiestas de interés turístico de Aragón', 'Aragon'],\n",
    "    ['Anexo:Fiestas de interés turístico de Asturias', 'Asturias'],\n",
    "    ['Anexo:Fiestas de interés turístico de Cantabria', 'Cantabria'],\n",
    "    ['Anexo:Fiestas de interés turístico de Castilla-La Mancha', 'Castile-La Mancha'],\n",
    "    ['Anexo:Fiestas de interés turístico de Castilla y León', 'Castile and León'],\n",
    "    ['Anexo:Fiestas de interés turístico de Cataluña', 'Catalonia'],\n",
    "    ['Anexo:Fiestas de interés turístico de la Comunidad de Madrid', 'Community of Madrid'],\n",
    "    ['Anexo:Fiestas de interés turístico de la Comunidad Valenciana', 'Valencian Community'],\n",
    "    ['Anexo:Fiestas de interés turístico de Extremadura', 'Extremadura'],\n",
    "    ['Anexo:Fiestas de interés turístico de las Islas Baleares', 'Balearic Islands'],\n",
    "    ['Anexo:Fiestas de interés turístico de las Islas Canarias', 'Canary Islands'],\n",
    "    ['Anexo:Fiestas de interés turístico de Galicia', 'Galicia'],\n",
    "    ['Anexo:Fiestas de interés turístico de La Rioja', 'La Rioja'],\n",
    "    ['Anexo:Fiestas de interés turístico de Navarra', 'Navarre'],\n",
    "    ['Anexo:Fiestas de interés turístico de la Región de Murcia', 'Region of Murcia'],\n",
    "    ['Anexo:Fiestas y tradiciones del País Vasco', 'Basque Country']\n",
    "]"
   ]
  },
  {
   "cell_type": "code",
   "execution_count": null,
   "metadata": {},
   "outputs": [],
   "source": [
    "autcom_palette = [i[1:] for i in sns.color_palette('hls', 17).as_hex()]\n",
    "autcoms = [i[1] for i in festival_annexes]\n",
    "autcom_colors = {autcom: autcom_palette[i] for i, autcom in enumerate(autcoms)}\n",
    "autcom_colors"
   ]
  },
  {
   "cell_type": "code",
   "execution_count": null,
   "metadata": {},
   "outputs": [],
   "source": [
    "def to_geojson (row) :\n",
    "    reduced_images_df = images_df[(images_df['wikidata_id'] == row['wikidata_id']) & (images_df['width'] > images_df['height'])]\n",
    "    if len (reduced_images_df.index) == 0:\n",
    "        reduced_images_df = images_df[images_df['wikidata_id'] == row['wikidata_id']]\n",
    "\n",
    "    tries = len(reduced_images_df.index) \n",
    "    if len(reduced_images_df[reduced_images_df['qi'] == 'qi']) > 0 :\n",
    "        image = reduced_images_df[reduced_images_df['qi'] == 'qi'].sample(1, random_state=0)['image_title'].values[0]\n",
    "    elif len(reduced_images_df[reduced_images_df['finalist'] == 'finalist']) > 0 :\n",
    "        image = reduced_images_df[reduced_images_df['finalist'] == 'finalist'].sample(1, random_state=0)['image_title'].values[0]\n",
    "    else :\n",
    "        image = reduced_images_df.sample(1, random_state=0)['image_title'].values[0]\n",
    "\n",
    "    properties = {\"description\": \"[[File:{0}|150px]]\".format(image),\n",
    "                  \"title\": \"[[:Category:Images of festival with code {0}|{1}]]\".format(row['wikidata_id'], row['category']),\n",
    "                  \"marker-size\": \"small\",\n",
    "                  \"marker-symbol\": \"circle\",\n",
    "                  \"marker-color\": autcom_colors[row['aut_com']]}\n",
    "    if row['additional'] == 'additional':\n",
    "        properties['marker-symbol'] = 'circle-stroked'\n",
    "    feature = Feature(geometry=Point((row['longitude'], row['latitude'])), \n",
    "                      properties=properties\n",
    "                     )\n",
    "    return feature"
   ]
  },
  {
   "cell_type": "code",
   "execution_count": null,
   "metadata": {},
   "outputs": [],
   "source": [
    "pb.output('Retrieving --> {0} in Spain Festivals list from cache'.format(TAG))\n",
    "festival_list_page = pb.Page(commons_site, FESTIVAL_DB_PAGE)\n",
    "festival_list_text = StringIO(festival_list_page.text[festival_list_page.text.find('\\n') + 1:festival_list_page.text.rfind('\\n')])\n",
    "festivals_df = pd.read_csv(festival_list_text, \n",
    "                           sep=\";\", \n",
    "                           index_col=False, \n",
    "                           names=['name', 'aut_com', \n",
    "                                  'wikidata_id', 'wikidata_timestamp', \n",
    "                                  'category', 'cat_timestamp', 'image',\n",
    "                                  'latitude', 'longitude']\n",
    "                          )\n",
    "pb.output('Retrieved --> {0} in Spain Festivals list from cache'.format(TAG))"
   ]
  },
  {
   "cell_type": "code",
   "execution_count": null,
   "metadata": {},
   "outputs": [],
   "source": [
    "valid_festivals = festivals_df['wikidata_id'].values\n",
    "valid_festivals"
   ]
  },
  {
   "cell_type": "code",
   "execution_count": null,
   "metadata": {},
   "outputs": [],
   "source": [
    "additional_festivals_df['additional'] = 'additional'\n",
    "additional_festivals = additional_festivals_df['wikidata_id'].values\n",
    "additional_festivals"
   ]
  },
  {
   "cell_type": "code",
   "execution_count": null,
   "metadata": {},
   "outputs": [],
   "source": [
    "image_columns = ['image_title', 'wikidata_id', 'uploader', 'time_to_upload',\n",
    "                 'timestamp', 'size', 'height', 'width', 'qi', 'finalist']\n",
    "images_df = pd.DataFrame(columns=image_columns)"
   ]
  },
  {
   "cell_type": "code",
   "execution_count": null,
   "metadata": {},
   "outputs": [],
   "source": [
    "pb.output('Retrieving --> {0} in Spain images list from cache'.format(TAG))\n",
    "for log_page in LOG_PAGES:\n",
    "    list_page = pb.Page(commons_site, log_page)\n",
    "    list_page_text = StringIO(list_page.text[list_page.text.find('\\n') + 1:list_page.text.rfind('\\n')])\n",
    "    yearly_df = pd.read_csv(list_page_text,\n",
    "                            sep=\";\",\n",
    "                            index_col=False,\n",
    "                            names=image_columns\n",
    "                           ).fillna('')\n",
    "    images_df = pd.concat([images_df, yearly_df])\n",
    "pb.output('Retrieved --> {0} in Spain images list from cache'.format(TAG))\n",
    "\n",
    "images_df['timestamp'] = pd.to_datetime(images_df['timestamp'], format=\"%Y-%m-%d %H:%M:%S\")\n",
    "\n",
    "images_df.set_index([\"timestamp\"], inplace=True)\n",
    "del images_df.index.name\n",
    "\n",
    "total_images_length = len(images_df)\n",
    "total_images_length"
   ]
  },
  {
   "cell_type": "code",
   "execution_count": null,
   "metadata": {},
   "outputs": [],
   "source": [
    "images_extended_df = pd.merge(images_df, festivals_df, on='wikidata_id', how='left')\n",
    "len(images_extended_df.index)"
   ]
  },
  {
   "cell_type": "code",
   "execution_count": null,
   "metadata": {},
   "outputs": [],
   "source": [
    "images_per_festival = images_extended_df[images_extended_df['wikidata_id'].isin(valid_festivals)]['wikidata_id'].value_counts()\n",
    "images_per_festival"
   ]
  },
  {
   "cell_type": "code",
   "execution_count": null,
   "metadata": {},
   "outputs": [],
   "source": [
    "images_per_festival_df = pd.DataFrame(data=images_per_festival).reset_index()\n",
    "images_per_festival_df.rename(columns={'index': 'wikidata_id', 'wikidata_id': 'count'}, inplace=True)"
   ]
  },
  {
   "cell_type": "code",
   "execution_count": null,
   "metadata": {},
   "outputs": [],
   "source": [
    "images_per_festival_df = pd.merge(images_per_festival_df, festivals_df, on='wikidata_id')[['count', 'wikidata_id', 'category', 'aut_com', 'latitude', 'longitude']].fillna('')\n",
    "images_per_festival_df = images_per_festival_df.iloc[np.lexsort([images_per_festival_df['category'], -images_per_festival_df['count']])]\n",
    "images_per_festival_df['category'] = images_per_festival_df['category'].map(lambda x: x.replace('_', ' '))\n",
    "images_per_festival_df.head()"
   ]
  },
  {
   "cell_type": "code",
   "execution_count": null,
   "metadata": {},
   "outputs": [],
   "source": [
    "images_per_additional_festival = images_extended_df[images_extended_df['wikidata_id'].isin(additional_festivals)]['wikidata_id'].value_counts()\n",
    "images_per_additional_festival_df = pd.DataFrame(data=images_per_additional_festival).reset_index()\n",
    "images_per_additional_festival_df.rename(columns={'index': 'wikidata_id', 'wikidata_id': 'count'}, inplace=True)\n",
    "images_per_additional_festival_df = pd.merge(images_per_additional_festival_df, additional_festivals_df, on='wikidata_id')[['count', 'wikidata_id', 'category', 'aut_com', 'latitude', 'longitude']].fillna('')\n",
    "images_per_additional_festival_df = images_per_additional_festival_df.iloc[np.lexsort([images_per_additional_festival_df['category'], -images_per_additional_festival_df['count']])]\n",
    "images_per_additional_festival_df['category'] = images_per_additional_festival_df['category'].map(lambda x: x.replace('_', ' '))\n",
    "images_per_additional_festival_df['additional'] = 'additional'\n",
    "images_per_additional_festival_df.head()"
   ]
  },
  {
   "cell_type": "code",
   "execution_count": null,
   "metadata": {},
   "outputs": [],
   "source": [
    "images_per_combined_festival_df = pd.concat([images_per_festival_df, images_per_additional_festival_df]).fillna('')\n",
    "images_per_combined_festival_df.head()"
   ]
  },
  {
   "cell_type": "code",
   "execution_count": null,
   "metadata": {},
   "outputs": [],
   "source": [
    "images_per_combined_festival_df['dup_index'] = images_per_combined_festival_df.groupby(['latitude', 'longitude'])['latitude'].transform('idxmin')    \n",
    "images_per_combined_festival_df['dup'] = images_per_combined_festival_df.duplicated(subset=['dup_index'])\n",
    "images_per_combined_festival_df.head()"
   ]
  },
  {
   "cell_type": "code",
   "execution_count": null,
   "metadata": {},
   "outputs": [],
   "source": [
    "images_per_combined_festival_df['coordinates'] = images_per_combined_festival_df.apply(coordinate_shaker, axis=1)\n",
    "images_per_combined_festival_df[['latitude', 'longitude']] = images_per_combined_festival_df['coordinates'].apply(pd.Series)\n",
    "images_per_combined_festival_df.head()"
   ]
  },
  {
   "cell_type": "code",
   "execution_count": null,
   "metadata": {},
   "outputs": [],
   "source": [
    "images_per_combined_festival_df['geojson'] = images_per_combined_festival_df.apply(lambda row: to_geojson(row), axis=1)"
   ]
  },
  {
   "cell_type": "code",
   "execution_count": null,
   "metadata": {},
   "outputs": [],
   "source": [
    "features = images_per_combined_festival_df['geojson'].tolist()\n",
    "feature_collection = FeatureCollection(features)\n",
    "dump = geojson.dumps(feature_collection, ensure_ascii=False, indent=2)\n",
    "#print(dump)"
   ]
  },
  {
   "cell_type": "code",
   "execution_count": null,
   "metadata": {},
   "outputs": [],
   "source": [
    "template = \"\"\"=== WLF contributions map ===\n",
    "The map below includes all the contributions, by festival, for all the editions of the contest (${years[0]}-${years[-1]}).\n",
    "<mapframe text=\"Festivals\" latitude=\"39\" longitude=\"-4\" zoom=\"5\" width=\"800\" height=\"600\" align=\"center\"> \n",
    "${map}\n",
    "</mapframe>\n",
    "\"\"\"\n",
    "vars = {\n",
    "    \"map\": dump,\n",
    "    \"years\": YEARS\n",
    "}\n",
    "t = Template(template)\n",
    "map_text = t.render(**vars)"
   ]
  },
  {
   "cell_type": "code",
   "execution_count": null,
   "metadata": {},
   "outputs": [],
   "source": [
    "maps_page = pb.Page(commons_site, MAP_WLF_PAGE)\n",
    "maps_page.text = map_text\n",
    "pb.output('Publishing --> {0} in Spain Statistics'.format(TAG))\n",
    "maps_page.save(\"{0} in Spain statistics\".format(TAG))"
   ]
  },
  {
   "cell_type": "code",
   "execution_count": null,
   "metadata": {},
   "outputs": [],
   "source": []
  }
 ],
 "metadata": {
  "kernelspec": {
   "display_name": "Python 3",
   "language": "python",
   "name": "python3"
  },
  "language_info": {
   "codemirror_mode": {
    "name": "ipython",
    "version": 3
   },
   "file_extension": ".py",
   "mimetype": "text/x-python",
   "name": "python",
   "nbconvert_exporter": "python",
   "pygments_lexer": "ipython3",
   "version": "3.6.3"
  }
 },
 "nbformat": 4,
 "nbformat_minor": 2
}
