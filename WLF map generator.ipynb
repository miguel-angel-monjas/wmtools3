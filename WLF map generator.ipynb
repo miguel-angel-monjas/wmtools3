{
 "cells": [
  {
   "cell_type": "code",
   "execution_count": 55,
   "metadata": {},
   "outputs": [],
   "source": [
    "#!/usr/bin/python\n",
    "# -*- coding: latin-1 -*-\n",
    "\"\"\"This notebook creates the map of TAG for all its \n",
    "editions, provided images have been properly \n",
    "categorized\"\"\"\n",
    "\n",
    "import inspect, os, sys\n",
    "\n",
    "try :\n",
    "    import pywikibot as pb\n",
    "    from pywikibot import pagegenerators\n",
    "\n",
    "except :\n",
    "    current_folder = os.path.realpath(os.path.abspath(os.path.split(inspect.getfile(inspect.currentframe()))[0]))\n",
    "    folder_parts = current_folder.split(os.sep)\n",
    "    pywikibot_folder = os.sep.join(folder_parts[:-1])\n",
    "\n",
    "    if current_folder not in sys.path:\n",
    "        sys.path.insert(0, current_folder)\n",
    "    if pywikibot_folder not in sys.path:\n",
    "        sys.path.insert(0, pywikibot_folder)\n",
    "\n",
    "    import pywikibot as pb\n",
    "    from pywikibot import pagegenerators"
   ]
  },
  {
   "cell_type": "code",
   "execution_count": 56,
   "metadata": {},
   "outputs": [],
   "source": [
    "import pandas as pd\n",
    "import numpy as np\n",
    "from mako.template import Template\n",
    "from io import StringIO\n",
    "import random\n",
    "import seaborn as sns"
   ]
  },
  {
   "cell_type": "code",
   "execution_count": 57,
   "metadata": {},
   "outputs": [],
   "source": [
    "from geojson import Feature, Point, FeatureCollection\n",
    "import geojson"
   ]
  },
  {
   "cell_type": "code",
   "execution_count": 58,
   "metadata": {},
   "outputs": [],
   "source": [
    "YEARS               = [2016, 2017]\n",
    "\n",
    "TAG                 = 'WLF'\n",
    "TAG_EXT             = 'Wiki Loves Folk'\n",
    "\n",
    "LOG_PAGES           = ['Commons:{1}/{0}/Log'.format(i, TAG_EXT) for i in YEARS]\n",
    "FESTIVAL_DB_PAGE    = 'Commons:{1}/{0}/Festival DB'.format(2016, TAG_EXT)\n",
    "MAP_WLF_PAGE        = 'Commons:{0}/Map'.format(TAG_EXT)\n",
    "\n",
    "commons_site = pb.Site('commons', 'commons')"
   ]
  },
  {
   "cell_type": "code",
   "execution_count": 59,
   "metadata": {},
   "outputs": [],
   "source": [
    "festival_annexes = [\n",
    "    ['Anexo:Fiestas de interés turístico de Andalucía', 'Andalusia'],\n",
    "    ['Anexo:Fiestas de interés turístico de Aragón', 'Aragon'],\n",
    "    ['Anexo:Fiestas de interés turístico de Asturias', 'Asturias'],\n",
    "    ['Anexo:Fiestas de interés turístico de Cantabria', 'Cantabria'],\n",
    "    ['Anexo:Fiestas de interés turístico de Castilla-La Mancha', 'Castile-La Mancha'],\n",
    "    ['Anexo:Fiestas de interés turístico de Castilla y León', 'Castile and León'],\n",
    "    ['Anexo:Fiestas de interés turístico de Cataluña', 'Catalonia'],\n",
    "    ['Anexo:Fiestas de interés turístico de la Comunidad de Madrid', 'Community of Madrid'],\n",
    "    ['Anexo:Fiestas de interés turístico de la Comunidad Valenciana', 'Valencian Community'],\n",
    "    ['Anexo:Fiestas de interés turístico de Extremadura', 'Extremadura'],\n",
    "    ['Anexo:Fiestas de interés turístico de las Islas Baleares', 'Balearic Islands'],\n",
    "    ['Anexo:Fiestas de interés turístico de las Islas Canarias', 'Canary Islands'],\n",
    "    ['Anexo:Fiestas de interés turístico de Galicia', 'Galicia'],\n",
    "    ['Anexo:Fiestas de interés turístico de La Rioja', 'La Rioja'],\n",
    "    ['Anexo:Fiestas de interés turístico de Navarra', 'Navarre'],\n",
    "    ['Anexo:Fiestas de interés turístico de la Región de Murcia', 'Region of Murcia'],\n",
    "    ['Anexo:Fiestas y tradiciones del País Vasco', 'Basque Country']\n",
    "]"
   ]
  },
  {
   "cell_type": "code",
   "execution_count": 60,
   "metadata": {},
   "outputs": [],
   "source": [
    "shake_step=0.01\n",
    "\n",
    "def shaker (row) :\n",
    "    coordinates = (row['latitude'], row['longitude'])\n",
    "    if row['dup'] == True:\n",
    "        random.seed(len(row['category']))\n",
    "        term_selector = random.randint(0,1)\n",
    "        sign_selector = -1\n",
    "        if random.random() < 0.5 :\n",
    "            sign_selector = 1\n",
    "        shake = [0.0] * 2\n",
    "        shake[term_selector] = sign_selector*shake_step\n",
    "        shake = set(shake)\n",
    "        coordinates = tuple(x + y for x, y in zip(shake, coordinates))\n",
    "\n",
    "    return coordinates"
   ]
  },
  {
   "cell_type": "code",
   "execution_count": 61,
   "metadata": {},
   "outputs": [
    {
     "data": {
      "text/plain": [
       "{'Andalusia': 'db5f57',\n",
       " 'Aragon': 'db8d57',\n",
       " 'Asturias': 'dbbc57',\n",
       " 'Balearic Islands': '578ddb',\n",
       " 'Basque Country': 'db577e',\n",
       " 'Canary Islands': '575edb',\n",
       " 'Cantabria': 'ccdb57',\n",
       " 'Castile and León': '6edb57',\n",
       " 'Castile-La Mancha': '9ddb57',\n",
       " 'Catalonia': '57db6e',\n",
       " 'Community of Madrid': '57db9d',\n",
       " 'Extremadura': '57bcdb',\n",
       " 'Galicia': '7e57db',\n",
       " 'La Rioja': 'ad57db',\n",
       " 'Navarre': 'db57db',\n",
       " 'Region of Murcia': 'db57ac',\n",
       " 'Valencian Community': '57dbcc'}"
      ]
     },
     "execution_count": 61,
     "metadata": {},
     "output_type": "execute_result"
    }
   ],
   "source": [
    "autcom_palette = [i[1:] for i in sns.color_palette('hls', 17).as_hex()]\n",
    "autcoms = [i[1] for i in festival_annexes]\n",
    "autcom_colors = {autcom: autcom_palette[i] for i, autcom in enumerate(autcoms)}\n",
    "autcom_colors"
   ]
  },
  {
   "cell_type": "code",
   "execution_count": 62,
   "metadata": {},
   "outputs": [],
   "source": [
    "def to_geojson (row) :\n",
    "    reduced_images_df = images_df[images_df['wikidata_id'] == row['wikidata_id']]\n",
    "    if len(reduced_images_df[reduced_images_df['qi'] == 'qi']) > 0 :\n",
    "        image = reduced_images_df[reduced_images_df['qi'] == 'qi'].sample(1, random_state=0)['image_title'].values[0]\n",
    "    elif len(reduced_images_df[reduced_images_df['finalist'] == 'finalist']) > 0 :\n",
    "        image = reduced_images_df[reduced_images_df['finalist'] == 'finalist'].sample(1, random_state=0)['image_title'].values[0]\n",
    "    else :\n",
    "        image = reduced_images_df.sample(1, random_state=0)['image_title'].values[0]\n",
    "\n",
    "    feature = Feature(geometry=Point((row['longitude'], row['latitude'])), \n",
    "                      properties={\"description\": \"[[File:{0}|150px]]\".format(image),\n",
    "                                  \"title\": \"[[:Category:Images of festival with code {0}|{1}]]\".format(row['wikidata_id'], row['category']),\n",
    "                                  \"marker-size\": \"small\",\n",
    "                                  \"marker-symbol\": \"circle\",\n",
    "                                  \"marker-color\": autcom_colors[row['aut_com']]}\n",
    "                     )\n",
    "    return feature"
   ]
  },
  {
   "cell_type": "code",
   "execution_count": 63,
   "metadata": {},
   "outputs": [
    {
     "name": "stderr",
     "output_type": "stream",
     "text": [
      "Retrieving --> WLF in Spain Festivals list from cache\n",
      "Retrieved --> WLF in Spain Festivals list from cache\n"
     ]
    }
   ],
   "source": [
    "pb.output('Retrieving --> {0} in Spain Festivals list from cache'.format(TAG))\n",
    "festival_list_page = pb.Page(commons_site, FESTIVAL_DB_PAGE)\n",
    "festival_list_text = StringIO(festival_list_page.text[festival_list_page.text.find('\\n') + 1:festival_list_page.text.rfind('\\n')])\n",
    "festivals_df = pd.read_csv(festival_list_text, \n",
    "                           sep=\";\", \n",
    "                           index_col=False, \n",
    "                           names=['name', 'aut_com', \n",
    "                                  'wikidata_id', 'wikidata_timestamp', \n",
    "                                  'category', 'cat_timestamp', 'image',\n",
    "                                  'latitude', 'longitude']\n",
    "                          )\n",
    "pb.output('Retrieved --> {0} in Spain Festivals list from cache'.format(TAG))"
   ]
  },
  {
   "cell_type": "code",
   "execution_count": 64,
   "metadata": {},
   "outputs": [
    {
     "data": {
      "text/plain": [
       "array(['Q2939698', 'Q9075883', 'Q1469338', ..., 'Q23655957', 'Q23655971',\n",
       "       'Q23655987'], dtype=object)"
      ]
     },
     "execution_count": 64,
     "metadata": {},
     "output_type": "execute_result"
    }
   ],
   "source": [
    "valid_festivals = festivals_df['wikidata_id'].values\n",
    "valid_festivals"
   ]
  },
  {
   "cell_type": "code",
   "execution_count": 65,
   "metadata": {},
   "outputs": [],
   "source": [
    "image_columns = ['image_title', 'wikidata_id', 'uploader', 'time_to_upload', 'timestamp', 'qi', 'finalist']\n",
    "images_df = pd.DataFrame(columns=image_columns)"
   ]
  },
  {
   "cell_type": "code",
   "execution_count": 66,
   "metadata": {},
   "outputs": [
    {
     "name": "stderr",
     "output_type": "stream",
     "text": [
      "Retrieving --> WLF in Spain images list from cache\n",
      "Retrieved --> WLF in Spain images list from cache\n"
     ]
    },
    {
     "data": {
      "text/plain": [
       "4162"
      ]
     },
     "execution_count": 66,
     "metadata": {},
     "output_type": "execute_result"
    }
   ],
   "source": [
    "pb.output('Retrieving --> {0} in Spain images list from cache'.format(TAG))\n",
    "for log_page in LOG_PAGES:\n",
    "    list_page = pb.Page(commons_site, log_page)\n",
    "    list_page_text = StringIO(list_page.text[list_page.text.find('\\n') + 1:list_page.text.rfind('\\n')])\n",
    "    yearly_df = pd.read_csv(list_page_text,\n",
    "                            sep=\";\",\n",
    "                            index_col=False,\n",
    "                            names=image_columns\n",
    "                           ).fillna('')\n",
    "    images_df = pd.concat([images_df, yearly_df])\n",
    "pb.output('Retrieved --> {0} in Spain images list from cache'.format(TAG))\n",
    "\n",
    "images_df['timestamp'] = pd.to_datetime(images_df['timestamp'], format=\"%Y-%m-%d %H:%M:%S\")\n",
    "\n",
    "images_df.set_index([\"timestamp\"], inplace=True)\n",
    "del images_df.index.name\n",
    "\n",
    "total_images_length = len(images_df)\n",
    "total_images_length"
   ]
  },
  {
   "cell_type": "code",
   "execution_count": 67,
   "metadata": {},
   "outputs": [
    {
     "data": {
      "text/plain": [
       "4162"
      ]
     },
     "execution_count": 67,
     "metadata": {},
     "output_type": "execute_result"
    }
   ],
   "source": [
    "images_extended_df = pd.merge(images_df, festivals_df, on='wikidata_id', how='left')\n",
    "len(images_extended_df.index)"
   ]
  },
  {
   "cell_type": "code",
   "execution_count": 68,
   "metadata": {},
   "outputs": [
    {
     "data": {
      "text/plain": [
       "Q1143768     750\n",
       "Q23657061    609\n",
       "Q9075883     435\n",
       "Q9075892     415\n",
       "Q23541308    376\n",
       "Q6124533     282\n",
       "Q9075846      58\n",
       "Q23309364     57\n",
       "Q5685566      57\n",
       "Q23662660     54\n",
       "Q23663119     44\n",
       "Q3092925      41\n",
       "Q23663100     40\n",
       "Q8355038      33\n",
       "Q5861751      29\n",
       "Q3290365      29\n",
       "Q21479929     28\n",
       "Q9075868      23\n",
       "Q26756828     21\n",
       "Q23199370     20\n",
       "Q17627979     19\n",
       "Q23660893     18\n",
       "Q23663127     16\n",
       "Q23660880     14\n",
       "Q23663151     14\n",
       "Q23663335     14\n",
       "Q23453336     14\n",
       "Q23310072     14\n",
       "Q23453538     14\n",
       "Q23662027     13\n",
       "            ... \n",
       "Q5963246       1\n",
       "Q23662787      1\n",
       "Q5855501       1\n",
       "Q2838024       1\n",
       "Q20541714      1\n",
       "Q21483881      1\n",
       "Q20109030      1\n",
       "Q6135210       1\n",
       "Q3092923       1\n",
       "Q5815728       1\n",
       "Q23310019      1\n",
       "Q3444111       1\n",
       "Q4895460       1\n",
       "Q7401479       1\n",
       "Q5660198       1\n",
       "Q23657558      1\n",
       "Q6024342       1\n",
       "Q23663003      1\n",
       "Q17636451      1\n",
       "Q9066149       1\n",
       "Q17305074      1\n",
       "Q23661532      1\n",
       "Q5752915       1\n",
       "Q6124477       1\n",
       "Q5858861       1\n",
       "Q5836853       1\n",
       "Q23662185      1\n",
       "Q21003051      1\n",
       "Q20105477      1\n",
       "Q20105952      1\n",
       "Name: wikidata_id, Length: 133, dtype: int64"
      ]
     },
     "execution_count": 68,
     "metadata": {},
     "output_type": "execute_result"
    }
   ],
   "source": [
    "images_per_festival = images_extended_df[images_extended_df['wikidata_id'].isin(valid_festivals)]['wikidata_id'].value_counts()\n",
    "images_per_festival"
   ]
  },
  {
   "cell_type": "code",
   "execution_count": 69,
   "metadata": {},
   "outputs": [],
   "source": [
    "images_per_festival_df = pd.DataFrame(data=images_per_festival).reset_index()\n",
    "images_per_festival_df.rename(columns={'index': 'wikidata_id', 'wikidata_id': 'count'}, inplace=True)"
   ]
  },
  {
   "cell_type": "code",
   "execution_count": 70,
   "metadata": {},
   "outputs": [
    {
     "data": {
      "text/html": [
       "<div>\n",
       "<style scoped>\n",
       "    .dataframe tbody tr th:only-of-type {\n",
       "        vertical-align: middle;\n",
       "    }\n",
       "\n",
       "    .dataframe tbody tr th {\n",
       "        vertical-align: top;\n",
       "    }\n",
       "\n",
       "    .dataframe thead th {\n",
       "        text-align: right;\n",
       "    }\n",
       "</style>\n",
       "<table border=\"1\" class=\"dataframe\">\n",
       "  <thead>\n",
       "    <tr style=\"text-align: right;\">\n",
       "      <th></th>\n",
       "      <th>count</th>\n",
       "      <th>wikidata_id</th>\n",
       "      <th>category</th>\n",
       "      <th>aut_com</th>\n",
       "      <th>latitude</th>\n",
       "      <th>longitude</th>\n",
       "    </tr>\n",
       "  </thead>\n",
       "  <tbody>\n",
       "    <tr>\n",
       "      <th>0</th>\n",
       "      <td>750</td>\n",
       "      <td>Q1143768</td>\n",
       "      <td>Falles de València</td>\n",
       "      <td>Valencian Community</td>\n",
       "      <td>39.466667</td>\n",
       "      <td>-0.375000</td>\n",
       "    </tr>\n",
       "    <tr>\n",
       "      <th>1</th>\n",
       "      <td>609</td>\n",
       "      <td>Q23657061</td>\n",
       "      <td>Bodas de Isabel de Segura</td>\n",
       "      <td>Aragon</td>\n",
       "      <td>40.343611</td>\n",
       "      <td>-1.107222</td>\n",
       "    </tr>\n",
       "    <tr>\n",
       "      <th>2</th>\n",
       "      <td>435</td>\n",
       "      <td>Q9075883</td>\n",
       "      <td>Holy Week in Málaga</td>\n",
       "      <td>Andalusia</td>\n",
       "      <td>36.716667</td>\n",
       "      <td>-4.416667</td>\n",
       "    </tr>\n",
       "    <tr>\n",
       "      <th>3</th>\n",
       "      <td>415</td>\n",
       "      <td>Q9075892</td>\n",
       "      <td>Holy Week in Zaragoza</td>\n",
       "      <td>Aragon</td>\n",
       "      <td>41.650000</td>\n",
       "      <td>-0.883333</td>\n",
       "    </tr>\n",
       "    <tr>\n",
       "      <th>4</th>\n",
       "      <td>376</td>\n",
       "      <td>Q23541308</td>\n",
       "      <td>Holy Week in Teruel</td>\n",
       "      <td>Aragon</td>\n",
       "      <td>40.343611</td>\n",
       "      <td>-1.107222</td>\n",
       "    </tr>\n",
       "  </tbody>\n",
       "</table>\n",
       "</div>"
      ],
      "text/plain": [
       "   count wikidata_id                   category              aut_com  \\\n",
       "0    750    Q1143768         Falles de València  Valencian Community   \n",
       "1    609   Q23657061  Bodas de Isabel de Segura               Aragon   \n",
       "2    435    Q9075883        Holy Week in Málaga            Andalusia   \n",
       "3    415    Q9075892      Holy Week in Zaragoza               Aragon   \n",
       "4    376   Q23541308        Holy Week in Teruel               Aragon   \n",
       "\n",
       "    latitude  longitude  \n",
       "0  39.466667  -0.375000  \n",
       "1  40.343611  -1.107222  \n",
       "2  36.716667  -4.416667  \n",
       "3  41.650000  -0.883333  \n",
       "4  40.343611  -1.107222  "
      ]
     },
     "execution_count": 70,
     "metadata": {},
     "output_type": "execute_result"
    }
   ],
   "source": [
    "images_per_festival_df = pd.merge(images_per_festival_df, festivals_df, on='wikidata_id')[['count', 'wikidata_id', 'category', 'aut_com', 'latitude', 'longitude']].fillna('')\n",
    "images_per_festival_df = images_per_festival_df.iloc[np.lexsort([images_per_festival_df['category'], -images_per_festival_df['count']])]\n",
    "images_per_festival_df['category'] = images_per_festival_df['category'].map(lambda x: x.replace('_', ' '))\n",
    "images_per_festival_df.head()"
   ]
  },
  {
   "cell_type": "code",
   "execution_count": 71,
   "metadata": {},
   "outputs": [
    {
     "data": {
      "text/html": [
       "<div>\n",
       "<style scoped>\n",
       "    .dataframe tbody tr th:only-of-type {\n",
       "        vertical-align: middle;\n",
       "    }\n",
       "\n",
       "    .dataframe tbody tr th {\n",
       "        vertical-align: top;\n",
       "    }\n",
       "\n",
       "    .dataframe thead th {\n",
       "        text-align: right;\n",
       "    }\n",
       "</style>\n",
       "<table border=\"1\" class=\"dataframe\">\n",
       "  <thead>\n",
       "    <tr style=\"text-align: right;\">\n",
       "      <th></th>\n",
       "      <th>count</th>\n",
       "      <th>wikidata_id</th>\n",
       "      <th>category</th>\n",
       "      <th>aut_com</th>\n",
       "      <th>latitude</th>\n",
       "      <th>longitude</th>\n",
       "      <th>dup_index</th>\n",
       "      <th>dup</th>\n",
       "    </tr>\n",
       "  </thead>\n",
       "  <tbody>\n",
       "    <tr>\n",
       "      <th>0</th>\n",
       "      <td>750</td>\n",
       "      <td>Q1143768</td>\n",
       "      <td>Falles de València</td>\n",
       "      <td>Valencian Community</td>\n",
       "      <td>39.466667</td>\n",
       "      <td>-0.375000</td>\n",
       "      <td>0.0</td>\n",
       "      <td>False</td>\n",
       "    </tr>\n",
       "    <tr>\n",
       "      <th>1</th>\n",
       "      <td>609</td>\n",
       "      <td>Q23657061</td>\n",
       "      <td>Bodas de Isabel de Segura</td>\n",
       "      <td>Aragon</td>\n",
       "      <td>40.343611</td>\n",
       "      <td>-1.107222</td>\n",
       "      <td>1.0</td>\n",
       "      <td>False</td>\n",
       "    </tr>\n",
       "    <tr>\n",
       "      <th>2</th>\n",
       "      <td>435</td>\n",
       "      <td>Q9075883</td>\n",
       "      <td>Holy Week in Málaga</td>\n",
       "      <td>Andalusia</td>\n",
       "      <td>36.716667</td>\n",
       "      <td>-4.416667</td>\n",
       "      <td>2.0</td>\n",
       "      <td>False</td>\n",
       "    </tr>\n",
       "    <tr>\n",
       "      <th>3</th>\n",
       "      <td>415</td>\n",
       "      <td>Q9075892</td>\n",
       "      <td>Holy Week in Zaragoza</td>\n",
       "      <td>Aragon</td>\n",
       "      <td>41.650000</td>\n",
       "      <td>-0.883333</td>\n",
       "      <td>3.0</td>\n",
       "      <td>False</td>\n",
       "    </tr>\n",
       "    <tr>\n",
       "      <th>4</th>\n",
       "      <td>376</td>\n",
       "      <td>Q23541308</td>\n",
       "      <td>Holy Week in Teruel</td>\n",
       "      <td>Aragon</td>\n",
       "      <td>40.343611</td>\n",
       "      <td>-1.107222</td>\n",
       "      <td>1.0</td>\n",
       "      <td>True</td>\n",
       "    </tr>\n",
       "  </tbody>\n",
       "</table>\n",
       "</div>"
      ],
      "text/plain": [
       "   count wikidata_id                   category              aut_com  \\\n",
       "0    750    Q1143768         Falles de València  Valencian Community   \n",
       "1    609   Q23657061  Bodas de Isabel de Segura               Aragon   \n",
       "2    435    Q9075883        Holy Week in Málaga            Andalusia   \n",
       "3    415    Q9075892      Holy Week in Zaragoza               Aragon   \n",
       "4    376   Q23541308        Holy Week in Teruel               Aragon   \n",
       "\n",
       "    latitude  longitude  dup_index    dup  \n",
       "0  39.466667  -0.375000        0.0  False  \n",
       "1  40.343611  -1.107222        1.0  False  \n",
       "2  36.716667  -4.416667        2.0  False  \n",
       "3  41.650000  -0.883333        3.0  False  \n",
       "4  40.343611  -1.107222        1.0   True  "
      ]
     },
     "execution_count": 71,
     "metadata": {},
     "output_type": "execute_result"
    }
   ],
   "source": [
    "images_per_festival_df['dup_index'] = images_per_festival_df.groupby(['latitude', 'longitude'])['latitude'].transform('idxmin')    \n",
    "images_per_festival_df['dup'] = images_per_festival_df.duplicated(subset=['dup_index'])\n",
    "images_per_festival_df.head()"
   ]
  },
  {
   "cell_type": "code",
   "execution_count": 72,
   "metadata": {},
   "outputs": [
    {
     "data": {
      "text/html": [
       "<div>\n",
       "<style scoped>\n",
       "    .dataframe tbody tr th:only-of-type {\n",
       "        vertical-align: middle;\n",
       "    }\n",
       "\n",
       "    .dataframe tbody tr th {\n",
       "        vertical-align: top;\n",
       "    }\n",
       "\n",
       "    .dataframe thead th {\n",
       "        text-align: right;\n",
       "    }\n",
       "</style>\n",
       "<table border=\"1\" class=\"dataframe\">\n",
       "  <thead>\n",
       "    <tr style=\"text-align: right;\">\n",
       "      <th></th>\n",
       "      <th>count</th>\n",
       "      <th>wikidata_id</th>\n",
       "      <th>category</th>\n",
       "      <th>aut_com</th>\n",
       "      <th>latitude</th>\n",
       "      <th>longitude</th>\n",
       "      <th>dup_index</th>\n",
       "      <th>dup</th>\n",
       "      <th>coordinates</th>\n",
       "    </tr>\n",
       "  </thead>\n",
       "  <tbody>\n",
       "    <tr>\n",
       "      <th>0</th>\n",
       "      <td>750</td>\n",
       "      <td>Q1143768</td>\n",
       "      <td>Falles de València</td>\n",
       "      <td>Valencian Community</td>\n",
       "      <td>39.466667</td>\n",
       "      <td>-0.375000</td>\n",
       "      <td>0.0</td>\n",
       "      <td>False</td>\n",
       "      <td>(39.46666666666667, -0.375)</td>\n",
       "    </tr>\n",
       "    <tr>\n",
       "      <th>1</th>\n",
       "      <td>609</td>\n",
       "      <td>Q23657061</td>\n",
       "      <td>Bodas de Isabel de Segura</td>\n",
       "      <td>Aragon</td>\n",
       "      <td>40.343611</td>\n",
       "      <td>-1.107222</td>\n",
       "      <td>1.0</td>\n",
       "      <td>False</td>\n",
       "      <td>(40.343611111111116, -1.1072222222222223)</td>\n",
       "    </tr>\n",
       "    <tr>\n",
       "      <th>2</th>\n",
       "      <td>435</td>\n",
       "      <td>Q9075883</td>\n",
       "      <td>Holy Week in Málaga</td>\n",
       "      <td>Andalusia</td>\n",
       "      <td>36.716667</td>\n",
       "      <td>-4.416667</td>\n",
       "      <td>2.0</td>\n",
       "      <td>False</td>\n",
       "      <td>(36.71666666666667, -4.416666666666667)</td>\n",
       "    </tr>\n",
       "    <tr>\n",
       "      <th>3</th>\n",
       "      <td>415</td>\n",
       "      <td>Q9075892</td>\n",
       "      <td>Holy Week in Zaragoza</td>\n",
       "      <td>Aragon</td>\n",
       "      <td>41.650000</td>\n",
       "      <td>-0.883333</td>\n",
       "      <td>3.0</td>\n",
       "      <td>False</td>\n",
       "      <td>(41.65, -0.8833333333333333)</td>\n",
       "    </tr>\n",
       "    <tr>\n",
       "      <th>4</th>\n",
       "      <td>376</td>\n",
       "      <td>Q23541308</td>\n",
       "      <td>Holy Week in Teruel</td>\n",
       "      <td>Aragon</td>\n",
       "      <td>40.343611</td>\n",
       "      <td>-1.117222</td>\n",
       "      <td>1.0</td>\n",
       "      <td>True</td>\n",
       "      <td>(40.343611111111116, -1.1172222222222223)</td>\n",
       "    </tr>\n",
       "  </tbody>\n",
       "</table>\n",
       "</div>"
      ],
      "text/plain": [
       "   count wikidata_id                   category              aut_com  \\\n",
       "0    750    Q1143768         Falles de València  Valencian Community   \n",
       "1    609   Q23657061  Bodas de Isabel de Segura               Aragon   \n",
       "2    435    Q9075883        Holy Week in Málaga            Andalusia   \n",
       "3    415    Q9075892      Holy Week in Zaragoza               Aragon   \n",
       "4    376   Q23541308        Holy Week in Teruel               Aragon   \n",
       "\n",
       "    latitude  longitude  dup_index    dup  \\\n",
       "0  39.466667  -0.375000        0.0  False   \n",
       "1  40.343611  -1.107222        1.0  False   \n",
       "2  36.716667  -4.416667        2.0  False   \n",
       "3  41.650000  -0.883333        3.0  False   \n",
       "4  40.343611  -1.117222        1.0   True   \n",
       "\n",
       "                                 coordinates  \n",
       "0                (39.46666666666667, -0.375)  \n",
       "1  (40.343611111111116, -1.1072222222222223)  \n",
       "2    (36.71666666666667, -4.416666666666667)  \n",
       "3               (41.65, -0.8833333333333333)  \n",
       "4  (40.343611111111116, -1.1172222222222223)  "
      ]
     },
     "execution_count": 72,
     "metadata": {},
     "output_type": "execute_result"
    }
   ],
   "source": [
    "images_per_festival_df['coordinates'] = images_per_festival_df.apply(shaker, axis=1)\n",
    "images_per_festival_df[['latitude', 'longitude']] = images_per_festival_df['coordinates'].apply(pd.Series)\n",
    "images_per_festival_df.head()"
   ]
  },
  {
   "cell_type": "code",
   "execution_count": 73,
   "metadata": {},
   "outputs": [],
   "source": [
    "images_per_festival_df['geojson'] = images_per_festival_df.apply(lambda row: to_geojson(row), axis=1)"
   ]
  },
  {
   "cell_type": "code",
   "execution_count": 74,
   "metadata": {},
   "outputs": [],
   "source": [
    "features = images_per_festival_df['geojson'].tolist()\n",
    "feature_collection = FeatureCollection(features)\n",
    "dump = geojson.dumps(feature_collection, ensure_ascii=False, indent=2)\n",
    "#print(dump)"
   ]
  },
  {
   "cell_type": "code",
   "execution_count": 77,
   "metadata": {},
   "outputs": [
    {
     "data": {
      "text/plain": [
       "'=== WLF contributions map ===\\nThe map below includes all the contributions, by festival, for all the editions of the contest (2016-2017).\\n<mapframe text=\"Festivals\" latitude=\"39\" longitude=\"-4\" zoom=\"5\" width=\"800\" height=\"600\" align=\"center\"> \\n{\\n  \"type\": \"FeatureCollection\",\\n  \"features\": [\\n    {\\n      \"type\": \"Feature\",\\n      \"geometry\": {\\n        \"type\": \"Point\",\\n        \"coordinates\": [\\n          -0.375,\\n          39.46666666666667\\n        ]\\n      },\\n      \"properties\": {\\n        \"description\": \"[[File:Fallas2016 Peinado 02.jpg|150px]]\",\\n        \"title\": \"[[:Category:Images of festival with code Q1143768|Falles de València]]\",\\n        \"marker-size\": \"small\",\\n        \"marker-symbol\": \"circle\",\\n        \"marker-color\": \"57dbcc\"\\n      }\\n    },\\n    {\\n      \"type\": \"Feature\",\\n      \"geometry\": {\\n        \"type\": \"Point\",\\n        \"coordinates\": [\\n          -1.1072222222222223,\\n          40.343611111111116\\n        ]\\n      },\\n      \"properties\": {\\n        \"description\": \"[[File:BODAS DE ISABEL DE SEGURA EN TERUEL 933.jpg|150px]]\",\\n        \"title\": \"[[:Category:Images of festival with code Q23657061|Bodas de Isabel de Segura]]\",\\n        \"marker-size\": \"small\",\\n        \"marker-symbol\": \"circle\",\\n        \"marker-color\": \"db8d57\"\\n      }\\n    },\\n    {\\n      \"type\": \"Feature\",\\n      \"geometry\": {\\n        \"type\": \"Point\",\\n        \"coordinates\": [\\n          -4.416666666666667,\\n          36.71666666666667\\n        ]\\n      },\\n      \"properties\": {\\n        \"description\": \"[[File:Lagrimas - Mayordomo.jpg|150px]]\",\\n        \"title\": \"[[:Category:Images of festival with code Q9075883|Holy Week in Málaga]]\",\\n        \"marker-size\": \"small\",\\n        \"marker-symbol\": \"circle\",\\n        \"marker-color\": \"db5f57\"\\n      }\\n    },\\n    {\\n      \"type\": \"Feature\",\\n      \"geometry\": {\\n        \"type\": \"Point\",\\n        \"coordinates\": [\\n          -0.8833333333333333,\\n          41.65\\n        ]\\n      },\\n      \"properties\": {\\n        \"description\": \"[[File:SEMANA SANTA DE ZARAGOZA Cofradia de las siete palabras 4133.jpg|150px]]\",\\n        \"title\": \"[[:Category:Images of festival with code Q9075892|Holy Week in Zaragoza]]\",\\n        \"marker-size\": \"small\",\\n        \"marker-symbol\": \"circle\",\\n        \"marker-color\": \"db8d57\"\\n      }\\n    },\\n    {\\n      \"type\": \"Feature\",\\n      \"geometry\": {\\n        \"type\": \"Point\",\\n        \"coordinates\": [\\n          -1.1172222222222223,\\n          40.343611111111116\\n        ]\\n      },\\n      \"properties\": {\\n        \"description\": \"[[File:SEMANA SANTA DE TERUEL Viernes Santo. Rompida de la hora 562.jpg|150px]]\",\\n        \"title\": \"[[:Category:Images of festival with code Q23541308|Holy Week in Teruel]]\",\\n        \"marker-size\": \"small\",\\n        \"marker-symbol\": \"circle\",\\n        \"marker-color\": \"db8d57\"\\n      }\\n    },\\n    {\\n      \"type\": \"Feature\",\\n      \"geometry\": {\\n        \"type\": \"Point\",\\n        \"coordinates\": [\\n          -6.116666666666666,\\n          36.7\\n        ]\\n      },\\n      \"properties\": {\\n        \"description\": \"[[File:LunesSanto2015Jerez MIN-DSC06868.JPG|150px]]\",\\n        \"title\": \"[[:Category:Images of festival with code Q6124533|Holy Week in Jerez de la Frontera]]\",\\n        \"marker-size\": \"small\",\\n        \"marker-symbol\": \"circle\",\\n        \"marker-color\": \"db5f57\"\\n      }\\n    },\\n    {\\n      \"type\": \"Feature\",\\n      \"geometry\": {\\n        \"type\": \"Point\",\\n        \"coordinates\": [\\n          -0.326953,\\n          39.4633\\n        ]\\n      },\\n      \"properties\": {\\n        \"description\": \"[[File:SSM17 Desfile Resurreccion IMG 2396 alt.jpg|150px]]\",\\n        \"title\": \"[[:Category:Images of festival with code Q9075846|Setmana Santa Marinera]]\",\\n        \"marker-size\": \"small\",\\n        \"marker-symbol\": \"circle\",\\n        \"marker-color\": \"57dbcc\"\\n      }\\n    },\\n    {\\n      \"type\": \"Feature\",\\n      \"geometry\": {\\n        \"type\": \"Point\",\\n        \"coordinates\": [\\n          -1.1302777777777775,\\n          37.986111111111114\\n        ]\\n      },\\n      \"properties\": {\\n        \"description\": \"[[File:Cofradia de la Esperanza.jpg|150px]]\",\\n        \"title\": \"[[:Category:Images of festival with code Q5685566|Holy Week in Murcia]]\",\\n        \"marker-size\": \"small\",\\n        \"marker-symbol\": \"circle\",\\n        \"marker-color\": \"db57ac\"\\n      }\\n    },\\n    {\\n      \"type\": \"Feature\",\\n      \"geometry\": {\\n        \"type\": \"Point\",\\n        \"coordinates\": [\\n          -2.2358333333333333,\\n          42.21194444444445\\n        ]\\n      },\\n      \"properties\": {\\n        \"description\": \"[[File:Procesion del humo Arnedillo 2017-54.jpg|150px]]\",\\n        \"title\": \"[[:Category:Images of festival with code Q23309364|Procesión del humo, Arnedillo]]\",\\n        \"marker-size\": \"small\",\\n        \"marker-symbol\": \"circle\",\\n        \"marker-color\": \"ad57db\"\\n      }\\n    },\\n    {\\n      \"type\": \"Feature\",\\n      \"geometry\": {\\n        \"type\": \"Point\",\\n        \"coordinates\": [\\n          4.0488888888888885,\\n          39.945277777777775\\n        ]\\n      },\\n      \"properties\": {\\n        \"description\": \"[[File:Sant Cristòfol de ses Corregudes - 54 (Es Migjorn Gran, 2 de agosto de 2015).JPG|150px]]\",\\n        \"title\": \"[[:Category:Images of festival with code Q23662660|Festes de Sant Cristòfol de ses Corregudes, es Migjorn Gran]]\",\\n        \"marker-size\": \"small\",\\n        \"marker-symbol\": \"circle\",\\n        \"marker-color\": \"578ddb\"\\n      }\\n    },\\n    {\\n      \"type\": \"Feature\",\\n      \"geometry\": {\\n        \"type\": \"Point\",\\n        \"coordinates\": [\\n          -0.0925,\\n          39.889444444444436\\n        ]\\n      },\\n      \"properties\": {\\n        \"description\": \"[[File:Falla El Raval.jpg|150px]]\",\\n        \"title\": \"[[:Category:Images of festival with code Q23663119|Falles of Burriana]]\",\\n        \"marker-size\": \"small\",\\n        \"marker-symbol\": \"circle\",\\n        \"marker-color\": \"57dbcc\"\\n      }\\n    },\\n    {\\n      \"type\": \"Feature\",\\n      \"geometry\": {\\n        \"type\": \"Point\",\\n        \"coordinates\": [\\n          -0.8933333333333333,\\n          41.65\\n        ]\\n      },\\n      \"properties\": {\\n        \"description\": \"[[File:FIESTAS DEL PILAR DE ZARAGOZA Ofrenda de frutos 38.jpg|150px]]\",\\n        \"title\": \"[[:Category:Images of festival with code Q3092925|Fiestas del Pilar]]\",\\n        \"marker-size\": \"small\",\\n        \"marker-symbol\": \"circle\",\\n        \"marker-color\": \"db8d57\"\\n      }\\n    },\\n    {\\n      \"type\": \"Feature\",\\n      \"geometry\": {\\n        \"type\": \"Point\",\\n        \"coordinates\": [\\n          -0.10138888888888888,\\n          39.937777777777775\\n        ]\\n      },\\n      \"properties\": {\\n        \"description\": \"[[File:Cavalcade of Magi of Vila-real 2017 17.jpg|150px]]\",\\n        \"title\": \"[[:Category:Images of festival with code Q23663100|Cavalcade of Magi of Vila-real]]\",\\n        \"marker-size\": \"small\",\\n        \"marker-symbol\": \"circle\",\\n        \"marker-color\": \"57dbcc\"\\n      }\\n    },\\n    {\\n      \"type\": \"Feature\",\\n      \"geometry\": {\\n        \"type\": \"Point\",\\n        \"coordinates\": [\\n          0.0,\\n          0.0\\n        ]\\n      },\\n      \"properties\": {\\n        \"description\": \"[[File:Descenso Internacional del Sella 2016 05.jpg|150px]]\",\\n        \"title\": \"[[:Category:Images of festival with code Q8355038|Descenso del Sella]]\",\\n        \"marker-size\": \"small\",\\n        \"marker-symbol\": \"circle\",\\n        \"marker-color\": \"dbbc57\"\\n      }\\n    },\\n    {\\n      \"type\": \"Feature\",\\n      \"geometry\": {\\n        \"type\": \"Point\",\\n        \"coordinates\": [\\n          -0.43777777777777777,\\n          39.189722222222215\\n        ]\\n      },\\n      \"properties\": {\\n        \"description\": \"[[File:Algemesí MDS - Recaudando Donativos.jpg|150px]]\",\\n        \"title\": \"[[:Category:Images of festival with code Q3290365|Festivity of La Mare de Déu de la Salut of Algemesí]]\",\\n        \"marker-size\": \"small\",\\n        \"marker-symbol\": \"circle\",\\n        \"marker-color\": \"57dbcc\"\\n      }\\n    },\\n    {\\n      \"type\": \"Feature\",\\n      \"geometry\": {\\n        \"type\": \"Point\",\\n        \"coordinates\": [\\n          -5.275277777777777,\\n          43.41361111111111\\n        ]\\n      },\\n      \"properties\": {\\n        \"description\": \"[[File:Fiesta del Asturcón 2013 03.jpg|150px]]\",\\n        \"title\": \"[[:Category:Images of festival with code Q5861751|Fiesta del Asturcón]]\",\\n        \"marker-size\": \"small\",\\n        \"marker-symbol\": \"circle\",\\n        \"marker-color\": \"dbbc57\"\\n      }\\n    },\\n    {\\n      \"type\": \"Feature\",\\n      \"geometry\": {\\n        \"type\": \"Point\",\\n        \"coordinates\": [\\n          2.283333333333333,\\n          41.680277777777775\\n        ]\\n      },\\n      \"properties\": {\\n        \"description\": \"[[File:Corpus de la Garriga 21.jpg|150px]]\",\\n        \"title\": \"[[:Category:Images of festival with code Q21479929|Corpus de la Garriga]]\",\\n        \"marker-size\": \"small\",\\n        \"marker-symbol\": \"circle\",\\n        \"marker-color\": \"57db6e\"\\n      }\\n    },\\n    {\\n      \"type\": \"Feature\",\\n      \"geometry\": {\\n        \"type\": \"Point\",\\n        \"coordinates\": [\\n          -4.766666666666667,\\n          37.88333333333333\\n        ]\\n      },\\n      \"properties\": {\\n        \"description\": \"[[File:Procesión del Calvario en Córdoba, España (2016) - 06.jpg|150px]]\",\\n        \"title\": \"[[:Category:Images of festival with code Q9075868|Holy Week in Córdoba, Spain]]\",\\n        \"marker-size\": \"small\",\\n        \"marker-symbol\": \"circle\",\\n        \"marker-color\": \"db5f57\"\\n      }\\n    },\\n    {\\n      \"type\": \"Feature\",\\n      \"geometry\": {\\n        \"type\": \"Point\",\\n        \"coordinates\": [\\n          -5.831388888888887,\\n          42.585\\n        ]\\n      },\\n      \"properties\": {\\n        \"description\": \"[[File:CarrizoRomeria2012 (32)-9.jpg|150px]]\",\\n        \"title\": \"[[:Category:Images of festival with code Q26756828|Romería de Nuestra Señora de la Virgen del Villar, Carrizo de la Ribera]]\",\\n        \"marker-size\": \"small\",\\n        \"marker-symbol\": \"circle\",\\n        \"marker-color\": \"6edb57\"\\n      }\\n    },\\n    {\\n      \"type\": \"Feature\",\\n      \"geometry\": {\\n        \"type\": \"Point\",\\n        \"coordinates\": [\\n          -3.6166666666666663,\\n          40.03333333333333\\n        ]\\n      },\\n      \"properties\": {\\n        \"description\": \"[[File:Motín de Aranjuez 2016 06.jpg|150px]]\",\\n        \"title\": \"[[:Category:Images of festival with code Q23199370|Motín de Aranjuez]]\",\\n        \"marker-size\": \"small\",\\n        \"marker-symbol\": \"circle\",\\n        \"marker-color\": \"57db9d\"\\n      }\\n    },\\n    {\\n      \"type\": \"Feature\",\\n      \"geometry\": {\\n        \"type\": \"Point\",\\n        \"coordinates\": [\\n          -5.661666666666667,\\n          42.23944444444445\\n        ]\\n      },\\n      \"properties\": {\\n        \"description\": \"[[File:CorpusLaguna2012 (19).jpg|150px]]\",\\n        \"title\": \"[[:Category:Images of festival with code Q17627979|Corpus Christi in Laguna de Negrillos]]\",\\n        \"marker-size\": \"small\",\\n        \"marker-symbol\": \"circle\",\\n        \"marker-color\": \"6edb57\"\\n      }\\n    },\\n    {\\n      \"type\": \"Feature\",\\n      \"geometry\": {\\n        \"type\": \"Point\",\\n        \"coordinates\": [\\n          -1.1202777777777775,\\n          37.986111111111114\\n        ]\\n      },\\n      \"properties\": {\\n        \"description\": \"[[File:Folk Assembre Tena.jpg|150px]]\",\\n        \"title\": \"[[:Category:Images of festival with code Q23660893|International Folk Festival in the Mediterranean Sea]]\",\\n        \"marker-size\": \"small\",\\n        \"marker-symbol\": \"circle\",\\n        \"marker-color\": \"db57ac\"\\n      }\\n    },\\n    {\\n      \"type\": \"Feature\",\\n      \"geometry\": {\\n        \"type\": \"Point\",\\n        \"coordinates\": [\\n          -0.09138888888888888,\\n          39.937777777777775\\n        ]\\n      },\\n      \"properties\": {\\n        \"description\": \"[[File:Holy Wednesday procession in Vila-real 2015 02.jpg|150px]]\",\\n        \"title\": \"[[:Category:Images of festival with code Q23663127|Holy Week in Vila-real]]\",\\n        \"marker-size\": \"small\",\\n        \"marker-symbol\": \"circle\",\\n        \"marker-color\": \"57dbcc\"\\n      }\\n    },\\n    {\\n      \"type\": \"Feature\",\\n      \"geometry\": {\\n        \"type\": \"Point\",\\n        \"coordinates\": [\\n          -0.09138888888888888,\\n          39.937777777777775\\n        ]\\n      },\\n      \"properties\": {\\n        \"description\": \"[[File:Borja Ytuquepintas - Sueños de Arena (XXVI Festival Internacional de Teatre de Carrer de Vila-real) 09.jpg|150px]]\",\\n        \"title\": \"[[:Category:Images of festival with code Q23663335|Festival Internacional de Teatre de Carrer, Vila-real]]\",\\n        \"marker-size\": \"small\",\\n        \"marker-symbol\": \"circle\",\\n        \"marker-color\": \"57dbcc\"\\n      }\\n    },\\n    {\\n      \"type\": \"Feature\",\\n      \"geometry\": {\\n        \"type\": \"Point\",\\n        \"coordinates\": [\\n          -0.09138888888888888,\\n          39.937777777777775\\n        ]\\n      },\\n      \"properties\": {\\n        \"description\": \"[[File:Fira de Santa Caterina 2016 09.jpg|150px]]\",\\n        \"title\": \"[[:Category:Images of festival with code Q23663151|Fira de Santa Catalina]]\",\\n        \"marker-size\": \"small\",\\n        \"marker-symbol\": \"circle\",\\n        \"marker-color\": \"57dbcc\"\\n      }\\n    },\\n    {\\n      \"type\": \"Feature\",\\n      \"geometry\": {\\n        \"type\": \"Point\",\\n        \"coordinates\": [\\n          -1.0413888888888891,\\n          38.20722222222223\\n        ]\\n      },\\n      \"properties\": {\\n        \"description\": \"[[File:Desfile de moros y cristianos 4.jpg|150px]]\",\\n        \"title\": \"[[:Category:Images of festival with code Q23660880|Moors and Christians in Abanilla]]\",\\n        \"marker-size\": \"small\",\\n        \"marker-symbol\": \"circle\",\\n        \"marker-color\": \"db57ac\"\\n      }\\n    },\\n    {\\n      \"type\": \"Feature\",\\n      \"geometry\": {\\n        \"type\": \"Point\",\\n        \"coordinates\": [\\n          -3.2375000000000003,\\n          40.25666666666667\\n        ]\\n      },\\n      \"properties\": {\\n        \"description\": \"[[File:Pasión de Carabaña 2016 09.jpg|150px]]\",\\n        \"title\": \"[[:Category:Images of festival with code Q23453538|Passion of Carabaña]]\",\\n        \"marker-size\": \"small\",\\n        \"marker-symbol\": \"circle\",\\n        \"marker-color\": \"57db9d\"\\n      }\\n    },\\n    {\\n      \"type\": \"Feature\",\\n      \"geometry\": {\\n        \"type\": \"Point\",\\n        \"coordinates\": [\\n          -3.436388888888889,\\n          40.229444444444454\\n        ]\\n      },\\n      \"properties\": {\\n        \"description\": \"[[File:Pasión de Morata de Tajuña 2016 09.jpg|150px]]\",\\n        \"title\": \"[[:Category:Images of festival with code Q23453336|Passion of Morata de Tajuña]]\",\\n        \"marker-size\": \"small\",\\n        \"marker-symbol\": \"circle\",\\n        \"marker-color\": \"57db9d\"\\n      }\\n    },\\n    {\\n      \"type\": \"Feature\",\\n      \"geometry\": {\\n        \"type\": \"Point\",\\n        \"coordinates\": [\\n          -5.835555555555557,\\n          42.14027777777777\\n        ]\\n      },\\n      \"properties\": {\\n        \"description\": \"[[File:Jurru en ataque 5.jpg|150px]]\",\\n        \"title\": \"[[:Category:Images of festival with code Q23310072|Ritual del Jurru]]\",\\n        \"marker-size\": \"small\",\\n        \"marker-symbol\": \"circle\",\\n        \"marker-color\": \"6edb57\"\\n      }\\n    },\\n    {\\n      \"type\": \"Feature\",\\n      \"geometry\": {\\n        \"type\": \"Point\",\\n        \"coordinates\": [\\n          -7.001111111111111,\\n          39.219166666666666\\n        ]\\n      },\\n      \"properties\": {\\n        \"description\": \"[[File:Iglesia de Santa Maria del Mercado Festival Medieval de Alburquerque.jpg|150px]]\",\\n        \"title\": \"[[:Category:Images of festival with code Q23662027|Alburquerque Medieval Festival]]\",\\n        \"marker-size\": \"small\",\\n        \"marker-symbol\": \"circle\",\\n        \"marker-color\": \"57bcdb\"\\n      }\\n    },\\n    {\\n      \"type\": \"Feature\",\\n      \"geometry\": {\\n        \"type\": \"Point\",\\n        \"coordinates\": [\\n          -15.431388888888886,\\n          28.12722222222223\\n        ]\\n      },\\n      \"properties\": {\\n        \"description\": \"[[File:Carnival queen.jpg|150px]]\",\\n        \"title\": \"[[:Category:Images of festival with code Q5044119|Carnivals of Las Palmas de Gran Canaria]]\",\\n        \"marker-size\": \"small\",\\n        \"marker-symbol\": \"circle\",\\n        \"marker-color\": \"575edb\"\\n      }\\n    },\\n    {\\n      \"type\": \"Feature\",\\n      \"geometry\": {\\n        \"type\": \"Point\",\\n        \"coordinates\": [\\n          -5.7,\\n          43.53333333333333\\n        ]\\n      },\\n      \"properties\": {\\n        \"description\": \"[[File:Dia de Asturias en Gijon-4.jpg|150px]]\",\\n        \"title\": \"[[:Category:Images of festival with code Q8771143|Día de Asturias en Gijón]]\",\\n        \"marker-size\": \"small\",\\n        \"marker-symbol\": \"circle\",\\n        \"marker-color\": \"dbbc57\"\\n      }\\n    },\\n    {\\n      \"type\": \"Feature\",\\n      \"geometry\": {\\n        \"type\": \"Point\",\\n        \"coordinates\": [\\n          -1.1233333333333333,\\n          38.178888888888885\\n        ]\\n      },\\n      \"properties\": {\\n        \"description\": \"[[File:Desfile ibero romano detalle atracción.jpg|150px]]\",\\n        \"title\": \"[[:Category:Images of festival with code Q23660934|Fiestas de Sodales Ibero-Romanos, Fortuna]]\",\\n        \"marker-size\": \"small\",\\n        \"marker-symbol\": \"circle\",\\n        \"marker-color\": \"db57ac\"\\n      }\\n    },\\n    {\\n      \"type\": \"Feature\",\\n      \"geometry\": {\\n        \"type\": \"Point\",\\n        \"coordinates\": [\\n          -0.9819444444444444,\\n          37.6\\n        ]\\n      },\\n      \"properties\": {\\n        \"description\": \"[[File:Penitentes Agrupacion de las Santas Mujeres.jpg|150px]]\",\\n        \"title\": \"[[:Category:Images of festival with code Q7884112|Holy Week in Cartagena]]\",\\n        \"marker-size\": \"small\",\\n        \"marker-symbol\": \"circle\",\\n        \"marker-color\": \"db57ac\"\\n      }\\n    },\\n    {\\n      \"type\": \"Feature\",\\n      \"geometry\": {\\n        \"type\": \"Point\",\\n        \"coordinates\": [\\n          -5.794722222222222,\\n          42.551666666666655\\n        ]\\n      },\\n      \"properties\": {\\n        \"description\": \"[[File:AntruejoVelillaReina2012 05.jpg|150px]]\",\\n        \"title\": \"[[:Category:Images of festival with code Q23310069|Antruejo de Velilla de la Reina]]\",\\n        \"marker-size\": \"small\",\\n        \"marker-symbol\": \"circle\",\\n        \"marker-color\": \"6edb57\"\\n      }\\n    },\\n    {\\n      \"type\": \"Feature\",\\n      \"geometry\": {\\n        \"type\": \"Point\",\\n        \"coordinates\": [\\n          -4.756666666666667,\\n          37.88333333333333\\n        ]\\n      },\\n      \"properties\": {\\n        \"description\": \"[[File:Festival de los Patios 2015 - 005.jpg|150px]]\",\\n        \"title\": \"[[:Category:Images of festival with code Q4121017|Festival de los Patios]]\",\\n        \"marker-size\": \"small\",\\n        \"marker-symbol\": \"circle\",\\n        \"marker-color\": \"db5f57\"\\n      }\\n    },\\n    {\\n      \"type\": \"Feature\",\\n      \"geometry\": {\\n        \"type\": \"Point\",\\n        \"coordinates\": [\\n          -3.6258333333333335,\\n          40.546944444444435\\n        ]\\n      },\\n      \"properties\": {\\n        \"description\": \"[[File:Instantánea del Desfile del Tercio de Extranjeros.jpg|150px]]\",\\n        \"title\": \"[[:Category:Images of festival with code Q23452764|Fiestas del Cristo de los Remedios]]\",\\n        \"marker-size\": \"small\",\\n        \"marker-symbol\": \"circle\",\\n        \"marker-color\": \"57db9d\"\\n      }\\n    },\\n    {\\n      \"type\": \"Feature\",\\n      \"geometry\": {\\n        \"type\": \"Point\",\\n        \"coordinates\": [\\n          -0.8797222222222223,\\n          38.1225\\n        ]\\n      },\\n      \"properties\": {\\n        \"description\": \"[[File:Procesión de la Semana Santa (Callosa de Segura).jpg|150px]]\",\\n        \"title\": \"[[:Category:Images of festival with code Q23662985|Holy Week in Callosa de Segura]]\",\\n        \"marker-size\": \"small\",\\n        \"marker-symbol\": \"circle\",\\n        \"marker-color\": \"57dbcc\"\\n      }\\n    },\\n    {\\n      \"type\": \"Feature\",\\n      \"geometry\": {\\n        \"type\": \"Point\",\\n        \"coordinates\": [\\n          -3.2758333333333334,\\n          40.16805555555555\\n        ]\\n      },\\n      \"properties\": {\\n        \"description\": \"[[File:Pasión de Villarejo de Salvanés 10.jpg|150px]]\",\\n        \"title\": \"[[:Category:Images of festival with code Q23453449|Passion of Villarejo de Salvanés]]\",\\n        \"marker-size\": \"small\",\\n        \"marker-symbol\": \"circle\",\\n        \"marker-color\": \"57db9d\"\\n      }\\n    },\\n    {\\n      \"type\": \"Feature\",\\n      \"geometry\": {\\n        \"type\": \"Point\",\\n        \"coordinates\": [\\n          -5.8599999999999985,\\n          42.84555555555556\\n        ]\\n      },\\n      \"properties\": {\\n        \"description\": \"[[File:Barrios-fiestapastor2012 (32)-5.jpg|150px]]\",\\n        \"title\": \"[[:Category:Images of festival with code Q23660832|Shepherd\\'s Festival, Los Barrios de Luna]]\",\\n        \"marker-size\": \"small\",\\n        \"marker-symbol\": \"circle\",\\n        \"marker-color\": \"6edb57\"\\n      }\\n    },\\n    {\\n      \"type\": \"Feature\",\\n      \"geometry\": {\\n        \"type\": \"Point\",\\n        \"coordinates\": [\\n          -1.9666666666666668,\\n          38.05\\n        ]\\n      },\\n      \"properties\": {\\n        \"description\": \"[[File:Bailarines Cuadrilla Moratalla.jpg|150px]]\",\\n        \"title\": \"[[:Category:Images of festival with code Q5861740|Cuadrillas de Barranda]]\",\\n        \"marker-size\": \"small\",\\n        \"marker-symbol\": \"circle\",\\n        \"marker-color\": \"db57ac\"\\n      }\\n    },\\n    {\\n      \"type\": \"Feature\",\\n      \"geometry\": {\\n        \"type\": \"Point\",\\n        \"coordinates\": [\\n          -2.445555555555556,\\n          42.47\\n        ]\\n      },\\n      \"properties\": {\\n        \"description\": \"[[File:Semana Santa en Logroño 2011 - Cofradías en la Plaza del Mercado 03.jpg|150px]]\",\\n        \"title\": \"[[:Category:Images of festival with code Q23309290|Holy Week in Logroño]]\",\\n        \"marker-size\": \"small\",\\n        \"marker-symbol\": \"circle\",\\n        \"marker-color\": \"ad57db\"\\n      }\\n    },\\n    {\\n      \"type\": \"Feature\",\\n      \"geometry\": {\\n        \"type\": \"Point\",\\n        \"coordinates\": [\\n          2.176944444444444,\\n          41.3825\\n        ]\\n      },\\n      \"properties\": {\\n        \"description\": \"[[File:Correfoc en la Via Laieteana.jpg|150px]]\",\\n        \"title\": \"[[:Category:Images of festival with code Q3181317|La Mercè]]\",\\n        \"marker-size\": \"small\",\\n        \"marker-symbol\": \"circle\",\\n        \"marker-color\": \"57db6e\"\\n      }\\n    },\\n    {\\n      \"type\": \"Feature\",\\n      \"geometry\": {\\n        \"type\": \"Point\",\\n        \"coordinates\": [\\n          4.093333333333333,\\n          39.98722222222222\\n        ]\\n      },\\n      \"properties\": {\\n        \"description\": \"[[File:Jaleo en Mercadal 8.jpg|150px]]\",\\n        \"title\": \"[[:Category:Images of festival with code Q23662637|Festes de Sant Martí as Mercadal]]\",\\n        \"marker-size\": \"small\",\\n        \"marker-symbol\": \"circle\",\\n        \"marker-color\": \"578ddb\"\\n      }\\n    },\\n    {\\n      \"type\": \"Feature\",\\n      \"geometry\": {\\n        \"type\": \"Point\",\\n        \"coordinates\": [\\n          -3.4572222222222213,\\n          40.545\\n        ]\\n      },\\n      \"properties\": {\\n        \"description\": \"[[File:Pasión de Daganzo 08.jpg|150px]]\",\\n        \"title\": \"[[:Category:Images of festival with code Q23453636|Passion of Daganzo de Arriba]]\",\\n        \"marker-size\": \"small\",\\n        \"marker-symbol\": \"circle\",\\n        \"marker-color\": \"57db9d\"\\n      }\\n    },\\n    {\\n      \"type\": \"Feature\",\\n      \"geometry\": {\\n        \"type\": \"Point\",\\n        \"coordinates\": [\\n          -0.435,\\n          39.15\\n        ]\\n      },\\n      \"properties\": {\\n        \"description\": \"[[File:Fallas de Alcira (2010) 07.JPG|150px]]\",\\n        \"title\": \"[[:Category:Images of festival with code Q2834310|Falles d\\'Alzira]]\",\\n        \"marker-size\": \"small\",\\n        \"marker-symbol\": \"circle\",\\n        \"marker-color\": \"57dbcc\"\\n      }\\n    },\\n    {\\n      \"type\": \"Feature\",\\n      \"geometry\": {\\n        \"type\": \"Point\",\\n        \"coordinates\": [\\n          -0.05,\\n          39.96666666666667\\n        ]\\n      },\\n      \"properties\": {\\n        \"description\": \"[[File:Nitmàgica2016 1.jpg|150px]]\",\\n        \"title\": \"[[:Category:Images of festival with code Q8961628|Festes de la Magdalena]]\",\\n        \"marker-size\": \"small\",\\n        \"marker-symbol\": \"circle\",\\n        \"marker-color\": \"57dbcc\"\\n      }\\n    },\\n    {\\n      \"type\": \"Feature\",\\n      \"geometry\": {\\n        \"type\": \"Point\",\\n        \"coordinates\": [\\n          -15.613888888888885,\\n          27.9975\\n        ]\\n      },\\n      \"properties\": {\\n        \"description\": \"[[File:Gran Canaria, Alrededores de Tejeda durante La Fiesta del Almendro en Flor.jpg|150px]]\",\\n        \"title\": \"[[:Category:Images of festival with code Q23661684|Fiesta del Almendro en Flor, Tejeda]]\",\\n        \"marker-size\": \"small\",\\n        \"marker-symbol\": \"circle\",\\n        \"marker-color\": \"575edb\"\\n      }\\n    },\\n    {\\n      \"type\": \"Feature\",\\n      \"geometry\": {\\n        \"type\": \"Point\",\\n        \"coordinates\": [\\n          -3.426388888888889,\\n          40.139444444444436\\n        ]\\n      },\\n      \"properties\": {\\n        \"description\": \"[[File:Pasión de Chinchón 2016 07.jpg|150px]]\",\\n        \"title\": \"[[:Category:Images of festival with code Q23452661|Passion of Chinchón]]\",\\n        \"marker-size\": \"small\",\\n        \"marker-symbol\": \"circle\",\\n        \"marker-color\": \"57db9d\"\\n      }\\n    },\\n    {\\n      \"type\": \"Feature\",\\n      \"geometry\": {\\n        \"type\": \"Point\",\\n        \"coordinates\": [\\n          -4.033333333333333,\\n          39.86666666666667\\n        ]\\n      },\\n      \"properties\": {\\n        \"description\": \"[[File:Hermandad de las Angustias, Toledo 07.jpg|150px]]\",\\n        \"title\": \"[[:Category:Images of festival with code Q23199311|Holy Week in Toledo, Spain]]\",\\n        \"marker-size\": \"small\",\\n        \"marker-symbol\": \"circle\",\\n        \"marker-color\": \"9ddb57\"\\n      }\\n    },\\n    {\\n      \"type\": \"Feature\",\\n      \"geometry\": {\\n        \"type\": \"Point\",\\n        \"coordinates\": [\\n          -5.466666666666668,\\n          39.083333333333336\\n        ]\\n      },\\n      \"properties\": {\\n        \"description\": \"[[File:IMG 0935 Procesión de San Antón 07.jpg|150px]]\",\\n        \"title\": \"[[:Category:Images of festival with code Q5963233|La Encamisá, Navalvillar de Pela]]\",\\n        \"marker-size\": \"small\",\\n        \"marker-symbol\": \"circle\",\\n        \"marker-color\": \"57bcdb\"\\n      }\\n    },\\n    {\\n      \"type\": \"Feature\",\\n      \"geometry\": {\\n        \"type\": \"Point\",\\n        \"coordinates\": [\\n          -0.1175,\\n          38.843055555555566\\n        ]\\n      },\\n      \"properties\": {\\n        \"description\": \"[[File:Xaro Sendra Ferrer.jpg|150px]]\",\\n        \"title\": \"[[:Category:Images of festival with code Q23663045|Moros i Cristians de Pego]]\",\\n        \"marker-size\": \"small\",\\n        \"marker-symbol\": \"circle\",\\n        \"marker-color\": \"57dbcc\"\\n      }\\n    },\\n    {\\n      \"type\": \"Feature\",\\n      \"geometry\": {\\n        \"type\": \"Point\",\\n        \"coordinates\": [\\n          -5.9833333333333325,\\n          37.38333333333333\\n        ]\\n      },\\n      \"properties\": {\\n        \"description\": \"[[File:Paseo de caballos en Feria de Abril de Sevilla MG 0084.jpg|150px]]\",\\n        \"title\": \"[[:Category:Images of festival with code Q2918983|Feria de Abril]]\",\\n        \"marker-size\": \"small\",\\n        \"marker-symbol\": \"circle\",\\n        \"marker-color\": \"db5f57\"\\n      }\\n    },\\n    {\\n      \"type\": \"Feature\",\\n      \"geometry\": {\\n        \"type\": \"Point\",\\n        \"coordinates\": [\\n          -8.875277777777779,\\n          41.90166666666666\\n        ]\\n      },\\n      \"properties\": {\\n        \"description\": \"[[File:Subida ao Monte de Santa Tegra (o Santa Tecla).jpg|150px]]\",\\n        \"title\": \"[[:Category:Images of festival with code Q23661528|Festa do Monte]]\",\\n        \"marker-size\": \"small\",\\n        \"marker-symbol\": \"circle\",\\n        \"marker-color\": \"7e57db\"\\n      }\\n    },\\n    {\\n      \"type\": \"Feature\",\\n      \"geometry\": {\\n        \"type\": \"Point\",\\n        \"coordinates\": [\\n          -0.5252777777777778,\\n          38.396388888888886\\n        ]\\n      },\\n      \"properties\": {\\n        \"description\": \"[[File:Ninot Hoguera Ancha de Castelar.jpg|150px]]\",\\n        \"title\": \"[[:Category:Images of festival with code Q23663059|Festes de Fogueres i Barraques, Sant Vicent del Raspeig]]\",\\n        \"marker-size\": \"small\",\\n        \"marker-symbol\": \"circle\",\\n        \"marker-color\": \"57dbcc\"\\n      }\\n    },\\n    {\\n      \"type\": \"Feature\",\\n      \"geometry\": {\\n        \"type\": \"Point\",\\n        \"coordinates\": [\\n          -4.961666666666667,\\n          42.894166666666656\\n        ]\\n      },\\n      \"properties\": {\\n        \"description\": \"[[File:FiestaTrashumanciaPrioro 06.jpg|150px]]\",\\n        \"title\": \"[[:Category:Images of festival with code Q23660809|Fiesta de la Trashumancia, Prioro]]\",\\n        \"marker-size\": \"small\",\\n        \"marker-symbol\": \"circle\",\\n        \"marker-color\": \"6edb57\"\\n      }\\n    },\\n    {\\n      \"type\": \"Feature\",\\n      \"geometry\": {\\n        \"type\": \"Point\",\\n        \"coordinates\": [\\n          -0.4830555555555556,\\n          38.34527777777778\\n        ]\\n      },\\n      \"properties\": {\\n        \"description\": \"[[File:Una Hoguera infantil (Alicante).jpg|150px]]\",\\n        \"title\": \"[[:Category:Images of festival with code Q1236370|Fogueres de Sant Joan a Alacant]]\",\\n        \"marker-size\": \"small\",\\n        \"marker-symbol\": \"circle\",\\n        \"marker-color\": \"57dbcc\"\\n      }\\n    },\\n    {\\n      \"type\": \"Feature\",\\n      \"geometry\": {\\n        \"type\": \"Point\",\\n        \"coordinates\": [\\n          -3.8666666666666663,\\n          40.333333333333336\\n        ]\\n      },\\n      \"properties\": {\\n        \"description\": \"[[File:Procesión del Encuentro 2016 (Móstoles) 06.jpg|150px]]\",\\n        \"title\": \"[[:Category:Images of festival with code Q23453824|Holy Week in Móstoles]]\",\\n        \"marker-size\": \"small\",\\n        \"marker-symbol\": \"circle\",\\n        \"marker-color\": \"57db9d\"\\n      }\\n    },\\n    {\\n      \"type\": \"Feature\",\\n      \"geometry\": {\\n        \"type\": \"Point\",\\n        \"coordinates\": [\\n          -16.25,\\n          28.466666666666665\\n        ]\\n      },\\n      \"properties\": {\\n        \"description\": \"[[File:Carnaval de Santa Cruz de Tenerife, Carnival Dame 2012 - 2.jpg|150px]]\",\\n        \"title\": \"[[:Category:Images of festival with code Q815872|Carnivals of Santa Cruz de Tenerife]]\",\\n        \"marker-size\": \"small\",\\n        \"marker-symbol\": \"circle\",\\n        \"marker-color\": \"575edb\"\\n      }\\n    },\\n    {\\n      \"type\": \"Feature\",\\n      \"geometry\": {\\n        \"type\": \"Point\",\\n        \"coordinates\": [\\n          2.1558333333333333,\\n          41.40416666666667\\n        ]\\n      },\\n      \"properties\": {\\n        \"description\": \"[[File:FM Gracia 2016 - Dimonis.jpg|150px]]\",\\n        \"title\": \"[[:Category:Images of festival with code Q11921892|Festa Major de Gràcia]]\",\\n        \"marker-size\": \"small\",\\n        \"marker-symbol\": \"circle\",\\n        \"marker-color\": \"57db6e\"\\n      }\\n    },\\n    {\\n      \"type\": \"Feature\",\\n      \"geometry\": {\\n        \"type\": \"Point\",\\n        \"coordinates\": [\\n          4.2427777777777775,\\n          39.868611111111115\\n        ]\\n      },\\n      \"properties\": {\\n        \"description\": \"[[File:Fiestas en Llumesanas.jpg|150px]]\",\\n        \"title\": \"[[:Category:Images of festival with code Q23662679|Festes de Sant Gaietà, Llucmaçanes]]\",\\n        \"marker-size\": \"small\",\\n        \"marker-symbol\": \"circle\",\\n        \"marker-color\": \"578ddb\"\\n      }\\n    },\\n    {\\n      \"type\": \"Feature\",\\n      \"geometry\": {\\n        \"type\": \"Point\",\\n        \"coordinates\": [\\n          4.264166666666667,\\n          39.889444444444436\\n        ]\\n      },\\n      \"properties\": {\\n        \"description\": \"[[File:Jaleo y fiestas.jpg|150px]]\",\\n        \"title\": \"[[:Category:Images of festival with code Q13258770|Gràcia Festival, Mahon]]\",\\n        \"marker-size\": \"small\",\\n        \"marker-symbol\": \"circle\",\\n        \"marker-color\": \"578ddb\"\\n      }\\n    },\\n    {\\n      \"type\": \"Feature\",\\n      \"geometry\": {\\n        \"type\": \"Point\",\\n        \"coordinates\": [\\n          -5.566944444444443,\\n          42.5988888888889\\n        ]\\n      },\\n      \"properties\": {\\n        \"description\": \"[[File:SemanaSantaLeon2014 (3).jpg|150px]]\",\\n        \"title\": \"[[:Category:Images of festival with code Q9075874|Holy Week in León]]\",\\n        \"marker-size\": \"small\",\\n        \"marker-symbol\": \"circle\",\\n        \"marker-color\": \"6edb57\"\\n      }\\n    },\\n    {\\n      \"type\": \"Feature\",\\n      \"geometry\": {\\n        \"type\": \"Point\",\\n        \"coordinates\": [\\n          -5.7444444444444445,\\n          40.368055555555564\\n        ]\\n      },\\n      \"properties\": {\\n        \"description\": \"[[File:Boda tipica candelario 2015-169.jpg|150px]]\",\\n        \"title\": \"[[:Category:Images of festival with code Q23658027|Traditional Wedding Ceremony, Candelario]]\",\\n        \"marker-size\": \"small\",\\n        \"marker-symbol\": \"circle\",\\n        \"marker-color\": \"6edb57\"\\n      }\\n    },\\n    {\\n      \"type\": \"Feature\",\\n      \"geometry\": {\\n        \"type\": \"Point\",\\n        \"coordinates\": [\\n          -5.825277777777778,\\n          42.635\\n        ]\\n      },\\n      \"properties\": {\\n        \"description\": \"[[File:AntruejoLlamasRibera2010 03.jpg|150px]]\",\\n        \"title\": \"[[:Category:Images of festival with code Q21855013|Antruejo de Llamas de la Ribera]]\",\\n        \"marker-size\": \"small\",\\n        \"marker-symbol\": \"circle\",\\n        \"marker-color\": \"6edb57\"\\n      }\\n    },\\n    {\\n      \"type\": \"Feature\",\\n      \"geometry\": {\\n        \"type\": \"Point\",\\n        \"coordinates\": [\\n          -3.983055555555556,\\n          37.0\\n        ]\\n      },\\n      \"properties\": {\\n        \"description\": \"[[File:ALHAMA carnaval mascara tipica.jpg|150px]]\",\\n        \"title\": \"[[:Category:Images of festival with code Q23459821|Carnival in Alhama de Granada]]\",\\n        \"marker-size\": \"small\",\\n        \"marker-symbol\": \"circle\",\\n        \"marker-color\": \"db5f57\"\\n      }\\n    },\\n    {\\n      \"type\": \"Feature\",\\n      \"geometry\": {\\n        \"type\": \"Point\",\\n        \"coordinates\": [\\n          -3.8675,\\n          40.32305555555556\\n        ]\\n      },\\n      \"properties\": {\\n        \"description\": \"[[File:Dos de Mayo en Móstoles 2016 03.jpg|150px]]\",\\n        \"title\": \"[[:Category:Images of festival with code Q23458862|Dos de Mayo en Móstoles]]\",\\n        \"marker-size\": \"small\",\\n        \"marker-symbol\": \"circle\",\\n        \"marker-color\": \"57db9d\"\\n      }\\n    },\\n    {\\n      \"type\": \"Feature\",\\n      \"geometry\": {\\n        \"type\": \"Point\",\\n        \"coordinates\": [\\n          -0.1822222222222222,\\n          38.96666666666667\\n        ]\\n      },\\n      \"properties\": {\\n        \"description\": \"[[File:Primer plano de una falla en Gandia.jpg|150px]]\",\\n        \"title\": \"[[:Category:Images of festival with code Q23653026|Falles de Gandia]]\",\\n        \"marker-size\": \"small\",\\n        \"marker-symbol\": \"circle\",\\n        \"marker-color\": \"57dbcc\"\\n      }\\n    },\\n    {\\n      \"type\": \"Feature\",\\n      \"geometry\": {\\n        \"type\": \"Point\",\\n        \"coordinates\": [\\n          -4.753055555555554,\\n          43.42111111111111\\n        ]\\n      },\\n      \"properties\": {\\n        \"description\": \"[[File:Fiestas-de-la-magdalena-llanisca.jpg|150px]]\",\\n        \"title\": \"[[:Category:Images of festival with code Q23657396|Fiesta de Santa María Magdalena, Llanes]]\",\\n        \"marker-size\": \"small\",\\n        \"marker-symbol\": \"circle\",\\n        \"marker-color\": \"dbbc57\"\\n      }\\n    },\\n    {\\n      \"type\": \"Feature\",\\n      \"geometry\": {\\n        \"type\": \"Point\",\\n        \"coordinates\": [\\n          -1.0575,\\n          39.059166666666655\\n        ]\\n      },\\n      \"properties\": {\\n        \"description\": \"[[File:Tambor de la Hermandad de los Sayones - Semana Santa de Ayora.jpeg|150px]]\",\\n        \"title\": \"[[:Category:Images of festival with code Q23663330|Holy Week in Ayora]]\",\\n        \"marker-size\": \"small\",\\n        \"marker-symbol\": \"circle\",\\n        \"marker-color\": \"57dbcc\"\\n      }\\n    },\\n    {\\n      \"type\": \"Feature\",\\n      \"geometry\": {\\n        \"type\": \"Point\",\\n        \"coordinates\": [\\n          2.45,\\n          41.53333333333333\\n        ]\\n      },\\n      \"properties\": {\\n        \"description\": \"[[File:Nit Boja a Mataró.jpg|150px]]\",\\n        \"title\": \"[[:Category:Images of festival with code Q12874|Les Santes, Mataró]]\",\\n        \"marker-size\": \"small\",\\n        \"marker-symbol\": \"circle\",\\n        \"marker-color\": \"57db6e\"\\n      }\\n    },\\n    {\\n      \"type\": \"Feature\",\\n      \"geometry\": {\\n        \"type\": \"Point\",\\n        \"coordinates\": [\\n          -5.556944444444444,\\n          42.5988888888889\\n        ]\\n      },\\n      \"properties\": {\\n        \"description\": \"[[File:SanFroilanLeon2009 03.jpg|150px]]\",\\n        \"title\": \"[[:Category:Images of festival with code Q23658046|Romería de San Froilán (León)]]\",\\n        \"marker-size\": \"small\",\\n        \"marker-symbol\": \"circle\",\\n        \"marker-color\": \"6edb57\"\\n      }\\n    },\\n    {\\n      \"type\": \"Feature\",\\n      \"geometry\": {\\n        \"type\": \"Point\",\\n        \"coordinates\": [\\n          -4.533333333333333,\\n          42.016666666666666\\n        ]\\n      },\\n      \"properties\": {\\n        \"description\": \"[[File:Santo Toribio Palencia 2016 03.JPG|150px]]\",\\n        \"title\": \"[[:Category:Images of festival with code Q23657671|Romería de Santo Toribio]]\",\\n        \"marker-size\": \"small\",\\n        \"marker-symbol\": \"circle\",\\n        \"marker-color\": \"6edb57\"\\n      }\\n    },\\n    {\\n      \"type\": \"Feature\",\\n      \"geometry\": {\\n        \"type\": \"Point\",\\n        \"coordinates\": [\\n          -6.339166666666666,\\n          38.561388888888885\\n        ]\\n      },\\n      \"properties\": {\\n        \"description\": \"[[File:PISADO DE LA UVA.jpg|150px]]\",\\n        \"title\": \"[[:Category:Images of festival with code Q23662044|Traditional grape harvest, Villafranca de los Barros]]\",\\n        \"marker-size\": \"small\",\\n        \"marker-symbol\": \"circle\",\\n        \"marker-color\": \"57bcdb\"\\n      }\\n    },\\n    {\\n      \"type\": \"Feature\",\\n      \"geometry\": {\\n        \"type\": \"Point\",\\n        \"coordinates\": [\\n          -1.5819444444444444,\\n          37.40416666666667\\n        ]\\n      },\\n      \"properties\": {\\n        \"description\": \"[[File:Carnaval Águilas 03.jpg|150px]]\",\\n        \"title\": \"[[:Category:Images of festival with code Q5752929|Carnivals of Águilas]]\",\\n        \"marker-size\": \"small\",\\n        \"marker-symbol\": \"circle\",\\n        \"marker-color\": \"db57ac\"\\n      }\\n    },\\n    {\\n      \"type\": \"Feature\",\\n      \"geometry\": {\\n        \"type\": \"Point\",\\n        \"coordinates\": [\\n          2.790833333333333,\\n          39.70666666666667\\n        ]\\n      },\\n      \"properties\": {\\n        \"description\": \"[[File:Ball de l\\'Embull.jpg|150px]]\",\\n        \"title\": \"[[:Category:Images of festival with code Q23663612|Cossiers d\\'Alaró]]\",\\n        \"marker-size\": \"small\",\\n        \"marker-symbol\": \"circle\",\\n        \"marker-color\": \"578ddb\"\\n      }\\n    },\\n    {\\n      \"type\": \"Feature\",\\n      \"geometry\": {\\n        \"type\": \"Point\",\\n        \"coordinates\": [\\n          -5.848611111111111,\\n          40.117777777777775\\n        ]\\n      },\\n      \"properties\": {\\n        \"description\": \"[[File:Traje de Jarramplas (Piornal, Cáceres) en el Museo de Artes y Tradiciones Populares (15 de julio de 2016, Madrid) 03.jpg|150px]]\",\\n        \"title\": \"[[:Category:Images of festival with code Q4896555|El Jarramplas]]\",\\n        \"marker-size\": \"small\",\\n        \"marker-symbol\": \"circle\",\\n        \"marker-color\": \"57bcdb\"\\n      }\\n    },\\n    {\\n      \"type\": \"Feature\",\\n      \"geometry\": {\\n        \"type\": \"Point\",\\n        \"coordinates\": [\\n          -0.25277777777777777,\\n          39.166111111111114\\n        ]\\n      },\\n      \"properties\": {\\n        \"description\": \"[[File:Ninota cullerota.jpg|150px]]\",\\n        \"title\": \"[[:Category:Images of festival with code Q23663326|Falles de Cullera]]\",\\n        \"marker-size\": \"small\",\\n        \"marker-symbol\": \"circle\",\\n        \"marker-color\": \"57dbcc\"\\n      }\\n    },\\n    {\\n      \"type\": \"Feature\",\\n      \"geometry\": {\\n        \"type\": \"Point\",\\n        \"coordinates\": [\\n          2.2216666666666667,\\n          41.79944444444444\\n        ]\\n      },\\n      \"properties\": {\\n        \"description\": \"[[File:Festa del pi Centelles 3.jpg|150px]]\",\\n        \"title\": \"[[:Category:Images of festival with code Q20108095|Festa del Pi de Centelles]]\",\\n        \"marker-size\": \"small\",\\n        \"marker-symbol\": \"circle\",\\n        \"marker-color\": \"57db6e\"\\n      }\\n    },\\n    {\\n      \"type\": \"Feature\",\\n      \"geometry\": {\\n        \"type\": \"Point\",\\n        \"coordinates\": [\\n          4.1400000000000015,\\n          39.934166666666655\\n        ]\\n      },\\n      \"properties\": {\\n        \"description\": \"[[File:Fiesta de San Lorenzo en Alayor.jpg|150px]]\",\\n        \"title\": \"[[:Category:Images of festival with code Q11921916|Festes de Sant Llorenç, Alaior]]\",\\n        \"marker-size\": \"small\",\\n        \"marker-symbol\": \"circle\",\\n        \"marker-color\": \"578ddb\"\\n      }\\n    },\\n    {\\n      \"type\": \"Feature\",\\n      \"geometry\": {\\n        \"type\": \"Point\",\\n        \"coordinates\": [\\n          -1.606666666666667,\\n          42.06527777777777\\n        ]\\n      },\\n      \"properties\": {\\n        \"description\": \"[[File:Reportero gráfico.jpg|150px]]\",\\n        \"title\": \"[[:Category:Images of festival with code Q17632299|Fiestas de Santa Ana, Tudela]]\",\\n        \"marker-size\": \"small\",\\n        \"marker-symbol\": \"circle\",\\n        \"marker-color\": \"db57db\"\\n      }\\n    },\\n    {\\n      \"type\": \"Feature\",\\n      \"geometry\": {\\n        \"type\": \"Point\",\\n        \"coordinates\": [\\n          -0.4677777777777778,\\n          39.43666666666665\\n        ]\\n      },\\n      \"properties\": {\\n        \"description\": \"[[File:Semana Santa de Torrent.jpg|150px]]\",\\n        \"title\": \"[[:Category:Images of festival with code Q21595880|Holy Week in Torrent]]\",\\n        \"marker-size\": \"small\",\\n        \"marker-symbol\": \"circle\",\\n        \"marker-color\": \"57dbcc\"\\n      }\\n    },\\n    {\\n      \"type\": \"Feature\",\\n      \"geometry\": {\\n        \"type\": \"Point\",\\n        \"coordinates\": [\\n          -5.884166666666666,\\n          42.461111111111116\\n        ]\\n      },\\n      \"properties\": {\\n        \"description\": \"[[File:HospitalJustas2008-3.jpg|150px]]\",\\n        \"title\": \"[[:Category:Images of festival with code Q23657694|Justas Medievales del Paso Honroso]]\",\\n        \"marker-size\": \"small\",\\n        \"marker-symbol\": \"circle\",\\n        \"marker-color\": \"6edb57\"\\n      }\\n    },\\n    {\\n      \"type\": \"Feature\",\\n      \"geometry\": {\\n        \"type\": \"Point\",\\n        \"coordinates\": [\\n          -0.4736111111111111,\\n          38.69833333333333\\n        ]\\n      },\\n      \"properties\": {\\n        \"description\": \"[[File:Luces en las fiestas de Moros y Cristianos de Alcoy.jpg|150px]]\",\\n        \"title\": \"[[:Category:Images of festival with code Q5650710|Moros i Cristians d\\'Alcoi]]\",\\n        \"marker-size\": \"small\",\\n        \"marker-symbol\": \"circle\",\\n        \"marker-color\": \"57dbcc\"\\n      }\\n    },\\n    {\\n      \"type\": \"Feature\",\\n      \"geometry\": {\\n        \"type\": \"Point\",\\n        \"coordinates\": [\\n          -1.65,\\n          42.81666666666667\\n        ]\\n      },\\n      \"properties\": {\\n        \"description\": \"[[File:INTIMIDAD EN LA FIESTA.jpg|150px]]\",\\n        \"title\": \"[[:Category:Images of festival with code Q829919|Sanfermines]]\",\\n        \"marker-size\": \"small\",\\n        \"marker-symbol\": \"circle\",\\n        \"marker-color\": \"db57db\"\\n      }\\n    },\\n    {\\n      \"type\": \"Feature\",\\n      \"geometry\": {\\n        \"type\": \"Point\",\\n        \"coordinates\": [\\n          3.148055555555556,\\n          39.469166666666666\\n        ]\\n      },\\n      \"properties\": {\\n        \"description\": \"[[File:Sant Joan Pelós de Felanitx.jpg|150px]]\",\\n        \"title\": \"[[:Category:Images of festival with code Q23663605|Sant Joan Pelós]]\",\\n        \"marker-size\": \"small\",\\n        \"marker-symbol\": \"circle\",\\n        \"marker-color\": \"578ddb\"\\n      }\\n    },\\n    {\\n      \"type\": \"Feature\",\\n      \"geometry\": {\\n        \"type\": \"Point\",\\n        \"coordinates\": [\\n          -3.463888888888889,\\n          43.25888888888889\\n        ]\\n      },\\n      \"properties\": {\\n        \"description\": \"[[File:Verbena del Mantón en Ramales 03.jpg|150px]]\",\\n        \"title\": \"[[:Category:Images of festival with code Q23657189|Verbena del Mantón]]\",\\n        \"marker-size\": \"small\",\\n        \"marker-symbol\": \"circle\",\\n        \"marker-color\": \"ccdb57\"\\n      }\\n    },\\n    {\\n      \"type\": \"Feature\",\\n      \"geometry\": {\\n        \"type\": \"Point\",\\n        \"coordinates\": [\\n          -6.0569444444444445,\\n          42.4575\\n        ]\\n      },\\n      \"properties\": {\\n        \"description\": \"[[File:AsturesyRomanos2013 02.jpg|150px]]\",\\n        \"title\": \"[[:Category:Images of festival with code Q23658017|Astures y Romanos]]\",\\n        \"marker-size\": \"small\",\\n        \"marker-symbol\": \"circle\",\\n        \"marker-color\": \"6edb57\"\\n      }\\n    },\\n    {\\n      \"type\": \"Feature\",\\n      \"geometry\": {\\n        \"type\": \"Point\",\\n        \"coordinates\": [\\n          -2.6730555555555555,\\n          42.84666666666667\\n        ]\\n      },\\n      \"properties\": {\\n        \"description\": \"[[File:Dia del blusa 2.jpg|150px]]\",\\n        \"title\": \"[[:Category:Images of festival with code Q3045527|Día del Blusa]]\",\\n        \"marker-size\": \"small\",\\n        \"marker-symbol\": \"circle\",\\n        \"marker-color\": \"db577e\"\\n      }\\n    },\\n    {\\n      \"type\": \"Feature\",\\n      \"geometry\": {\\n        \"type\": \"Point\",\\n        \"coordinates\": [\\n          -5.8583333333333325,\\n          42.513333333333335\\n        ]\\n      },\\n      \"properties\": {\\n        \"description\": \"[[File:Sta Marina Feria 02.jpg|150px]]\",\\n        \"title\": \"[[:Category:Images of festival with code Q23660811|Feria del Ajo, Santa Marina del Rey]]\",\\n        \"marker-size\": \"small\",\\n        \"marker-symbol\": \"circle\",\\n        \"marker-color\": \"6edb57\"\\n      }\\n    },\\n    {\\n      \"type\": \"Feature\",\\n      \"geometry\": {\\n        \"type\": \"Point\",\\n        \"coordinates\": [\\n          2.1225,\\n          41.751944444444455\\n        ]\\n      },\\n      \"properties\": {\\n        \"description\": \"[[File:Castellersx.jpg|150px]]\",\\n        \"title\": \"[[:Category:Images of festival with code Q17301586|Festa Major de Castellterçol]]\",\\n        \"marker-size\": \"small\",\\n        \"marker-symbol\": \"circle\",\\n        \"marker-color\": \"57db6e\"\\n      }\\n    },\\n    {\\n      \"type\": \"Feature\",\\n      \"geometry\": {\\n        \"type\": \"Point\",\\n        \"coordinates\": [\\n          1.6994444444444443,\\n          41.34472222222223\\n        ]\\n      },\\n      \"properties\": {\\n        \"description\": \"[[File:Vilafranca-FM-2017-Plaza.jpg|150px]]\",\\n        \"title\": \"[[:Category:Images of festival with code Q18696203|Festa Major de Vilafranca del Penedès]]\",\\n        \"marker-size\": \"small\",\\n        \"marker-symbol\": \"circle\",\\n        \"marker-color\": \"57db6e\"\\n      }\\n    },\\n    {\\n      \"type\": \"Feature\",\\n      \"geometry\": {\\n        \"type\": \"Point\",\\n        \"coordinates\": [\\n          -7.195277777777778,\\n          42.58888888888889\\n        ]\\n      },\\n      \"properties\": {\\n        \"description\": \"[[File:Tradicion castañera.jpg|150px]]\",\\n        \"title\": \"[[:Category:Images of festival with code Q28157451|Festa da Castaña, Folgoso do Courel]]\",\\n        \"marker-size\": \"small\",\\n        \"marker-symbol\": \"circle\",\\n        \"marker-color\": \"7e57db\"\\n      }\\n    },\\n    {\\n      \"type\": \"Feature\",\\n      \"geometry\": {\\n        \"type\": \"Point\",\\n        \"coordinates\": [\\n          3.836388888888889,\\n          40.00138888888889\\n        ]\\n      },\\n      \"properties\": {\\n        \"description\": \"[[File:Sant Joan 2.jpg|150px]]\",\\n        \"title\": \"[[:Category:Images of festival with code Q11921915|Festes de Sant Joan de Ciutadella]]\",\\n        \"marker-size\": \"small\",\\n        \"marker-symbol\": \"circle\",\\n        \"marker-color\": \"578ddb\"\\n      }\\n    },\\n    {\\n      \"type\": \"Feature\",\\n      \"geometry\": {\\n        \"type\": \"Point\",\\n        \"coordinates\": [\\n          -1.86,\\n          38.1075\\n        ]\\n      },\\n      \"properties\": {\\n        \"description\": \"[[File:Caballos del Vino. Cuesta del Hoyo.jpg|150px]]\",\\n        \"title\": \"[[:Category:Images of festival with code Q5861795|Fiestas Patronales de la Santísima y Vera Cruz]]\",\\n        \"marker-size\": \"small\",\\n        \"marker-symbol\": \"circle\",\\n        \"marker-color\": \"db57ac\"\\n      }\\n    },\\n    {\\n      \"type\": \"Feature\",\\n      \"geometry\": {\\n        \"type\": \"Point\",\\n        \"coordinates\": [\\n          -15.433333333333335,\\n          27.88333333333333\\n        ]\\n      },\\n      \"properties\": {\\n        \"description\": \"[[File:Fiesta del Rosario 02.jpg|150px]]\",\\n        \"title\": \"[[:Category:Images of festival with code Q23650279|Fiestas de Nuestra Señora del Rosario, Agüimes]]\",\\n        \"marker-size\": \"small\",\\n        \"marker-symbol\": \"circle\",\\n        \"marker-color\": \"575edb\"\\n      }\\n    },\\n    {\\n      \"type\": \"Feature\",\\n      \"geometry\": {\\n        \"type\": \"Point\",\\n        \"coordinates\": [\\n          -5.556944444444444,\\n          42.5988888888889\\n        ]\\n      },\\n      \"properties\": {\\n        \"description\": \"[[File:Cabezadas leon (2).jpg|150px]]\",\\n        \"title\": \"[[:Category:Images of festival with code Q5970261|Las Cabezadas]]\",\\n        \"marker-size\": \"small\",\\n        \"marker-symbol\": \"circle\",\\n        \"marker-color\": \"6edb57\"\\n      }\\n    },\\n    {\\n      \"type\": \"Feature\",\\n      \"geometry\": {\\n        \"type\": \"Point\",\\n        \"coordinates\": [\\n          -0.5488888888888889,\\n          38.82138888888889\\n        ]\\n      },\\n      \"properties\": {\\n        \"description\": \"[[File:Fanalets fogueretes Agullent.jpg|150px]]\",\\n        \"title\": \"[[:Category:Images of festival with code Q23663386|Nit de les fogueretes, Agullent]]\",\\n        \"marker-size\": \"small\",\\n        \"marker-symbol\": \"circle\",\\n        \"marker-color\": \"57dbcc\"\\n      }\\n    },\\n    {\\n      \"type\": \"Feature\",\\n      \"geometry\": {\\n        \"type\": \"Point\",\\n        \"coordinates\": [\\n          -5.64,\\n          42.58111111111111\\n        ]\\n      },\\n      \"properties\": {\\n        \"description\": \"[[File:SanFroilanVirgenC 02.jpg|150px]]\",\\n        \"title\": \"[[:Category:Images of festival with code Q23658047|Romería de San Froilán, La Virgen del Camino]]\",\\n        \"marker-size\": \"small\",\\n        \"marker-symbol\": \"circle\",\\n        \"marker-color\": \"6edb57\"\\n      }\\n    },\\n    {\\n      \"type\": \"Feature\",\\n      \"geometry\": {\\n        \"type\": \"Point\",\\n        \"coordinates\": [\\n          -5.8502777777777775,\\n          43.3625\\n        ]\\n      },\\n      \"properties\": {\\n        \"description\": \"[[File:DIA DE AMERICA EN ASTURIAS.jpg|150px]]\",\\n        \"title\": \"[[:Category:Images of festival with code Q5815728|America Day, Oviedo]]\",\\n        \"marker-size\": \"small\",\\n        \"marker-symbol\": \"circle\",\\n        \"marker-color\": \"dbbc57\"\\n      }\\n    },\\n    {\\n      \"type\": \"Feature\",\\n      \"geometry\": {\\n        \"type\": \"Point\",\\n        \"coordinates\": [\\n          1.8041666666666667,\\n          41.23388888888889\\n        ]\\n      },\\n      \"properties\": {\\n        \"description\": \"[[File:Rally internacional Sitges.jpg|150px]]\",\\n        \"title\": \"[[:Category:Images of festival with code Q9066149|Barcelona-Sitges International Vintage Car Rally]]\",\\n        \"marker-size\": \"small\",\\n        \"marker-symbol\": \"circle\",\\n        \"marker-color\": \"57db6e\"\\n      }\\n    },\\n    {\\n      \"type\": \"Feature\",\\n      \"geometry\": {\\n        \"type\": \"Point\",\\n        \"coordinates\": [\\n          -2.6,\\n          39.266666666666666\\n        ]\\n      },\\n      \"properties\": {\\n        \"description\": \"[[File:Carnaval de Villarrobledo.jpg|150px]]\",\\n        \"title\": \"[[:Category:Images of festival with code Q5752915|Carnival of Villarrobledo]]\",\\n        \"marker-size\": \"small\",\\n        \"marker-symbol\": \"circle\",\\n        \"marker-color\": \"9ddb57\"\\n      }\\n    },\\n    {\\n      \"type\": \"Feature\",\\n      \"geometry\": {\\n        \"type\": \"Point\",\\n        \"coordinates\": [\\n          -7.461388888888888,\\n          42.060555555555545\\n        ]\\n      },\\n      \"properties\": {\\n        \"description\": \"[[File:Traje de Peliqueiro (Laza, Ourense) en el Museo de Artes y Tradiciones Populares (15 de julio de 2016, Madrid).jpg|150px]]\",\\n        \"title\": \"[[:Category:Images of festival with code Q5752861|Carnivals in Laza]]\",\\n        \"marker-size\": \"small\",\\n        \"marker-symbol\": \"circle\",\\n        \"marker-color\": \"7e57db\"\\n      }\\n    },\\n    {\\n      \"type\": \"Feature\",\\n      \"geometry\": {\\n        \"type\": \"Point\",\\n        \"coordinates\": [\\n          -0.9919444444444444,\\n          37.6\\n        ]\\n      },\\n      \"properties\": {\\n        \"description\": \"[[File:Cartagines.jpg|150px]]\",\\n        \"title\": \"[[:Category:Images of festival with code Q3092923|Carthaginians and Romans Festival]]\",\\n        \"marker-size\": \"small\",\\n        \"marker-symbol\": \"circle\",\\n        \"marker-color\": \"db57ac\"\\n      }\\n    },\\n    {\\n      \"type\": \"Feature\",\\n      \"geometry\": {\\n        \"type\": \"Point\",\\n        \"coordinates\": [\\n          3.208888888888889,\\n          39.57\\n        ]\\n      },\\n      \"properties\": {\\n        \"description\": \"[[File:Ball dels Broquers dels Cossiers de Manacor.jpg|150px]]\",\\n        \"title\": \"[[:Category:Images of festival with code Q20105477|Cossiers de Manacor]]\",\\n        \"marker-size\": \"small\",\\n        \"marker-symbol\": \"circle\",\\n        \"marker-color\": \"578ddb\"\\n      }\\n    },\\n    {\\n      \"type\": \"Feature\",\\n      \"geometry\": {\\n        \"type\": \"Point\",\\n        \"coordinates\": [\\n          0.3516666666666666,\\n          41.520555555555546\\n        ]\\n      },\\n      \"properties\": {\\n        \"description\": \"[[File:Indumentaria tradicional fragatina.jpg|150px]]\",\\n        \"title\": \"[[:Category:Images of festival with code Q20014639|Día de la Faldeta, Fraga]]\",\\n        \"marker-size\": \"small\",\\n        \"marker-symbol\": \"circle\",\\n        \"marker-color\": \"db8d57\"\\n      }\\n    },\\n    {\\n      \"type\": \"Feature\",\\n      \"geometry\": {\\n        \"type\": \"Point\",\\n        \"coordinates\": [\\n          -2.869166666666666,\\n          40.76055555555556\\n        ]\\n      },\\n      \"properties\": {\\n        \"description\": \"[[File:JABATO.jpg|150px]]\",\\n        \"title\": \"[[:Category:Images of festival with code Q23662185|Encierros de Brihuega]]\",\\n        \"marker-size\": \"small\",\\n        \"marker-symbol\": \"circle\",\\n        \"marker-color\": \"9ddb57\"\\n      }\\n    },\\n    {\\n      \"type\": \"Feature\",\\n      \"geometry\": {\\n        \"type\": \"Point\",\\n        \"coordinates\": [\\n          1.895,\\n          41.825833333333335\\n        ]\\n      },\\n      \"properties\": {\\n        \"description\": \"[[File:Enramades Sallent.jpg|150px]]\",\\n        \"title\": \"[[:Category:Images of festival with code Q20105952|Enramades de Sallent]]\",\\n        \"marker-size\": \"small\",\\n        \"marker-symbol\": \"circle\",\\n        \"marker-color\": \"57db6e\"\\n      }\\n    },\\n    {\\n      \"type\": \"Feature\",\\n      \"geometry\": {\\n        \"type\": \"Point\",\\n        \"coordinates\": [\\n          -1.1402777777777775,\\n          37.986111111111114\\n        ]\\n      },\\n      \"properties\": {\\n        \"description\": \"[[File:Dragón de Conte. Entierro de la Sardina (Murcia).jpg|150px]]\",\\n        \"title\": \"[[:Category:Images of festival with code Q2886090|Entierro de la Sardina en Murcia]]\",\\n        \"marker-size\": \"small\",\\n        \"marker-symbol\": \"circle\",\\n        \"marker-color\": \"db57ac\"\\n      }\\n    },\\n    {\\n      \"type\": \"Feature\",\\n      \"geometry\": {\\n        \"type\": \"Point\",\\n        \"coordinates\": [\\n          -7.723888888888888,\\n          42.063611111111115\\n        ]\\n      },\\n      \"properties\": {\\n        \"description\": \"[[File:Máscara de pantalla del carnaval de Xinzo de Limia (Ourense) en el Museo de Artes y Tradiciones Populares (15 de julio de 2016, Madrid).jpg|150px]]\",\\n        \"title\": \"[[:Category:Images of festival with code Q20541714|Entroido de Xinzo de Limia]]\",\\n        \"marker-size\": \"small\",\\n        \"marker-symbol\": \"circle\",\\n        \"marker-color\": \"7e57db\"\\n      }\\n    },\\n    {\\n      \"type\": \"Feature\",\\n      \"geometry\": {\\n        \"type\": \"Point\",\\n        \"coordinates\": [\\n          -0.4777777777777778,\\n          39.43666666666665\\n        ]\\n      },\\n      \"properties\": {\\n        \"description\": \"[[File:Falles de Torrent.jpg|150px]]\",\\n        \"title\": \"[[:Category:Images of festival with code Q5855501|Falles de Torrent]]\",\\n        \"marker-size\": \"small\",\\n        \"marker-symbol\": \"circle\",\\n        \"marker-color\": \"57dbcc\"\\n      }\\n    },\\n    {\\n      \"type\": \"Feature\",\\n      \"geometry\": {\\n        \"type\": \"Point\",\\n        \"coordinates\": [\\n          -5.840277777777778,\\n          43.3625\\n        ]\\n      },\\n      \"properties\": {\\n        \"description\": \"[[File:Feria de la Ascensión.jpg|150px]]\",\\n        \"title\": \"[[:Category:Images of festival with code Q5858861|Feria de la Ascensión, Oviedo]]\",\\n        \"marker-size\": \"small\",\\n        \"marker-symbol\": \"circle\",\\n        \"marker-color\": \"dbbc57\"\\n      }\\n    },\\n    {\\n      \"type\": \"Feature\",\\n      \"geometry\": {\\n        \"type\": \"Point\",\\n        \"coordinates\": [\\n          -7.255,\\n          43.56888888888889\\n        ]\\n      },\\n      \"properties\": {\\n        \"description\": \"[[File:Fuegos artificiales de San Lorenzo 2017.jpg|150px]]\",\\n        \"title\": \"[[:Category:Images of festival with code Q23661532|Festas Patronais de San Lourenzo, Foz]]\",\\n        \"marker-size\": \"small\",\\n        \"marker-symbol\": \"circle\",\\n        \"marker-color\": \"7e57db\"\\n      }\\n    },\\n    {\\n      \"type\": \"Feature\",\\n      \"geometry\": {\\n        \"type\": \"Point\",\\n        \"coordinates\": [\\n          1.2508333333333332,\\n          41.28833333333333\\n        ]\\n      },\\n      \"properties\": {\\n        \"description\": \"[[File:Decenals de Valls.jpg|150px]]\",\\n        \"title\": \"[[:Category:Images of festival with code Q2838024|Festes Decennals de la Mare de Déu de la Candela]]\",\\n        \"marker-size\": \"small\",\\n        \"marker-symbol\": \"circle\",\\n        \"marker-color\": \"57db6e\"\\n      }\\n    },\\n    {\\n      \"type\": \"Feature\",\\n      \"geometry\": {\\n        \"type\": \"Point\",\\n        \"coordinates\": [\\n          -0.5152777777777778,\\n          38.396388888888886\\n        ]\\n      },\\n      \"properties\": {\\n        \"description\": \"[[File:Procesión San Vicente Ferrer.jpg|150px]]\",\\n        \"title\": \"[[:Category:Images of festival with code Q23663003|Festes patronals i de Moros i Cristians en honor a Sant Vicent Ferrer, Sant Vicent del Raspeig]]\",\\n        \"marker-size\": \"small\",\\n        \"marker-symbol\": \"circle\",\\n        \"marker-color\": \"57dbcc\"\\n      }\\n    },\\n    {\\n      \"type\": \"Feature\",\\n      \"geometry\": {\\n        \"type\": \"Point\",\\n        \"coordinates\": [\\n          -1.1022222222222222,\\n          39.48861111111111\\n        ]\\n      },\\n      \"properties\": {\\n        \"description\": \"[[File:Membres de la \\\\\"Asociación Cantares Viejos-Requena\\\\\" abans de ballar \\\\\"Los Lanceros Nuevos\\\\\" a la presentación de la Regina central de la LXX Festa de la Vendimia.jpg|150px]]\",\\n        \"title\": \"[[:Category:Images of festival with code Q21003051|Festival of the grape harvest of Requena]]\",\\n        \"marker-size\": \"small\",\\n        \"marker-symbol\": \"circle\",\\n        \"marker-color\": \"57dbcc\"\\n      }\\n    },\\n    {\\n      \"type\": \"Feature\",\\n      \"geometry\": {\\n        \"type\": \"Point\",\\n        \"coordinates\": [\\n          -1.0475,\\n          39.059166666666655\\n        ]\\n      },\\n      \"properties\": {\\n        \"description\": \"[[File:Santo Ángel y abuela Liñana - Romería segundo Lunes de Enero 01.jpeg|150px]]\",\\n        \"title\": \"[[:Category:Images of festival with code Q21483881|Festividad del Santo Ángel Tutelar, Ayora]]\",\\n        \"marker-size\": \"small\",\\n        \"marker-symbol\": \"circle\",\\n        \"marker-color\": \"57dbcc\"\\n      }\\n    },\\n    {\\n      \"type\": \"Feature\",\\n      \"geometry\": {\\n        \"type\": \"Point\",\\n        \"coordinates\": [\\n          -3.766388888888889,\\n          40.65888888888889\\n        ]\\n      },\\n      \"properties\": {\\n        \"description\": \"[[File:Traje de maya (Colmenar Viejo, Madrid) en el Museo de Artes y Tradiciones Populares (15 de julio de 2016, Madrid).jpg|150px]]\",\\n        \"title\": \"[[:Category:Images of festival with code Q5836853|Fiesta de la Maya]]\",\\n        \"marker-size\": \"small\",\\n        \"marker-symbol\": \"circle\",\\n        \"marker-color\": \"57db9d\"\\n      }\\n    },\\n    {\\n      \"type\": \"Feature\",\\n      \"geometry\": {\\n        \"type\": \"Point\",\\n        \"coordinates\": [\\n          -2.45,\\n          36.833333333333336\\n        ]\\n      },\\n      \"properties\": {\\n        \"description\": \"[[File:Semana Santa Almería Edificio Mariposas.jpg|150px]]\",\\n        \"title\": \"[[:Category:Images of festival with code Q6124477|Holy Week in Almería]]\",\\n        \"marker-size\": \"small\",\\n        \"marker-symbol\": \"circle\",\\n        \"marker-color\": \"db5f57\"\\n      }\\n    },\\n    {\\n      \"type\": \"Feature\",\\n      \"geometry\": {\\n        \"type\": \"Point\",\\n        \"coordinates\": [\\n          -4.116666666666666,\\n          40.95\\n        ]\\n      },\\n      \"properties\": {\\n        \"description\": \"[[File:Nuestro Señor Jesús con la Cruz a Cuestas, de la Cofradía Penitencial de Nuestro Señor Jesús con la Cruz a Cuestas y María Santísima de las Angustias de A.D.E.MAR.jpg|150px]]\",\\n        \"title\": \"[[:Category:Images of festival with code Q23310019|Holy Week in Segovia]]\",\\n        \"marker-size\": \"small\",\\n        \"marker-symbol\": \"circle\",\\n        \"marker-color\": \"6edb57\"\\n      }\\n    },\\n    {\\n      \"type\": \"Feature\",\\n      \"geometry\": {\\n        \"type\": \"Point\",\\n        \"coordinates\": [\\n          -1.7888888888888888,\\n          43.337777777777774\\n        ]\\n      },\\n      \"properties\": {\\n        \"description\": \"[[File:ROMPAN FILAS.jpg|150px]]\",\\n        \"title\": \"[[:Category:Images of festival with code Q17305074|Irungo Alardea - Alarde de Irún]]\",\\n        \"marker-size\": \"small\",\\n        \"marker-symbol\": \"circle\",\\n        \"marker-color\": \"db577e\"\\n      }\\n    },\\n    {\\n      \"type\": \"Feature\",\\n      \"geometry\": {\\n        \"type\": \"Point\",\\n        \"coordinates\": [\\n          -2.7669444444444444,\\n          39.823333333333345\\n        ]\\n      },\\n      \"properties\": {\\n        \"description\": \"[[File:Traje de Diablo de la Endiablada (Almonacid del Marquesado, Cuenca) en el Museo de Artes y Tradiciones Populares (15 de julio de 2016, Madrid).jpg|150px]]\",\\n        \"title\": \"[[:Category:Images of festival with code Q5963246|La Endiablada, Almonacid del Marquesado]]\",\\n        \"marker-size\": \"small\",\\n        \"marker-symbol\": \"circle\",\\n        \"marker-color\": \"9ddb57\"\\n      }\\n    },\\n    {\\n      \"type\": \"Feature\",\\n      \"geometry\": {\\n        \"type\": \"Point\",\\n        \"coordinates\": [\\n          -5.556944444444444,\\n          42.5988888888889\\n        ]\\n      },\\n      \"properties\": {\\n        \"description\": \"[[File:Cantaderas2004.jpg|150px]]\",\\n        \"title\": \"[[:Category:Images of festival with code Q17636451|Las Cantaderas, León]]\",\\n        \"marker-size\": \"small\",\\n        \"marker-symbol\": \"circle\",\\n        \"marker-color\": \"6edb57\"\\n      }\\n    },\\n    {\\n      \"type\": \"Feature\",\\n      \"geometry\": {\\n        \"type\": \"Point\",\\n        \"coordinates\": [\\n          -6.3025,\\n          37.301666666666655\\n        ]\\n      },\\n      \"properties\": {\\n        \"description\": \"[[File:Las Carreritas.jpg|150px]]\",\\n        \"title\": \"[[:Category:Images of festival with code Q5400462|Las Carreritas]]\",\\n        \"marker-size\": \"small\",\\n        \"marker-symbol\": \"circle\",\\n        \"marker-color\": \"db5f57\"\\n      }\\n    },\\n    {\\n      \"type\": \"Feature\",\\n      \"geometry\": {\\n        \"type\": \"Point\",\\n        \"coordinates\": [\\n          -0.8161111111111111,\\n          38.539444444444435\\n        ]\\n      },\\n      \"properties\": {\\n        \"description\": \"[[File:Sax por San Blas.jpg|150px]]\",\\n        \"title\": \"[[:Category:Images of festival with code Q6024342|Moros y Cristianos de Sax]]\",\\n        \"marker-size\": \"small\",\\n        \"marker-symbol\": \"circle\",\\n        \"marker-color\": \"57dbcc\"\\n      }\\n    },\\n    {\\n      \"type\": \"Feature\",\\n      \"geometry\": {\\n        \"type\": \"Point\",\\n        \"coordinates\": [\\n          -3.0672222222222225,\\n          41.586666666666666\\n        ]\\n      },\\n      \"properties\": {\\n        \"description\": \"[[File:Exhibición de la matanza de un cerdo en las Jornadas de la Matanza de El Burgo de Osma de 2014.jpg|150px]]\",\\n        \"title\": \"[[:Category:Images of festival with code Q23657558|Pig Slaughter Festival]]\",\\n        \"marker-size\": \"small\",\\n        \"marker-symbol\": \"circle\",\\n        \"marker-color\": \"6edb57\"\\n      }\\n    },\\n    {\\n      \"type\": \"Feature\",\\n      \"geometry\": {\\n        \"type\": \"Point\",\\n        \"coordinates\": [\\n          -0.3755208333333333,\\n          41.068055555555546\\n        ]\\n      },\\n      \"properties\": {\\n        \"description\": \"[[File:Hábito morado típico de la Ruta del Tambor y el Bombo (provincia de Teruel) en el Museo de Artes y Tradiciones Populares (15 de julio de 2016, Madrid).jpg|150px]]\",\\n        \"title\": \"[[:Category:Images of festival with code Q3444111|Ruta del tambor y el bombo]]\",\\n        \"marker-size\": \"small\",\\n        \"marker-symbol\": \"circle\",\\n        \"marker-color\": \"db8d57\"\\n      }\\n    },\\n    {\\n      \"type\": \"Feature\",\\n      \"geometry\": {\\n        \"type\": \"Point\",\\n        \"coordinates\": [\\n          -2.435555555555556,\\n          42.47\\n        ]\\n      },\\n      \"properties\": {\\n        \"description\": \"[[File:Arco San Bernabe 2015.jpg|150px]]\",\\n        \"title\": \"[[:Category:Images of festival with code Q5660198|San Bernabé Festival]]\",\\n        \"marker-size\": \"small\",\\n        \"marker-symbol\": \"circle\",\\n        \"marker-color\": \"ad57db\"\\n      }\\n    },\\n    {\\n      \"type\": \"Feature\",\\n      \"geometry\": {\\n        \"type\": \"Point\",\\n        \"coordinates\": [\\n          -2.9333333333333336,\\n          42.68333333333333\\n        ]\\n      },\\n      \"properties\": {\\n        \"description\": \"[[File:IMG-20160517-WA0006.jpg|150px]]\",\\n        \"title\": \"[[:Category:Images of festival with code Q7401479|San Juan del Monte Festival]]\",\\n        \"marker-size\": \"small\",\\n        \"marker-symbol\": \"circle\",\\n        \"marker-color\": \"6edb57\"\\n      }\\n    },\\n    {\\n      \"type\": \"Feature\",\\n      \"geometry\": {\\n        \"type\": \"Point\",\\n        \"coordinates\": [\\n          1.2494444444444446,\\n          41.11555555555557\\n        ]\\n      },\\n      \"properties\": {\\n        \"description\": \"[[File:Fuegos artificiales de Santa Tecla.jpg|150px]]\",\\n        \"title\": \"[[:Category:Images of festival with code Q4895460|Santa Tecla Festival, Tarragona]]\",\\n        \"marker-size\": \"small\",\\n        \"marker-symbol\": \"circle\",\\n        \"marker-color\": \"57db6e\"\\n      }\\n    },\\n    {\\n      \"type\": \"Feature\",\\n      \"geometry\": {\\n        \"type\": \"Point\",\\n        \"coordinates\": [\\n          -0.1994444444444444,\\n          40.64611111111111\\n        ]\\n      },\\n      \"properties\": {\\n        \"description\": \"[[File:Traje de Dimoni de la Santantonà (Forcall, Castellón) en el Museo de Artes y Tradiciones Populares (15 de julio de 2016, Madrid).jpg|150px]]\",\\n        \"title\": \"[[:Category:Images of festival with code Q23662787|Santantonà de Forcall]]\",\\n        \"marker-size\": \"small\",\\n        \"marker-symbol\": \"circle\",\\n        \"marker-color\": \"57dbcc\"\\n      }\\n    },\\n    {\\n      \"type\": \"Feature\",\\n      \"geometry\": {\\n        \"type\": \"Point\",\\n        \"coordinates\": [\\n          -3.4597222222222226,\\n          43.37194444444446\\n        ]\\n      },\\n      \"properties\": {\\n        \"description\": \"[[File:Cuadro conmemoración de la Fiesa de la Gata Negra.jpg|150px]]\",\\n        \"title\": \"[[:Category:Images of festival with code Q6135210|Suelta de la Gata Negra]]\",\\n        \"marker-size\": \"small\",\\n        \"marker-symbol\": \"circle\",\\n        \"marker-color\": \"ccdb57\"\\n      }\\n    },\\n    {\\n      \"type\": \"Feature\",\\n      \"geometry\": {\\n        \"type\": \"Point\",\\n        \"coordinates\": [\\n          1.4700000000000002,\\n          41.81\\n        ]\\n      },\\n      \"properties\": {\\n        \"description\": \"[[File:Trabucaires FM Gracia.jpg|150px]]\",\\n        \"title\": \"[[:Category:Images of festival with code Q20109030|Trabucaires, bandolers i galejadors]]\",\\n        \"marker-size\": \"small\",\\n        \"marker-symbol\": \"circle\",\\n        \"marker-color\": \"57db6e\"\\n      }\\n    }\\n  ]\\n}\\n</mapframe>\\n'"
      ]
     },
     "execution_count": 77,
     "metadata": {},
     "output_type": "execute_result"
    }
   ],
   "source": [
    "template = \"\"\"=== WLF contributions map ===\n",
    "The map below includes all the contributions, by festival, for all the editions of the contest (${years[0]}-${years[-1]}).\n",
    "<mapframe text=\"Festivals\" latitude=\"39\" longitude=\"-4\" zoom=\"5\" width=\"800\" height=\"600\" align=\"center\"> \n",
    "${map}\n",
    "</mapframe>\n",
    "\"\"\"\n",
    "vars = {\n",
    "    \"map\": dump,\n",
    "    \"years\": YEARS\n",
    "}\n",
    "t = Template(template)\n",
    "map_text = t.render(**vars)\n",
    "map_text"
   ]
  },
  {
   "cell_type": "code",
   "execution_count": 78,
   "metadata": {},
   "outputs": [
    {
     "name": "stderr",
     "output_type": "stream",
     "text": [
      "Publishing --> WLF in Spain Statistics\n",
      "Page [[Commons:Wiki Loves Folk/Map]] saved\n"
     ]
    }
   ],
   "source": [
    "maps_page = pb.Page(commons_site, MAP_WLF_PAGE)\n",
    "maps_page.text = map_text\n",
    "pb.output('Publishing --> {0} in Spain Statistics'.format(TAG))\n",
    "maps_page.save(\"{0} in Spain statistics\".format(TAG))"
   ]
  },
  {
   "cell_type": "code",
   "execution_count": null,
   "metadata": {},
   "outputs": [],
   "source": []
  }
 ],
 "metadata": {
  "kernelspec": {
   "display_name": "Python 3",
   "language": "python",
   "name": "python3"
  },
  "language_info": {
   "codemirror_mode": {
    "name": "ipython",
    "version": 3
   },
   "file_extension": ".py",
   "mimetype": "text/x-python",
   "name": "python",
   "nbconvert_exporter": "python",
   "pygments_lexer": "ipython3",
   "version": "3.6.4"
  }
 },
 "nbformat": 4,
 "nbformat_minor": 2
}
