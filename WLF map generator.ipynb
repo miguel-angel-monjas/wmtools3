{
 "cells": [
  {
   "cell_type": "code",
   "execution_count": 1,
   "metadata": {},
   "outputs": [],
   "source": [
    "#!/usr/bin/python\n",
    "# -*- coding: utf-8 -*-\n",
    "\"\"\"This notebook creates the map of TAG for all its \n",
    "editions, provided images have been properly \n",
    "categorized\"\"\"\n",
    "\n",
    "import inspect, os, sys\n",
    "\n",
    "try :\n",
    "    import pywikibot as pb\n",
    "    from pywikibot import pagegenerators\n",
    "\n",
    "except :\n",
    "    current_folder = os.path.realpath(os.path.abspath(os.path.split(inspect.getfile(inspect.currentframe()))[0]))\n",
    "    folder_parts = current_folder.split(os.sep)\n",
    "    pywikibot_folder = os.sep.join(folder_parts[:-1])\n",
    "\n",
    "    if current_folder not in sys.path:\n",
    "        sys.path.insert(0, current_folder)\n",
    "    if pywikibot_folder not in sys.path:\n",
    "        sys.path.insert(0, pywikibot_folder)\n",
    "\n",
    "    import pywikibot as pb\n",
    "    from pywikibot import pagegenerators"
   ]
  },
  {
   "cell_type": "code",
   "execution_count": 2,
   "metadata": {},
   "outputs": [],
   "source": [
    "import pandas as pd\n",
    "import numpy as np\n",
    "from mako.template import Template\n",
    "from io import StringIO\n",
    "import random\n",
    "import seaborn as sns"
   ]
  },
  {
   "cell_type": "code",
   "execution_count": 3,
   "metadata": {},
   "outputs": [],
   "source": [
    "from geojson import Feature, Point, FeatureCollection\n",
    "import geojson"
   ]
  },
  {
   "cell_type": "code",
   "execution_count": 4,
   "metadata": {},
   "outputs": [],
   "source": [
    "from modules.wmtools import coordinate_shaker"
   ]
  },
  {
   "cell_type": "code",
   "execution_count": 5,
   "metadata": {},
   "outputs": [],
   "source": [
    "YEARS               = [2016, 2017]\n",
    "\n",
    "TAG                 = 'WLF'\n",
    "TAG_EXT             = 'Wiki Loves Folk'\n",
    "\n",
    "LOG_PAGES           = ['Commons:{1}/{0}/Log'.format(i, TAG_EXT) for i in YEARS]\n",
    "FESTIVAL_DB_PAGE    = 'Commons:{1}/{0}/Festival DB'.format(2016, TAG_EXT)\n",
    "MAP_WLF_PAGE        = 'Commons:{0}/Map'.format(TAG_EXT)\n",
    "\n",
    "commons_site = pb.Site('commons', 'commons')"
   ]
  },
  {
   "cell_type": "code",
   "execution_count": 6,
   "metadata": {},
   "outputs": [],
   "source": [
    "festival_annexes = [\n",
    "    ['Anexo:Fiestas de interés turístico de Andalucía', 'Andalusia'],\n",
    "    ['Anexo:Fiestas de interés turístico de Aragón', 'Aragon'],\n",
    "    ['Anexo:Fiestas de interés turístico de Asturias', 'Asturias'],\n",
    "    ['Anexo:Fiestas de interés turístico de Cantabria', 'Cantabria'],\n",
    "    ['Anexo:Fiestas de interés turístico de Castilla-La Mancha', 'Castile-La Mancha'],\n",
    "    ['Anexo:Fiestas de interés turístico de Castilla y León', 'Castile and León'],\n",
    "    ['Anexo:Fiestas de interés turístico de Cataluña', 'Catalonia'],\n",
    "    ['Anexo:Fiestas de interés turístico de la Comunidad de Madrid', 'Community of Madrid'],\n",
    "    ['Anexo:Fiestas de interés turístico de la Comunidad Valenciana', 'Valencian Community'],\n",
    "    ['Anexo:Fiestas de interés turístico de Extremadura', 'Extremadura'],\n",
    "    ['Anexo:Fiestas de interés turístico de las Islas Baleares', 'Balearic Islands'],\n",
    "    ['Anexo:Fiestas de interés turístico de las Islas Canarias', 'Canary Islands'],\n",
    "    ['Anexo:Fiestas de interés turístico de Galicia', 'Galicia'],\n",
    "    ['Anexo:Fiestas de interés turístico de La Rioja', 'La Rioja'],\n",
    "    ['Anexo:Fiestas de interés turístico de Navarra', 'Navarre'],\n",
    "    ['Anexo:Fiestas de interés turístico de la Región de Murcia', 'Region of Murcia'],\n",
    "    ['Anexo:Fiestas y tradiciones del País Vasco', 'Basque Country']\n",
    "]"
   ]
  },
  {
   "cell_type": "code",
   "execution_count": 7,
   "metadata": {},
   "outputs": [
    {
     "data": {
      "text/plain": [
       "{'Andalusia': 'db5f57',\n",
       " 'Aragon': 'db8d57',\n",
       " 'Asturias': 'dbbc57',\n",
       " 'Balearic Islands': '578ddb',\n",
       " 'Basque Country': 'db577e',\n",
       " 'Canary Islands': '575edb',\n",
       " 'Cantabria': 'ccdb57',\n",
       " 'Castile and León': '6edb57',\n",
       " 'Castile-La Mancha': '9ddb57',\n",
       " 'Catalonia': '57db6e',\n",
       " 'Community of Madrid': '57db9d',\n",
       " 'Extremadura': '57bcdb',\n",
       " 'Galicia': '7e57db',\n",
       " 'La Rioja': 'ad57db',\n",
       " 'Navarre': 'db57db',\n",
       " 'Region of Murcia': 'db57ac',\n",
       " 'Valencian Community': '57dbcc'}"
      ]
     },
     "execution_count": 7,
     "metadata": {},
     "output_type": "execute_result"
    }
   ],
   "source": [
    "autcom_palette = [i[1:] for i in sns.color_palette('hls', 17).as_hex()]\n",
    "autcoms = [i[1] for i in festival_annexes]\n",
    "autcom_colors = {autcom: autcom_palette[i] for i, autcom in enumerate(autcoms)}\n",
    "autcom_colors"
   ]
  },
  {
   "cell_type": "code",
   "execution_count": 34,
   "metadata": {},
   "outputs": [],
   "source": [
    "def to_geojson (row) :\n",
    "    reduced_images_df = images_df[(images_df['wikidata_id'] == row['wikidata_id']) & (images_df['width'] > images_df['height'])]\n",
    "    if len (reduced_images_df.index) == 0:\n",
    "        reduced_images_df = images_df[images_df['wikidata_id'] == row['wikidata_id']]\n",
    "\n",
    "    tries = len(reduced_images_df.index) \n",
    "    if len(reduced_images_df[reduced_images_df['qi'] == 'qi']) > 0 :\n",
    "        image = reduced_images_df[reduced_images_df['qi'] == 'qi'].sample(1, random_state=0)['image_title'].values[0]\n",
    "    elif len(reduced_images_df[reduced_images_df['finalist'] == 'finalist']) > 0 :\n",
    "        image = reduced_images_df[reduced_images_df['finalist'] == 'finalist'].sample(1, random_state=0)['image_title'].values[0]\n",
    "    else :\n",
    "        image = reduced_images_df.sample(1, random_state=0)['image_title'].values[0]\n",
    "\n",
    "    feature = Feature(geometry=Point((row['longitude'], row['latitude'])), \n",
    "                      properties={\"description\": \"[[File:{0}|150px]]\".format(image),\n",
    "                                  \"title\": \"[[:Category:Images of festival with code {0}|{1}]]\".format(row['wikidata_id'], row['category']),\n",
    "                                  \"marker-size\": \"small\",\n",
    "                                  \"marker-symbol\": \"circle\",\n",
    "                                  \"marker-color\": autcom_colors[row['aut_com']]}\n",
    "                     )\n",
    "    return feature"
   ]
  },
  {
   "cell_type": "code",
   "execution_count": 23,
   "metadata": {},
   "outputs": [
    {
     "name": "stderr",
     "output_type": "stream",
     "text": [
      "Retrieving --> WLF in Spain Festivals list from cache\n",
      "Retrieved --> WLF in Spain Festivals list from cache\n"
     ]
    }
   ],
   "source": [
    "pb.output('Retrieving --> {0} in Spain Festivals list from cache'.format(TAG))\n",
    "festival_list_page = pb.Page(commons_site, FESTIVAL_DB_PAGE)\n",
    "festival_list_text = StringIO(festival_list_page.text[festival_list_page.text.find('\\n') + 1:festival_list_page.text.rfind('\\n')])\n",
    "festivals_df = pd.read_csv(festival_list_text, \n",
    "                           sep=\";\", \n",
    "                           index_col=False, \n",
    "                           names=['name', 'aut_com', \n",
    "                                  'wikidata_id', 'wikidata_timestamp', \n",
    "                                  'category', 'cat_timestamp', 'image',\n",
    "                                  'latitude', 'longitude']\n",
    "                          )\n",
    "pb.output('Retrieved --> {0} in Spain Festivals list from cache'.format(TAG))"
   ]
  },
  {
   "cell_type": "code",
   "execution_count": 24,
   "metadata": {},
   "outputs": [
    {
     "data": {
      "text/plain": [
       "array(['Q2939698', 'Q9075883', 'Q1469338', ..., 'Q23655957', 'Q23655971',\n",
       "       'Q23655987'], dtype=object)"
      ]
     },
     "execution_count": 24,
     "metadata": {},
     "output_type": "execute_result"
    }
   ],
   "source": [
    "valid_festivals = festivals_df['wikidata_id'].values\n",
    "valid_festivals"
   ]
  },
  {
   "cell_type": "code",
   "execution_count": 25,
   "metadata": {},
   "outputs": [],
   "source": [
    "image_columns = ['image_title', 'wikidata_id', 'uploader', 'time_to_upload',\n",
    "                 'timestamp', 'size', 'height', 'width', 'qi', 'finalist']\n",
    "images_df = pd.DataFrame(columns=image_columns)"
   ]
  },
  {
   "cell_type": "code",
   "execution_count": 26,
   "metadata": {},
   "outputs": [
    {
     "name": "stderr",
     "output_type": "stream",
     "text": [
      "Retrieving --> WLF in Spain images list from cache\n",
      "Retrieved --> WLF in Spain images list from cache\n"
     ]
    },
    {
     "data": {
      "text/plain": [
       "4163"
      ]
     },
     "execution_count": 26,
     "metadata": {},
     "output_type": "execute_result"
    }
   ],
   "source": [
    "pb.output('Retrieving --> {0} in Spain images list from cache'.format(TAG))\n",
    "for log_page in LOG_PAGES:\n",
    "    list_page = pb.Page(commons_site, log_page)\n",
    "    list_page_text = StringIO(list_page.text[list_page.text.find('\\n') + 1:list_page.text.rfind('\\n')])\n",
    "    yearly_df = pd.read_csv(list_page_text,\n",
    "                            sep=\";\",\n",
    "                            index_col=False,\n",
    "                            names=image_columns\n",
    "                           ).fillna('')\n",
    "    images_df = pd.concat([images_df, yearly_df])\n",
    "pb.output('Retrieved --> {0} in Spain images list from cache'.format(TAG))\n",
    "\n",
    "images_df['timestamp'] = pd.to_datetime(images_df['timestamp'], format=\"%Y-%m-%d %H:%M:%S\")\n",
    "\n",
    "images_df.set_index([\"timestamp\"], inplace=True)\n",
    "del images_df.index.name\n",
    "\n",
    "total_images_length = len(images_df)\n",
    "total_images_length"
   ]
  },
  {
   "cell_type": "code",
   "execution_count": 27,
   "metadata": {},
   "outputs": [
    {
     "data": {
      "text/plain": [
       "4163"
      ]
     },
     "execution_count": 27,
     "metadata": {},
     "output_type": "execute_result"
    }
   ],
   "source": [
    "images_extended_df = pd.merge(images_df, festivals_df, on='wikidata_id', how='left')\n",
    "len(images_extended_df.index)"
   ]
  },
  {
   "cell_type": "code",
   "execution_count": 28,
   "metadata": {},
   "outputs": [
    {
     "data": {
      "text/plain": [
       "Q1143768     750\n",
       "Q23657061    609\n",
       "Q9075883     435\n",
       "Q9075892     415\n",
       "Q23541308    376\n",
       "Q6124533     282\n",
       "Q9075846      59\n",
       "Q5685566      57\n",
       "Q23309364     57\n",
       "Q23662660     54\n",
       "Q23663119     44\n",
       "Q3092925      41\n",
       "Q23663100     40\n",
       "Q8355038      33\n",
       "Q3290365      29\n",
       "Q5861751      29\n",
       "Q21479929     28\n",
       "Q9075868      23\n",
       "Q26756828     21\n",
       "Q23199370     20\n",
       "Q17627979     19\n",
       "Q23660893     18\n",
       "Q23663127     16\n",
       "Q23453336     14\n",
       "Q23453538     14\n",
       "Q23663335     14\n",
       "Q23663151     14\n",
       "Q23310072     14\n",
       "Q23660880     14\n",
       "Q23662027     13\n",
       "            ... \n",
       "Q3092923       1\n",
       "Q6024342       1\n",
       "Q6135210       1\n",
       "Q7401479       1\n",
       "Q5836853       1\n",
       "Q21003051      1\n",
       "Q21483881      1\n",
       "Q5963246       1\n",
       "Q23663003      1\n",
       "Q5855501       1\n",
       "Q6124477       1\n",
       "Q23662185      1\n",
       "Q2838024       1\n",
       "Q5858861       1\n",
       "Q20105477      1\n",
       "Q20541714      1\n",
       "Q5660198       1\n",
       "Q4895460       1\n",
       "Q3444111       1\n",
       "Q20014639      1\n",
       "Q20109030      1\n",
       "Q23662787      1\n",
       "Q5752861       1\n",
       "Q17636451      1\n",
       "Q17305074      1\n",
       "Q23310019      1\n",
       "Q2886090       1\n",
       "Q23657558      1\n",
       "Q5752915       1\n",
       "Q5815728       1\n",
       "Name: wikidata_id, Length: 133, dtype: int64"
      ]
     },
     "execution_count": 28,
     "metadata": {},
     "output_type": "execute_result"
    }
   ],
   "source": [
    "images_per_festival = images_extended_df[images_extended_df['wikidata_id'].isin(valid_festivals)]['wikidata_id'].value_counts()\n",
    "images_per_festival"
   ]
  },
  {
   "cell_type": "code",
   "execution_count": 29,
   "metadata": {},
   "outputs": [],
   "source": [
    "images_per_festival_df = pd.DataFrame(data=images_per_festival).reset_index()\n",
    "images_per_festival_df.rename(columns={'index': 'wikidata_id', 'wikidata_id': 'count'}, inplace=True)"
   ]
  },
  {
   "cell_type": "code",
   "execution_count": 30,
   "metadata": {},
   "outputs": [
    {
     "data": {
      "text/html": [
       "<div>\n",
       "<style scoped>\n",
       "    .dataframe tbody tr th:only-of-type {\n",
       "        vertical-align: middle;\n",
       "    }\n",
       "\n",
       "    .dataframe tbody tr th {\n",
       "        vertical-align: top;\n",
       "    }\n",
       "\n",
       "    .dataframe thead th {\n",
       "        text-align: right;\n",
       "    }\n",
       "</style>\n",
       "<table border=\"1\" class=\"dataframe\">\n",
       "  <thead>\n",
       "    <tr style=\"text-align: right;\">\n",
       "      <th></th>\n",
       "      <th>count</th>\n",
       "      <th>wikidata_id</th>\n",
       "      <th>category</th>\n",
       "      <th>aut_com</th>\n",
       "      <th>latitude</th>\n",
       "      <th>longitude</th>\n",
       "    </tr>\n",
       "  </thead>\n",
       "  <tbody>\n",
       "    <tr>\n",
       "      <th>0</th>\n",
       "      <td>750</td>\n",
       "      <td>Q1143768</td>\n",
       "      <td>Falles de València</td>\n",
       "      <td>Valencian Community</td>\n",
       "      <td>39.466667</td>\n",
       "      <td>-0.375000</td>\n",
       "    </tr>\n",
       "    <tr>\n",
       "      <th>1</th>\n",
       "      <td>609</td>\n",
       "      <td>Q23657061</td>\n",
       "      <td>Bodas de Isabel de Segura</td>\n",
       "      <td>Aragon</td>\n",
       "      <td>40.343611</td>\n",
       "      <td>-1.107222</td>\n",
       "    </tr>\n",
       "    <tr>\n",
       "      <th>2</th>\n",
       "      <td>435</td>\n",
       "      <td>Q9075883</td>\n",
       "      <td>Holy Week in Málaga</td>\n",
       "      <td>Andalusia</td>\n",
       "      <td>36.716667</td>\n",
       "      <td>-4.416667</td>\n",
       "    </tr>\n",
       "    <tr>\n",
       "      <th>3</th>\n",
       "      <td>415</td>\n",
       "      <td>Q9075892</td>\n",
       "      <td>Holy Week in Zaragoza</td>\n",
       "      <td>Aragon</td>\n",
       "      <td>41.650000</td>\n",
       "      <td>-0.883333</td>\n",
       "    </tr>\n",
       "    <tr>\n",
       "      <th>4</th>\n",
       "      <td>376</td>\n",
       "      <td>Q23541308</td>\n",
       "      <td>Holy Week in Teruel</td>\n",
       "      <td>Aragon</td>\n",
       "      <td>40.343611</td>\n",
       "      <td>-1.107222</td>\n",
       "    </tr>\n",
       "  </tbody>\n",
       "</table>\n",
       "</div>"
      ],
      "text/plain": [
       "   count wikidata_id                   category              aut_com  \\\n",
       "0    750    Q1143768         Falles de València  Valencian Community   \n",
       "1    609   Q23657061  Bodas de Isabel de Segura               Aragon   \n",
       "2    435    Q9075883        Holy Week in Málaga            Andalusia   \n",
       "3    415    Q9075892      Holy Week in Zaragoza               Aragon   \n",
       "4    376   Q23541308        Holy Week in Teruel               Aragon   \n",
       "\n",
       "    latitude  longitude  \n",
       "0  39.466667  -0.375000  \n",
       "1  40.343611  -1.107222  \n",
       "2  36.716667  -4.416667  \n",
       "3  41.650000  -0.883333  \n",
       "4  40.343611  -1.107222  "
      ]
     },
     "execution_count": 30,
     "metadata": {},
     "output_type": "execute_result"
    }
   ],
   "source": [
    "images_per_festival_df = pd.merge(images_per_festival_df, festivals_df, on='wikidata_id')[['count', 'wikidata_id', 'category', 'aut_com', 'latitude', 'longitude']].fillna('')\n",
    "images_per_festival_df = images_per_festival_df.iloc[np.lexsort([images_per_festival_df['category'], -images_per_festival_df['count']])]\n",
    "images_per_festival_df['category'] = images_per_festival_df['category'].map(lambda x: x.replace('_', ' '))\n",
    "images_per_festival_df.head()"
   ]
  },
  {
   "cell_type": "code",
   "execution_count": 31,
   "metadata": {},
   "outputs": [
    {
     "data": {
      "text/html": [
       "<div>\n",
       "<style scoped>\n",
       "    .dataframe tbody tr th:only-of-type {\n",
       "        vertical-align: middle;\n",
       "    }\n",
       "\n",
       "    .dataframe tbody tr th {\n",
       "        vertical-align: top;\n",
       "    }\n",
       "\n",
       "    .dataframe thead th {\n",
       "        text-align: right;\n",
       "    }\n",
       "</style>\n",
       "<table border=\"1\" class=\"dataframe\">\n",
       "  <thead>\n",
       "    <tr style=\"text-align: right;\">\n",
       "      <th></th>\n",
       "      <th>count</th>\n",
       "      <th>wikidata_id</th>\n",
       "      <th>category</th>\n",
       "      <th>aut_com</th>\n",
       "      <th>latitude</th>\n",
       "      <th>longitude</th>\n",
       "      <th>dup_index</th>\n",
       "      <th>dup</th>\n",
       "    </tr>\n",
       "  </thead>\n",
       "  <tbody>\n",
       "    <tr>\n",
       "      <th>0</th>\n",
       "      <td>750</td>\n",
       "      <td>Q1143768</td>\n",
       "      <td>Falles de València</td>\n",
       "      <td>Valencian Community</td>\n",
       "      <td>39.466667</td>\n",
       "      <td>-0.375000</td>\n",
       "      <td>0.0</td>\n",
       "      <td>False</td>\n",
       "    </tr>\n",
       "    <tr>\n",
       "      <th>1</th>\n",
       "      <td>609</td>\n",
       "      <td>Q23657061</td>\n",
       "      <td>Bodas de Isabel de Segura</td>\n",
       "      <td>Aragon</td>\n",
       "      <td>40.343611</td>\n",
       "      <td>-1.107222</td>\n",
       "      <td>1.0</td>\n",
       "      <td>False</td>\n",
       "    </tr>\n",
       "    <tr>\n",
       "      <th>2</th>\n",
       "      <td>435</td>\n",
       "      <td>Q9075883</td>\n",
       "      <td>Holy Week in Málaga</td>\n",
       "      <td>Andalusia</td>\n",
       "      <td>36.716667</td>\n",
       "      <td>-4.416667</td>\n",
       "      <td>2.0</td>\n",
       "      <td>False</td>\n",
       "    </tr>\n",
       "    <tr>\n",
       "      <th>3</th>\n",
       "      <td>415</td>\n",
       "      <td>Q9075892</td>\n",
       "      <td>Holy Week in Zaragoza</td>\n",
       "      <td>Aragon</td>\n",
       "      <td>41.650000</td>\n",
       "      <td>-0.883333</td>\n",
       "      <td>3.0</td>\n",
       "      <td>False</td>\n",
       "    </tr>\n",
       "    <tr>\n",
       "      <th>4</th>\n",
       "      <td>376</td>\n",
       "      <td>Q23541308</td>\n",
       "      <td>Holy Week in Teruel</td>\n",
       "      <td>Aragon</td>\n",
       "      <td>40.343611</td>\n",
       "      <td>-1.107222</td>\n",
       "      <td>1.0</td>\n",
       "      <td>True</td>\n",
       "    </tr>\n",
       "  </tbody>\n",
       "</table>\n",
       "</div>"
      ],
      "text/plain": [
       "   count wikidata_id                   category              aut_com  \\\n",
       "0    750    Q1143768         Falles de València  Valencian Community   \n",
       "1    609   Q23657061  Bodas de Isabel de Segura               Aragon   \n",
       "2    435    Q9075883        Holy Week in Málaga            Andalusia   \n",
       "3    415    Q9075892      Holy Week in Zaragoza               Aragon   \n",
       "4    376   Q23541308        Holy Week in Teruel               Aragon   \n",
       "\n",
       "    latitude  longitude  dup_index    dup  \n",
       "0  39.466667  -0.375000        0.0  False  \n",
       "1  40.343611  -1.107222        1.0  False  \n",
       "2  36.716667  -4.416667        2.0  False  \n",
       "3  41.650000  -0.883333        3.0  False  \n",
       "4  40.343611  -1.107222        1.0   True  "
      ]
     },
     "execution_count": 31,
     "metadata": {},
     "output_type": "execute_result"
    }
   ],
   "source": [
    "images_per_festival_df['dup_index'] = images_per_festival_df.groupby(['latitude', 'longitude'])['latitude'].transform('idxmin')    \n",
    "images_per_festival_df['dup'] = images_per_festival_df.duplicated(subset=['dup_index'])\n",
    "images_per_festival_df.head()"
   ]
  },
  {
   "cell_type": "code",
   "execution_count": 32,
   "metadata": {},
   "outputs": [
    {
     "data": {
      "text/html": [
       "<div>\n",
       "<style scoped>\n",
       "    .dataframe tbody tr th:only-of-type {\n",
       "        vertical-align: middle;\n",
       "    }\n",
       "\n",
       "    .dataframe tbody tr th {\n",
       "        vertical-align: top;\n",
       "    }\n",
       "\n",
       "    .dataframe thead th {\n",
       "        text-align: right;\n",
       "    }\n",
       "</style>\n",
       "<table border=\"1\" class=\"dataframe\">\n",
       "  <thead>\n",
       "    <tr style=\"text-align: right;\">\n",
       "      <th></th>\n",
       "      <th>count</th>\n",
       "      <th>wikidata_id</th>\n",
       "      <th>category</th>\n",
       "      <th>aut_com</th>\n",
       "      <th>latitude</th>\n",
       "      <th>longitude</th>\n",
       "      <th>dup_index</th>\n",
       "      <th>dup</th>\n",
       "      <th>coordinates</th>\n",
       "    </tr>\n",
       "  </thead>\n",
       "  <tbody>\n",
       "    <tr>\n",
       "      <th>0</th>\n",
       "      <td>750</td>\n",
       "      <td>Q1143768</td>\n",
       "      <td>Falles de València</td>\n",
       "      <td>Valencian Community</td>\n",
       "      <td>39.466667</td>\n",
       "      <td>-0.375000</td>\n",
       "      <td>0.0</td>\n",
       "      <td>False</td>\n",
       "      <td>(39.46666666666667, -0.375)</td>\n",
       "    </tr>\n",
       "    <tr>\n",
       "      <th>1</th>\n",
       "      <td>609</td>\n",
       "      <td>Q23657061</td>\n",
       "      <td>Bodas de Isabel de Segura</td>\n",
       "      <td>Aragon</td>\n",
       "      <td>40.343611</td>\n",
       "      <td>-1.107222</td>\n",
       "      <td>1.0</td>\n",
       "      <td>False</td>\n",
       "      <td>(40.343611111111116, -1.1072222222222223)</td>\n",
       "    </tr>\n",
       "    <tr>\n",
       "      <th>2</th>\n",
       "      <td>435</td>\n",
       "      <td>Q9075883</td>\n",
       "      <td>Holy Week in Málaga</td>\n",
       "      <td>Andalusia</td>\n",
       "      <td>36.716667</td>\n",
       "      <td>-4.416667</td>\n",
       "      <td>2.0</td>\n",
       "      <td>False</td>\n",
       "      <td>(36.71666666666667, -4.416666666666667)</td>\n",
       "    </tr>\n",
       "    <tr>\n",
       "      <th>3</th>\n",
       "      <td>415</td>\n",
       "      <td>Q9075892</td>\n",
       "      <td>Holy Week in Zaragoza</td>\n",
       "      <td>Aragon</td>\n",
       "      <td>41.650000</td>\n",
       "      <td>-0.883333</td>\n",
       "      <td>3.0</td>\n",
       "      <td>False</td>\n",
       "      <td>(41.65, -0.8833333333333333)</td>\n",
       "    </tr>\n",
       "    <tr>\n",
       "      <th>4</th>\n",
       "      <td>376</td>\n",
       "      <td>Q23541308</td>\n",
       "      <td>Holy Week in Teruel</td>\n",
       "      <td>Aragon</td>\n",
       "      <td>40.341676</td>\n",
       "      <td>-1.099460</td>\n",
       "      <td>1.0</td>\n",
       "      <td>True</td>\n",
       "      <td>(40.34167573594632, -1.0994598564120144)</td>\n",
       "    </tr>\n",
       "  </tbody>\n",
       "</table>\n",
       "</div>"
      ],
      "text/plain": [
       "   count wikidata_id                   category              aut_com  \\\n",
       "0    750    Q1143768         Falles de València  Valencian Community   \n",
       "1    609   Q23657061  Bodas de Isabel de Segura               Aragon   \n",
       "2    435    Q9075883        Holy Week in Málaga            Andalusia   \n",
       "3    415    Q9075892      Holy Week in Zaragoza               Aragon   \n",
       "4    376   Q23541308        Holy Week in Teruel               Aragon   \n",
       "\n",
       "    latitude  longitude  dup_index    dup  \\\n",
       "0  39.466667  -0.375000        0.0  False   \n",
       "1  40.343611  -1.107222        1.0  False   \n",
       "2  36.716667  -4.416667        2.0  False   \n",
       "3  41.650000  -0.883333        3.0  False   \n",
       "4  40.341676  -1.099460        1.0   True   \n",
       "\n",
       "                                 coordinates  \n",
       "0                (39.46666666666667, -0.375)  \n",
       "1  (40.343611111111116, -1.1072222222222223)  \n",
       "2    (36.71666666666667, -4.416666666666667)  \n",
       "3               (41.65, -0.8833333333333333)  \n",
       "4   (40.34167573594632, -1.0994598564120144)  "
      ]
     },
     "execution_count": 32,
     "metadata": {},
     "output_type": "execute_result"
    }
   ],
   "source": [
    "images_per_festival_df['coordinates'] = images_per_festival_df.apply(coordinate_shaker, axis=1)\n",
    "images_per_festival_df[['latitude', 'longitude']] = images_per_festival_df['coordinates'].apply(pd.Series)\n",
    "images_per_festival_df.head()"
   ]
  },
  {
   "cell_type": "code",
   "execution_count": 35,
   "metadata": {},
   "outputs": [],
   "source": [
    "images_per_festival_df['geojson'] = images_per_festival_df.apply(lambda row: to_geojson(row), axis=1)"
   ]
  },
  {
   "cell_type": "code",
   "execution_count": 36,
   "metadata": {},
   "outputs": [],
   "source": [
    "features = images_per_festival_df['geojson'].tolist()\n",
    "feature_collection = FeatureCollection(features)\n",
    "dump = geojson.dumps(feature_collection, ensure_ascii=False, indent=2)\n",
    "#print(dump)"
   ]
  },
  {
   "cell_type": "code",
   "execution_count": 38,
   "metadata": {},
   "outputs": [],
   "source": [
    "template = \"\"\"=== WLF contributions map ===\n",
    "The map below includes all the contributions, by festival, for all the editions of the contest (${years[0]}-${years[-1]}).\n",
    "<mapframe text=\"Festivals\" latitude=\"39\" longitude=\"-4\" zoom=\"5\" width=\"800\" height=\"600\" align=\"center\"> \n",
    "${map}\n",
    "</mapframe>\n",
    "\"\"\"\n",
    "vars = {\n",
    "    \"map\": dump,\n",
    "    \"years\": YEARS\n",
    "}\n",
    "t = Template(template)\n",
    "map_text = t.render(**vars)"
   ]
  },
  {
   "cell_type": "code",
   "execution_count": 39,
   "metadata": {},
   "outputs": [
    {
     "name": "stderr",
     "output_type": "stream",
     "text": [
      "Publishing --> WLF in Spain Statistics\n",
      "Page [[commons:Commons:Wiki Loves Folk/Map]] saved\n"
     ]
    }
   ],
   "source": [
    "maps_page = pb.Page(commons_site, MAP_WLF_PAGE)\n",
    "maps_page.text = map_text\n",
    "pb.output('Publishing --> {0} in Spain Statistics'.format(TAG))\n",
    "maps_page.save(\"{0} in Spain statistics\".format(TAG))"
   ]
  },
  {
   "cell_type": "code",
   "execution_count": null,
   "metadata": {},
   "outputs": [],
   "source": []
  }
 ],
 "metadata": {
  "kernelspec": {
   "display_name": "Python 3",
   "language": "python",
   "name": "python3"
  },
  "language_info": {
   "codemirror_mode": {
    "name": "ipython",
    "version": 3
   },
   "file_extension": ".py",
   "mimetype": "text/x-python",
   "name": "python",
   "nbconvert_exporter": "python",
   "pygments_lexer": "ipython3",
   "version": "3.6.3"
  }
 },
 "nbformat": 4,
 "nbformat_minor": 2
}
