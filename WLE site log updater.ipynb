{
 "cells": [
  {
   "cell_type": "code",
   "execution_count": 10,
   "metadata": {},
   "outputs": [],
   "source": [
    "#!/usr/bin/python\n",
    "# -*- coding: utf-8 -*-\n",
    "\"\"\"This notebook updates de SCI database from the content of the annexes.\n",
    "It does not recreate the content of the database from the annexes, as the\n",
    "initial version was created from the original databases.\"\"\"\n",
    "\n",
    "import os, sys, inspect\n",
    "\n",
    "try :\n",
    "    import pywikibot as pb\n",
    "    from pywikibot import pagegenerators, textlib\n",
    "    import mwparserfromhell as mwh\n",
    "\n",
    "except :\n",
    "    current_folder = os.path.realpath(os.path.abspath(os.path.split(inspect.getfile(inspect.currentframe()))[0]))\n",
    "    folder_parts = current_folder.split(os.sep)\n",
    "    pywikibot_folder = os.sep.join(folder_parts[0:-1])\n",
    "\n",
    "    if current_folder not in sys.path:\n",
    "        sys.path.insert(0, current_folder)\n",
    "    if pywikibot_folder not in sys.path:\n",
    "        sys.path.insert(0, pywikibot_folder)\n",
    "\n",
    "    import pywikibot as pb\n",
    "    from pywikibot import pagegenerators, textlib\n",
    "    import mwparserfromhell as mwh\n",
    "\n",
    "from io import StringIO\n",
    "import pandas as pd\n",
    "import numpy as np"
   ]
  },
  {
   "cell_type": "code",
   "execution_count": 11,
   "metadata": {},
   "outputs": [],
   "source": [
    "TAG                 = 'WLE'\n",
    "\n",
    "BASE_SITE_DB_NAME   = \"Commons:Wiki Loves Earth 2016 in Spain\"\n",
    "SITE_DB_PAGE        = BASE_SITE_DB_NAME + \"/SCI DB\"\n",
    "\n",
    "commons_site = pb.Site(\"commons\", \"commons\")\n",
    "wikipedia_site = pb.Site(\"es\", \"wikipedia\")"
   ]
  },
  {
   "cell_type": "code",
   "execution_count": 12,
   "metadata": {},
   "outputs": [],
   "source": [
    "annexes = {\n",
    "   'ES-AN': [u'Anexo:Lugares de importancia comunitaria de Andalucía', 'Andalusia'],\n",
    "   'ES-AR': [u'Anexo:Lugares de importancia comunitaria de Aragón', 'Aragon'],\n",
    "   'ES-AS': [u'Anexo:Lugares de importancia comunitaria de Asturias', 'Asturias'],\n",
    "   'ES-CB': [u'Anexo:Lugares de importancia comunitaria de Cantabria', 'Cantabria'],\n",
    "   'ES-CM': [u'Anexo:Lugares de importancia comunitaria de Castilla-La Mancha', 'Castile-La Mancha'],\n",
    "   'ES-CL': [u'Anexo:Lugares de importancia comunitaria de Castilla y León', u'Castile and León'],\n",
    "   'ES-CT': [u'Anexo:Lugares de importancia comunitaria de Cataluña', 'Catalonia'],\n",
    "   'ES-MD': [u'Anexo:Lugares de importancia comunitaria de la Comunidad de Madrid', 'Community of Madrid'],\n",
    "   'ES-VC': [u'Anexo:Lugares de importancia comunitaria de la Comunidad Valenciana', 'Valencian Community'],\n",
    "   'ES-EX': [u'Anexo:Lugares de importancia comunitaria de Extremadura', 'Extremadura'],\n",
    "   'ES-IB': [u'Anexo:Lugares de importancia comunitaria de las Islas Baleares', 'Balearic Islands'],\n",
    "   'ES-CN': [u'Anexo:Lugares de importancia comunitaria de las Islas Canarias', 'Canary Islands'],\n",
    "   'ES-GA': [u'Anexo:Lugares de importancia comunitaria de Galicia', 'Galicia'],\n",
    "   'ES-RI': [u'Anexo:Lugares de importancia comunitaria de La Rioja', 'La Rioja'],\n",
    "   'ES-NC': [u'Anexo:Lugares de importancia comunitaria de Navarra', 'Navarre'],\n",
    "   'ES-MC': [u'Anexo:Lugares de importancia comunitaria de la Región de Murcia', 'Region of Murcia'],\n",
    "   'ES-PV': [u'Anexo:Lugares de importancia comunitaria del País Vasco', 'Basque Country'],\n",
    "   'ES-ML': [u'Anexo:Lugares de importancia comunitaria de Ceuta y Melilla', 'Melilla'],\n",
    "   'ES-CE': [u'Anexo:Lugares de importancia comunitaria de Ceuta y Melilla', 'Ceuta'],\n",
    "   'ES-MAGRAMA': [u'Anexo:Lugares de importancia comunitaria del MAGRAMA', 'MAGRAMA']\n",
    "}\n",
    "annexes_list = list(set([annexes[key][0] for key in annexes]))"
   ]
  },
  {
   "cell_type": "markdown",
   "metadata": {},
   "source": [
    "## Auxiliary functions"
   ]
  },
  {
   "cell_type": "code",
   "execution_count": 13,
   "metadata": {},
   "outputs": [],
   "source": [
    "def format_row(x) :\n",
    "    \"\"\"This function is used to prevent the transformation of some columns to floats when saving as CSV\"\"\"\n",
    "    try:\n",
    "        return int(x)\n",
    "    except :\n",
    "        return ''"
   ]
  },
  {
   "cell_type": "markdown",
   "metadata": {},
   "source": [
    "## Annex information retrieval"
   ]
  },
  {
   "cell_type": "code",
   "execution_count": 14,
   "metadata": {},
   "outputs": [
    {
     "name": "stderr",
     "output_type": "stream",
     "text": [
      "Processing annex Anexo:Lugares de importancia comunitaria de Andalucía\n",
      "Processing annex Anexo:Lugares de importancia comunitaria del MAGRAMA\n",
      "Processing annex Anexo:Lugares de importancia comunitaria de Navarra\n",
      "Processing annex Anexo:Lugares de importancia comunitaria de Cantabria\n",
      "Processing annex Anexo:Lugares de importancia comunitaria de las Islas Baleares\n",
      "Processing annex Anexo:Lugares de importancia comunitaria de las Islas Canarias\n",
      "Processing annex Anexo:Lugares de importancia comunitaria de la Región de Murcia\n",
      "Processing annex Anexo:Lugares de importancia comunitaria del País Vasco\n",
      "Processing annex Anexo:Lugares de importancia comunitaria de Ceuta y Melilla\n",
      "Processing annex Anexo:Lugares de importancia comunitaria de Asturias\n",
      "Processing annex Anexo:Lugares de importancia comunitaria de Extremadura\n",
      "Processing annex Anexo:Lugares de importancia comunitaria de Aragón\n",
      "Processing annex Anexo:Lugares de importancia comunitaria de Castilla y León\n",
      "Processing annex Anexo:Lugares de importancia comunitaria de Cataluña\n",
      "Processing annex Anexo:Lugares de importancia comunitaria de la Comunidad Valenciana\n",
      "Processing annex Anexo:Lugares de importancia comunitaria de La Rioja\n",
      "Processing annex Anexo:Lugares de importancia comunitaria de la Comunidad de Madrid\n",
      "Processing annex Anexo:Lugares de importancia comunitaria de Galicia\n",
      "Processing annex Anexo:Lugares de importancia comunitaria de Castilla-La Mancha\n"
     ]
    }
   ],
   "source": [
    "sites_df = pd.DataFrame(\n",
    "    columns=['lic_id', 'commons_cat', 'image'])\n",
    "\n",
    "for annex in annexes_list:\n",
    "    pb.output(\"Processing annex \" + annex)\n",
    "    page = pb.Page(wikipedia_site, annex)\n",
    "    text = page.text\n",
    "    wikicode = mwh.parse(text)\n",
    "    templates = [template for template in wikicode.filter_templates() if template.name.lower().strip() == \"fila lic\"]\n",
    "    for template in templates :\n",
    "        df_row = {\n",
    "            \"lic_id\": template.get(\"código\").value.strip(),\n",
    "            \"commons_cat\": '',\n",
    "            \"image\": ''\n",
    "        }\n",
    "        try:\n",
    "            if template.get(\"categoría-Commons\").value :\n",
    "                df_row[\"commons_cat\"] = template.get(\"categoría-Commons\").value.strip()\n",
    "            if template.get(\"imagen\").value :\n",
    "                df_row[\"image\"] = template.get(\"imagen\").value.strip()\n",
    "        except :\n",
    "            print (template.get(\"código\").value.strip())\n",
    "\n",
    "        sites_df = sites_df.append(df_row, ignore_index=True)"
   ]
  },
  {
   "cell_type": "markdown",
   "metadata": {},
   "source": [
    "## Retrieval of exising database"
   ]
  },
  {
   "cell_type": "code",
   "execution_count": 15,
   "metadata": {},
   "outputs": [
    {
     "name": "stderr",
     "output_type": "stream",
     "text": [
      "Retrieving --> WLE SCI list\n",
      "Retrieved --> WLE SCI list\n"
     ]
    }
   ],
   "source": [
    "pb.output('Retrieving --> WLE SCI list')\n",
    "site_list_page = pb.Page(commons_site, SITE_DB_PAGE)\n",
    "site_list_text = StringIO(site_list_page.text[site_list_page.text.find('\\n') + 1:site_list_page.text.rfind('\\n')])\n",
    "site_df = pd.read_csv(site_list_text, sep=\";\",\n",
    "                     index_col=False,\n",
    "                     names=[\"name\", \"lic_id\", \"magrama_url\", \"community\",\n",
    "                            \"bio_region\", \"continent\", \"min_altitude\",\n",
    "                            \"max_altitude\", \"avg_altitude\", \"longitude\",\n",
    "                            \"latitude\", \"area\", \"marine_percentage\",\n",
    "                            \"marine_area\", \"image\", \"commons_cat\", \"wikidata_id\"],\n",
    "                     dtype={\"latitude\": float, \"longitude\": float, \"area\": float, \n",
    "                            \"marine_percentage\": float, \"marine_area\": float}\n",
    "                     )\n",
    "#site_df.fillna('')\n",
    "pb.output('Retrieved --> WLE SCI list')"
   ]
  },
  {
   "cell_type": "markdown",
   "metadata": {},
   "source": [
    "## Merging"
   ]
  },
  {
   "cell_type": "code",
   "execution_count": 16,
   "metadata": {},
   "outputs": [],
   "source": [
    "site_df.drop(['commons_cat', 'image'], axis=1, inplace=True)"
   ]
  },
  {
   "cell_type": "code",
   "execution_count": 17,
   "metadata": {},
   "outputs": [],
   "source": [
    "columns = [\"name\", \"lic_id\", \"magrama_url\", \"community\",\n",
    "           \"bio_region\", \"continent\", \"min_altitude\",\n",
    "           \"max_altitude\", \"avg_altitude\", \"longitude\",\n",
    "           \"latitude\", \"area\", \"marine_percentage\",\n",
    "           \"marine_area\", \"image\", \"commons_cat\", \"wikidata_id\"]\n",
    "\n",
    "result = pd.merge(site_df, sites_df, on='lic_id', how='outer')\n",
    "result['longitude'] = result['longitude'].round(6)\n",
    "result['latitude'] = result['latitude'].round(6)\n",
    "result['area'] = result['area'].round(3)\n",
    "result['max_altitude'] = result['max_altitude'].apply(lambda x: format_row(x))\n",
    "result['min_altitude'] = result['min_altitude'].apply(lambda x: format_row(x))\n",
    "result['avg_altitude'] = result['avg_altitude'].apply(lambda x: format_row(x))\n",
    "result = result[columns]"
   ]
  },
  {
   "cell_type": "markdown",
   "metadata": {},
   "source": [
    "## Updated database upload"
   ]
  },
  {
   "cell_type": "code",
   "execution_count": 18,
   "metadata": {},
   "outputs": [
    {
     "name": "stderr",
     "output_type": "stream",
     "text": [
      "Page [[commons:Commons:Wiki Loves Earth 2016 in Spain/SCI DB]] saved\n"
     ]
    }
   ],
   "source": [
    "buf = StringIO()\n",
    "result.to_csv(buf, index=None, sep=';', encoding='utf-8', header=False)\n",
    "\n",
    "sites_page = pb.Page(commons_site, SITE_DB_PAGE)\n",
    "sites_page.text = '<pre>\\n' + buf.getvalue() + '</pre>'\n",
    "sites_page.save(\"{} in Spain: Sites database update\".format(TAG))"
   ]
  },
  {
   "cell_type": "code",
   "execution_count": null,
   "metadata": {},
   "outputs": [],
   "source": []
  }
 ],
 "metadata": {
  "kernelspec": {
   "display_name": "Python 3",
   "language": "python",
   "name": "python3"
  },
  "language_info": {
   "codemirror_mode": {
    "name": "ipython",
    "version": 3
   },
   "file_extension": ".py",
   "mimetype": "text/x-python",
   "name": "python",
   "nbconvert_exporter": "python",
   "pygments_lexer": "ipython3",
   "version": "3.6.3"
  }
 },
 "nbformat": 4,
 "nbformat_minor": 2
}
