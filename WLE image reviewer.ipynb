{
 "cells": [
  {
   "cell_type": "code",
   "execution_count": 1,
   "metadata": {},
   "outputs": [],
   "source": [
    "#!/usr/bin/python\n",
    "# -*- coding: utf-8 -*-\n",
    "\"\"\"\n",
    "This notebook adds the WLE per contributor, per site and per autonomous \n",
    "community categories to all the files in the WLE log.\n",
    "\"\"\"\n",
    "\n",
    "import os, sys, inspect\n",
    "\n",
    "try :\n",
    "    import pywikibot as pb\n",
    "    from pywikibot import pagegenerators, textlib\n",
    "    import mwparserfromhell as mwh\n",
    "\n",
    "except :\n",
    "    current_folder = os.path.realpath(os.path.abspath(os.path.split(inspect.getfile(inspect.currentframe()))[0]))\n",
    "    folder_parts = current_folder.split(os.sep)\n",
    "    pywikibot_folder = os.sep.join(folder_parts[0:-1])\n",
    "\n",
    "    if current_folder not in sys.path:\n",
    "        sys.path.insert(0, current_folder)\n",
    "    if pywikibot_folder not in sys.path:\n",
    "        sys.path.insert(0, pywikibot_folder)\n",
    "\n",
    "    import pywikibot as pb\n",
    "    from pywikibot import pagegenerators, textlib\n",
    "    import mwparserfromhell as mwh\n",
    "    \n",
    "import numpy as np\n",
    "import pandas as pd\n",
    "from io import StringIO\n",
    "import re\n",
    "from mako.template import Template"
   ]
  },
  {
   "cell_type": "code",
   "execution_count": 5,
   "metadata": {},
   "outputs": [],
   "source": [
    "YEAR                = 2015\n",
    "TAG                 = 'WLE'\n",
    "TAG_EXT             = 'Wiki Loves Earth'\n",
    "\n",
    "BASE_NAME           = \"Commons:Wiki Loves in Spain/{1}/{0}\".format(YEAR, TAG_EXT)\n",
    "LOG_PAGE            = BASE_NAME + '/Log'\n",
    "BASE_SITE_DB_NAME   = \"Commons:Wiki Loves Earth 2016 in Spain\"\n",
    "SITE_DB_PAGE        = BASE_SITE_DB_NAME + \"/SCI DB\"\n",
    "\n",
    "commons_site = pb.Site(\"commons\", \"commons\")"
   ]
  },
  {
   "cell_type": "code",
   "execution_count": 6,
   "metadata": {},
   "outputs": [],
   "source": [
    "communities = {\n",
    "    'ES-AN': u'Andalusia',\n",
    "    'ES-AR': u'Aragon',\n",
    "    'ES-AS': u'Asturias',\n",
    "    'ES-CB': u'Cantabria',\n",
    "    'ES-CM': u'Castile-La Mancha',\n",
    "    'ES-CL': u'Castile and León',\n",
    "    'ES-CT': u'Catalonia',\n",
    "    'ES-MD': u'Community of Madrid',\n",
    "    'ES-VC': u'Valencian Community',\n",
    "    'ES-EX': u'Extremadura',\n",
    "    'ES-IB': u'Balearic Islands',\n",
    "    'ES-CN': u'Canary Islands',\n",
    "    'ES-GA': u'Galicia',\n",
    "    'ES-RI': u'La Rioja',\n",
    "    'ES-NC': u'Navarre',\n",
    "    'ES-MC': u'Region of Murcia',\n",
    "    'ES-CE': u'Ceuta',\n",
    "    'ES-ML': u'Melilla',\n",
    "    'ES-PV': u'Basque Country',\n",
    "    'ES-MAGRAMA': u'MAGRAMA'\n",
    "}"
   ]
  },
  {
   "cell_type": "code",
   "execution_count": 7,
   "metadata": {},
   "outputs": [],
   "source": [
    "def get_community (x) :\n",
    "    try:\n",
    "        return communities[x]\n",
    "    except :\n",
    "        return np.nan"
   ]
  },
  {
   "cell_type": "markdown",
   "metadata": {},
   "source": [
    "### Retrieval of list of sites of community importance"
   ]
  },
  {
   "cell_type": "code",
   "execution_count": 8,
   "metadata": {},
   "outputs": [
    {
     "name": "stderr",
     "output_type": "stream",
     "text": [
      "Retrieving --> WLE SCI list\n",
      "Retrieved --> WLE SCI list\n"
     ]
    }
   ],
   "source": [
    "pb.output('Retrieving --> WLE SCI list')\n",
    "site_list_page = pb.Page(commons_site, SITE_DB_PAGE)\n",
    "site_list_text = StringIO(site_list_page.text[site_list_page.text.find('\\n') + 1:site_list_page.text.rfind('\\n')])\n",
    "site_df = pd.read_csv(site_list_text, sep=\";\",\n",
    "                     index_col=False,\n",
    "                     names=[\"name\", \"lic_id\", \"magrama_url\", \"community\",\n",
    "                            \"bio_region\", \"continent\", \"min_altitude\",\n",
    "                            \"max_altitude\", \"avg_altitude\", \"longitude\",\n",
    "                            \"latitude\", \"area\", \"marine_percentage\",\n",
    "                            \"marine_area\", \"image\", \"commons_cat\", \"wikidata_id\"])\n",
    "pb.output('Retrieved --> WLE SCI list')\n",
    "\n",
    "site_df['community_name'] = site_df['community'].apply(get_community)\n",
    "\n",
    "codes = site_df[\"lic_id\"].tolist()"
   ]
  },
  {
   "cell_type": "code",
   "execution_count": 9,
   "metadata": {},
   "outputs": [
    {
     "data": {
      "text/html": [
       "<div>\n",
       "<style scoped>\n",
       "    .dataframe tbody tr th:only-of-type {\n",
       "        vertical-align: middle;\n",
       "    }\n",
       "\n",
       "    .dataframe tbody tr th {\n",
       "        vertical-align: top;\n",
       "    }\n",
       "\n",
       "    .dataframe thead th {\n",
       "        text-align: right;\n",
       "    }\n",
       "</style>\n",
       "<table border=\"1\" class=\"dataframe\">\n",
       "  <thead>\n",
       "    <tr style=\"text-align: right;\">\n",
       "      <th></th>\n",
       "      <th>name</th>\n",
       "      <th>lic_id</th>\n",
       "      <th>magrama_url</th>\n",
       "      <th>community</th>\n",
       "      <th>bio_region</th>\n",
       "      <th>continent</th>\n",
       "      <th>min_altitude</th>\n",
       "      <th>max_altitude</th>\n",
       "      <th>avg_altitude</th>\n",
       "      <th>longitude</th>\n",
       "      <th>latitude</th>\n",
       "      <th>area</th>\n",
       "      <th>marine_percentage</th>\n",
       "      <th>marine_area</th>\n",
       "      <th>image</th>\n",
       "      <th>commons_cat</th>\n",
       "      <th>wikidata_id</th>\n",
       "      <th>community_name</th>\n",
       "    </tr>\n",
       "  </thead>\n",
       "  <tbody>\n",
       "    <tr>\n",
       "      <th>count</th>\n",
       "      <td>1449</td>\n",
       "      <td>1449</td>\n",
       "      <td>1449</td>\n",
       "      <td>1449</td>\n",
       "      <td>1449</td>\n",
       "      <td>1449</td>\n",
       "      <td>1349.000000</td>\n",
       "      <td>1377.000000</td>\n",
       "      <td>1307.000000</td>\n",
       "      <td>1449.000000</td>\n",
       "      <td>1449.000000</td>\n",
       "      <td>1449.000000</td>\n",
       "      <td>1449.000000</td>\n",
       "      <td>1449.000000</td>\n",
       "      <td>968</td>\n",
       "      <td>1029</td>\n",
       "      <td>115</td>\n",
       "      <td>1449</td>\n",
       "    </tr>\n",
       "    <tr>\n",
       "      <th>unique</th>\n",
       "      <td>1449</td>\n",
       "      <td>1449</td>\n",
       "      <td>1449</td>\n",
       "      <td>20</td>\n",
       "      <td>5</td>\n",
       "      <td>2</td>\n",
       "      <td>NaN</td>\n",
       "      <td>NaN</td>\n",
       "      <td>NaN</td>\n",
       "      <td>NaN</td>\n",
       "      <td>NaN</td>\n",
       "      <td>NaN</td>\n",
       "      <td>NaN</td>\n",
       "      <td>NaN</td>\n",
       "      <td>945</td>\n",
       "      <td>954</td>\n",
       "      <td>114</td>\n",
       "      <td>20</td>\n",
       "    </tr>\n",
       "    <tr>\n",
       "      <th>top</th>\n",
       "      <td>Serra d'Enguera</td>\n",
       "      <td>ES2420115</td>\n",
       "      <td>ES7020101_tcm7-154778.pdf</td>\n",
       "      <td>ES-AN</td>\n",
       "      <td>Mediterránea</td>\n",
       "      <td>Europa</td>\n",
       "      <td>NaN</td>\n",
       "      <td>NaN</td>\n",
       "      <td>NaN</td>\n",
       "      <td>NaN</td>\n",
       "      <td>NaN</td>\n",
       "      <td>NaN</td>\n",
       "      <td>NaN</td>\n",
       "      <td>NaN</td>\n",
       "      <td>Guigui-grancanaria.jpg</td>\n",
       "      <td>Sites of Community Importance in the province ...</td>\n",
       "      <td>Q2274441</td>\n",
       "      <td>Andalusia</td>\n",
       "    </tr>\n",
       "    <tr>\n",
       "      <th>freq</th>\n",
       "      <td>1</td>\n",
       "      <td>1</td>\n",
       "      <td>1</td>\n",
       "      <td>189</td>\n",
       "      <td>1020</td>\n",
       "      <td>1267</td>\n",
       "      <td>NaN</td>\n",
       "      <td>NaN</td>\n",
       "      <td>NaN</td>\n",
       "      <td>NaN</td>\n",
       "      <td>NaN</td>\n",
       "      <td>NaN</td>\n",
       "      <td>NaN</td>\n",
       "      <td>NaN</td>\n",
       "      <td>2</td>\n",
       "      <td>11</td>\n",
       "      <td>2</td>\n",
       "      <td>189</td>\n",
       "    </tr>\n",
       "    <tr>\n",
       "      <th>mean</th>\n",
       "      <td>NaN</td>\n",
       "      <td>NaN</td>\n",
       "      <td>NaN</td>\n",
       "      <td>NaN</td>\n",
       "      <td>NaN</td>\n",
       "      <td>NaN</td>\n",
       "      <td>361.170497</td>\n",
       "      <td>825.880174</td>\n",
       "      <td>590.280796</td>\n",
       "      <td>-4.072569</td>\n",
       "      <td>38.894252</td>\n",
       "      <td>8768.819201</td>\n",
       "      <td>6.088714</td>\n",
       "      <td>628.217900</td>\n",
       "      <td>NaN</td>\n",
       "      <td>NaN</td>\n",
       "      <td>NaN</td>\n",
       "      <td>NaN</td>\n",
       "    </tr>\n",
       "    <tr>\n",
       "      <th>std</th>\n",
       "      <td>NaN</td>\n",
       "      <td>NaN</td>\n",
       "      <td>NaN</td>\n",
       "      <td>NaN</td>\n",
       "      <td>NaN</td>\n",
       "      <td>NaN</td>\n",
       "      <td>392.649173</td>\n",
       "      <td>677.142572</td>\n",
       "      <td>482.192172</td>\n",
       "      <td>5.539541</td>\n",
       "      <td>4.417624</td>\n",
       "      <td>22709.027316</td>\n",
       "      <td>22.121855</td>\n",
       "      <td>7870.408687</td>\n",
       "      <td>NaN</td>\n",
       "      <td>NaN</td>\n",
       "      <td>NaN</td>\n",
       "      <td>NaN</td>\n",
       "    </tr>\n",
       "    <tr>\n",
       "      <th>min</th>\n",
       "      <td>NaN</td>\n",
       "      <td>NaN</td>\n",
       "      <td>NaN</td>\n",
       "      <td>NaN</td>\n",
       "      <td>NaN</td>\n",
       "      <td>NaN</td>\n",
       "      <td>-4000.000000</td>\n",
       "      <td>-40.000000</td>\n",
       "      <td>-250.000000</td>\n",
       "      <td>-18.091800</td>\n",
       "      <td>27.658700</td>\n",
       "      <td>0.030000</td>\n",
       "      <td>0.000000</td>\n",
       "      <td>0.000000</td>\n",
       "      <td>NaN</td>\n",
       "      <td>NaN</td>\n",
       "      <td>NaN</td>\n",
       "      <td>NaN</td>\n",
       "    </tr>\n",
       "    <tr>\n",
       "      <th>25%</th>\n",
       "      <td>NaN</td>\n",
       "      <td>NaN</td>\n",
       "      <td>NaN</td>\n",
       "      <td>NaN</td>\n",
       "      <td>NaN</td>\n",
       "      <td>NaN</td>\n",
       "      <td>20.000000</td>\n",
       "      <td>260.000000</td>\n",
       "      <td>180.500000</td>\n",
       "      <td>-6.202200</td>\n",
       "      <td>37.793063</td>\n",
       "      <td>180.000000</td>\n",
       "      <td>0.000000</td>\n",
       "      <td>0.000000</td>\n",
       "      <td>NaN</td>\n",
       "      <td>NaN</td>\n",
       "      <td>NaN</td>\n",
       "      <td>NaN</td>\n",
       "    </tr>\n",
       "    <tr>\n",
       "      <th>50%</th>\n",
       "      <td>NaN</td>\n",
       "      <td>NaN</td>\n",
       "      <td>NaN</td>\n",
       "      <td>NaN</td>\n",
       "      <td>NaN</td>\n",
       "      <td>NaN</td>\n",
       "      <td>280.000000</td>\n",
       "      <td>728.000000</td>\n",
       "      <td>520.000000</td>\n",
       "      <td>-2.942778</td>\n",
       "      <td>39.929700</td>\n",
       "      <td>1239.050000</td>\n",
       "      <td>0.000000</td>\n",
       "      <td>0.000000</td>\n",
       "      <td>NaN</td>\n",
       "      <td>NaN</td>\n",
       "      <td>NaN</td>\n",
       "      <td>NaN</td>\n",
       "    </tr>\n",
       "    <tr>\n",
       "      <th>75%</th>\n",
       "      <td>NaN</td>\n",
       "      <td>NaN</td>\n",
       "      <td>NaN</td>\n",
       "      <td>NaN</td>\n",
       "      <td>NaN</td>\n",
       "      <td>NaN</td>\n",
       "      <td>600.000000</td>\n",
       "      <td>1239.000000</td>\n",
       "      <td>903.000000</td>\n",
       "      <td>-0.441100</td>\n",
       "      <td>42.084722</td>\n",
       "      <td>6677.910000</td>\n",
       "      <td>0.000000</td>\n",
       "      <td>0.000000</td>\n",
       "      <td>NaN</td>\n",
       "      <td>NaN</td>\n",
       "      <td>NaN</td>\n",
       "      <td>NaN</td>\n",
       "    </tr>\n",
       "    <tr>\n",
       "      <th>max</th>\n",
       "      <td>NaN</td>\n",
       "      <td>NaN</td>\n",
       "      <td>NaN</td>\n",
       "      <td>NaN</td>\n",
       "      <td>NaN</td>\n",
       "      <td>NaN</td>\n",
       "      <td>2090.000000</td>\n",
       "      <td>3718.000000</td>\n",
       "      <td>2391.000000</td>\n",
       "      <td>4.290992</td>\n",
       "      <td>44.042300</td>\n",
       "      <td>234950.340000</td>\n",
       "      <td>100.000000</td>\n",
       "      <td>234950.340000</td>\n",
       "      <td>NaN</td>\n",
       "      <td>NaN</td>\n",
       "      <td>NaN</td>\n",
       "      <td>NaN</td>\n",
       "    </tr>\n",
       "  </tbody>\n",
       "</table>\n",
       "</div>"
      ],
      "text/plain": [
       "                   name     lic_id                magrama_url community  \\\n",
       "count              1449       1449                       1449      1449   \n",
       "unique             1449       1449                       1449        20   \n",
       "top     Serra d'Enguera  ES2420115  ES7020101_tcm7-154778.pdf     ES-AN   \n",
       "freq                  1          1                          1       189   \n",
       "mean                NaN        NaN                        NaN       NaN   \n",
       "std                 NaN        NaN                        NaN       NaN   \n",
       "min                 NaN        NaN                        NaN       NaN   \n",
       "25%                 NaN        NaN                        NaN       NaN   \n",
       "50%                 NaN        NaN                        NaN       NaN   \n",
       "75%                 NaN        NaN                        NaN       NaN   \n",
       "max                 NaN        NaN                        NaN       NaN   \n",
       "\n",
       "          bio_region continent  min_altitude  max_altitude  avg_altitude  \\\n",
       "count           1449      1449   1349.000000   1377.000000   1307.000000   \n",
       "unique             5         2           NaN           NaN           NaN   \n",
       "top     Mediterránea    Europa           NaN           NaN           NaN   \n",
       "freq            1020      1267           NaN           NaN           NaN   \n",
       "mean             NaN       NaN    361.170497    825.880174    590.280796   \n",
       "std              NaN       NaN    392.649173    677.142572    482.192172   \n",
       "min              NaN       NaN  -4000.000000    -40.000000   -250.000000   \n",
       "25%              NaN       NaN     20.000000    260.000000    180.500000   \n",
       "50%              NaN       NaN    280.000000    728.000000    520.000000   \n",
       "75%              NaN       NaN    600.000000   1239.000000    903.000000   \n",
       "max              NaN       NaN   2090.000000   3718.000000   2391.000000   \n",
       "\n",
       "          longitude     latitude           area  marine_percentage  \\\n",
       "count   1449.000000  1449.000000    1449.000000        1449.000000   \n",
       "unique          NaN          NaN            NaN                NaN   \n",
       "top             NaN          NaN            NaN                NaN   \n",
       "freq            NaN          NaN            NaN                NaN   \n",
       "mean      -4.072569    38.894252    8768.819201           6.088714   \n",
       "std        5.539541     4.417624   22709.027316          22.121855   \n",
       "min      -18.091800    27.658700       0.030000           0.000000   \n",
       "25%       -6.202200    37.793063     180.000000           0.000000   \n",
       "50%       -2.942778    39.929700    1239.050000           0.000000   \n",
       "75%       -0.441100    42.084722    6677.910000           0.000000   \n",
       "max        4.290992    44.042300  234950.340000         100.000000   \n",
       "\n",
       "          marine_area                   image  \\\n",
       "count     1449.000000                     968   \n",
       "unique            NaN                     945   \n",
       "top               NaN  Guigui-grancanaria.jpg   \n",
       "freq              NaN                       2   \n",
       "mean       628.217900                     NaN   \n",
       "std       7870.408687                     NaN   \n",
       "min          0.000000                     NaN   \n",
       "25%          0.000000                     NaN   \n",
       "50%          0.000000                     NaN   \n",
       "75%          0.000000                     NaN   \n",
       "max     234950.340000                     NaN   \n",
       "\n",
       "                                              commons_cat wikidata_id  \\\n",
       "count                                                1029         115   \n",
       "unique                                                954         114   \n",
       "top     Sites of Community Importance in the province ...    Q2274441   \n",
       "freq                                                   11           2   \n",
       "mean                                                  NaN         NaN   \n",
       "std                                                   NaN         NaN   \n",
       "min                                                   NaN         NaN   \n",
       "25%                                                   NaN         NaN   \n",
       "50%                                                   NaN         NaN   \n",
       "75%                                                   NaN         NaN   \n",
       "max                                                   NaN         NaN   \n",
       "\n",
       "       community_name  \n",
       "count            1449  \n",
       "unique             20  \n",
       "top         Andalusia  \n",
       "freq              189  \n",
       "mean              NaN  \n",
       "std               NaN  \n",
       "min               NaN  \n",
       "25%               NaN  \n",
       "50%               NaN  \n",
       "75%               NaN  \n",
       "max               NaN  "
      ]
     },
     "execution_count": 9,
     "metadata": {},
     "output_type": "execute_result"
    }
   ],
   "source": [
    "site_df.describe(include=\"all\")"
   ]
  },
  {
   "cell_type": "markdown",
   "metadata": {},
   "source": [
    "### Retrieval of the image log"
   ]
  },
  {
   "cell_type": "code",
   "execution_count": 10,
   "metadata": {},
   "outputs": [
    {
     "name": "stderr",
     "output_type": "stream",
     "text": [
      "Retrieving --> WLE 2015 images list from cache\n",
      "Retrieved --> WLE 2015 images list from cache\n"
     ]
    }
   ],
   "source": [
    "pb.output('Retrieving --> {0} {1} images list from cache'.format(TAG, YEAR))\n",
    "list_page = pb.Page(commons_site, LOG_PAGE)\n",
    "list_page_text = StringIO(list_page.text[list_page.text.find('\\n') + 1:list_page.text.rfind('\\n')])\n",
    "images_df = pd.read_csv(list_page_text,\n",
    "                        sep=\";\",\n",
    "                        index_col=False,\n",
    "                        names=['image_title', 'lic_id', \n",
    "                               'uploader', 'uploader_registration', \n",
    "                               'timestamp', 'date', 'size', \n",
    "                               'height', 'width', 'qi', \n",
    "                               'finalist'])\n",
    "\n",
    "pb.output('Retrieved --> {0} {1} images list from cache'.format(TAG, YEAR))"
   ]
  },
  {
   "cell_type": "code",
   "execution_count": 11,
   "metadata": {},
   "outputs": [],
   "source": [
    "images_df = images_df.merge(site_df, on='lic_id', how=\"left\")"
   ]
  },
  {
   "cell_type": "code",
   "execution_count": 12,
   "metadata": {},
   "outputs": [],
   "source": [
    "site_cat_template = \"\"\"'''Site of Community Importance''': ${lic_name} ([http://natura2000.eea.europa.eu/Natura2000/SDF.aspx?site=${lic_code} ${lic_code}])\n",
    "\n",
    "{{hiddencat}}\n",
    "[[Category:Images from ${tag} in Spain by site| ${lic_code}]]\n",
    "\"\"\"\n",
    "site_vars = {\n",
    "    \"lic_name\": None,\n",
    "    \"lic_code\": None,\n",
    "    \"tag\": TAG_EXT\n",
    "}"
   ]
  },
  {
   "cell_type": "code",
   "execution_count": 13,
   "metadata": {},
   "outputs": [],
   "source": [
    "yearly_site_cat_template = \"\"\"'''Site of Community Importance''': ${lic_name} ([http://natura2000.eea.europa.eu/Natura2000/SDF.aspx?site=${lic_code} ${lic_code}])\n",
    "\n",
    "{{hiddencat}}\n",
    "[[Category:Images from ${tag} ${year} in Spain by site| ${lic_code}]]\n",
    "\"\"\"\n",
    "yearly_site_vars = {\n",
    "    \"lic_name\": None,\n",
    "    \"lic_code\": None,\n",
    "    \"tag\": TAG_EXT,\n",
    "    \"year\": YEAR\n",
    "}"
   ]
  },
  {
   "cell_type": "code",
   "execution_count": 14,
   "metadata": {},
   "outputs": [],
   "source": [
    "autcom_cat_template = \"\"\"{{hiddencat}}\n",
    "[[Category:Images from ${tag} ${year} in Spain by autonomous community| ${aut_com}]]\"\"\"\n",
    "autcom_vars = {\n",
    "    \"aut_com\": None,\n",
    "    \"tag\": TAG_EXT,\n",
    "    \"year\": YEAR}"
   ]
  },
  {
   "cell_type": "code",
   "execution_count": 15,
   "metadata": {},
   "outputs": [],
   "source": [
    "author_cat_template = \"\"\"{{hiddencat}}\n",
    "[[Category:Images from ${tag} ${year} in Spain by author| ${author_name}]]\"\"\"\n",
    "author_vars = {\n",
    "    \"author_name\": None,\n",
    "    \"tag\": TAG_EXT,\n",
    "    \"year\": YEAR}"
   ]
  },
  {
   "cell_type": "code",
   "execution_count": 16,
   "metadata": {},
   "outputs": [],
   "source": [
    "deletion_request = \"\"\"{{speedydelete|1=Empty category, it's been moved. No longer needed}}\"\"\""
   ]
  },
  {
   "cell_type": "code",
   "execution_count": 18,
   "metadata": {},
   "outputs": [
    {
     "name": "stderr",
     "output_type": "stream",
     "text": [
      "Reviewing --> 50 image pages downloaded\n",
      "Page [[commons:Category:Images of site of community importance with code ES4230014 from Wiki Loves Earth 2015 in Spain]] saved\n",
      "Reviewing --> 100 image pages downloaded\n",
      "Page [[commons:Category:Images of site of community importance with code ES0000147 from Wiki Loves Earth 2015 in Spain]] saved\n",
      "Sleeping for 8.0 seconds, 2018-02-25 23:09:25\n",
      "Page [[commons:Category:Images of site of community importance with code ES4320071 from Wiki Loves Earth 2015 in Spain]] saved\n",
      "Sleeping for 5.2 seconds, 2018-02-25 23:09:38\n",
      "Page [[commons:Category:Images of site of community importance with code ES4250010 from Wiki Loves Earth 2015 in Spain]] saved\n",
      "Sleeping for 8.0 seconds, 2018-02-25 23:09:45\n",
      "Page [[commons:Category:Images of site of community importance with code ES7020054 from Wiki Loves Earth 2015 in Spain]] saved\n",
      "Sleeping for 6.1 seconds, 2018-02-25 23:09:57\n",
      "Page [[commons:Category:Images of site of community importance with code ES2410014 from Wiki Loves Earth 2015 in Spain]] saved\n",
      "Sleeping for 8.1 seconds, 2018-02-25 23:10:05\n",
      "Page [[commons:Category:Images of site of community importance with code ES7020043 from Wiki Loves Earth 2015 in Spain]] saved\n",
      "Sleeping for 3.8 seconds, 2018-02-25 23:10:19\n",
      "Page [[commons:Category:Images of site of community importance with code ES5120016 from Wiki Loves Earth 2015 in Spain]] saved\n",
      "Reviewing --> 150 image pages downloaded\n",
      "Page [[commons:Category:Images of site of community importance with code ES2410017 from Wiki Loves Earth 2015 in Spain]] saved\n",
      "Page [[commons:Category:Images of site of community importance with code ES3110005 from Wiki Loves Earth 2015 in Spain]] saved\n",
      "Sleeping for 7.0 seconds, 2018-02-25 23:10:57\n",
      "Page [[commons:Category:Images of site of community importance with code ES0000049 from Wiki Loves Earth 2015 in Spain]] saved\n",
      "Sleeping for 8.6 seconds, 2018-02-25 23:11:06\n",
      "Page [[commons:Category:Images of site of community importance with code ES2130004 from Wiki Loves Earth 2015 in Spain]] saved\n",
      "Sleeping for 8.1 seconds, 2018-02-25 23:11:16\n",
      "Page [[commons:Category:Images of site of community importance with code ES2130003 from Wiki Loves Earth 2015 in Spain]] saved\n",
      "Sleeping for 8.0 seconds, 2018-02-25 23:11:27\n",
      "Page [[commons:Category:Images of site of community importance with code ES1200008 from Wiki Loves Earth 2015 in Spain]] saved\n",
      "Sleeping for 4.8 seconds, 2018-02-25 23:11:40\n",
      "Page [[commons:Category:Images of site of community importance with code ES0000054 from Wiki Loves Earth 2015 in Spain]] saved\n",
      "Reviewing --> 200 image pages downloaded\n",
      "Page [[commons:Category:Images of site of community importance with code ES4130003 from Wiki Loves Earth 2015 in Spain]] saved\n",
      "Page [[commons:Category:Images of site of community importance with code ES0000016 from Wiki Loves Earth 2015 in Spain]] saved\n",
      "Sleeping for 4.8 seconds, 2018-02-25 23:12:15\n",
      "Page [[commons:Category:Images of site of community importance with code ES2410010 from Wiki Loves Earth 2015 in Spain]] saved\n",
      "Sleeping for 7.8 seconds, 2018-02-25 23:12:22\n",
      "Page [[commons:Category:Images of site of community importance with code ES2410023 from Wiki Loves Earth 2015 in Spain]] saved\n",
      "Sleeping for 3.1 seconds, 2018-02-25 23:12:37\n",
      "Page [[commons:Category:Images of site of community importance with code ES0000013 from Wiki Loves Earth 2015 in Spain]] saved\n",
      "Sleeping for 6.4 seconds, 2018-02-25 23:12:43\n",
      "Page [[commons:Category:Images of site of community importance with code ES1110003 from Wiki Loves Earth 2015 in Spain]] saved\n",
      "Reviewing --> 250 image pages downloaded\n",
      "Sleeping for 3.7 seconds, 2018-02-25 23:12:56\n",
      "Page [[commons:Category:Images of site of community importance with code ES0000149 from Wiki Loves Earth 2015 in Spain]] saved\n",
      "Page [[commons:Category:Images of site of community importance with code ES2130005 from Wiki Loves Earth 2015 in Spain]] saved\n",
      "Sleeping for 6.7 seconds, 2018-02-25 23:13:14\n",
      "Page [[commons:Category:Images of site of community importance with code ES7020044 from Wiki Loves Earth 2015 in Spain]] saved\n",
      "Sleeping for 8.1 seconds, 2018-02-25 23:13:22\n",
      "Page [[commons:Category:Images of site of community importance with code ES0000001 from Wiki Loves Earth 2015 in Spain]] saved\n",
      "Sleeping for 8.1 seconds, 2018-02-25 23:13:32\n",
      "Page [[commons:Category:Images of site of community importance with code ES0000047 from Wiki Loves Earth 2015 in Spain]] saved\n",
      "Sleeping for 8.7 seconds, 2018-02-25 23:13:42\n",
      "Page [[commons:Category:Images of site of community importance with code ES6200035 from Wiki Loves Earth 2015 in Spain]] saved\n",
      "Sleeping for 8.8 seconds, 2018-02-25 23:13:52\n",
      "Page [[commons:Category:Images of site of community importance with code ES4140082 from Wiki Loves Earth 2015 in Spain]] saved\n"
     ]
    },
    {
     "name": "stdout",
     "output_type": "stream",
     "text": [
      "-->Image (Abandonado en Madrid.jpg) from an invalid location\n"
     ]
    },
    {
     "name": "stderr",
     "output_type": "stream",
     "text": [
      "Sleeping for 8.3 seconds, 2018-02-25 23:14:02\n",
      "Page [[commons:Category:Images of site of community importance with code ES0000024 from Wiki Loves Earth 2015 in Spain]] saved\n",
      "Sleeping for 8.7 seconds, 2018-02-25 23:14:12\n",
      "Page [[commons:Category:Images of site of community importance with code ES4160109 from Wiki Loves Earth 2015 in Spain]] saved\n",
      "Sleeping for 8.7 seconds, 2018-02-25 23:14:22\n",
      "Page [[commons:Category:Images of site of community importance with code ES7010023 from Wiki Loves Earth 2015 in Spain]] saved\n",
      "Sleeping for 8.6 seconds, 2018-02-25 23:14:32\n",
      "Page [[commons:Category:Images of site of community importance with code ES7020096 from Wiki Loves Earth 2015 in Spain]] saved\n",
      "Sleeping for 8.7 seconds, 2018-02-25 23:14:42\n",
      "Page [[commons:Category:Images of site of community importance with code ES5213021 from Wiki Loves Earth 2015 in Spain]] saved\n",
      "Sleeping for 7.4 seconds, 2018-02-25 23:14:53\n",
      "Page [[commons:Category:Images of site of community importance with code ES6170002 from Wiki Loves Earth 2015 in Spain]] saved\n",
      "Reviewing --> 300 image pages downloaded\n",
      "Page [[commons:Category:Images of site of community importance with code ES1120005 from Wiki Loves Earth 2015 in Spain]] saved\n",
      "Sleeping for 8.7 seconds, 2018-02-25 23:15:12\n",
      "Page [[commons:Category:Images of site of community importance with code ES6150002 from Wiki Loves Earth 2015 in Spain]] saved\n",
      "Sleeping for 8.1 seconds, 2018-02-25 23:15:22\n",
      "Page [[commons:Category:Images of site of community importance with code ES3110001 from Wiki Loves Earth 2015 in Spain]] saved\n",
      "Sleeping for 9.4 seconds, 2018-02-25 23:15:31\n",
      "Page [[commons:File:Acebo en el Hayedo de Montejo.jpg]] saved\n",
      "Sleeping for 8.9 seconds, 2018-02-25 23:15:42\n",
      "Page [[commons:Category:Images of site of community importance with code ES4170083 from Wiki Loves Earth 2015 in Spain]] saved\n",
      "Sleeping for 8.1 seconds, 2018-02-25 23:15:52\n",
      "Page [[commons:Category:Images of site of community importance with code ES6160007 from Wiki Loves Earth 2015 in Spain]] saved\n",
      "Sleeping for 6.7 seconds, 2018-02-25 23:16:04\n",
      "Page [[commons:Category:Images of site of community importance with code ES6170003 from Wiki Loves Earth 2015 in Spain]] saved\n",
      "Sleeping for 8.7 seconds, 2018-02-25 23:16:12\n",
      "Page [[commons:Category:Images of site of community importance with code ES0000090 from Wiki Loves Earth 2015 in Spain]] saved\n",
      "Sleeping for 8.1 seconds, 2018-02-25 23:16:22\n",
      "Page [[commons:Category:Images of site of community importance with code ES6200010 from Wiki Loves Earth 2015 in Spain]] saved\n",
      "Sleeping for 7.4 seconds, 2018-02-25 23:16:33\n",
      "Page [[commons:Category:Images of site of community importance with code ES0000337 from Wiki Loves Earth 2015 in Spain]] saved\n",
      "Sleeping for 8.5 seconds, 2018-02-25 23:16:42\n",
      "Page [[commons:Category:Images of site of community importance with code ES0000146 from Wiki Loves Earth 2015 in Spain]] saved\n",
      "Sleeping for 8.2 seconds, 2018-02-25 23:16:52\n",
      "Page [[commons:Category:Images of site of community importance with code ES0000020 from Wiki Loves Earth 2015 in Spain]] saved\n",
      "Sleeping for 8.7 seconds, 2018-02-25 23:17:02\n",
      "Page [[commons:Category:Images of site of community importance with code ES2410006 from Wiki Loves Earth 2015 in Spain]] saved\n",
      "Sleeping for 8.5 seconds, 2018-02-25 23:17:12\n",
      "Page [[commons:Category:Images of site of community importance with code ES2410154 from Wiki Loves Earth 2015 in Spain]] saved\n",
      "Sleeping for 8.8 seconds, 2018-02-25 23:17:22\n",
      "Page [[commons:Category:Images of site of community importance with code ES4320038 from Wiki Loves Earth 2015 in Spain]] saved\n",
      "Sleeping for 8.6 seconds, 2018-02-25 23:17:32\n",
      "Page [[commons:Category:Images of site of community importance with code ES6170029 from Wiki Loves Earth 2015 in Spain]] saved\n",
      "Sleeping for 8.8 seconds, 2018-02-25 23:17:42\n",
      "Page [[commons:Category:Images of site of community importance with code ES2410003 from Wiki Loves Earth 2015 in Spain]] saved\n",
      "Sleeping for 8.1 seconds, 2018-02-25 23:17:53\n",
      "Page [[commons:Category:Images of site of community importance with code ES5310005 from Wiki Loves Earth 2015 in Spain]] saved\n",
      "Sleeping for 4.8 seconds, 2018-02-25 23:18:06\n",
      "Page [[commons:Category:Images of site of community importance with code ES5110025 from Wiki Loves Earth 2015 in Spain]] saved\n",
      "Sleeping for 8.6 seconds, 2018-02-25 23:18:12\n",
      "Page [[commons:Category:Images of site of community importance with code ES0000022 from Wiki Loves Earth 2015 in Spain]] saved\n",
      "Sleeping for 6.0 seconds, 2018-02-25 23:18:25\n",
      "Page [[commons:Category:Images of site of community importance with code ES2410054 from Wiki Loves Earth 2015 in Spain]] saved\n"
     ]
    },
    {
     "name": "stdout",
     "output_type": "stream",
     "text": [
      "-->Image (AIR MADRID.jpg) from an invalid location\n"
     ]
    },
    {
     "name": "stderr",
     "output_type": "stream",
     "text": [
      "Sleeping for 8.4 seconds, 2018-02-25 23:18:32\n",
      "Page [[commons:Category:Images of site of community importance with code ES5140006 from Wiki Loves Earth 2015 in Spain]] saved\n",
      "Sleeping for 8.1 seconds, 2018-02-25 23:18:43\n",
      "Page [[commons:Category:Images of site of community importance with code ES4310010 from Wiki Loves Earth 2015 in Spain]] saved\n",
      "Sleeping for 8.6 seconds, 2018-02-25 23:18:52\n",
      "Page [[commons:Category:Images of site of community importance with code ES0000046 from Wiki Loves Earth 2015 in Spain]] saved\n",
      "Sleeping for 8.6 seconds, 2018-02-25 23:19:02\n",
      "Page [[commons:Category:Images of site of community importance with code ES2430096 from Wiki Loves Earth 2015 in Spain]] saved\n"
     ]
    },
    {
     "name": "stdout",
     "output_type": "stream",
     "text": [
      "-->Image (Albaycin1.jpg) from an invalid location\n",
      "-->Image (Albaycin2.jpg) from an invalid location\n"
     ]
    },
    {
     "name": "stderr",
     "output_type": "stream",
     "text": [
      "Sleeping for 8.0 seconds, 2018-02-25 23:19:13\n",
      "Page [[commons:Category:Images of site of community importance with code ES0000023 from Wiki Loves Earth 2015 in Spain]] saved\n",
      "Reviewing --> 350 image pages downloaded\n",
      "Sleeping for 7.9 seconds, 2018-02-25 23:19:23\n",
      "Page [[commons:Category:Images of site of community importance with code ES6140009 from Wiki Loves Earth 2015 in Spain]] saved\n",
      "Sleeping for 8.8 seconds, 2018-02-25 23:19:32\n",
      "Page [[commons:Category:Images of site of community importance with code ES6310001 from Wiki Loves Earth 2015 in Spain]] saved\n",
      "Sleeping for 8.7 seconds, 2018-02-25 23:19:42\n",
      "Page [[commons:Category:Images of site of community importance with code ES1140001 from Wiki Loves Earth 2015 in Spain]] saved\n"
     ]
    },
    {
     "name": "stdout",
     "output_type": "stream",
     "text": [
      "-->Image (Algas en la Playa El Rafal.JPG) from an invalid location\n"
     ]
    },
    {
     "name": "stderr",
     "output_type": "stream",
     "text": [
      "Sleeping for 6.4 seconds, 2018-02-25 23:19:54\n",
      "Page [[commons:Category:Images of site of community importance with code ES3110004 from Wiki Loves Earth 2015 in Spain]] saved\n"
     ]
    },
    {
     "name": "stdout",
     "output_type": "stream",
     "text": [
      "-->Image (ALGUIEN NOS MIRA.jpg) from an invalid location\n"
     ]
    },
    {
     "name": "stderr",
     "output_type": "stream",
     "text": [
      "Sleeping for 8.4 seconds, 2018-02-25 23:20:02\n",
      "Page [[commons:Category:Images of site of community importance with code ES1140002 from Wiki Loves Earth 2015 in Spain]] saved\n"
     ]
    },
    {
     "name": "stdout",
     "output_type": "stream",
     "text": [
      "-->Image (Almenas del Castillo de San Marcos. 01.jpg) from an invalid location\n",
      "-->Image (Almenas del Castillo de San Marcos. 02.jpg) from an invalid location\n",
      "-->Image (Almenas del Castillo de San Marcos. 03.jpg) from an invalid location\n"
     ]
    },
    {
     "name": "stderr",
     "output_type": "stream",
     "text": [
      "Sleeping for 7.7 seconds, 2018-02-25 23:20:13\n",
      "Page [[commons:Category:Images of site of community importance with code ES6170007 from Wiki Loves Earth 2015 in Spain]] saved\n",
      "Sleeping for 8.8 seconds, 2018-02-25 23:20:22\n",
      "Page [[commons:Category:Images of site of community importance with code ES6170028 from Wiki Loves Earth 2015 in Spain]] saved\n"
     ]
    },
    {
     "name": "stdout",
     "output_type": "stream",
     "text": [
      "-->Image (Almond trees in blossom - WLE Spain 2015 (1).jpg) from an invalid location\n",
      "-->Image (Almond trees in blossom - WLE Spain 2015 (2).jpg) from an invalid location\n",
      "-->Image (Almond trees in blossom - WLE Spain 2015.jpg) from an invalid location\n"
     ]
    },
    {
     "name": "stderr",
     "output_type": "stream",
     "text": [
      "Sleeping for 7.6 seconds, 2018-02-25 23:20:33\n",
      "Page [[commons:Category:Images of site of community importance with code ES0000044 from Wiki Loves Earth 2015 in Spain]] saved\n",
      "Sleeping for 6.8 seconds, 2018-02-25 23:20:44\n",
      "Page [[commons:Category:Images of site of community importance with code ES5222004 from Wiki Loves Earth 2015 in Spain]] saved\n",
      "Sleeping for 8.1 seconds, 2018-02-25 23:20:53\n",
      "Page [[commons:Category:Images of site of community importance with code ES4190105 from Wiki Loves Earth 2015 in Spain]] saved\n",
      "Sleeping for 6.4 seconds, 2018-02-25 23:21:04\n",
      "Page [[commons:Category:Images of site of community importance with code ES0000059 from Wiki Loves Earth 2015 in Spain]] saved\n",
      "Sleeping for 8.8 seconds, 2018-02-25 23:21:12\n",
      "Page [[commons:Category:Images of site of community importance with code ES6110011 from Wiki Loves Earth 2015 in Spain]] saved\n",
      "Sleeping for 8.2 seconds, 2018-02-25 23:21:23\n",
      "Page [[commons:Category:Images of site of community importance with code ES4240016 from Wiki Loves Earth 2015 in Spain]] saved\n",
      "Sleeping for 6.1 seconds, 2018-02-25 23:21:35\n",
      "Page [[commons:Category:Images of site of community importance with code ES4140026 from Wiki Loves Earth 2015 in Spain]] saved\n",
      "Sleeping for 8.7 seconds, 2018-02-25 23:21:42\n",
      "Page [[commons:Category:Images of site of community importance with code ES1110004 from Wiki Loves Earth 2015 in Spain]] saved\n",
      "Sleeping for 8.6 seconds, 2018-02-25 23:21:52\n",
      "Page [[commons:Category:Images of site of community importance with code ES2410013 from Wiki Loves Earth 2015 in Spain]] saved\n",
      "Sleeping for 7.9 seconds, 2018-02-25 23:22:03\n",
      "Page [[commons:Category:Images of site of community importance with code ES3110006 from Wiki Loves Earth 2015 in Spain]] saved\n",
      "Sleeping for 8.7 seconds, 2018-02-25 23:22:12\n",
      "Page [[commons:Category:Images of site of community importance with code ES6200030 from Wiki Loves Earth 2015 in Spain]] saved\n",
      "Sleeping for 7.1 seconds, 2018-02-25 23:22:24\n",
      "Page [[commons:Category:Images of site of community importance with code ES2430043 from Wiki Loves Earth 2015 in Spain]] saved\n",
      "Sleeping for 7.9 seconds, 2018-02-25 23:22:33\n",
      "Page [[commons:Category:Images of site of community importance with code ES6200008 from Wiki Loves Earth 2015 in Spain]] saved\n",
      "Sleeping for 8.7 seconds, 2018-02-25 23:22:42\n",
      "Page [[commons:Category:Images of site of community importance with code ES7010045 from Wiki Loves Earth 2015 in Spain]] saved\n",
      "Sleeping for 8.7 seconds, 2018-02-25 23:22:52\n",
      "Page [[commons:Category:Images of site of community importance with code ES3110003 from Wiki Loves Earth 2015 in Spain]] saved\n",
      "Reviewing --> 400 image pages downloaded\n"
     ]
    },
    {
     "name": "stdout",
     "output_type": "stream",
     "text": [
      "-->Image (AMAPOLAS-LANAJA.jpg) from an invalid location\n"
     ]
    },
    {
     "name": "stderr",
     "output_type": "stream",
     "text": [
      "Sleeping for 7.0 seconds, 2018-02-25 23:23:04\n",
      "Page [[commons:Category:Images of site of community importance with code ES1110001 from Wiki Loves Earth 2015 in Spain]] saved\n",
      "Sleeping for 8.8 seconds, 2018-02-25 23:23:12\n",
      "Page [[commons:Category:Images of site of community importance with code ES1120001 from Wiki Loves Earth 2015 in Spain]] saved\n",
      "Page [[commons:Category:Images of site of community importance with code ES6160006 from Wiki Loves Earth 2015 in Spain]] saved\n"
     ]
    },
    {
     "name": "stdout",
     "output_type": "stream",
     "text": [
      "-->Image (Anemone hepatica1Urdax2015.jpg) from an invalid location\n",
      "-->Image (Anemone hepaticaZugarramurdi2015.jpg) from an invalid location\n"
     ]
    },
    {
     "name": "stderr",
     "output_type": "stream",
     "text": [
      "Sleeping for 5.2 seconds, 2018-02-25 23:23:36\n",
      "Page [[commons:Category:Images of site of community importance with code ES1110005 from Wiki Loves Earth 2015 in Spain]] saved\n",
      "Sleeping for 8.1 seconds, 2018-02-25 23:23:43\n",
      "Page [[commons:Category:Images of site of community importance with code ES6200002 from Wiki Loves Earth 2015 in Spain]] saved\n",
      "Sleeping for 8.7 seconds, 2018-02-25 23:23:52\n",
      "Page [[commons:Category:Images of site of community importance with code ES5110008 from Wiki Loves Earth 2015 in Spain]] saved\n",
      "Sleeping for 8.6 seconds, 2018-02-25 23:24:02\n",
      "Page [[commons:Category:Images of site of community importance with code ES7010062 from Wiki Loves Earth 2015 in Spain]] saved\n",
      "Sleeping for 5.4 seconds, 2018-02-25 23:24:15\n",
      "Page [[commons:Category:Images of site of community importance with code ES5110010 from Wiki Loves Earth 2015 in Spain]] saved\n",
      "Sleeping for 8.1 seconds, 2018-02-25 23:24:23\n",
      "Page [[commons:Category:Images of site of community importance with code ES0000319 from Wiki Loves Earth 2015 in Spain]] saved\n",
      "Sleeping for 8.7 seconds, 2018-02-25 23:24:32\n",
      "Page [[commons:Category:Images of site of community importance with code ES6170004 from Wiki Loves Earth 2015 in Spain]] saved\n",
      "Sleeping for 8.7 seconds, 2018-02-25 23:24:42\n",
      "Page [[commons:Category:Images of site of community importance with code ES0000051 from Wiki Loves Earth 2015 in Spain]] saved\n",
      "Sleeping for 4.0 seconds, 2018-02-25 23:24:57\n",
      "Page [[commons:Category:Images of site of community importance with code ES2120011 from Wiki Loves Earth 2015 in Spain]] saved\n",
      "Reviewing --> 450 image pages downloaded\n",
      "Page [[commons:Category:Images of site of community importance with code ES5110013 from Wiki Loves Earth 2015 in Spain]] saved\n",
      "Sleeping for 8.2 seconds, 2018-02-25 23:25:13\n",
      "Page [[commons:Category:Images of site of community importance with code ES0000175 from Wiki Loves Earth 2015 in Spain]] saved\n",
      "Sleeping for 8.8 seconds, 2018-02-25 23:25:22\n",
      "Page [[commons:Category:Images of site of community importance with code ES5223036 from Wiki Loves Earth 2015 in Spain]] saved\n",
      "Sleeping for 8.7 seconds, 2018-02-25 23:25:32\n",
      "Page [[commons:Category:Images of site of community importance with code ES7010049 from Wiki Loves Earth 2015 in Spain]] saved\n",
      "Sleeping for 6.8 seconds, 2018-02-25 23:25:44\n",
      "Page [[commons:Category:Images of site of community importance with code ES1110009 from Wiki Loves Earth 2015 in Spain]] saved\n",
      "Sleeping for 6.8 seconds, 2018-02-25 23:25:54\n",
      "Page [[commons:Category:Images of site of community importance with code ES4150096 from Wiki Loves Earth 2015 in Spain]] saved\n",
      "Sleeping for 7.8 seconds, 2018-02-25 23:26:03\n",
      "Page [[commons:Category:Images of site of community importance with code ES0000050 from Wiki Loves Earth 2015 in Spain]] saved\n",
      "Sleeping for 7.9 seconds, 2018-02-25 23:26:13\n",
      "Page [[commons:Category:Images of site of community importance with code ES0000035 from Wiki Loves Earth 2015 in Spain]] saved\n",
      "Sleeping for 8.7 seconds, 2018-02-25 23:26:22\n",
      "Page [[commons:Category:Images of site of community importance with code ES3110002 from Wiki Loves Earth 2015 in Spain]] saved\n",
      "Sleeping for 6.6 seconds, 2018-02-25 23:26:34\n",
      "Page [[commons:Category:Images of site of community importance with code ES1300001 from Wiki Loves Earth 2015 in Spain]] saved\n",
      "Sleeping for 8.7 seconds, 2018-02-25 23:26:42\n",
      "Page [[commons:Category:Images of site of community importance with code ES2200010 from Wiki Loves Earth 2015 in Spain]] saved\n"
     ]
    },
    {
     "name": "stdout",
     "output_type": "stream",
     "text": [
      "-->Image (Arum italicumZugarramurdi2015.jpg) from an invalid location\n"
     ]
    },
    {
     "name": "stderr",
     "output_type": "stream",
     "text": [
      "Sleeping for 4.7 seconds, 2018-02-25 23:26:56\n",
      "Page [[commons:Category:Images of site of community importance with code ES1130007 from Wiki Loves Earth 2015 in Spain]] saved\n",
      "Sleeping for 6.7 seconds, 2018-02-25 23:27:04\n",
      "Page [[commons:Category:Images of site of community importance with code ES1200043 from Wiki Loves Earth 2015 in Spain]] saved\n",
      "Sleeping for 7.5 seconds, 2018-02-25 23:27:14\n",
      "Page [[commons:File:Atardecer de invierno en el Hayedo de Montejo.jpg]] saved\n",
      "Sleeping for 7.6 seconds, 2018-02-25 23:27:23\n",
      "Page [[commons:Category:Images of site of community importance with code ES1300003 from Wiki Loves Earth 2015 in Spain]] saved\n",
      "Sleeping for 8.7 seconds, 2018-02-25 23:27:32\n",
      "Page [[commons:Category:Images of site of community importance with code ES1110002 from Wiki Loves Earth 2015 in Spain]] saved\n"
     ]
    },
    {
     "name": "stdout",
     "output_type": "stream",
     "text": [
      "-->Image (Atardecer en Galicia.JPG) from an invalid location\n",
      "-->Image (Atardecer en La Dehesa de Abajo 1.jpg) from an invalid location\n"
     ]
    },
    {
     "name": "stderr",
     "output_type": "stream",
     "text": [
      "Reviewing --> 500 image pages downloaded\n"
     ]
    },
    {
     "name": "stdout",
     "output_type": "stream",
     "text": [
      "-->Image (Atardecer en La Dehesa de Abajo 2.jpg) from an invalid location\n"
     ]
    },
    {
     "name": "stderr",
     "output_type": "stream",
     "text": [
      "Sleeping for 5.4 seconds, 2018-02-25 23:27:46\n",
      "Page [[commons:Category:Images of site of community importance with code ES0000164 from Wiki Loves Earth 2015 in Spain]] saved\n",
      "Sleeping for 7.8 seconds, 2018-02-25 23:27:53\n",
      "Page [[commons:Category:Images of site of community importance with code ES2410005 from Wiki Loves Earth 2015 in Spain]] saved\n",
      "Sleeping for 8.8 seconds, 2018-02-25 23:28:02\n",
      "Page [[commons:Category:Images of site of community importance with code ES6170006 from Wiki Loves Earth 2015 in Spain]] saved\n"
     ]
    },
    {
     "name": "stdout",
     "output_type": "stream",
     "text": [
      "-->Image (Atardecer tormentoso.jpg) from an invalid location\n"
     ]
    },
    {
     "name": "stderr",
     "output_type": "stream",
     "text": [
      "Sleeping for 7.0 seconds, 2018-02-25 23:28:14\n",
      "Page [[commons:Category:Images of site of community importance with code ES6120006 from Wiki Loves Earth 2015 in Spain]] saved\n",
      "Sleeping for 3.3 seconds, 2018-02-25 23:28:28\n",
      "Page [[commons:Category:Images of site of community importance with code ES7010019 from Wiki Loves Earth 2015 in Spain]] saved\n",
      "Sleeping for 8.8 seconds, 2018-02-25 23:28:32\n",
      "Page [[commons:Category:Images of site of community importance with code ES2120018 from Wiki Loves Earth 2015 in Spain]] saved\n",
      "Sleeping for 7.3 seconds, 2018-02-25 23:28:44\n",
      "Page [[commons:Category:Images of site of community importance with code ES5140004 from Wiki Loves Earth 2015 in Spain]] saved\n",
      "Sleeping for 8.1 seconds, 2018-02-25 23:28:53\n",
      "Page [[commons:Category:Images of site of community importance with code ES7010039 from Wiki Loves Earth 2015 in Spain]] saved\n",
      "Sleeping for 8.8 seconds, 2018-02-25 23:29:02\n",
      "Page [[commons:Category:Images of site of community importance with code ES7010004 from Wiki Loves Earth 2015 in Spain]] saved\n",
      "Sleeping for 8.7 seconds, 2018-02-25 23:29:12\n",
      "Page [[commons:Category:Images of site of community importance with code ES7010041 from Wiki Loves Earth 2015 in Spain]] saved\n",
      "Sleeping for 8.7 seconds, 2018-02-25 23:29:22\n",
      "Page [[commons:Category:Images of site of community importance with code ES4130035 from Wiki Loves Earth 2015 in Spain]] saved\n"
     ]
    },
    {
     "name": "stdout",
     "output_type": "stream",
     "text": [
      "-->Image (Badia de Cadaques.JPG) from an invalid location\n",
      "-->Image (Bahía de Cádiz con el puente La Pepa de fondo.jpg) from an invalid location\n"
     ]
    },
    {
     "name": "stderr",
     "output_type": "stream",
     "text": [
      "Sleeping for 7.4 seconds, 2018-02-25 23:29:34\n",
      "Page [[commons:Category:Images of site of community importance with code ES0000140 from Wiki Loves Earth 2015 in Spain]] saved\n",
      "Sleeping for 6.9 seconds, 2018-02-25 23:29:44\n",
      "Page [[commons:Category:Images of site of community importance with code ES1140009 from Wiki Loves Earth 2015 in Spain]] saved\n",
      "Sleeping for 8.8 seconds, 2018-02-25 23:29:52\n",
      "Page [[commons:Category:Images of site of community importance with code ES0000213 from Wiki Loves Earth 2015 in Spain]] saved\n",
      "Sleeping for 5.9 seconds, 2018-02-25 23:30:05\n",
      "Page [[commons:Category:Images of site of community importance with code ES7020046 from Wiki Loves Earth 2015 in Spain]] saved\n",
      "Sleeping for 8.7 seconds, 2018-02-25 23:30:12\n",
      "Page [[commons:Category:Images of site of community importance with code ES6150019 from Wiki Loves Earth 2015 in Spain]] saved\n"
     ]
    },
    {
     "name": "stdout",
     "output_type": "stream",
     "text": [
      "-->Image (BALSA-COLLADA.jpg) from an invalid location\n"
     ]
    },
    {
     "name": "stderr",
     "output_type": "stream",
     "text": [
      "Reviewing --> 550 image pages downloaded\n"
     ]
    },
    {
     "name": "stdout",
     "output_type": "stream",
     "text": [
      "-->Image (BALSA-DE-PINA-02.jpg) from an invalid location\n",
      "-->Image (BALSA-DE-PINA-03.jpg) from an invalid location\n",
      "-->Image (BALSA-DE-PINA.jpg) from an invalid location\n"
     ]
    },
    {
     "name": "stderr",
     "output_type": "stream",
     "text": [
      "Page [[commons:Category:Images of site of community importance with code ES2120010 from Wiki Loves Earth 2015 in Spain]] saved\n",
      "Sleeping for 8.7 seconds, 2018-02-25 23:30:32\n",
      "Page [[commons:Category:Images of site of community importance with code ES2200037 from Wiki Loves Earth 2015 in Spain]] saved\n",
      "Sleeping for 4.7 seconds, 2018-02-25 23:30:46\n",
      "Page [[commons:Category:Images of site of community importance with code ES5110017 from Wiki Loves Earth 2015 in Spain]] saved\n",
      "Sleeping for 8.6 seconds, 2018-02-25 23:30:53\n",
      "Page [[commons:Category:Images of site of community importance with code ES5140011 from Wiki Loves Earth 2015 in Spain]] saved\n",
      "Sleeping for 8.7 seconds, 2018-02-25 23:31:02\n",
      "Page [[commons:Category:Images of site of community importance with code ES5213042 from Wiki Loves Earth 2015 in Spain]] saved\n",
      "Sleeping for 8.0 seconds, 2018-02-25 23:31:13\n",
      "Page [[commons:Category:Images of site of community importance with code ES4250003 from Wiki Loves Earth 2015 in Spain]] saved\n",
      "Page [[commons:Category:Images of site of community importance with code ES7010025 from Wiki Loves Earth 2015 in Spain]] saved\n",
      "Sleeping for 6.8 seconds, 2018-02-25 23:31:34\n",
      "Page [[commons:Category:Images of site of community importance with code ES7020021 from Wiki Loves Earth 2015 in Spain]] saved\n"
     ]
    },
    {
     "name": "stdout",
     "output_type": "stream",
     "text": [
      "-->Image (Barranco de Molinos.jpg) from an invalid location\n"
     ]
    },
    {
     "name": "stderr",
     "output_type": "stream",
     "text": [
      "Sleeping for 4.5 seconds, 2018-02-25 23:31:47\n",
      "Page [[commons:Category:Images of site of community importance with code ES7020111 from Wiki Loves Earth 2015 in Spain]] saved\n",
      "Sleeping for 8.1 seconds, 2018-02-25 23:31:53\n",
      "Page [[commons:Category:Images of site of community importance with code ES2430082 from Wiki Loves Earth 2015 in Spain]] saved\n",
      "Sleeping for 8.8 seconds, 2018-02-25 23:32:02\n",
      "Page [[commons:Category:Images of site of community importance with code ES2410044 from Wiki Loves Earth 2015 in Spain]] saved\n",
      "Sleeping for 8.1 seconds, 2018-02-25 23:32:13\n",
      "Page [[commons:Category:Images of site of community importance with code ES0000166 from Wiki Loves Earth 2015 in Spain]] saved\n",
      "Sleeping for 8.1 seconds, 2018-02-25 23:32:23\n",
      "Page [[commons:Category:Images of site of community importance with code ES7010002 from Wiki Loves Earth 2015 in Spain]] saved\n",
      "Sleeping for 8.7 seconds, 2018-02-25 23:32:33\n",
      "Page [[commons:Category:Images of site of community importance with code ES2410076 from Wiki Loves Earth 2015 in Spain]] saved\n",
      "Sleeping for 8.7 seconds, 2018-02-25 23:32:43\n",
      "Page [[commons:Category:Images of site of community importance with code ES2410053 from Wiki Loves Earth 2015 in Spain]] saved\n",
      "Reviewing --> 600 image pages downloaded\n",
      "Sleeping for 7.3 seconds, 2018-02-25 23:32:54\n",
      "Page [[commons:Category:Images of site of community importance with code ES0000060 from Wiki Loves Earth 2015 in Spain]] saved\n",
      "Sleeping for 8.0 seconds, 2018-02-25 23:33:03\n",
      "Page [[commons:Category:Images of site of community importance with code ES4110034 from Wiki Loves Earth 2015 in Spain]] saved\n",
      "Sleeping for 7.4 seconds, 2018-02-25 23:33:14\n",
      "Page [[commons:Category:Images of site of community importance with code ES2200023 from Wiki Loves Earth 2015 in Spain]] saved\n",
      "Sleeping for 6.8 seconds, 2018-02-25 23:33:24\n",
      "Page [[commons:Category:Images of site of community importance with code ES5310095 from Wiki Loves Earth 2015 in Spain]] saved\n",
      "Page [[commons:Category:Images of site of community importance with code ES5233001 from Wiki Loves Earth 2015 in Spain]] saved\n",
      "Sleeping for 8.1 seconds, 2018-02-25 23:33:45\n",
      "Page [[commons:Category:Images of site of community importance with code ES5223029 from Wiki Loves Earth 2015 in Spain]] saved\n",
      "Page [[commons:Category:Images of site of community importance with code ES0000116 from Wiki Loves Earth 2015 in Spain]] saved\n",
      "Sleeping for 8.0 seconds, 2018-02-25 23:34:06\n",
      "Page [[commons:Category:Images of site of community importance with code ES4120030 from Wiki Loves Earth 2015 in Spain]] saved\n"
     ]
    },
    {
     "name": "stdout",
     "output_type": "stream",
     "text": [
      "-->Image (Biadós.JPG) from an invalid location\n"
     ]
    },
    {
     "name": "stderr",
     "output_type": "stream",
     "text": [
      "Reviewing --> 650 image pages downloaded\n",
      "Sleeping for 7.2 seconds, 2018-02-25 23:34:17\n",
      "Page [[commons:Category:Images of site of community importance with code ES0000239 from Wiki Loves Earth 2015 in Spain]] saved\n",
      "Sleeping for 6.1 seconds, 2018-02-25 23:34:28\n",
      "Page [[commons:Category:Images of site of community importance with code ES4130010 from Wiki Loves Earth 2015 in Spain]] saved\n",
      "Sleeping for 8.1 seconds, 2018-02-25 23:34:36\n",
      "Page [[commons:Category:Images of site of community importance with code ES6120008 from Wiki Loves Earth 2015 in Spain]] saved\n",
      "Sleeping for 8.1 seconds, 2018-02-25 23:34:46\n",
      "Page [[commons:Category:Images of site of community importance with code ES2110011 from Wiki Loves Earth 2015 in Spain]] saved\n",
      "Sleeping for 8.7 seconds, 2018-02-25 23:34:55\n",
      "Page [[commons:Category:Images of site of community importance with code ES0000003 from Wiki Loves Earth 2015 in Spain]] saved\n",
      "Sleeping for 8.7 seconds, 2018-02-25 23:35:05\n",
      "Page [[commons:Category:Images of site of community importance with code ES2430028 from Wiki Loves Earth 2015 in Spain]] saved\n"
     ]
    },
    {
     "name": "stdout",
     "output_type": "stream",
     "text": [
      "-->Image (Bosquecillo cerca de Cabo Cope.JPG) from an invalid location\n"
     ]
    },
    {
     "name": "stderr",
     "output_type": "stream",
     "text": [
      "Page [[commons:Category:Images of site of community importance with code ES2120016 from Wiki Loves Earth 2015 in Spain]] saved\n",
      "Sleeping for 6.8 seconds, 2018-02-25 23:35:27\n",
      "Page [[commons:Category:Images of site of community importance with code ES2200025 from Wiki Loves Earth 2015 in Spain]] saved\n",
      "Sleeping for 6.8 seconds, 2018-02-25 23:35:37\n",
      "Page [[commons:Category:Images of site of community importance with code ES0000115 from Wiki Loves Earth 2015 in Spain]] saved\n",
      "Sleeping for 7.3 seconds, 2018-02-25 23:35:47\n",
      "Page [[commons:Category:Images of site of community importance with code ES4170135 from Wiki Loves Earth 2015 in Spain]] saved\n",
      "Sleeping for 7.4 seconds, 2018-02-25 23:35:57\n",
      "Page [[commons:Category:Images of site of community importance with code ES2200012 from Wiki Loves Earth 2015 in Spain]] saved\n"
     ]
    },
    {
     "name": "stdout",
     "output_type": "stream",
     "text": [
      "-->Image (Caballo en pico Polio.jpg) from an invalid location\n"
     ]
    },
    {
     "name": "stderr",
     "output_type": "stream",
     "text": [
      "Sleeping for 7.6 seconds, 2018-02-25 23:36:06\n",
      "Page [[commons:Category:Images of site of community importance with code ES1200011 from Wiki Loves Earth 2015 in Spain]] saved\n",
      "Sleeping for 4.9 seconds, 2018-02-25 23:36:19\n",
      "Page [[commons:Category:Images of site of community importance with code ES1130001 from Wiki Loves Earth 2015 in Spain]] saved\n",
      "Reviewing --> 700 image pages downloaded\n",
      "Sleeping for 8.8 seconds, 2018-02-25 23:36:25\n",
      "Page [[commons:Category:Images of site of community importance with code ES4130117 from Wiki Loves Earth 2015 in Spain]] saved\n",
      "Sleeping for 8.8 seconds, 2018-02-25 23:36:35\n",
      "Page [[commons:Category:Images of site of community importance with code ES1110010 from Wiki Loves Earth 2015 in Spain]] saved\n",
      "Sleeping for 8.3 seconds, 2018-02-25 23:36:46\n",
      "Page [[commons:Category:Images of site of community importance with code ES6200031 from Wiki Loves Earth 2015 in Spain]] saved\n",
      "Sleeping for 8.8 seconds, 2018-02-25 23:36:55\n",
      "Page [[commons:Category:Images of site of community importance with code ES6200012 from Wiki Loves Earth 2015 in Spain]] saved\n",
      "Page [[commons:Category:Images of site of community importance with code ES5120007 from Wiki Loves Earth 2015 in Spain]] saved\n",
      "Sleeping for 6.2 seconds, 2018-02-25 23:37:18\n",
      "Page [[commons:Category:Images of site of community importance with code ES1200055 from Wiki Loves Earth 2015 in Spain]] saved\n",
      "Sleeping for 8.8 seconds, 2018-02-25 23:37:25\n",
      "Page [[commons:Category:Images of site of community importance with code ES5213033 from Wiki Loves Earth 2015 in Spain]] saved\n"
     ]
    },
    {
     "name": "stdout",
     "output_type": "stream",
     "text": [
      "-->Image (Cabo Roig coast 02.jpeg) from an invalid location\n",
      "-->Image (Cabo Roig coast 03.jpeg) from an invalid location\n",
      "-->Image (Cabo Roig coast 04.jpeg) from an invalid location\n",
      "-->Image (Cabo Roig coast 05.jpeg) from an invalid location\n",
      "-->Image (Cabo Roig coast 06.jpeg) from an invalid location\n",
      "-->Image (Cabo Roig coast 08.jpeg) from an invalid location\n",
      "-->Image (Cabo Roig coast 09.jpeg) from an invalid location\n"
     ]
    },
    {
     "name": "stderr",
     "output_type": "stream",
     "text": [
      "Sleeping for 5.8 seconds, 2018-02-25 23:37:38\n",
      "Page [[commons:Category:Images of site of community importance with code ES4110002 from Wiki Loves Earth 2015 in Spain]] saved\n",
      "Sleeping for 6.0 seconds, 2018-02-25 23:37:48\n",
      "Page [[commons:Category:Images of site of community importance with code ES4210001 from Wiki Loves Earth 2015 in Spain]] saved\n",
      "Page [[commons:Category:Images of site of community importance with code ES0000240 from Wiki Loves Earth 2015 in Spain]] saved\n",
      "Sleeping for 5.6 seconds, 2018-02-25 23:38:08\n",
      "Page [[commons:Category:Images of site of community importance with code ES5310031 from Wiki Loves Earth 2015 in Spain]] saved\n",
      "Reviewing --> 750 image pages downloaded\n",
      "Sleeping for 8.8 seconds, 2018-02-25 23:38:15\n",
      "Page [[commons:Category:Images of site of community importance with code ES5310032 from Wiki Loves Earth 2015 in Spain]] saved\n",
      "Sleeping for 8.1 seconds, 2018-02-25 23:38:26\n",
      "Page [[commons:Category:Images of site of community importance with code ES0000145 from Wiki Loves Earth 2015 in Spain]] saved\n",
      "Sleeping for 8.8 seconds, 2018-02-25 23:38:35\n",
      "Page [[commons:Category:Images of site of community importance with code ES0000231 from Wiki Loves Earth 2015 in Spain]] saved\n"
     ]
    },
    {
     "name": "stdout",
     "output_type": "stream",
     "text": [
      "-->Image (Calablanca - WLE Spain 2015.jpg) from an invalid location\n"
     ]
    },
    {
     "name": "stderr",
     "output_type": "stream",
     "text": [
      "Page [[commons:Category:Images of site of community importance with code ES6200001 from Wiki Loves Earth 2015 in Spain]] saved\n",
      "Sleeping for 8.1 seconds, 2018-02-25 23:38:56\n",
      "Page [[commons:Category:Images of site of community importance with code ES7010012 from Wiki Loves Earth 2015 in Spain]] saved\n",
      "Sleeping for 8.1 seconds, 2018-02-25 23:39:06\n",
      "Page [[commons:Category:Images of site of community importance with code ES0000043 from Wiki Loves Earth 2015 in Spain]] saved\n",
      "Page [[commons:Category:Images of site of community importance with code ES5232002 from Wiki Loves Earth 2015 in Spain]] saved\n",
      "Sleeping for 8.8 seconds, 2018-02-25 23:39:26\n",
      "Page [[commons:Category:Images of site of community importance with code ES0000237 from Wiki Loves Earth 2015 in Spain]] saved\n"
     ]
    },
    {
     "name": "stdout",
     "output_type": "stream",
     "text": [
      "-->Image (Calomarde 09042009103133.jpg - WLE Spain 2015.jpg) from an invalid location\n",
      "-->Image (Calomarde 09042009104249.jpg - WLE Spain 2015.jpg) from an invalid location\n",
      "-->Image (Calomarde 09042009120806.jpg - WLE Spain 2015.jpg) from an invalid location\n",
      "-->Image (Calomarde 15062003112232.jpg - WLE Spain 2015.jpg) from an invalid location\n",
      "-->Image (Calomarde 15062003113628.jpg - WLE Spain 2015.jpg) from an invalid location\n",
      "-->Image (Calomarde 15062003113748.jpg - WLE Spain 2015.jpg) from an invalid location\n"
     ]
    },
    {
     "name": "stderr",
     "output_type": "stream",
     "text": [
      "Reviewing --> 800 image pages downloaded\n",
      "Page [[commons:Category:Images of site of community importance with code ES6110003 from Wiki Loves Earth 2015 in Spain]] saved\n",
      "Sleeping for 8.8 seconds, 2018-02-25 23:39:50\n",
      "Page [[commons:Category:Images of site of community importance with code ES2410064 from Wiki Loves Earth 2015 in Spain]] saved\n"
     ]
    },
    {
     "name": "stdout",
     "output_type": "stream",
     "text": [
      "-->Image (CAMINO A LA PRIMAVERA.jpg) from an invalid location\n"
     ]
    },
    {
     "name": "stderr",
     "output_type": "stream",
     "text": [
      "Sleeping for 8.4 seconds, 2018-02-25 23:40:01\n",
      "Page [[commons:Category:Images of site of community importance with code ES2410040 from Wiki Loves Earth 2015 in Spain]] saved\n",
      "Page [[commons:Category:Images of site of community importance with code ES1110012 from Wiki Loves Earth 2015 in Spain]] saved\n"
     ]
    },
    {
     "name": "stdout",
     "output_type": "stream",
     "text": [
      "-->Image (Campanario de Joapira - WLE Spain 2015.jpg) from an invalid location\n",
      "-->Image (CAMPO-DE-PERALTA-02.jpg) from an invalid location\n",
      "-->Image (CAMPO-DE-PERALTA.jpg) from an invalid location\n",
      "-->Image (CAMPO-DEL-LUGAR.jpg) from an invalid location\n"
     ]
    },
    {
     "name": "stderr",
     "output_type": "stream",
     "text": [
      "Sleeping for 4.8 seconds, 2018-02-25 23:40:26\n",
      "Page [[commons:Category:Images of site of community importance with code ES4150100 from Wiki Loves Earth 2015 in Spain]] saved\n",
      "Sleeping for 8.8 seconds, 2018-02-25 23:40:32\n",
      "Page [[commons:Category:Images of site of community importance with code ES5221002 from Wiki Loves Earth 2015 in Spain]] saved\n",
      "Sleeping for 8.1 seconds, 2018-02-25 23:40:43\n",
      "Page [[commons:Category:Images of site of community importance with code ES5110011 from Wiki Loves Earth 2015 in Spain]] saved\n",
      "Sleeping for 8.8 seconds, 2018-02-25 23:40:52\n",
      "Page [[commons:Category:Images of site of community importance with code ES4140080 from Wiki Loves Earth 2015 in Spain]] saved\n",
      "Reviewing --> 850 image pages downloaded\n",
      "Page [[commons:Category:Images of site of community importance with code ES0000228 from Wiki Loves Earth 2015 in Spain]] saved\n",
      "Sleeping for 8.8 seconds, 2018-02-25 23:41:30\n",
      "Page [[commons:Category:Images of site of community importance with code ES5120013 from Wiki Loves Earth 2015 in Spain]] saved\n",
      "Sleeping for 7.3 seconds, 2018-02-25 23:41:41\n",
      "Page [[commons:Category:Images of site of community importance with code ES5212012 from Wiki Loves Earth 2015 in Spain]] saved\n",
      "Sleeping for 8.1 seconds, 2018-02-25 23:41:50\n",
      "Page [[commons:Category:Images of site of community importance with code ES4120091 from Wiki Loves Earth 2015 in Spain]] saved\n",
      "Sleeping for 8.1 seconds, 2018-02-25 23:42:00\n",
      "Page [[commons:Category:Images of site of community importance with code ES6130001 from Wiki Loves Earth 2015 in Spain]] saved\n",
      "Sleeping for 8.1 seconds, 2018-02-25 23:42:10\n",
      "Page [[commons:Category:Images of site of community importance with code ES1110008 from Wiki Loves Earth 2015 in Spain]] saved\n",
      "Reviewing --> 900 image pages downloaded\n",
      "Page [[commons:Category:Images of site of community importance with code ES2430152 from Wiki Loves Earth 2015 in Spain]] saved\n"
     ]
    },
    {
     "name": "stdout",
     "output_type": "stream",
     "text": [
      "-->Image (Casa en Patones de Arriba..jpg) from an invalid location\n",
      "-->Image (Casa en Patones de Arriba.jpg) from an invalid location\n"
     ]
    },
    {
     "name": "stderr",
     "output_type": "stream",
     "text": [
      "Sleeping for 6.7 seconds, 2018-02-25 23:42:33\n",
      "Page [[commons:Category:Images of site of community importance with code ES6110002 from Wiki Loves Earth 2015 in Spain]] saved\n"
     ]
    },
    {
     "name": "stdout",
     "output_type": "stream",
     "text": [
      "-->Image (Casa vieja en Patones de Arriba..jpg) from an invalid location\n"
     ]
    },
    {
     "name": "stderr",
     "output_type": "stream",
     "text": [
      "Sleeping for 7.7 seconds, 2018-02-25 23:42:42\n",
      "Page [[commons:Category:Images of site of community importance with code ES2200017 from Wiki Loves Earth 2015 in Spain]] saved\n",
      "Sleeping for 7.2 seconds, 2018-02-25 23:42:53\n",
      "Page [[commons:Category:Images of site of community importance with code ES0000126 from Wiki Loves Earth 2015 in Spain]] saved\n",
      "Sleeping for 7.3 seconds, 2018-02-25 23:43:02\n",
      "Page [[commons:Category:Images of site of community importance with code ES6160003 from Wiki Loves Earth 2015 in Spain]] saved\n"
     ]
    },
    {
     "name": "stdout",
     "output_type": "stream",
     "text": [
      "-->Image (Cascada del Río Piedra.jpg) from an invalid location\n"
     ]
    },
    {
     "name": "stderr",
     "output_type": "stream",
     "text": [
      "Page [[commons:Category:Images of site of community importance with code ES2410052 from Wiki Loves Earth 2015 in Spain]] saved\n"
     ]
    },
    {
     "name": "stdout",
     "output_type": "stream",
     "text": [
      "-->Image (Cascada en el Parque Natural del Monasterio de Piedra.jpg) from an invalid location\n"
     ]
    },
    {
     "name": "stderr",
     "output_type": "stream",
     "text": [
      "Sleeping for 8.4 seconds, 2018-02-25 23:43:25\n",
      "Page [[commons:Category:Images of site of community importance with code ES4120089 from Wiki Loves Earth 2015 in Spain]] saved\n",
      "Reviewing --> 950 image pages downloaded\n"
     ]
    },
    {
     "name": "stdout",
     "output_type": "stream",
     "text": [
      "-->Image (Cascada Molino de San Pedro 01042010130904.jpg - WLE Spain 2015.jpg) from an invalid location\n",
      "-->Image (Cascada Molino de San Pedro 01042010132409.jpg - WLE Spain 2015.jpg) from an invalid location\n",
      "-->Image (Cascada Molino de San Pedro 01042010133927.jpg - WLE Spain 2015.jpg) from an invalid location\n",
      "-->Image (Cascada Molino de San Pedro 01042010134044.jpg - WLE Spain 2015.jpg) from an invalid location\n",
      "-->Image (Cascada Molino de San Pedro 01042010134109.jpg - WLE Spain 2015.jpg) from an invalid location\n",
      "-->Image (Cascada Molino de San Pedro 01042010134552.jpg - WLE Spain 2015.jpg) from an invalid location\n",
      "-->Image (Cascada Molino de San Pedro 09112003133508.jpg - WLE Spain 2015.jpg) from an invalid location\n",
      "-->Image (Cascada Molino de San Pedro 09112003133521.jpg - WLE Spain 2015.jpg) from an invalid location\n",
      "-->Image (Cascada Molino de San Pedro 30032010134751.jpg - WLE Spain 2015.jpg) from an invalid location\n"
     ]
    },
    {
     "name": "stderr",
     "output_type": "stream",
     "text": [
      "Sleeping for 4.9 seconds, 2018-02-25 23:43:39\n",
      "Page [[commons:Category:Images of site of community importance with code ES4140077 from Wiki Loves Earth 2015 in Spain]] saved\n",
      "Sleeping for 7.9 seconds, 2018-02-25 23:43:46\n",
      "Page [[commons:Category:Images of site of community importance with code ES6170019 from Wiki Loves Earth 2015 in Spain]] saved\n",
      "Sleeping for 6.6 seconds, 2018-02-25 23:43:57\n",
      "Page [[commons:Category:Images of site of community importance with code ES0000053 from Wiki Loves Earth 2015 in Spain]] saved\n",
      "Sleeping for 5.4 seconds, 2018-02-25 23:44:08\n",
      "Page [[commons:Category:Images of site of community importance with code ES4190033 from Wiki Loves Earth 2015 in Spain]] saved\n",
      "Sleeping for 5.5 seconds, 2018-02-25 23:44:18\n",
      "Page [[commons:Category:Images of site of community importance with code ES0000211 from Wiki Loves Earth 2015 in Spain]] saved\n",
      "Sleeping for 8.7 seconds, 2018-02-25 23:44:25\n",
      "Page [[commons:Category:Images of site of community importance with code ES5232009 from Wiki Loves Earth 2015 in Spain]] saved\n",
      "Sleeping for 8.1 seconds, 2018-02-25 23:44:36\n",
      "Page [[commons:Category:Images of site of community importance with code ES1110013 from Wiki Loves Earth 2015 in Spain]] saved\n"
     ]
    },
    {
     "name": "stdout",
     "output_type": "stream",
     "text": [
      "-->Image (Castillo de San Marcos y la entrada principal de La Mezquita. Siglo IX.jpg) from an invalid location\n",
      "-->Image (Castillo de San Marcos. 01.jpg) from an invalid location\n",
      "-->Image (Castillo de San Marcos. 02.jpg) from an invalid location\n",
      "-->Image (Castillo de San Marcos. 03.jpg) from an invalid location\n",
      "-->Image (Castillo de San Marcos. 04.jpg) from an invalid location\n"
     ]
    },
    {
     "name": "stderr",
     "output_type": "stream",
     "text": [
      "Sleeping for 5.0 seconds, 2018-02-25 23:44:49\n",
      "Page [[commons:Category:Images of site of community importance with code ES6140002 from Wiki Loves Earth 2015 in Spain]] saved\n",
      "Sleeping for 5.5 seconds, 2018-02-25 23:44:58\n",
      "Page [[commons:Category:Images of site of community importance with code ES1200016 from Wiki Loves Earth 2015 in Spain]] saved\n",
      "Sleeping for 7.7 seconds, 2018-02-25 23:45:06\n",
      "Page [[commons:Category:Images of site of community importance with code ES4150085 from Wiki Loves Earth 2015 in Spain]] saved\n",
      "Reviewing --> 1000 image pages downloaded\n",
      "Reviewing --> 1050 image pages downloaded\n",
      "Page [[commons:Category:Images of site of community importance with code ES1120014 from Wiki Loves Earth 2015 in Spain]] saved\n",
      "Sleeping for 4.7 seconds, 2018-02-25 23:46:04\n",
      "Page [[commons:Category:Images of site of community importance with code ES0000070 from Wiki Loves Earth 2015 in Spain]] saved\n",
      "Sleeping for 7.4 seconds, 2018-02-25 23:46:11\n",
      "Page [[commons:Category:Images of site of community importance with code ES4320018 from Wiki Loves Earth 2015 in Spain]] saved\n"
     ]
    },
    {
     "name": "stdout",
     "output_type": "stream",
     "text": [
      "-->Image (Cementera.JPG) from an invalid location\n"
     ]
    },
    {
     "name": "stderr",
     "output_type": "stream",
     "text": [
      "Page [[commons:Category:Images of site of community importance with code ES1300021 from Wiki Loves Earth 2015 in Spain]] saved\n"
     ]
    },
    {
     "name": "stdout",
     "output_type": "stream",
     "text": [
      "-->Image (Cerezo rompemuros.JPG) from an invalid location\n"
     ]
    },
    {
     "name": "stderr",
     "output_type": "stream",
     "text": [
      "Reviewing --> 1100 image pages downloaded\n",
      "Sleeping for 3.2 seconds, 2018-02-25 23:46:36\n",
      "Page [[commons:Category:Images of site of community importance with code ES0000205 from Wiki Loves Earth 2015 in Spain]] saved\n",
      "Sleeping for 7.5 seconds, 2018-02-25 23:46:41\n",
      "Page [[commons:Category:Images of site of community importance with code ES4220015 from Wiki Loves Earth 2015 in Spain]] saved\n",
      "Sleeping for 8.7 seconds, 2018-02-25 23:46:50\n",
      "Page [[commons:Category:Images of site of community importance with code ES0000141 from Wiki Loves Earth 2015 in Spain]] saved\n",
      "Sleeping for 8.8 seconds, 2018-02-25 23:47:00\n",
      "Page [[commons:Category:Images of site of community importance with code ES7020041 from Wiki Loves Earth 2015 in Spain]] saved\n"
     ]
    },
    {
     "name": "stdout",
     "output_type": "stream",
     "text": [
      "-->Image (Charco del Conde 02.jpg) from an invalid location\n",
      "-->Image (Charcos de marea en la Playa El Rafal.JPG) from an invalid location\n"
     ]
    },
    {
     "name": "stderr",
     "output_type": "stream",
     "text": [
      "Sleeping for 7.3 seconds, 2018-02-25 23:47:12\n",
      "Page [[commons:Category:Images of site of community importance with code ES7020052 from Wiki Loves Earth 2015 in Spain]] saved\n"
     ]
    },
    {
     "name": "stdout",
     "output_type": "stream",
     "text": [
      "-->Image (Cielo a la puerta de mi casa 2.jpg) from an invalid location\n",
      "-->Image (Cielo a la puerta de mi casa.jpg) from an invalid location\n"
     ]
    },
    {
     "name": "stderr",
     "output_type": "stream",
     "text": [
      "Page [[commons:Category:Images of site of community importance with code ES2410019 from Wiki Loves Earth 2015 in Spain]] saved\n"
     ]
    },
    {
     "name": "stdout",
     "output_type": "stream",
     "text": [
      "-->Image (Ciudad de Burgos, río Arlanzón.jpg) from an invalid location\n",
      "-->Image (Ciudad Encantada de Bolnuevo.JPG) from an invalid location\n"
     ]
    },
    {
     "name": "stderr",
     "output_type": "stream",
     "text": [
      "Page [[commons:Category:Images of site of community importance with code ES5110005 from Wiki Loves Earth 2015 in Spain]] saved\n",
      "Reviewing --> 1150 image pages downloaded\n",
      "Page [[commons:Category:Images of site of community importance with code ES6200007 from Wiki Loves Earth 2015 in Spain]] saved\n",
      "Sleeping for 8.1 seconds, 2018-02-25 23:48:00\n",
      "Page [[commons:Category:Images of site of community importance with code ES2200021 from Wiki Loves Earth 2015 in Spain]] saved\n",
      "Sleeping for 8.8 seconds, 2018-02-25 23:48:09\n",
      "Page [[commons:Category:Images of site of community importance with code ES0000130 from Wiki Loves Earth 2015 in Spain]] saved\n"
     ]
    },
    {
     "name": "stdout",
     "output_type": "stream",
     "text": [
      "-->Image (CORRAL-DEL-FRONTÓN-02.jpg) from an invalid location\n",
      "-->Image (CORRAL-DEL-FRONTÓN.jpg) from an invalid location\n"
     ]
    },
    {
     "name": "stderr",
     "output_type": "stream",
     "text": [
      "Page [[commons:Category:Images of site of community importance with code ES1110006 from Wiki Loves Earth 2015 in Spain]] saved\n"
     ]
    },
    {
     "name": "stdout",
     "output_type": "stream",
     "text": [
      "-->Image (Corrubedo (A Coruña, Galicia, España) 05 - faro.JPG) from an invalid location\n",
      "-->Image (Corvus corone Larouco.JPG) from an invalid location\n"
     ]
    },
    {
     "name": "stderr",
     "output_type": "stream",
     "text": [
      "Reviewing --> 1200 image pages downloaded\n",
      "Page [[commons:Category:Images of site of community importance with code ES5223037 from Wiki Loves Earth 2015 in Spain]] saved\n",
      "Sleeping for 8.7 seconds, 2018-02-25 23:48:43\n",
      "Page [[commons:Category:Images of site of community importance with code ES5110020 from Wiki Loves Earth 2015 in Spain]] saved\n",
      "Sleeping for 8.7 seconds, 2018-02-25 23:48:53\n",
      "Page [[commons:Category:Images of site of community importance with code ES0000241 from Wiki Loves Earth 2015 in Spain]] saved\n",
      "Sleeping for 3.2 seconds, 2018-02-25 23:49:08\n",
      "Page [[commons:Category:Images of site of community importance with code ES7010008 from Wiki Loves Earth 2015 in Spain]] saved\n",
      "Sleeping for 6.8 seconds, 2018-02-25 23:49:15\n",
      "Page [[commons:Category:Images of site of community importance with code ES1200037 from Wiki Loves Earth 2015 in Spain]] saved\n"
     ]
    },
    {
     "name": "stdout",
     "output_type": "stream",
     "text": [
      "-->Image (COTTON.jpg) from an invalid location\n"
     ]
    },
    {
     "name": "stderr",
     "output_type": "stream",
     "text": [
      "Sleeping for 8.4 seconds, 2018-02-25 23:49:23\n",
      "Page [[commons:Category:Images of site of community importance with code ES2420036 from Wiki Loves Earth 2015 in Spain]] saved\n"
     ]
    },
    {
     "name": "stdout",
     "output_type": "stream",
     "text": [
      "-->Image (Cristales de hielo.JPG) from an invalid location\n"
     ]
    },
    {
     "name": "stderr",
     "output_type": "stream",
     "text": [
      "Sleeping for 5.0 seconds, 2018-02-25 23:49:36\n",
      "Page [[commons:Category:Images of site of community importance with code ES4190110 from Wiki Loves Earth 2015 in Spain]] saved\n",
      "Reviewing --> 1250 image pages downloaded\n"
     ]
    },
    {
     "name": "stdout",
     "output_type": "stream",
     "text": [
      "-->Image (Cuenca del río Manzanares Monte del Pardo 21.JPG) from an invalid location\n"
     ]
    },
    {
     "name": "stderr",
     "output_type": "stream",
     "text": [
      "Page [[commons:Category:Images of site of community importance with code ES1200039 from Wiki Loves Earth 2015 in Spain]] saved\n"
     ]
    },
    {
     "name": "stdout",
     "output_type": "stream",
     "text": [
      "-->Image (Cuernos.jpg) from an invalid location\n",
      "-->Image (Cuervo 1.JPG) from an invalid location\n",
      "-->Image (Cuervo 2.JPG) from an invalid location\n",
      "-->Image (Cuervo 3.JPG) from an invalid location\n",
      "-->Image (Cuervo en Sierra Larouco.JPG) from an invalid location\n",
      "-->Image (Cuervo Larouco.JPG) from an invalid location\n"
     ]
    },
    {
     "name": "stderr",
     "output_type": "stream",
     "text": [
      "Reviewing --> 1300 image pages downloaded\n"
     ]
    },
    {
     "name": "stdout",
     "output_type": "stream",
     "text": [
      "-->Image (CuevaIkaburuUrdax.jpg) from an invalid location\n",
      "-->Image (Cuevas de Zugarramurdi.jpg) from an invalid location\n"
     ]
    },
    {
     "name": "stderr",
     "output_type": "stream",
     "text": [
      "Sleeping for 4.6 seconds, 2018-02-25 23:50:31\n",
      "Page [[commons:Category:Images of site of community importance with code ES0000033 from Wiki Loves Earth 2015 in Spain]] saved\n",
      "Page [[commons:Category:Images of site of community importance with code ES1200046 from Wiki Loves Earth 2015 in Spain]] saved\n"
     ]
    },
    {
     "name": "stdout",
     "output_type": "stream",
     "text": [
      "-->Image (De la Barcina al mar.JPG) from an invalid location\n",
      "-->Image (Deba.jpg) from an invalid location\n"
     ]
    },
    {
     "name": "stderr",
     "output_type": "stream",
     "text": [
      "Sleeping for 3.3 seconds, 2018-02-25 23:50:57\n",
      "Page [[commons:Category:Images of site of community importance with code ES0000069 from Wiki Loves Earth 2015 in Spain]] saved\n",
      "Sleeping for 8.8 seconds, 2018-02-25 23:51:01\n",
      "Page [[commons:Category:Images of site of community importance with code ES4310004 from Wiki Loves Earth 2015 in Spain]] saved\n",
      "Sleeping for 4.8 seconds, 2018-02-25 23:51:15\n",
      "Page [[commons:Category:Images of site of community importance with code ES1140016 from Wiki Loves Earth 2015 in Spain]] saved\n"
     ]
    },
    {
     "name": "stdout",
     "output_type": "stream",
     "text": [
      "-->Image (Descendiendo el Sella.JPG) from an invalid location\n"
     ]
    },
    {
     "name": "stderr",
     "output_type": "stream",
     "text": [
      "Reviewing --> 1350 image pages downloaded\n",
      "Sleeping for 4.5 seconds, 2018-02-25 23:51:26\n",
      "Page [[commons:Category:Images of site of community importance with code ES6170021 from Wiki Loves Earth 2015 in Spain]] saved\n",
      "Sleeping for 8.2 seconds, 2018-02-25 23:51:32\n",
      "Page [[commons:Category:Images of site of community importance with code ES0000113 from Wiki Loves Earth 2015 in Spain]] saved\n"
     ]
    },
    {
     "name": "stdout",
     "output_type": "stream",
     "text": [
      "-->Image (Desde mi ventana 2.JPG) from an invalid location\n"
     ]
    },
    {
     "name": "stderr",
     "output_type": "stream",
     "text": [
      "Page [[commons:Category:Images of site of community importance with code ES1140007 from Wiki Loves Earth 2015 in Spain]] saved\n",
      "Sleeping for 7.5 seconds, 2018-02-25 23:51:53\n",
      "Page [[commons:Category:Images of site of community importance with code ES6170020 from Wiki Loves Earth 2015 in Spain]] saved\n"
     ]
    },
    {
     "name": "stdout",
     "output_type": "stream",
     "text": [
      "-->Image (Desfiladero Montfalcó.jpg) from an invalid location\n",
      "-->Image (Despegue Norte- Larouco.JPG) from an invalid location\n",
      "-->Image (Doñanas 02.jpg) from an invalid location\n"
     ]
    },
    {
     "name": "stderr",
     "output_type": "stream",
     "text": [
      "Reviewing --> 1400 image pages downloaded\n",
      "Page [[commons:Category:Images of site of community importance with code ES7010007 from Wiki Loves Earth 2015 in Spain]] saved\n",
      "Sleeping for 8.0 seconds, 2018-02-25 23:52:27\n",
      "Page [[commons:Category:Images of site of community importance with code ES7010032 from Wiki Loves Earth 2015 in Spain]] saved\n",
      "Sleeping for 8.0 seconds, 2018-02-25 23:52:37\n",
      "Page [[commons:Category:Images of site of community importance with code ES1300005 from Wiki Loves Earth 2015 in Spain]] saved\n",
      "Sleeping for 8.7 seconds, 2018-02-25 23:52:47\n",
      "Page [[commons:Category:Images of site of community importance with code ES7010028 from Wiki Loves Earth 2015 in Spain]] saved\n",
      "Sleeping for 8.7 seconds, 2018-02-25 23:52:57\n",
      "Page [[commons:Category:Images of site of community importance with code ES5213025 from Wiki Loves Earth 2015 in Spain]] saved\n"
     ]
    },
    {
     "name": "stdout",
     "output_type": "stream",
     "text": [
      "-->Image (Edificio Plana Novella.JPG) from an invalid location\n",
      "-->Image (El Bosque de las Hadas (Hayedo de Montejo).jpg) from an invalid location\n"
     ]
    },
    {
     "name": "stderr",
     "output_type": "stream",
     "text": [
      "Page [[commons:Category:Images of site of community importance with code ES4120090 from Wiki Loves Earth 2015 in Spain]] saved\n",
      "Sleeping for 3.4 seconds, 2018-02-25 23:53:27\n",
      "Page [[commons:Category:Images of site of community importance with code ES7020003 from Wiki Loves Earth 2015 in Spain]] saved\n",
      "Sleeping for 8.7 seconds, 2018-02-25 23:53:32\n",
      "Page [[commons:Category:Images of site of community importance with code ES0000148 from Wiki Loves Earth 2015 in Spain]] saved\n",
      "Reviewing --> 1450 image pages downloaded\n",
      "Sleeping for 3.3 seconds, 2018-02-25 23:53:47\n",
      "Page [[commons:Category:Images of site of community importance with code ES7010046 from Wiki Loves Earth 2015 in Spain]] saved\n",
      "Sleeping for 4.6 seconds, 2018-02-25 23:53:56\n",
      "Page [[commons:Category:Images of site of community importance with code ES7020002 from Wiki Loves Earth 2015 in Spain]] saved\n",
      "Sleeping for 7.1 seconds, 2018-02-25 23:54:04\n",
      "Page [[commons:Category:Images of site of community importance with code ES4210017 from Wiki Loves Earth 2015 in Spain]] saved\n",
      "Sleeping for 7.5 seconds, 2018-02-25 23:54:13\n",
      "Page [[commons:Category:Images of site of community importance with code ES6200024 from Wiki Loves Earth 2015 in Spain]] saved\n",
      "Sleeping for 8.1 seconds, 2018-02-25 23:54:23\n",
      "Page [[commons:Category:Images of site of community importance with code ES6140004 from Wiki Loves Earth 2015 in Spain]] saved\n",
      "Sleeping for 8.8 seconds, 2018-02-25 23:54:32\n",
      "Page [[commons:Category:Images of site of community importance with code ES7020049 from Wiki Loves Earth 2015 in Spain]] saved\n",
      "Sleeping for 7.3 seconds, 2018-02-25 23:54:44\n",
      "Page [[commons:Category:Images of site of community importance with code ES2420119 from Wiki Loves Earth 2015 in Spain]] saved\n",
      "Sleeping for 7.9 seconds, 2018-02-25 23:54:53\n",
      "Page [[commons:Category:Images of site of community importance with code ES7020045 from Wiki Loves Earth 2015 in Spain]] saved\n",
      "Page [[commons:Category:Images of site of community importance with code ES4320076 from Wiki Loves Earth 2015 in Spain]] saved\n",
      "Sleeping for 8.0 seconds, 2018-02-25 23:55:16\n",
      "Page [[commons:Category:Images of site of community importance with code ES4110115 from Wiki Loves Earth 2015 in Spain]] saved\n"
     ]
    },
    {
     "name": "stdout",
     "output_type": "stream",
     "text": [
      "-->Image (El rio Ebro cerca de Laserna.JPG) from an invalid location\n"
     ]
    },
    {
     "name": "stderr",
     "output_type": "stream",
     "text": [
      "Reviewing --> 1500 image pages downloaded\n",
      "Sleeping for 4.4 seconds, 2018-02-25 23:55:30\n",
      "Page [[commons:Category:Images of site of community importance with code ES4130050 from Wiki Loves Earth 2015 in Spain]] saved\n",
      "Sleeping for 7.2 seconds, 2018-02-25 23:55:37\n",
      "Page [[commons:Category:Images of site of community importance with code ES6130015 from Wiki Loves Earth 2015 in Spain]] saved\n",
      "Sleeping for 8.7 seconds, 2018-02-25 23:55:45\n",
      "Page [[commons:Category:Images of site of community importance with code ES1300010 from Wiki Loves Earth 2015 in Spain]] saved\n",
      "Sleeping for 5.8 seconds, 2018-02-25 23:55:58\n",
      "Page [[commons:Category:Images of site of community importance with code ES4180081 from Wiki Loves Earth 2015 in Spain]] saved\n",
      "Page [[commons:Category:Images of site of community importance with code ES1300013 from Wiki Loves Earth 2015 in Spain]] saved\n",
      "Sleeping for 8.7 seconds, 2018-02-25 23:56:15\n",
      "Page [[commons:Category:Images of site of community importance with code ES0000032 from Wiki Loves Earth 2015 in Spain]] saved\n",
      "Sleeping for 6.8 seconds, 2018-02-25 23:56:27\n",
      "Page [[commons:Category:Images of site of community importance with code ES4220007 from Wiki Loves Earth 2015 in Spain]] saved\n"
     ]
    },
    {
     "name": "stdout",
     "output_type": "stream",
     "text": [
      "-->Image (EL-ROYER.jpg) from an invalid location\n",
      "-->Image (Elizondo iglesia.jpg) from an invalid location\n"
     ]
    },
    {
     "name": "stderr",
     "output_type": "stream",
     "text": [
      "Sleeping for 4.7 seconds, 2018-02-25 23:56:40\n",
      "Page [[commons:Category:Images of site of community importance with code ES5140005 from Wiki Loves Earth 2015 in Spain]] saved\n",
      "Sleeping for 8.1 seconds, 2018-02-25 23:56:46\n",
      "Page [[commons:Category:Images of site of community importance with code ES6120001 from Wiki Loves Earth 2015 in Spain]] saved\n",
      "Sleeping for 6.9 seconds, 2018-02-25 23:56:57\n",
      "Page [[commons:Category:Images of site of community importance with code ES5130014 from Wiki Loves Earth 2015 in Spain]] saved\n",
      "Reviewing --> 1550 image pages downloaded\n",
      "Page [[commons:Category:Images of site of community importance with code ES1300009 from Wiki Loves Earth 2015 in Spain]] saved\n",
      "Sleeping for 8.4 seconds, 2018-02-25 23:57:16\n",
      "Page [[commons:Category:Images of site of community importance with code ES4160104 from Wiki Loves Earth 2015 in Spain]] saved\n",
      "Sleeping for 8.1 seconds, 2018-02-25 23:57:26\n",
      "Page [[commons:Category:Images of site of community importance with code ES2410026 from Wiki Loves Earth 2015 in Spain]] saved\n",
      "Sleeping for 4.3 seconds, 2018-02-25 23:57:40\n",
      "Page [[commons:Category:Images of site of community importance with code ES5232003 from Wiki Loves Earth 2015 in Spain]] saved\n",
      "Sleeping for 7.4 seconds, 2018-02-25 23:57:47\n",
      "Page [[commons:Category:Images of site of community importance with code ES4140129 from Wiki Loves Earth 2015 in Spain]] saved\n"
     ]
    },
    {
     "name": "stdout",
     "output_type": "stream",
     "text": [
      "-->Image (Embarcadero en el Río Guadalquivir a su paso por Córdoba.jpg) from an invalid location\n"
     ]
    },
    {
     "name": "stderr",
     "output_type": "stream",
     "text": [
      "Sleeping for 3.8 seconds, 2018-02-25 23:58:00\n",
      "Page [[commons:Category:Images of site of community importance with code ES4310008 from Wiki Loves Earth 2015 in Spain]] saved\n"
     ]
    },
    {
     "name": "stdout",
     "output_type": "stream",
     "text": [
      "-->Image (Encoro de As Forcadas (Valdoviño).jpg) from an invalid location\n"
     ]
    },
    {
     "name": "stderr",
     "output_type": "stream",
     "text": [
      "Sleeping for 5.1 seconds, 2018-02-25 23:58:09\n",
      "Page [[commons:Category:Images of site of community importance with code ES1120010 from Wiki Loves Earth 2015 in Spain]] saved\n",
      "Sleeping for 5.1 seconds, 2018-02-25 23:58:19\n",
      "Page [[commons:Category:Images of site of community importance with code ES0000102 from Wiki Loves Earth 2015 in Spain]] saved\n"
     ]
    },
    {
     "name": "stdout",
     "output_type": "stream",
     "text": [
      "-->Image (Entrada principal al Castillo de San Marcos..jpg) from an invalid location\n"
     ]
    },
    {
     "name": "stderr",
     "output_type": "stream",
     "text": [
      "Reviewing --> 1600 image pages downloaded\n"
     ]
    },
    {
     "name": "stdout",
     "output_type": "stream",
     "text": [
      "-->Image (Ermita de San Miguel en las Saladas de Alcañiz.jpg) from an invalid location\n",
      "-->Image (ES 0000046 Cortijo Del Fraile.jpg) from an invalid location\n"
     ]
    },
    {
     "name": "stderr",
     "output_type": "stream",
     "text": [
      "Page [[commons:Category:Images of site of community importance with code ES0000078 from Wiki Loves Earth 2015 in Spain]] saved\n",
      "Page [[commons:Category:Images of site of community importance with code ES0000169 from Wiki Loves Earth 2015 in Spain]] saved\n",
      "Reviewing --> 1650 image pages downloaded\n",
      "Page [[commons:Category:Images of site of community importance with code ES1200022 from Wiki Loves Earth 2015 in Spain]] saved\n",
      "Sleeping for 4.2 seconds, 2018-02-25 23:59:11\n",
      "Page [[commons:Category:Images of site of community importance with code ES1140004 from Wiki Loves Earth 2015 in Spain]] saved\n",
      "Sleeping for 8.7 seconds, 2018-02-25 23:59:17\n",
      "Page [[commons:Category:Images of site of community importance with code ES1140010 from Wiki Loves Earth 2015 in Spain]] saved\n",
      "Sleeping for 8.0 seconds, 2018-02-25 23:59:27\n",
      "Page [[commons:Category:Images of site of community importance with code ES1140012 from Wiki Loves Earth 2015 in Spain]] saved\n",
      "Sleeping for 7.8 seconds, 2018-02-25 23:59:37\n",
      "Page [[commons:Category:Images of site of community importance with code ES1200002 from Wiki Loves Earth 2015 in Spain]] saved\n",
      "Sleeping for 6.2 seconds, 2018-02-25 23:59:49\n",
      "Page [[commons:Category:Images of site of community importance with code ES1200030 from Wiki Loves Earth 2015 in Spain]] saved\n",
      "Sleeping for 8.7 seconds, 2018-02-25 23:59:57\n",
      "Page [[commons:Category:Images of site of community importance with code ES1200032 from Wiki Loves Earth 2015 in Spain]] saved\n",
      "Sleeping for 8.0 seconds, 2018-02-26 00:00:07\n",
      "Page [[commons:Category:Images of site of community importance with code ES1200050 from Wiki Loves Earth 2015 in Spain]] saved\n",
      "Sleeping for 8.1 seconds, 2018-02-26 00:00:17\n",
      "Page [[commons:Category:Images of site of community importance with code ES1300004 from Wiki Loves Earth 2015 in Spain]] saved\n",
      "Sleeping for 8.0 seconds, 2018-02-26 00:00:27\n",
      "Page [[commons:Category:Images of site of community importance with code ES1300015 from Wiki Loves Earth 2015 in Spain]] saved\n",
      "Sleeping for 8.8 seconds, 2018-02-26 00:00:37\n",
      "Page [[commons:Category:Images of site of community importance with code ES2120017 from Wiki Loves Earth 2015 in Spain]] saved\n",
      "Sleeping for 6.5 seconds, 2018-02-26 00:00:49\n",
      "Page [[commons:Category:Images of site of community importance with code ES2410048 from Wiki Loves Earth 2015 in Spain]] saved\n",
      "Sleeping for 6.7 seconds, 2018-02-26 00:00:59\n",
      "Page [[commons:Category:Images of site of community importance with code ES4110078 from Wiki Loves Earth 2015 in Spain]] saved\n",
      "Sleeping for 8.7 seconds, 2018-02-26 00:01:07\n",
      "Page [[commons:Category:Images of site of community importance with code ES4110097 from Wiki Loves Earth 2015 in Spain]] saved\n",
      "Sleeping for 4.6 seconds, 2018-02-26 00:01:21\n",
      "Page [[commons:Category:Images of site of community importance with code ES4150107 from Wiki Loves Earth 2015 in Spain]] saved\n",
      "Sleeping for 8.6 seconds, 2018-02-26 00:01:27\n",
      "Page [[commons:Category:Images of site of community importance with code ES4160019 from Wiki Loves Earth 2015 in Spain]] saved\n",
      "Sleeping for 7.3 seconds, 2018-02-26 00:01:38\n",
      "Page [[commons:Category:Images of site of community importance with code ES4230006 from Wiki Loves Earth 2015 in Spain]] saved\n",
      "Reviewing --> 1700 image pages downloaded\n",
      "Sleeping for 8.0 seconds, 2018-02-26 00:01:47\n",
      "Page [[commons:Category:Images of site of community importance with code ES4240018 from Wiki Loves Earth 2015 in Spain]] saved\n",
      "Sleeping for 8.1 seconds, 2018-02-26 00:01:57\n",
      "Page [[commons:Category:Images of site of community importance with code ES5120008 from Wiki Loves Earth 2015 in Spain]] saved\n",
      "Sleeping for 8.8 seconds, 2018-02-26 00:02:07\n",
      "Page [[commons:Category:Images of site of community importance with code ES5120015 from Wiki Loves Earth 2015 in Spain]] saved\n",
      "Sleeping for 8.7 seconds, 2018-02-26 00:02:17\n",
      "Page [[commons:Category:Images of site of community importance with code ES5120021 from Wiki Loves Earth 2015 in Spain]] saved\n",
      "Sleeping for 8.6 seconds, 2018-02-26 00:02:27\n",
      "Page [[commons:Category:Images of site of community importance with code ES5130004 from Wiki Loves Earth 2015 in Spain]] saved\n",
      "Sleeping for 8.8 seconds, 2018-02-26 00:02:37\n",
      "Page [[commons:Category:Images of site of community importance with code ES5130005 from Wiki Loves Earth 2015 in Spain]] saved\n",
      "Sleeping for 8.8 seconds, 2018-02-26 00:02:47\n",
      "Page [[commons:Category:Images of site of community importance with code ES5130034 from Wiki Loves Earth 2015 in Spain]] saved\n",
      "Sleeping for 8.7 seconds, 2018-02-26 00:02:57\n",
      "Page [[commons:Category:Images of site of community importance with code ES5140007 from Wiki Loves Earth 2015 in Spain]] saved\n",
      "Sleeping for 8.4 seconds, 2018-02-26 00:03:07\n",
      "Page [[commons:Category:Images of site of community importance with code ES5211007 from Wiki Loves Earth 2015 in Spain]] saved\n",
      "Sleeping for 8.7 seconds, 2018-02-26 00:03:17\n",
      "Page [[commons:Category:Images of site of community importance with code ES5211009 from Wiki Loves Earth 2015 in Spain]] saved\n",
      "Sleeping for 8.7 seconds, 2018-02-26 00:03:27\n",
      "Page [[commons:Category:Images of site of community importance with code ES5213018 from Wiki Loves Earth 2015 in Spain]] saved\n"
     ]
    },
    {
     "name": "stdout",
     "output_type": "stream",
     "text": [
      "-->Image (ES5222002-Marjal de Peñiscola desde Castillo Papa Luna DSC3197.jpg) from an invalid location\n"
     ]
    },
    {
     "name": "stderr",
     "output_type": "stream",
     "text": [
      "Sleeping for 3.4 seconds, 2018-02-26 00:03:42\n",
      "Page [[commons:Category:Images of site of community importance with code ES7011003 from Wiki Loves Earth 2015 in Spain]] saved\n",
      "Sleeping for 8.6 seconds, 2018-02-26 00:03:47\n",
      "Page [[commons:Category:Images of site of community importance with code ES7020008 from Wiki Loves Earth 2015 in Spain]] saved\n",
      "Sleeping for 8.7 seconds, 2018-02-26 00:03:57\n",
      "Page [[commons:Category:Images of site of community importance with code ES7020011 from Wiki Loves Earth 2015 in Spain]] saved\n",
      "Sleeping for 8.7 seconds, 2018-02-26 00:04:07\n",
      "Page [[commons:Category:Images of site of community importance with code ES7020014 from Wiki Loves Earth 2015 in Spain]] saved\n",
      "Sleeping for 8.8 seconds, 2018-02-26 00:04:17\n",
      "Page [[commons:Category:Images of site of community importance with code ES7020018 from Wiki Loves Earth 2015 in Spain]] saved\n",
      "Sleeping for 8.8 seconds, 2018-02-26 00:04:27\n",
      "Page [[commons:Category:Images of site of community importance with code ES7020022 from Wiki Loves Earth 2015 in Spain]] saved\n",
      "Sleeping for 8.0 seconds, 2018-02-26 00:04:37\n",
      "Page [[commons:Category:Images of site of community importance with code ES7020071 from Wiki Loves Earth 2015 in Spain]] saved\n",
      "Sleeping for 8.8 seconds, 2018-02-26 00:04:47\n",
      "Page [[commons:Category:Images of site of community importance with code ES7020072 from Wiki Loves Earth 2015 in Spain]] saved\n",
      "Sleeping for 8.5 seconds, 2018-02-26 00:04:57\n",
      "Page [[commons:Category:Images of site of community importance with code ES7020085 from Wiki Loves Earth 2015 in Spain]] saved\n",
      "Sleeping for 8.7 seconds, 2018-02-26 00:05:07\n",
      "Page [[commons:Category:Images of site of community importance with code ES7020086 from Wiki Loves Earth 2015 in Spain]] saved\n",
      "Sleeping for 8.7 seconds, 2018-02-26 00:05:17\n",
      "Page [[commons:Category:Images of site of community importance with code ES7020092 from Wiki Loves Earth 2015 in Spain]] saved\n"
     ]
    },
    {
     "name": "stdout",
     "output_type": "stream",
     "text": [
      "-->Image (Escena nocturna del Río Guadalquivir a su paso por Córdoba.jpg) from an invalid location\n"
     ]
    },
    {
     "name": "stderr",
     "output_type": "stream",
     "text": [
      "Page [[commons:Category:Images of site of community importance with code ES0000135 from Wiki Loves Earth 2015 in Spain]] saved\n",
      "Reviewing --> 1750 image pages downloaded\n",
      "Page [[commons:Category:Images of site of community importance with code ES1110011 from Wiki Loves Earth 2015 in Spain]] saved\n",
      "Sleeping for 6.6 seconds, 2018-02-26 00:05:57\n",
      "Page [[commons:Category:Images of site of community importance with code ES1110015 from Wiki Loves Earth 2015 in Spain]] saved\n",
      "Sleeping for 6.7 seconds, 2018-02-26 00:06:07\n",
      "Page [[commons:Category:Images of site of community importance with code ES1140003 from Wiki Loves Earth 2015 in Spain]] saved\n"
     ]
    },
    {
     "name": "stdout",
     "output_type": "stream",
     "text": [
      "-->Image (EXOTIC.jpg) from an invalid location\n",
      "-->Image (EXTREME BEAUTY.jpg) from an invalid location\n"
     ]
    },
    {
     "name": "stderr",
     "output_type": "stream",
     "text": [
      "Reviewing --> 1800 image pages downloaded\n",
      "Page [[commons:Category:Images of site of community importance with code ES7010006 from Wiki Loves Earth 2015 in Spain]] saved\n"
     ]
    },
    {
     "name": "stdout",
     "output_type": "stream",
     "text": [
      "-->Image (Flor coruñesa.jpg) from an invalid location\n"
     ]
    },
    {
     "name": "stderr",
     "output_type": "stream",
     "text": [
      "Page [[commons:Category:Images of site of community importance with code ES5130003 from Wiki Loves Earth 2015 in Spain]] saved\n"
     ]
    },
    {
     "name": "stdout",
     "output_type": "stream",
     "text": [
      "-->Image (FlorBlancaNavarra 02.jpg) from an invalid location\n",
      "-->Image (FlorRosaNavarra 01.jpg) from an invalid location\n",
      "-->Image (FlorRosaNavarra 04.jpg) from an invalid location\n"
     ]
    },
    {
     "name": "stderr",
     "output_type": "stream",
     "text": [
      "Sleeping for 5.6 seconds, 2018-02-26 00:06:50\n",
      "Page [[commons:Category:Images of site of community importance with code ES4190102 from Wiki Loves Earth 2015 in Spain]] saved\n",
      "Sleeping for 6.7 seconds, 2018-02-26 00:06:58\n",
      "Page [[commons:Category:Images of site of community importance with code ES0000026 from Wiki Loves Earth 2015 in Spain]] saved\n",
      "Page [[commons:Category:Images of site of community importance with code ES6200023 from Wiki Loves Earth 2015 in Spain]] saved\n",
      "Sleeping for 8.7 seconds, 2018-02-26 00:07:17\n",
      "Page [[commons:Category:Images of site of community importance with code ES5310093 from Wiki Loves Earth 2015 in Spain]] saved\n",
      "Reviewing --> 1850 image pages downloaded\n",
      "Sleeping for 6.6 seconds, 2018-02-26 00:07:29\n",
      "Page [[commons:Category:Images of site of community importance with code ES0000125 from Wiki Loves Earth 2015 in Spain]] saved\n",
      "Sleeping for 8.7 seconds, 2018-02-26 00:07:37\n",
      "Page [[commons:Category:Images of site of community importance with code ES2410012 from Wiki Loves Earth 2015 in Spain]] saved\n",
      "Page [[commons:Category:Images of site of community importance with code ES1200009 from Wiki Loves Earth 2015 in Spain]] saved\n",
      "Sleeping for 3.4 seconds, 2018-02-26 00:08:06\n",
      "Page [[commons:Category:Images of site of community importance with code ES1120004 from Wiki Loves Earth 2015 in Spain]] saved\n",
      "Reviewing --> 1900 image pages downloaded\n",
      "Page [[commons:Category:Images of site of community importance with code ES7020099 from Wiki Loves Earth 2015 in Spain]] saved\n"
     ]
    },
    {
     "name": "stdout",
     "output_type": "stream",
     "text": [
      "-->Image (Frontera al atardecer 02.jpg) from an invalid location\n",
      "-->Image (Frontera al atardecer 03.jpg) from an invalid location\n"
     ]
    },
    {
     "name": "stderr",
     "output_type": "stream",
     "text": [
      "Page [[commons:Category:Images of site of community importance with code ES4140011 from Wiki Loves Earth 2015 in Spain]] saved\n",
      "Sleeping for 8.7 seconds, 2018-02-26 00:08:37\n",
      "Page [[commons:Category:Images of site of community importance with code ES7010024 from Wiki Loves Earth 2015 in Spain]] saved\n"
     ]
    },
    {
     "name": "stdout",
     "output_type": "stream",
     "text": [
      "-->Image (Fábrica Vallcarca (Sitges).jpg) from an invalid location\n"
     ]
    },
    {
     "name": "stderr",
     "output_type": "stream",
     "text": [
      "Sleeping for 5.5 seconds, 2018-02-26 00:08:50\n",
      "Page [[commons:Category:Images of site of community importance with code ES7020066 from Wiki Loves Earth 2015 in Spain]] saved\n"
     ]
    },
    {
     "name": "stdout",
     "output_type": "stream",
     "text": [
      "-->Image (Gaviotas en la Marina de Cope.JPG) from an invalid location\n"
     ]
    },
    {
     "name": "stderr",
     "output_type": "stream",
     "text": [
      "Reviewing --> 1950 image pages downloaded\n",
      "Page [[commons:Category:Images of site of community importance with code ES7020084 from Wiki Loves Earth 2015 in Spain]] saved\n",
      "Sleeping for 6.7 seconds, 2018-02-26 00:09:21\n",
      "Page [[commons:Category:Images of site of community importance with code ES0000031 from Wiki Loves Earth 2015 in Spain]] saved\n",
      "Sleeping for 3.5 seconds, 2018-02-26 00:09:34\n",
      "Page [[commons:Category:Images of site of community importance with code ES6180005 from Wiki Loves Earth 2015 in Spain]] saved\n"
     ]
    },
    {
     "name": "stdout",
     "output_type": "stream",
     "text": [
      "-->Image (HAUTACUPERCHE - VALLE GRAN REY.jpg) from an invalid location\n"
     ]
    },
    {
     "name": "stderr",
     "output_type": "stream",
     "text": [
      "Reviewing --> 2000 image pages downloaded\n"
     ]
    },
    {
     "name": "stdout",
     "output_type": "stream",
     "text": [
      "-->Image (HEALTHY WAY.JPG) from an invalid location\n",
      "-->Image (HelechoEpifitoZugarramurdi2015.jpg) from an invalid location\n",
      "-->Image (Helleborus viridis1Zugarramurdi2015.jpg) from an invalid location\n",
      "-->Image (Helleborus viridis2Zugarramurdi2015.jpg) from an invalid location\n",
      "-->Image (Helleborus viridisZugarramurdi2015.jpg) from an invalid location\n"
     ]
    },
    {
     "name": "stderr",
     "output_type": "stream",
     "text": [
      "Page [[commons:Category:Images of site of community importance with code ES4230013 from Wiki Loves Earth 2015 in Spain]] saved\n"
     ]
    },
    {
     "name": "stdout",
     "output_type": "stream",
     "text": [
      "-->Image (HORMIGAS EN PRIMAVERA.jpg) from an invalid location\n"
     ]
    },
    {
     "name": "stderr",
     "output_type": "stream",
     "text": [
      "Reviewing --> 2050 image pages downloaded\n",
      "Page [[commons:Category:Images of site of community importance with code ES6140003 from Wiki Loves Earth 2015 in Spain]] saved\n",
      "Sleeping for 5.4 seconds, 2018-02-26 00:10:32\n",
      "Page [[commons:Category:Images of site of community importance with code ES5223055 from Wiki Loves Earth 2015 in Spain]] saved\n",
      "Sleeping for 4.5 seconds, 2018-02-26 00:10:43\n",
      "Page [[commons:Category:Images of site of community importance with code ES2410002 from Wiki Loves Earth 2015 in Spain]] saved\n",
      "Reviewing --> 2100 image pages downloaded\n",
      "Page [[commons:Category:Images of site of community importance with code ES2410024 from Wiki Loves Earth 2015 in Spain]] saved\n",
      "Page [[commons:Category:Images of site of community importance with code ES5223004 from Wiki Loves Earth 2015 in Spain]] saved\n",
      "Sleeping for 4.0 seconds, 2018-02-26 00:11:43\n",
      "Page [[commons:Category:Images of site of community importance with code ES7020081 from Wiki Loves Earth 2015 in Spain]] saved\n",
      "Sleeping for 8.7 seconds, 2018-02-26 00:11:48\n",
      "Page [[commons:Category:Images of site of community importance with code ES7010054 from Wiki Loves Earth 2015 in Spain]] saved\n",
      "Sleeping for 8.1 seconds, 2018-02-26 00:11:58\n",
      "Page [[commons:Category:Images of site of community importance with code ES1300002 from Wiki Loves Earth 2015 in Spain]] saved\n",
      "Reviewing --> 2150 image pages downloaded\n",
      "Sleeping for 6.6 seconds, 2018-02-26 00:12:10\n",
      "Page [[commons:Category:Images of site of community importance with code ES0000236 from Wiki Loves Earth 2015 in Spain]] saved\n",
      "Page [[commons:Category:Images of site of community importance with code ES2110019 from Wiki Loves Earth 2015 in Spain]] saved\n",
      "Page [[commons:Category:Images of site of community importance with code ES0000041 from Wiki Loves Earth 2015 in Spain]] saved\n"
     ]
    },
    {
     "name": "stdout",
     "output_type": "stream",
     "text": [
      "-->Image (L' Angliru (por cima de les nubes).JPG) from an invalid location\n"
     ]
    },
    {
     "name": "stderr",
     "output_type": "stream",
     "text": [
      "Page [[commons:Category:Images of site of community importance with code ES1200038 from Wiki Loves Earth 2015 in Spain]] saved\n"
     ]
    },
    {
     "name": "stdout",
     "output_type": "stream",
     "text": [
      "-->Image (La Cascada del Diablo, en Villanueva de la Vera.jpg) from an invalid location\n"
     ]
    },
    {
     "name": "stderr",
     "output_type": "stream",
     "text": [
      "Reviewing --> 2200 image pages downloaded\n",
      "Page [[commons:Category:Images of site of community importance with code ES2420141 from Wiki Loves Earth 2015 in Spain]] saved\n",
      "Sleeping for 7.3 seconds, 2018-02-26 00:13:06\n",
      "Page [[commons:Category:Images of site of community importance with code ES5310081 from Wiki Loves Earth 2015 in Spain]] saved\n"
     ]
    },
    {
     "name": "stdout",
     "output_type": "stream",
     "text": [
      "-->Image (La Loma de Bas, cerca del final del Parque.JPG) from an invalid location\n"
     ]
    },
    {
     "name": "stderr",
     "output_type": "stream",
     "text": [
      "Reviewing --> 2250 image pages downloaded\n",
      "Page [[commons:Category:Images of site of community importance with code ES5310024 from Wiki Loves Earth 2015 in Spain]] saved\n"
     ]
    },
    {
     "name": "stdout",
     "output_type": "stream",
     "text": [
      "-->Image (La Paramera, al pie de los Montes Universales.jpg) from an invalid location\n",
      "-->Image (La sierra desde Baeza.jpg) from an invalid location\n",
      "-->Image (La zarzamora..JPG) from an invalid location\n"
     ]
    },
    {
     "name": "stderr",
     "output_type": "stream",
     "text": [
      "Reviewing --> 2300 image pages downloaded\n"
     ]
    },
    {
     "name": "stdout",
     "output_type": "stream",
     "text": [
      "-->Image (LADY IN RED.jpg) from an invalid location\n",
      "-->Image (Lago d´Orta.jpg) from an invalid location\n"
     ]
    },
    {
     "name": "stderr",
     "output_type": "stream",
     "text": [
      "Page [[commons:Category:Images of site of community importance with code ES6150001 from Wiki Loves Earth 2015 in Spain]] saved\n",
      "Reviewing --> 2350 image pages downloaded\n",
      "Page [[commons:Category:Images of site of community importance with code ES6120011 from Wiki Loves Earth 2015 in Spain]] saved\n",
      "Sleeping for 6.0 seconds, 2018-02-26 00:14:50\n",
      "Page [[commons:Category:Images of site of community importance with code ES0000027 from Wiki Loves Earth 2015 in Spain]] saved\n",
      "Sleeping for 7.3 seconds, 2018-02-26 00:14:59\n",
      "Page [[commons:Category:Images of site of community importance with code ES4210004 from Wiki Loves Earth 2015 in Spain]] saved\n",
      "Page [[commons:Category:Images of site of community importance with code ES4240007 from Wiki Loves Earth 2015 in Spain]] saved\n",
      "Sleeping for 8.7 seconds, 2018-02-26 00:15:17\n",
      "Page [[commons:Category:Images of site of community importance with code ES4210006 from Wiki Loves Earth 2015 in Spain]] saved\n"
     ]
    },
    {
     "name": "stdout",
     "output_type": "stream",
     "text": [
      "-->Image (Laguna del Pilón.jpg) from an invalid location\n"
     ]
    },
    {
     "name": "stderr",
     "output_type": "stream",
     "text": [
      "Sleeping for 5.1 seconds, 2018-02-26 00:15:31\n",
      "Page [[commons:Category:Images of site of community importance with code ES4170116 from Wiki Loves Earth 2015 in Spain]] saved\n",
      "Reviewing --> 2400 image pages downloaded\n"
     ]
    },
    {
     "name": "stdout",
     "output_type": "stream",
     "text": [
      "-->Image (LANAJA.jpg) from an invalid location\n",
      "-->Image (Larouco 1.JPG) from an invalid location\n",
      "-->Image (Larouco 2.JPG) from an invalid location\n",
      "-->Image (Larouco 3.JPG) from an invalid location\n",
      "-->Image (Larouco 4.JPG) from an invalid location\n",
      "-->Image (Larouco Norte.JPG) from an invalid location\n",
      "-->Image (Larouco Sur.JPG) from an invalid location\n"
     ]
    },
    {
     "name": "stderr",
     "output_type": "stream",
     "text": [
      "Page [[commons:Category:Images of site of community importance with code ES7020004 from Wiki Loves Earth 2015 in Spain]] saved\n",
      "Sleeping for 7.4 seconds, 2018-02-26 00:16:08\n",
      "Page [[commons:Category:Images of site of community importance with code ES2130009 from Wiki Loves Earth 2015 in Spain]] saved\n"
     ]
    },
    {
     "name": "stdout",
     "output_type": "stream",
     "text": [
      "-->Image (LAS-SOCARRADAS.jpg) from an invalid location\n"
     ]
    },
    {
     "name": "stderr",
     "output_type": "stream",
     "text": [
      "Reviewing --> 2450 image pages downloaded\n",
      "Page [[commons:Category:Images of site of community importance with code ES5120010 from Wiki Loves Earth 2015 in Spain]] saved\n"
     ]
    },
    {
     "name": "stdout",
     "output_type": "stream",
     "text": [
      "-->Image (LLAMARADA.jpg) from an invalid location\n"
     ]
    },
    {
     "name": "stderr",
     "output_type": "stream",
     "text": [
      "Page [[commons:File:Llegada del invierno a las montañas de levante - WLE Spain 2015.jpg]] saved\n",
      "Sleeping for 7.6 seconds, 2018-02-26 00:16:45\n",
      "Page [[commons:Category:Images of site of community importance with code ES0000096 from Wiki Loves Earth 2015 in Spain]] saved\n"
     ]
    },
    {
     "name": "stdout",
     "output_type": "stream",
     "text": [
      "-->Image (LOMA-GIL.jpg) from an invalid location\n"
     ]
    },
    {
     "name": "stderr",
     "output_type": "stream",
     "text": [
      "Reviewing --> 2500 image pages downloaded\n"
     ]
    },
    {
     "name": "stdout",
     "output_type": "stream",
     "text": [
      "-->Image (Los Bayos, en el límite de Omaña.JPG) from an invalid location\n",
      "-->Image (Los colores del Invierno.jpg) from an invalid location\n",
      "-->Image (Los Oteros.JPG) from an invalid location\n",
      "-->Image (Los robles..JPG) from an invalid location\n"
     ]
    },
    {
     "name": "stderr",
     "output_type": "stream",
     "text": [
      "Reviewing --> 2550 image pages downloaded\n",
      "Page [[commons:Category:Images of site of community importance with code ES5110012 from Wiki Loves Earth 2015 in Spain]] saved\n",
      "Sleeping for 3.5 seconds, 2018-02-26 00:17:50\n",
      "Page [[commons:Category:Images of site of community importance with code ES7020048 from Wiki Loves Earth 2015 in Spain]] saved\n"
     ]
    },
    {
     "name": "stdout",
     "output_type": "stream",
     "text": [
      "-->Image (MARIQUITAS ENMADRID.jpg) from an invalid location\n"
     ]
    },
    {
     "name": "stderr",
     "output_type": "stream",
     "text": [
      "Page [[commons:Category:Images of site of community importance with code ES6150005 from Wiki Loves Earth 2015 in Spain]] saved\n",
      "Sleeping for 8.1 seconds, 2018-02-26 00:18:13\n",
      "Page [[commons:Category:Images of site of community importance with code ES0000025 from Wiki Loves Earth 2015 in Spain]] saved\n",
      "Reviewing --> 2600 image pages downloaded\n",
      "Page [[commons:Category:Images of site of community importance with code ES5233030 from Wiki Loves Earth 2015 in Spain]] saved\n"
     ]
    },
    {
     "name": "stdout",
     "output_type": "stream",
     "text": [
      "-->Image (Marjal i Estany de la Ribera Sud del Xúquer 01.JPG) from an invalid location\n",
      "-->Image (Marjal i Estany de la Ribera Sud del Xúquer 02.JPG) from an invalid location\n",
      "-->Image (Marjal i Estany de la Ribera Sud del Xúquer 03.JPG) from an invalid location\n",
      "-->Image (Marjal i Estany de la Ribera Sud del Xúquer 04.JPG) from an invalid location\n",
      "-->Image (Marjal i Estany de la Ribera Sud del Xúquer 05.JPG) from an invalid location\n",
      "-->Image (MAS-DE-CURRO-02.jpg) from an invalid location\n",
      "-->Image (MAS-DE-CURRO.jpg) from an invalid location\n",
      "-->Image (Mataro des de cabrera de Mar.jpg) from an invalid location\n",
      "-->Image (Mazizo de Cotiella- Ibón de Plan.jpg) from an invalid location\n",
      "-->Image (Mañana de invierno, Bronchales.jpg) from an invalid location\n",
      "-->Image (Mi casa.JPG) from an invalid location\n",
      "-->Image (Mi hijo.jpg) from an invalid location\n"
     ]
    },
    {
     "name": "stderr",
     "output_type": "stream",
     "text": [
      "Page [[commons:Category:Images of site of community importance with code ES4320011 from Wiki Loves Earth 2015 in Spain]] saved\n",
      "Reviewing --> 2650 image pages downloaded\n",
      "Page [[commons:Category:Images of site of community importance with code ES2200035 from Wiki Loves Earth 2015 in Spain]] saved\n"
     ]
    },
    {
     "name": "stdout",
     "output_type": "stream",
     "text": [
      "-->Image (Monasterio budista en el Garraf.JPG) from an invalid location\n"
     ]
    },
    {
     "name": "stderr",
     "output_type": "stream",
     "text": [
      "Page [[commons:Category:Images of site of community importance with code ES4320078 from Wiki Loves Earth 2015 in Spain]] saved\n",
      "Sleeping for 6.3 seconds, 2018-02-26 00:19:24\n",
      "Page [[commons:Category:Images of site of community importance with code ES4170119 from Wiki Loves Earth 2015 in Spain]] saved\n",
      "Sleeping for 6.8 seconds, 2018-02-26 00:19:34\n",
      "Page [[commons:Category:Images of site of community importance with code ES4320077 from Wiki Loves Earth 2015 in Spain]] saved\n",
      "Sleeping for 8.1 seconds, 2018-02-26 00:19:43\n",
      "Page [[commons:Category:Images of site of community importance with code ES1200010 from Wiki Loves Earth 2015 in Spain]] saved\n",
      "Reviewing --> 2700 image pages downloaded\n",
      "Page [[commons:Category:Images of site of community importance with code ES7020058 from Wiki Loves Earth 2015 in Spain]] saved\n",
      "Sleeping for 8.8 seconds, 2018-02-26 00:20:02\n",
      "Page [[commons:Category:Images of site of community importance with code ES1200056 from Wiki Loves Earth 2015 in Spain]] saved\n",
      "Sleeping for 5.8 seconds, 2018-02-26 00:20:15\n",
      "Page [[commons:Category:Images of site of community importance with code ES1140005 from Wiki Loves Earth 2015 in Spain]] saved\n",
      "Page [[commons:Category:Images of site of community importance with code ES4250005 from Wiki Loves Earth 2015 in Spain]] saved\n",
      "Reviewing --> 2750 image pages downloaded\n"
     ]
    },
    {
     "name": "stdout",
     "output_type": "stream",
     "text": [
      "-->Image (Monumento Fueros Pamplona.jpg) from an invalid location\n"
     ]
    },
    {
     "name": "stderr",
     "output_type": "stream",
     "text": [
      "Page [[commons:Category:Images of site of community importance with code ES5140008 from Wiki Loves Earth 2015 in Spain]] saved\n",
      "Sleeping for 8.1 seconds, 2018-02-26 00:20:52\n",
      "Page [[commons:Category:Images of site of community importance with code ES1300007 from Wiki Loves Earth 2015 in Spain]] saved\n"
     ]
    },
    {
     "name": "stdout",
     "output_type": "stream",
     "text": [
      "-->Image (Municipio de Olivella.JPG) from an invalid location\n",
      "-->Image (Muralla de Baeza.jpg) from an invalid location\n"
     ]
    },
    {
     "name": "stderr",
     "output_type": "stream",
     "text": [
      "Page [[commons:Category:Images of site of community importance with code ES4150127 from Wiki Loves Earth 2015 in Spain]] saved\n",
      "Page [[commons:Category:Images of site of community importance with code ES0000045 from Wiki Loves Earth 2015 in Spain]] saved\n"
     ]
    },
    {
     "name": "stdout",
     "output_type": "stream",
     "text": [
      "-->Image (Nogal.jpg) from an invalid location\n",
      "-->Image (OchagaviaPuente Medieval2015.jpg) from an invalid location\n"
     ]
    },
    {
     "name": "stderr",
     "output_type": "stream",
     "text": [
      "Reviewing --> 2800 image pages downloaded\n"
     ]
    },
    {
     "name": "stdout",
     "output_type": "stream",
     "text": [
      "-->Image (Odiel 04.jpg) from an invalid location\n"
     ]
    },
    {
     "name": "stderr",
     "output_type": "stream",
     "text": [
      "Page [[commons:Category:Images of site of community importance with code ES6110013 from Wiki Loves Earth 2015 in Spain]] saved\n",
      "Reviewing --> 2850 image pages downloaded\n"
     ]
    },
    {
     "name": "stdout",
     "output_type": "stream",
     "text": [
      "-->Image (Ourense Parapente.JPG) from an invalid location\n",
      "-->Image (OVER MY HEAD.jpg) from an invalid location\n"
     ]
    },
    {
     "name": "stderr",
     "output_type": "stream",
     "text": [
      "Page [[commons:Category:Images of site of community importance with code ES2120006 from Wiki Loves Earth 2015 in Spain]] saved\n"
     ]
    },
    {
     "name": "stdout",
     "output_type": "stream",
     "text": [
      "-->Image (Paisaje de las Minas de Río Tinto.jpg) from an invalid location\n"
     ]
    },
    {
     "name": "stderr",
     "output_type": "stream",
     "text": [
      "Sleeping for 4.5 seconds, 2018-02-26 00:22:21\n",
      "Page [[commons:Category:Images of site of community importance with code ES2410061 from Wiki Loves Earth 2015 in Spain]] saved\n"
     ]
    },
    {
     "name": "stdout",
     "output_type": "stream",
     "text": [
      "-->Image (Palau Novella.JPG) from an invalid location\n",
      "-->Image (Palm Tree Canyon.JPG) from an invalid location\n",
      "-->Image (Palmetum Tenerife 01.jpg) from an invalid location\n",
      "-->Image (Palmetum Tenerife 02.jpg) from an invalid location\n",
      "-->Image (Palmetum Tenerife 03.jpg) from an invalid location\n",
      "-->Image (Palmetum Tenerife 04.jpg) from an invalid location\n",
      "-->Image (Palmetum Tenerife 05.jpg) from an invalid location\n",
      "-->Image (Palmetum Tenerife 06.jpg) from an invalid location\n",
      "-->Image (Palmetum Tenerife 07.jpg) from an invalid location\n",
      "-->Image (Palmetum Tenerife 08.jpg) from an invalid location\n"
     ]
    },
    {
     "name": "stderr",
     "output_type": "stream",
     "text": [
      "Reviewing --> 2900 image pages downloaded\n"
     ]
    },
    {
     "name": "stdout",
     "output_type": "stream",
     "text": [
      "-->Image (Panoramica Castillo de Olite.jpg) from an invalid location\n"
     ]
    },
    {
     "name": "stderr",
     "output_type": "stream",
     "text": [
      "Page [[commons:Category:Images of site of community importance with code ES5233013 from Wiki Loves Earth 2015 in Spain]] saved\n",
      "Page [[commons:Category:Images of site of community importance with code ES2410059 from Wiki Loves Earth 2015 in Spain]] saved\n",
      "Sleeping for 6.9 seconds, 2018-02-26 00:23:07\n",
      "Page [[commons:Category:Images of site of community importance with code ES5110024 from Wiki Loves Earth 2015 in Spain]] saved\n",
      "Sleeping for 6.9 seconds, 2018-02-26 00:23:17\n",
      "Page [[commons:Category:Images of site of community importance with code ES2430097 from Wiki Loves Earth 2015 in Spain]] saved\n",
      "Sleeping for 8.9 seconds, 2018-02-26 00:23:25\n",
      "Page [[commons:Category:Images of site of community importance with code ES4180124 from Wiki Loves Earth 2015 in Spain]] saved\n",
      "Reviewing --> 2950 image pages downloaded\n"
     ]
    },
    {
     "name": "stdout",
     "output_type": "stream",
     "text": [
      "-->Image (Parapente 1.JPG) from an invalid location\n",
      "-->Image (Parapente 2.JPG) from an invalid location\n",
      "-->Image (Parapente larouco.JPG) from an invalid location\n",
      "-->Image (Parapente S. Larouco.JPG) from an invalid location\n",
      "-->Image (Parapente Sierra de Larouco.JPG) from an invalid location\n",
      "-->Image (Parque nacional de Ordesa y Monte Perdido - Arbol del castillo mayor.jpg) from an invalid location\n"
     ]
    },
    {
     "name": "stderr",
     "output_type": "stream",
     "text": [
      "Reviewing --> 3000 image pages downloaded\n",
      "Page [[commons:Category:Images of site of community importance with code ES7010010 from Wiki Loves Earth 2015 in Spain]] saved\n",
      "Sleeping for 8.8 seconds, 2018-02-26 00:24:38\n",
      "Page [[commons:Category:Images of site of community importance with code ES0000234 from Wiki Loves Earth 2015 in Spain]] saved\n",
      "Reviewing --> 3050 image pages downloaded\n",
      "Page [[commons:Category:Images of site of community importance with code ES7020095 from Wiki Loves Earth 2015 in Spain]] saved\n",
      "Reviewing --> 3100 image pages downloaded\n",
      "Page [[commons:Category:Images of site of community importance with code ES0000058 from Wiki Loves Earth 2015 in Spain]] saved\n",
      "Sleeping for 5.6 seconds, 2018-02-26 00:25:34\n",
      "Page [[commons:Category:Images of site of community importance with code ES1130005 from Wiki Loves Earth 2015 in Spain]] saved\n"
     ]
    },
    {
     "name": "stdout",
     "output_type": "stream",
     "text": [
      "-->Image (Paseo por el Hayedo de Montejo en invierno.jpg) from an invalid location\n",
      "-->Image (Patones de Arriba. Sierra de Madrid.jpg) from an invalid location\n",
      "-->Image (Pequeña Amanita muscaria.jpg) from an invalid location\n",
      "-->Image (PEQUEÑA BELLEZA.jpg) from an invalid location\n"
     ]
    },
    {
     "name": "stderr",
     "output_type": "stream",
     "text": [
      "Reviewing --> 3150 image pages downloaded\n"
     ]
    },
    {
     "name": "stdout",
     "output_type": "stream",
     "text": [
      "-->Image (Peña Foratata desde el pico Pacino - WLE Spain 2015.jpg) from an invalid location\n"
     ]
    },
    {
     "name": "stderr",
     "output_type": "stream",
     "text": [
      "Page [[commons:Category:Images of site of community importance with code ES2430095 from Wiki Loves Earth 2015 in Spain]] saved\n"
     ]
    },
    {
     "name": "stdout",
     "output_type": "stream",
     "text": [
      "-->Image (Pic du Midi d'Ossau - WLE Spain 2015.jpg) from an invalid location\n",
      "-->Image (Pico Polio.jpg) from an invalid location\n",
      "-->Image (Picos de Europa desde Covadonga1.jpg) from an invalid location\n"
     ]
    },
    {
     "name": "stderr",
     "output_type": "stream",
     "text": [
      "Reviewing --> 3200 image pages downloaded\n",
      "Reviewing --> 3250 image pages downloaded\n",
      "Page [[commons:Category:Images of site of community importance with code ES0000111 from Wiki Loves Earth 2015 in Spain]] saved\n",
      "Sleeping for 3.6 seconds, 2018-02-26 00:27:15\n",
      "Page [[commons:Category:Images of site of community importance with code ES0000123 from Wiki Loves Earth 2015 in Spain]] saved\n"
     ]
    },
    {
     "name": "stdout",
     "output_type": "stream",
     "text": [
      "-->Image (Plana Novella.JPG) from an invalid location\n"
     ]
    },
    {
     "name": "stderr",
     "output_type": "stream",
     "text": [
      "Reviewing --> 3300 image pages downloaded\n",
      "Page [[commons:Category:Images of site of community importance with code ES0000317 from Wiki Loves Earth 2015 in Spain]] saved\n"
     ]
    },
    {
     "name": "stdout",
     "output_type": "stream",
     "text": [
      "-->Image (Playa de Maro.JPG) from an invalid location\n",
      "-->Image (Playa del Charco.JPG) from an invalid location\n"
     ]
    },
    {
     "name": "stderr",
     "output_type": "stream",
     "text": [
      "Page [[commons:Category:Images of site of community importance with code ES5310111 from Wiki Loves Earth 2015 in Spain]] saved\n"
     ]
    },
    {
     "name": "stdout",
     "output_type": "stream",
     "text": [
      "-->Image (Playa El Playazo en Nerja.JPG) from an invalid location\n",
      "-->Image (Playa la Torrecilla en Nerja.JPG) from an invalid location\n"
     ]
    },
    {
     "name": "stderr",
     "output_type": "stream",
     "text": [
      "Page [[commons:Category:Images of site of community importance with code ES6200006 from Wiki Loves Earth 2015 in Spain]] saved\n"
     ]
    },
    {
     "name": "stdout",
     "output_type": "stream",
     "text": [
      "-->Image (Plaza de la Iglesia, Bronchales.jpg) from an invalid location\n"
     ]
    },
    {
     "name": "stderr",
     "output_type": "stream",
     "text": [
      "Reviewing --> 3350 image pages downloaded\n",
      "Page [[commons:Category:Images of site of community importance with code ES2410004 from Wiki Loves Earth 2015 in Spain]] saved\n"
     ]
    },
    {
     "name": "stdout",
     "output_type": "stream",
     "text": [
      "-->Image (PradoUrdax2015.jpg) from an invalid location\n"
     ]
    },
    {
     "name": "stderr",
     "output_type": "stream",
     "text": [
      "Reviewing --> 3400 image pages downloaded\n"
     ]
    },
    {
     "name": "stdout",
     "output_type": "stream",
     "text": [
      "-->Image (Primavera en la playa del Charco.jpg) from an invalid location\n"
     ]
    },
    {
     "name": "stderr",
     "output_type": "stream",
     "text": [
      "Page [[commons:Category:Images of site of community importance with code ES4310027 from Wiki Loves Earth 2015 in Spain]] saved\n"
     ]
    },
    {
     "name": "stdout",
     "output_type": "stream",
     "text": [
      "-->Image (Puente de Aquelcabo en Arenas de San Pedro..jpg) from an invalid location\n",
      "-->Image (Puente de Montañana - puente sobre el Rio Noguera Ribagorzana.JPG) from an invalid location\n"
     ]
    },
    {
     "name": "stderr",
     "output_type": "stream",
     "text": [
      "Page [[commons:Category:Images of site of community importance with code ES2200030 from Wiki Loves Earth 2015 in Spain]] saved\n"
     ]
    },
    {
     "name": "stdout",
     "output_type": "stream",
     "text": [
      "-->Image (Puente romano de Cabezón sobre el río Pisuerga.jpg) from an invalid location\n",
      "-->Image (Puente Romano sobre el Rio Belagua en Isaba Navarra.JPG) from an invalid location\n",
      "-->Image (Puente romano, Cangas de Onís.jpg) from an invalid location\n",
      "-->Image (Puente-la-Reina2015.jpg) from an invalid location\n"
     ]
    },
    {
     "name": "stderr",
     "output_type": "stream",
     "text": [
      "Reviewing --> 3450 image pages downloaded\n",
      "Page [[commons:Category:Images of site of community importance with code ES0000048 from Wiki Loves Earth 2015 in Spain]] saved\n"
     ]
    },
    {
     "name": "stdout",
     "output_type": "stream",
     "text": [
      "-->Image (Punta Suelza.jpg) from an invalid location\n",
      "-->Image (Puntas de Calnegre 02.jpg) from an invalid location\n",
      "-->Image (Puntas de Calnegre 04.jpg) from an invalid location\n",
      "-->Image (Puntas de Calnegre 05.jpg) from an invalid location\n",
      "-->Image (QUE TRABAJEN LOS DEMAS.jpg) from an invalid location\n"
     ]
    },
    {
     "name": "stderr",
     "output_type": "stream",
     "text": [
      "Page [[commons:Category:Images of site of community importance with code ES4240014 from Wiki Loves Earth 2015 in Spain]] saved\n",
      "Reviewing --> 3500 image pages downloaded\n",
      "Page [[commons:Category:Images of site of community importance with code ES7020068 from Wiki Loves Earth 2015 in Spain]] saved\n"
     ]
    },
    {
     "name": "stdout",
     "output_type": "stream",
     "text": [
      "-->Image (Rambla de Nogalte (Panorámica desde el Castillo de Nogalte) 01.jpg) from an invalid location\n",
      "-->Image (Rambla de Nogalte (Panorámica desde el Castillo de Nogalte) 02.jpg) from an invalid location\n",
      "-->Image (RATÓN DE GETARIA AL FONDO.jpg) from an invalid location\n",
      "-->Image (Raíces otoñales.jpg) from an invalid location\n",
      "-->Image (RED SUNSET 1.jpg) from an invalid location\n",
      "-->Image (RED SUNSET.jpg) from an invalid location\n"
     ]
    },
    {
     "name": "stderr",
     "output_type": "stream",
     "text": [
      "Page [[commons:Category:Images of site of community importance with code ES5213023 from Wiki Loves Earth 2015 in Spain]] saved\n"
     ]
    },
    {
     "name": "stdout",
     "output_type": "stream",
     "text": [
      "-->Image (RELAX.jpg) from an invalid location\n"
     ]
    },
    {
     "name": "stderr",
     "output_type": "stream",
     "text": [
      "Reviewing --> 3550 image pages downloaded\n",
      "Page [[commons:Category:Images of site of community importance with code ES4240003 from Wiki Loves Earth 2015 in Spain]] saved\n"
     ]
    },
    {
     "name": "stdout",
     "output_type": "stream",
     "text": [
      "-->Image (Rio a las orillas de un pueblo de la provincia de Badajoz..JPG) from an invalid location\n"
     ]
    },
    {
     "name": "stderr",
     "output_type": "stream",
     "text": [
      "Sleeping for 7.7 seconds, 2018-02-26 00:30:51\n",
      "Page [[commons:Category:Images of site of community importance with code ES2420118 from Wiki Loves Earth 2015 in Spain]] saved\n",
      "Sleeping for 8.8 seconds, 2018-02-26 00:31:00\n",
      "Page [[commons:Category:Images of site of community importance with code ES4310017 from Wiki Loves Earth 2015 in Spain]] saved\n"
     ]
    },
    {
     "name": "stdout",
     "output_type": "stream",
     "text": [
      "-->Image (Rio Ayuda.JPG) from an invalid location\n",
      "-->Image (Rio Baleo.jpg) from an invalid location\n"
     ]
    },
    {
     "name": "stderr",
     "output_type": "stream",
     "text": [
      "Reviewing --> 3600 image pages downloaded\n",
      "Page [[commons:Category:Images of site of community importance with code ES6170026 from Wiki Loves Earth 2015 in Spain]] saved\n",
      "Sleeping for 5.5 seconds, 2018-02-26 00:31:28\n",
      "Page [[commons:Category:Images of site of community importance with code ES2430077 from Wiki Loves Earth 2015 in Spain]] saved\n"
     ]
    },
    {
     "name": "stdout",
     "output_type": "stream",
     "text": [
      "-->Image (Rio Nora.JPG) from an invalid location\n"
     ]
    },
    {
     "name": "stderr",
     "output_type": "stream",
     "text": [
      "Page [[commons:Category:Images of site of community importance with code ES1120006 from Wiki Loves Earth 2015 in Spain]] saved\n",
      "Reviewing --> 3650 image pages downloaded\n"
     ]
    },
    {
     "name": "stdout",
     "output_type": "stream",
     "text": [
      "-->Image (Rio Urola.JPG) from an invalid location\n",
      "-->Image (Riocuevas, Arenas de San Pedro..jpg) from an invalid location\n",
      "-->Image (RioEgaEstella.jpg) from an invalid location\n",
      "-->Image (RioUgaranaUrdax2015.jpg) from an invalid location\n",
      "-->Image (Ripolles Girona 01.jpg) from an invalid location\n",
      "-->Image (Ripolles Girona 02.jpg) from an invalid location\n",
      "-->Image (Ripolles Girona 03.jpg) from an invalid location\n",
      "-->Image (Ripolles Girona 04.jpg) from an invalid location\n"
     ]
    },
    {
     "name": "stderr",
     "output_type": "stream",
     "text": [
      "Page [[commons:Category:Images of site of community importance with code ES0000132 from Wiki Loves Earth 2015 in Spain]] saved\n"
     ]
    },
    {
     "name": "stdout",
     "output_type": "stream",
     "text": [
      "-->Image (RoncesvallesEscultura.jpg) from an invalid location\n",
      "-->Image (RoncesvallesMonumentoBatalla2015.jpg) from an invalid location\n"
     ]
    },
    {
     "name": "stderr",
     "output_type": "stream",
     "text": [
      "Page [[commons:Category:Images of site of community importance with code ES7020028 from Wiki Loves Earth 2015 in Spain]] saved\n",
      "Sleeping for 8.8 seconds, 2018-02-26 00:32:25\n",
      "Page [[commons:Category:Images of site of community importance with code ES7020032 from Wiki Loves Earth 2015 in Spain]] saved\n",
      "Reviewing --> 3700 image pages downloaded\n",
      "Sleeping for 7.2 seconds, 2018-02-26 00:32:36\n",
      "Page [[commons:Category:Images of site of community importance with code ES7020061 from Wiki Loves Earth 2015 in Spain]] saved\n",
      "Reviewing --> 3750 image pages downloaded\n",
      "Page [[commons:Category:Images of site of community importance with code ES1200035 from Wiki Loves Earth 2015 in Spain]] saved\n"
     ]
    },
    {
     "name": "stdout",
     "output_type": "stream",
     "text": [
      "-->Image (Ría de Arousa desde Vilanova.JPG) from an invalid location\n"
     ]
    },
    {
     "name": "stderr",
     "output_type": "stream",
     "text": [
      "Page [[commons:Category:Images of site of community importance with code ES1120016 from Wiki Loves Earth 2015 in Spain]] saved\n",
      "Page [[commons:Category:Images of site of community importance with code ES1120002 from Wiki Loves Earth 2015 in Spain]] saved\n",
      "Sleeping for 5.6 seconds, 2018-02-26 00:33:48\n",
      "Page [[commons:Category:Images of site of community importance with code ES6170033 from Wiki Loves Earth 2015 in Spain]] saved\n",
      "Reviewing --> 3800 image pages downloaded\n",
      "Page [[commons:Category:Images of site of community importance with code ES2420124 from Wiki Loves Earth 2015 in Spain]] saved\n"
     ]
    },
    {
     "name": "stdout",
     "output_type": "stream",
     "text": [
      "-->Image (Río Guadalquivir a su paso por Córdoba.jpg) from an invalid location\n"
     ]
    },
    {
     "name": "stderr",
     "output_type": "stream",
     "text": [
      "Sleeping for 7.1 seconds, 2018-02-26 00:34:07\n",
      "Page [[commons:Category:Images of site of community importance with code ES4310059 from Wiki Loves Earth 2015 in Spain]] saved\n"
     ]
    },
    {
     "name": "stdout",
     "output_type": "stream",
     "text": [
      "-->Image (Río Jerte en Cabezuela del Valle.jpg) from an invalid location\n"
     ]
    },
    {
     "name": "stderr",
     "output_type": "stream",
     "text": [
      "Page [[commons:Category:Images of site of community importance with code ES4230016 from Wiki Loves Earth 2015 in Spain]] saved\n",
      "Sleeping for 8.7 seconds, 2018-02-26 00:34:25\n",
      "Page [[commons:Category:Images of site of community importance with code ES1120003 from Wiki Loves Earth 2015 in Spain]] saved\n",
      "Page [[commons:Category:Images of site of community importance with code ES1110007 from Wiki Loves Earth 2015 in Spain]] saved\n",
      "Reviewing --> 3850 image pages downloaded\n"
     ]
    },
    {
     "name": "stdout",
     "output_type": "stream",
     "text": [
      "-->Image (Río Piedra. Aragón.jpg) from an invalid location\n",
      "-->Image (Río Piedra. Monasterio de Piedra..jpg) from an invalid location\n",
      "-->Image (Río Piedra. Monasterio de Piedra.jpg) from an invalid location\n",
      "-->Image (Río Piedra.jpg) from an invalid location\n",
      "-->Image (Río Pisuerga a su paso por Valladolid.jpg) from an invalid location\n",
      "-->Image (Río Sella (1).jpg) from an invalid location\n"
     ]
    },
    {
     "name": "stderr",
     "output_type": "stream",
     "text": [
      "Page [[commons:Category:Images of site of community importance with code ES4320002 from Wiki Loves Earth 2015 in Spain]] saved\n",
      "Sleeping for 8.1 seconds, 2018-02-26 00:35:14\n",
      "Page [[commons:Category:Images of site of community importance with code ES4320031 from Wiki Loves Earth 2015 in Spain]] saved\n",
      "Sleeping for 8.8 seconds, 2018-02-26 00:35:23\n",
      "Page [[commons:Category:Images of site of community importance with code ES1200052 from Wiki Loves Earth 2015 in Spain]] saved\n"
     ]
    },
    {
     "name": "stdout",
     "output_type": "stream",
     "text": [
      "-->Image (S. Larouco.JPG) from an invalid location\n"
     ]
    },
    {
     "name": "stderr",
     "output_type": "stream",
     "text": [
      "Sleeping for 5.9 seconds, 2018-02-26 00:35:36\n",
      "Page [[commons:Category:Images of site of community importance with code ES0000221 from Wiki Loves Earth 2015 in Spain]] saved\n"
     ]
    },
    {
     "name": "stdout",
     "output_type": "stream",
     "text": [
      "-->Image (Sagrata familia.JPG) from an invalid location\n"
     ]
    },
    {
     "name": "stderr",
     "output_type": "stream",
     "text": [
      "Sleeping for 6.5 seconds, 2018-02-26 00:35:45\n",
      "Page [[commons:Category:Images of site of community importance with code ES4210011 from Wiki Loves Earth 2015 in Spain]] saved\n",
      "Sleeping for 8.7 seconds, 2018-02-26 00:35:53\n",
      "Page [[commons:Category:Images of site of community importance with code ES2420114 from Wiki Loves Earth 2015 in Spain]] saved\n",
      "Reviewing --> 3900 image pages downloaded\n",
      "Page [[commons:Category:Images of site of community importance with code ES0000084 from Wiki Loves Earth 2015 in Spain]] saved\n",
      "Sleeping for 7.5 seconds, 2018-02-26 00:36:22\n",
      "Page [[commons:Category:Images of site of community importance with code ES0000112 from Wiki Loves Earth 2015 in Spain]] saved\n"
     ]
    },
    {
     "name": "stdout",
     "output_type": "stream",
     "text": [
      "-->Image (San Bartolome de Tirajana - WLE Spain 2015.jpg) from an invalid location\n"
     ]
    },
    {
     "name": "stderr",
     "output_type": "stream",
     "text": [
      "Reviewing --> 3950 image pages downloaded\n",
      "Page [[commons:Category:Images of site of community importance with code ES5120004 from Wiki Loves Earth 2015 in Spain]] saved\n",
      "Reviewing --> 4000 image pages downloaded\n"
     ]
    },
    {
     "name": "stdout",
     "output_type": "stream",
     "text": [
      "-->Image (Serra de Sant Marc.JPG) from an invalid location\n"
     ]
    },
    {
     "name": "stderr",
     "output_type": "stream",
     "text": [
      "Page [[commons:Category:Images of site of community importance with code ES6110007 from Wiki Loves Earth 2015 in Spain]] saved\n"
     ]
    },
    {
     "name": "stdout",
     "output_type": "stream",
     "text": [
      "-->Image (Setas.jpg) from an invalid location\n"
     ]
    },
    {
     "name": "stderr",
     "output_type": "stream",
     "text": [
      "Page [[commons:Category:Images of site of community importance with code ES7010063 from Wiki Loves Earth 2015 in Spain]] saved\n",
      "Sleeping for 8.1 seconds, 2018-02-26 00:37:48\n",
      "Page [[commons:Category:Images of site of community importance with code ES6170011 from Wiki Loves Earth 2015 in Spain]] saved\n",
      "Sleeping for 8.1 seconds, 2018-02-26 00:37:58\n",
      "Page [[commons:Category:Images of site of community importance with code ES6170005 from Wiki Loves Earth 2015 in Spain]] saved\n",
      "Reviewing --> 4050 image pages downloaded\n",
      "Page [[commons:Category:Images of site of community importance with code ES0000067 from Wiki Loves Earth 2015 in Spain]] saved\n"
     ]
    },
    {
     "name": "stdout",
     "output_type": "stream",
     "text": [
      "-->Image (Sierra de la Torrecilla - Castillo de Lorca 2.JPG) from an invalid location\n",
      "-->Image (Sierra de la Torrecilla - Castillo de Lorca1.JPG) from an invalid location\n",
      "-->Image (Sierra de Larouco - Cuervo.JPG) from an invalid location\n",
      "-->Image (Sierra de Larouco.JPG) from an invalid location\n"
     ]
    },
    {
     "name": "stderr",
     "output_type": "stream",
     "text": [
      "Reviewing --> 4100 image pages downloaded\n"
     ]
    },
    {
     "name": "stdout",
     "output_type": "stream",
     "text": [
      "-->Image (Sierra del cuera.JPG) from an invalid location\n",
      "-->Image (Sierra del Cuera.JPG) from an invalid location\n"
     ]
    },
    {
     "name": "stderr",
     "output_type": "stream",
     "text": [
      "Page [[commons:Category:Images of site of community importance with code ES0000173 from Wiki Loves Earth 2015 in Spain]] saved\n"
     ]
    },
    {
     "name": "stdout",
     "output_type": "stream",
     "text": [
      "-->Image (Sierra Larouco 1.JPG) from an invalid location\n",
      "-->Image (Sierra Larouco 2.JPG) from an invalid location\n",
      "-->Image (Sierra Larouco 3.JPG) from an invalid location\n",
      "-->Image (Sierra Larouco Norte.JPG) from an invalid location\n"
     ]
    },
    {
     "name": "stderr",
     "output_type": "stream",
     "text": [
      "Reviewing --> 4150 image pages downloaded\n"
     ]
    },
    {
     "name": "stdout",
     "output_type": "stream",
     "text": [
      "-->Image (Silueta del Castillo de San Marcos. 01.jpg) from an invalid location\n",
      "-->Image (Silueta del Castillo de San Marcos. 02.jpg) from an invalid location\n",
      "-->Image (SILVER LINING.jpg) from an invalid location\n"
     ]
    },
    {
     "name": "stderr",
     "output_type": "stream",
     "text": [
      "Page [[commons:Category:Images of site of community importance with code ES1140015 from Wiki Loves Earth 2015 in Spain]] saved\n"
     ]
    },
    {
     "name": "stdout",
     "output_type": "stream",
     "text": [
      "-->Image (Somewhere in barcelona.JPG) from an invalid location\n",
      "-->Image (Sopeira - Vista del congosto.JPG) from an invalid location\n",
      "-->Image (Sopeira monasterio de Alaon.JPG) from an invalid location\n",
      "-->Image (SotobosqueZugarramurdi2015.jpg) from an invalid location\n",
      "-->Image (Sotos Albolafia Atardecer.jpg) from an invalid location\n",
      "-->Image (Sotos Albolafia Aves.jpg) from an invalid location\n",
      "-->Image (Sotos Albolafia Bandada.jpg) from an invalid location\n",
      "-->Image (Sotos Albolafia Molino Puente.jpg) from an invalid location\n",
      "-->Image (SPRING 15.jpg) from an invalid location\n",
      "-->Image (SPRING 16.jpg) from an invalid location\n",
      "-->Image (SPRING 17.jpg) from an invalid location\n"
     ]
    },
    {
     "name": "stderr",
     "output_type": "stream",
     "text": [
      "Reviewing --> 4200 image pages downloaded\n"
     ]
    },
    {
     "name": "stdout",
     "output_type": "stream",
     "text": [
      "-->Image (SPRING 18.jpg) from an invalid location\n",
      "-->Image (SPRING 19.jpg) from an invalid location\n",
      "-->Image (SPRING 20.jpg) from an invalid location\n",
      "-->Image (SPRING 21.jpg) from an invalid location\n",
      "-->Image (SPRING 22.jpg) from an invalid location\n",
      "-->Image (SPRING COLOROS.jpg) from an invalid location\n",
      "-->Image (SPRING COLORS 1.jpg) from an invalid location\n",
      "-->Image (SPRING COLORS 10.jpg) from an invalid location\n",
      "-->Image (SPRING COLORS 11.jpg) from an invalid location\n",
      "-->Image (SPRING COLORS 12.JPG) from an invalid location\n",
      "-->Image (SPRING COLORS 13.JPG) from an invalid location\n",
      "-->Image (SPRING COLORS 14.JPG) from an invalid location\n",
      "-->Image (SPRING COLORS 2.jpg) from an invalid location\n",
      "-->Image (SPRING COLORS 4.jpg) from an invalid location\n",
      "-->Image (SPRING COLORS 5.jpg) from an invalid location\n",
      "-->Image (SPRING COLORS 6.jpg) from an invalid location\n",
      "-->Image (SPRING COLORS 7.jpg) from an invalid location\n",
      "-->Image (SPRING COLORS 8.jpg) from an invalid location\n",
      "-->Image (SPRING COLORS 9.jpg) from an invalid location\n",
      "-->Image (Sun bathing Lizard.JPG) from an invalid location\n",
      "-->Image (Superluna.JPG) from an invalid location\n",
      "-->Image (SUTIL PRIMAVERA.jpg) from an invalid location\n"
     ]
    },
    {
     "name": "stderr",
     "output_type": "stream",
     "text": [
      "Page [[commons:Category:Images of site of community importance with code ES5213024 from Wiki Loves Earth 2015 in Spain]] saved\n",
      "Reviewing --> 4250 image pages downloaded\n",
      "Page [[commons:Category:Images of site of community importance with code ES6170013 from Wiki Loves Earth 2015 in Spain]] saved\n",
      "Reviewing --> 4300 image pages downloaded\n"
     ]
    },
    {
     "name": "stdout",
     "output_type": "stream",
     "text": [
      "-->Image (Taull (4).JPG) from an invalid location\n",
      "-->Image (Templo Debod PereiraReis.jpg) from an invalid location\n",
      "-->Image (The Wall - WLE Spain 2015 (1).jpg) from an invalid location\n"
     ]
    },
    {
     "name": "stderr",
     "output_type": "stream",
     "text": [
      "Page [[commons:Category:Images of site of community importance with code ES7010018 from Wiki Loves Earth 2015 in Spain]] saved\n"
     ]
    },
    {
     "name": "stdout",
     "output_type": "stream",
     "text": [
      "-->Image (Thuidium abietinum1Zugarramurdi2015.jpg) from an invalid location\n",
      "-->Image (TON TON.JPG) from an invalid location\n"
     ]
    },
    {
     "name": "stderr",
     "output_type": "stream",
     "text": [
      "Reviewing --> 4350 image pages downloaded\n"
     ]
    },
    {
     "name": "stdout",
     "output_type": "stream",
     "text": [
      "-->Image (Torre del Castillo de San Marcos. 02.jpg) from an invalid location\n",
      "-->Image (Torre del Castillo de San Marcos. 03.jpg) from an invalid location\n",
      "-->Image (Torre del Castillo de San Marcos. 04.jpg) from an invalid location\n",
      "-->Image (Torre del Castillo de San Marcos. 05.jpg) from an invalid location\n",
      "-->Image (Torre del Castillo de San Marcos. 06.jpg) from an invalid location\n",
      "-->Image (Torre del Castillo de San Marcos. 07.jpg) from an invalid location\n",
      "-->Image (Torre Hercules La Coruña 01.jpg) from an invalid location\n",
      "-->Image (Torre principal del Castillo de San Marcos. 01.jpg) from an invalid location\n",
      "-->Image (Torre principal del Castillo de San Marcos. 02.jpg) from an invalid location\n",
      "-->Image (Torre y almenas del Castillo de San Marcos..jpg) from an invalid location\n"
     ]
    },
    {
     "name": "stderr",
     "output_type": "stream",
     "text": [
      "Reviewing --> 4400 image pages downloaded\n"
     ]
    },
    {
     "name": "stdout",
     "output_type": "stream",
     "text": [
      "-->Image (UP.jpg) from an invalid location\n",
      "-->Image (UrdaxalUgarana2015.jpg) from an invalid location\n"
     ]
    },
    {
     "name": "stderr",
     "output_type": "stream",
     "text": [
      "Page [[commons:Category:Images of site of community importance with code ES2200024 from Wiki Loves Earth 2015 in Spain]] saved\n"
     ]
    },
    {
     "name": "stdout",
     "output_type": "stream",
     "text": [
      "-->Image (Urumea ibaia.JPG) from an invalid location\n",
      "-->Image (VALDECARROS-02.jpg) from an invalid location\n",
      "-->Image (VALDECARROS-03.jpg) from an invalid location\n",
      "-->Image (VALDECARROS-04.jpg) from an invalid location\n",
      "-->Image (VALDECARROS.jpg) from an invalid location\n",
      "-->Image (VALDELASCERAS.jpg) from an invalid location\n"
     ]
    },
    {
     "name": "stderr",
     "output_type": "stream",
     "text": [
      "Reviewing --> 4450 image pages downloaded\n",
      "Page [[commons:Category:Images of site of community importance with code ES2110001 from Wiki Loves Earth 2015 in Spain]] saved\n"
     ]
    },
    {
     "name": "stdout",
     "output_type": "stream",
     "text": [
      "-->Image (Vallcarca.JPG) from an invalid location\n"
     ]
    },
    {
     "name": "stderr",
     "output_type": "stream",
     "text": [
      "Page [[commons:Category:Images of site of community importance with code ES5233012 from Wiki Loves Earth 2015 in Spain]] saved\n",
      "Reviewing --> 4500 image pages downloaded\n",
      "Reviewing --> 4550 image pages downloaded\n"
     ]
    },
    {
     "name": "stdout",
     "output_type": "stream",
     "text": [
      "-->Image (Valle de Gistain desde el Cotiella - landscape.jpg) from an invalid location\n"
     ]
    },
    {
     "name": "stderr",
     "output_type": "stream",
     "text": [
      "Reviewing --> 4600 image pages downloaded\n",
      "Reviewing --> 4650 image pages downloaded\n",
      "Reviewing --> 4700 image pages downloaded\n",
      "Reviewing --> 4750 image pages downloaded\n",
      "Reviewing --> 4800 image pages downloaded\n",
      "Page [[commons:Category:Images of site of community importance with code ES4180070 from Wiki Loves Earth 2015 in Spain]] saved\n",
      "Page [[commons:Category:Images of site of community importance with code ES4240021 from Wiki Loves Earth 2015 in Spain]] saved\n",
      "Sleeping for 8.7 seconds, 2018-02-26 00:45:51\n",
      "Page [[commons:Category:Images of site of community importance with code ES7020104 from Wiki Loves Earth 2015 in Spain]] saved\n"
     ]
    },
    {
     "name": "stdout",
     "output_type": "stream",
     "text": [
      "-->Image (Valle Gran rey.jpg) from an invalid location\n"
     ]
    },
    {
     "name": "stderr",
     "output_type": "stream",
     "text": [
      "Sleeping for 8.3 seconds, 2018-02-26 00:46:01\n",
      "Page [[commons:Category:Images of site of community importance with code ES6200026 from Wiki Loves Earth 2015 in Spain]] saved\n"
     ]
    },
    {
     "name": "stdout",
     "output_type": "stream",
     "text": [
      "-->Image (VERY GREEN.JPG) from an invalid location\n",
      "-->Image (Via Lactea 2.jpg) from an invalid location\n",
      "-->Image (Via Lactea Arroyo Frio 2.jpg) from an invalid location\n"
     ]
    },
    {
     "name": "stderr",
     "output_type": "stream",
     "text": [
      "Page [[commons:Category:Images of site of community importance with code ES6180009 from Wiki Loves Earth 2015 in Spain]] saved\n",
      "Reviewing --> 4850 image pages downloaded\n",
      "Sleeping for 5.5 seconds, 2018-02-26 00:46:30\n",
      "Page [[commons:Category:Images of site of community importance with code ES4320013 from Wiki Loves Earth 2015 in Spain]] saved\n"
     ]
    },
    {
     "name": "stdout",
     "output_type": "stream",
     "text": [
      "-->Image (Viola cornuta1Urdax2015.jpg) from an invalid location\n",
      "-->Image (Viola cornuta2Urdax2015.jpg) from an invalid location\n",
      "-->Image (Violetas03.jpg) from an invalid location\n",
      "-->Image (VISITA MADRID.jpg) from an invalid location\n"
     ]
    },
    {
     "name": "stderr",
     "output_type": "stream",
     "text": [
      "Page [[commons:Category:Images of site of community importance with code ES5223002 from Wiki Loves Earth 2015 in Spain]] saved\n",
      "Sleeping for 7.5 seconds, 2018-02-26 00:46:48\n",
      "Page [[commons:Category:Images of site of community importance with code ES1110014 from Wiki Loves Earth 2015 in Spain]] saved\n",
      "Page [[commons:Category:Images of site of community importance with code ES4120094 from Wiki Loves Earth 2015 in Spain]] saved\n",
      "Sleeping for 8.7 seconds, 2018-02-26 00:47:12\n",
      "Page [[commons:Category:Images of site of community importance with code ES1200007 from Wiki Loves Earth 2015 in Spain]] saved\n",
      "Reviewing --> 4900 image pages downloaded\n"
     ]
    },
    {
     "name": "stdout",
     "output_type": "stream",
     "text": [
      "-->Image (Vistas desde Peña Galicia (1).JPG) from an invalid location\n",
      "-->Image (Vistas desde Peña Galicia (2).JPG) from an invalid location\n",
      "-->Image (Vistas desde Peña Galicia (3).JPG) from an invalid location\n",
      "-->Image (Vistas desde Peña Galicia (4).JPG) from an invalid location\n",
      "-->Image (Vistas desde Peña Galicia (5).JPG) from an invalid location\n",
      "-->Image (Volar en Larouco.JPG) from an invalid location\n",
      "-->Image (Volcán en Lanzarote.jpg) from an invalid location\n",
      "-->Image (Vuelo parapente.JPG) from an invalid location\n"
     ]
    },
    {
     "name": "stderr",
     "output_type": "stream",
     "text": [
      "Reviewing --> 4950 image pages downloaded\n"
     ]
    },
    {
     "name": "stdout",
     "output_type": "stream",
     "text": [
      "-->Image (WALKING.JPG) from an invalid location\n",
      "-->Image (Zestoa - Puente Antiguo.JPG) from an invalid location\n",
      "-->Image (Zestoa- Cestona - estacion Balneario.jpg) from an invalid location\n",
      "-->Image (Zestoa- Cestona- Rio Urola.JPG) from an invalid location\n",
      "-->Image (Zona litoral Vallcarca.JPG) from an invalid location\n"
     ]
    },
    {
     "name": "stderr",
     "output_type": "stream",
     "text": [
      "Page [[commons:Category:Images of site of community importance with code ES0000034 from Wiki Loves Earth 2015 in Spain]] saved\n",
      "Reviewing --> 5000 image pages downloaded\n"
     ]
    }
   ],
   "source": [
    "article_needed = [u'Region', u'Basque', u'Balearic', u'Canary', u'Valencian', u'Community']\n",
    "\n",
    "counter = 0\n",
    "for image_counter, row in images_df.iterrows():\n",
    "    #print (\"Image ({}) handled\".format(row['image_title']))\n",
    "    page = pb.Page(commons_site, row[\"image_title\"], ns=6)\n",
    "    text = page.text\n",
    "    cats = [cat.title(withNamespace=False) for cat in page.categories()]\n",
    "    #print (cats)\n",
    "    wikicode = mwh.parse(text)\n",
    "    templates = wikicode.filter_templates()\n",
    "    \n",
    "    if (image_counter != 0) and (image_counter % 50 == 0) :\n",
    "        pb.output ('Reviewing --> %d image pages downloaded' %(image_counter))\n",
    "\n",
    "    new_cats = []\n",
    "    if (type(row['lic_id']) is str and row['lic_id'].startswith('ES')):\n",
    "        yearly_site_category = 'Images of a site of community importance with code {0} from {1} {2} in Spain'.format(row[\"lic_id\"], TAG_EXT, YEAR)\n",
    "        if yearly_site_category not in cats:\n",
    "            new_cats.append(yearly_site_category)\n",
    "            pass\n",
    "        #print (yearly_site_category)\n",
    "        category = pb.Category(commons_site, yearly_site_category)\n",
    "        if not category.exists() :\n",
    "            yearly_site_vars['lic_name'] = row['name']\n",
    "            yearly_site_vars['lic_code'] = row['lic_id']\n",
    "            t = Template(yearly_site_cat_template)\n",
    "            category.text = t.render(**yearly_site_vars)\n",
    "            category.save(\"{0} Spain {1}: site category creation\".format(TAG, YEAR))\n",
    "        else :\n",
    "            #print ('Existing category ({0})'.format(category))\n",
    "            pass\n",
    "\n",
    "        site_category = 'Images of a site of community importance with code {0} from {1} in Spain'.format(row[\"lic_id\"], TAG_EXT)\n",
    "        if site_category not in cats:\n",
    "            new_cats.append(site_category)\n",
    "        #print (site_category)\n",
    "        category = pb.Category(commons_site, site_category)\n",
    "        if not category.exists() :\n",
    "            site_vars['lic_name'] = row['name']\n",
    "            site_vars['lic_code'] = row['lic_id']\n",
    "            t = Template(site_cat_template)\n",
    "            category.text = t.render(**site_vars)\n",
    "            category.save(\"{0} Spain: site category creation\".format(TAG))\n",
    "        else :\n",
    "            #print ('Existing category ({0})'.format(category))\n",
    "            pass\n",
    "\n",
    "        try :\n",
    "            if len ([i for i in article_needed if row['community_name'].startswith(i)]) == 0 :\n",
    "                aut_com_name = row[\"community_name\"]\n",
    "            else :\n",
    "                aut_com_name = 'the ' + row[\"community_name\"]\n",
    "        except :\n",
    "            break\n",
    "\n",
    "        community_category = 'Images of a site of community importance in {0} from {1} {2} in Spain'.format(aut_com_name, TAG_EXT, YEAR)\n",
    "        #print (community_category)\n",
    "        if community_category not in cats:\n",
    "            new_cats.append(community_category)\n",
    "        category = pb.Category(commons_site, community_category)\n",
    "        if not category.exists() :\n",
    "            autcom_vars['aut_com'] = row[\"community_name\"]\n",
    "            t = Template(autcom_cat_template)\n",
    "            category.text = t.render(**autcom_vars)\n",
    "            category.save(\"{0} Spain {1}: autonomous community category creation\".format(TAG, YEAR))\n",
    "        else :\n",
    "            #print ('Existing category ({0})'.format(category))\n",
    "            pass\n",
    "    else :\n",
    "        print (\"-->Image ({}) from an invalid location\".format(row['image_title']))\n",
    "    if 'flickr' in row['uploader'] :\n",
    "        author = '{0} (flickr)'.format(' '.join(row['uploader'].split(' ')[1:]))\n",
    "    else :\n",
    "        author = row['uploader']\n",
    "    author_category = u'Images from {1} {2} in Spain by {0}'.format(author, TAG_EXT, YEAR)\n",
    "    if author_category not in cats:\n",
    "        new_cats.append(author_category)\n",
    "    category = pb.Category(commons_site, author_category)\n",
    "    if not category.exists() :\n",
    "        t = Template(author_cat_template)\n",
    "        category.text = t.render(**author_vars)\n",
    "        category.save(\"{0} Spain {1}: user category creation\".format(TAG, YEAR))\n",
    "    else :\n",
    "        #print ('Existing category ({0})'.format(category))\n",
    "        pass\n",
    "        \n",
    "    if len(new_cats) > 0 :\n",
    "        cat_string = '\\n'.join(['[[Category:' + i + ']]' for i in new_cats])\n",
    "        new_text = text + '\\n' + cat_string\n",
    "        if page.text != new_text :\n",
    "            page.text = new_text\n",
    "            page.save(\"{1} {0} in Spain: Classification\".format(YEAR, TAG))"
   ]
  },
  {
   "cell_type": "code",
   "execution_count": null,
   "metadata": {},
   "outputs": [],
   "source": []
  }
 ],
 "metadata": {
  "kernelspec": {
   "display_name": "Python 3",
   "language": "python",
   "name": "python3"
  },
  "language_info": {
   "codemirror_mode": {
    "name": "ipython",
    "version": 3
   },
   "file_extension": ".py",
   "mimetype": "text/x-python",
   "name": "python",
   "nbconvert_exporter": "python",
   "pygments_lexer": "ipython3",
   "version": "3.6.3"
  }
 },
 "nbformat": 4,
 "nbformat_minor": 2
}
